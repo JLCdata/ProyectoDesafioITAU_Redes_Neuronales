{
  "cells": [
    {
      "cell_type": "markdown",
      "metadata": {
        "id": "xrZF3PPzisDV"
      },
      "source": [
        "# Experimentos Finales Modelos no RN"
      ]
    },
    {
      "cell_type": "code",
      "execution_count": 1,
      "metadata": {
        "colab": {
          "base_uri": "https://localhost:8080/"
        },
        "id": "UhV7Jww1TyMU",
        "outputId": "f1e18d39-3d9f-4e0d-9c8d-16c6012c84c3"
      },
      "outputs": [
        {
          "output_type": "stream",
          "name": "stdout",
          "text": [
            "Looking in indexes: https://pypi.org/simple, https://us-python.pkg.dev/colab-wheels/public/simple/\n",
            "Requirement already satisfied: umap in /usr/local/lib/python3.7/dist-packages (0.1.1)\n"
          ]
        }
      ],
      "source": [
        "!pip install umap"
      ]
    },
    {
      "cell_type": "code",
      "execution_count": 2,
      "metadata": {
        "colab": {
          "base_uri": "https://localhost:8080/"
        },
        "id": "0TflLxTZTy6P",
        "outputId": "386ae254-6686-425d-9807-e6afdf448e8a"
      },
      "outputs": [
        {
          "output_type": "stream",
          "name": "stdout",
          "text": [
            "Looking in indexes: https://pypi.org/simple, https://us-python.pkg.dev/colab-wheels/public/simple/\n",
            "Requirement already satisfied: ml_metrics in /usr/local/lib/python3.7/dist-packages (0.1.4)\n",
            "Requirement already satisfied: pandas in /usr/local/lib/python3.7/dist-packages (from ml_metrics) (1.3.5)\n",
            "Requirement already satisfied: numpy in /usr/local/lib/python3.7/dist-packages (from ml_metrics) (1.21.6)\n",
            "Requirement already satisfied: python-dateutil>=2.7.3 in /usr/local/lib/python3.7/dist-packages (from pandas->ml_metrics) (2.8.2)\n",
            "Requirement already satisfied: pytz>=2017.3 in /usr/local/lib/python3.7/dist-packages (from pandas->ml_metrics) (2022.1)\n",
            "Requirement already satisfied: six>=1.5 in /usr/local/lib/python3.7/dist-packages (from python-dateutil>=2.7.3->pandas->ml_metrics) (1.15.0)\n"
          ]
        }
      ],
      "source": [
        "!pip install ml_metrics"
      ]
    },
    {
      "cell_type": "code",
      "execution_count": 3,
      "metadata": {
        "id": "VIJMMpWHisDb"
      },
      "outputs": [],
      "source": [
        "import pandas as pd\n",
        "import numpy as np\n",
        "\n",
        "import missingno as msno\n",
        "import matplotlib.pyplot as plt\n",
        "import plotly.express as px\n",
        "\n",
        "from sklearn.ensemble import RandomForestClassifier\n",
        "from sklearn.metrics import classification_report\n",
        "from sklearn.model_selection import train_test_split \n",
        "from sklearn.decomposition import PCA\n",
        "from sklearn.pipeline import Pipeline\n",
        "from sklearn.decomposition import TruncatedSVD\n",
        "\n",
        "from sklearn.compose import ColumnTransformer\n",
        "from sklearn.preprocessing import MinMaxScaler\n",
        "from sklearn.preprocessing import OneHotEncoder\n",
        "import datetime\n",
        "from dateutil.parser import parse\n",
        "from sklearn.tree import  DecisionTreeClassifier\n",
        "import plotly.graph_objects as go\n",
        "import umap\n",
        "from imblearn.under_sampling import RandomUnderSampler\n",
        "from imblearn.over_sampling import RandomOverSampler\n",
        "import xgboost as xgb\n",
        "from sklearn.naive_bayes import MultinomialNB\n",
        "from sklearn.model_selection import GridSearchCV\n",
        "import ml_metrics\n",
        "import pickle\n",
        "from sklearn.metrics import accuracy_score\n",
        "import joblib\n",
        "import json\n"
      ]
    },
    {
      "cell_type": "code",
      "execution_count": 4,
      "metadata": {
        "colab": {
          "base_uri": "https://localhost:8080/",
          "height": 271
        },
        "id": "rapG9YQ5isDd",
        "outputId": "9c8e0201-e9d1-4cc6-d6b5-7813c8dce6ca"
      },
      "outputs": [
        {
          "output_type": "stream",
          "name": "stderr",
          "text": [
            "/usr/local/lib/python3.7/dist-packages/IPython/core/interactiveshell.py:2882: DtypeWarning: Columns (40) have mixed types.Specify dtype option on import or set low_memory=False.\n",
            "  exec(code_obj, self.user_global_ns, self.user_ns)\n"
          ]
        },
        {
          "output_type": "execute_result",
          "data": {
            "text/plain": [
              "   pref_B-B  pref_D-E  pref_C-D  pref_A-A  Duracion_Campaña    B    C  \\\n",
              "0       0.0       0.0       0.0       0.0               1.0  4.0  5.0   \n",
              "1       0.0       0.0       0.0       0.0               1.0  2.0  9.0   \n",
              "2       0.0       0.0       0.0       0.0               1.0  2.0  2.0   \n",
              "3       0.0       0.0       0.0       0.0               1.0  6.0  6.0   \n",
              "4       0.0       0.0       0.0       0.0               1.0  2.0  3.0   \n",
              "\n",
              "   lec_B-B  lec_E-E  lec_D-E  ...  Renta  Recibe_sueldo_en_cuenta  \\\n",
              "0      5.0      0.0      0.0  ...     R1                        0   \n",
              "1     14.0      1.0      1.0  ...     R9                        0   \n",
              "2      5.0      0.0      0.0  ...     R9                        1   \n",
              "3      8.0      0.0      1.0  ...     R4                        0   \n",
              "4      1.0      0.0      0.0  ...     R5                        0   \n",
              "\n",
              "   Segmento_consumidor  Meses_antiguedad  Comuna  Ciudad  Estado_civil  \\\n",
              "0                    A   Mayor a 10 años   331.0    13.0             D   \n",
              "1                    B   Mayor a 10 años    37.0     5.0             D   \n",
              "2                    B   Mayor a 10 años    19.0     4.0             B   \n",
              "3                    A   Mayor a 10 años    91.0    13.0             D   \n",
              "4                    A   Mayor a 10 años    34.0     5.0             B   \n",
              "\n",
              "   Principalidad  Profesion           Target  \n",
              "0              B       P164                   \n",
              "1              E       P164  D-E C-D E-E B-B  \n",
              "2              D       P114      E-E A-A B-B  \n",
              "3              B        P85      E-E B-B D-E  \n",
              "4              C       P143          D-E A-A  \n",
              "\n",
              "[5 rows x 44 columns]"
            ],
            "text/html": [
              "\n",
              "  <div id=\"df-68373bb6-94b3-4cf0-bf16-491e14005663\">\n",
              "    <div class=\"colab-df-container\">\n",
              "      <div>\n",
              "<style scoped>\n",
              "    .dataframe tbody tr th:only-of-type {\n",
              "        vertical-align: middle;\n",
              "    }\n",
              "\n",
              "    .dataframe tbody tr th {\n",
              "        vertical-align: top;\n",
              "    }\n",
              "\n",
              "    .dataframe thead th {\n",
              "        text-align: right;\n",
              "    }\n",
              "</style>\n",
              "<table border=\"1\" class=\"dataframe\">\n",
              "  <thead>\n",
              "    <tr style=\"text-align: right;\">\n",
              "      <th></th>\n",
              "      <th>pref_B-B</th>\n",
              "      <th>pref_D-E</th>\n",
              "      <th>pref_C-D</th>\n",
              "      <th>pref_A-A</th>\n",
              "      <th>Duracion_Campaña</th>\n",
              "      <th>B</th>\n",
              "      <th>C</th>\n",
              "      <th>lec_B-B</th>\n",
              "      <th>lec_E-E</th>\n",
              "      <th>lec_D-E</th>\n",
              "      <th>...</th>\n",
              "      <th>Renta</th>\n",
              "      <th>Recibe_sueldo_en_cuenta</th>\n",
              "      <th>Segmento_consumidor</th>\n",
              "      <th>Meses_antiguedad</th>\n",
              "      <th>Comuna</th>\n",
              "      <th>Ciudad</th>\n",
              "      <th>Estado_civil</th>\n",
              "      <th>Principalidad</th>\n",
              "      <th>Profesion</th>\n",
              "      <th>Target</th>\n",
              "    </tr>\n",
              "  </thead>\n",
              "  <tbody>\n",
              "    <tr>\n",
              "      <th>0</th>\n",
              "      <td>0.0</td>\n",
              "      <td>0.0</td>\n",
              "      <td>0.0</td>\n",
              "      <td>0.0</td>\n",
              "      <td>1.0</td>\n",
              "      <td>4.0</td>\n",
              "      <td>5.0</td>\n",
              "      <td>5.0</td>\n",
              "      <td>0.0</td>\n",
              "      <td>0.0</td>\n",
              "      <td>...</td>\n",
              "      <td>R1</td>\n",
              "      <td>0</td>\n",
              "      <td>A</td>\n",
              "      <td>Mayor a 10 años</td>\n",
              "      <td>331.0</td>\n",
              "      <td>13.0</td>\n",
              "      <td>D</td>\n",
              "      <td>B</td>\n",
              "      <td>P164</td>\n",
              "      <td></td>\n",
              "    </tr>\n",
              "    <tr>\n",
              "      <th>1</th>\n",
              "      <td>0.0</td>\n",
              "      <td>0.0</td>\n",
              "      <td>0.0</td>\n",
              "      <td>0.0</td>\n",
              "      <td>1.0</td>\n",
              "      <td>2.0</td>\n",
              "      <td>9.0</td>\n",
              "      <td>14.0</td>\n",
              "      <td>1.0</td>\n",
              "      <td>1.0</td>\n",
              "      <td>...</td>\n",
              "      <td>R9</td>\n",
              "      <td>0</td>\n",
              "      <td>B</td>\n",
              "      <td>Mayor a 10 años</td>\n",
              "      <td>37.0</td>\n",
              "      <td>5.0</td>\n",
              "      <td>D</td>\n",
              "      <td>E</td>\n",
              "      <td>P164</td>\n",
              "      <td>D-E C-D E-E B-B</td>\n",
              "    </tr>\n",
              "    <tr>\n",
              "      <th>2</th>\n",
              "      <td>0.0</td>\n",
              "      <td>0.0</td>\n",
              "      <td>0.0</td>\n",
              "      <td>0.0</td>\n",
              "      <td>1.0</td>\n",
              "      <td>2.0</td>\n",
              "      <td>2.0</td>\n",
              "      <td>5.0</td>\n",
              "      <td>0.0</td>\n",
              "      <td>0.0</td>\n",
              "      <td>...</td>\n",
              "      <td>R9</td>\n",
              "      <td>1</td>\n",
              "      <td>B</td>\n",
              "      <td>Mayor a 10 años</td>\n",
              "      <td>19.0</td>\n",
              "      <td>4.0</td>\n",
              "      <td>B</td>\n",
              "      <td>D</td>\n",
              "      <td>P114</td>\n",
              "      <td>E-E A-A B-B</td>\n",
              "    </tr>\n",
              "    <tr>\n",
              "      <th>3</th>\n",
              "      <td>0.0</td>\n",
              "      <td>0.0</td>\n",
              "      <td>0.0</td>\n",
              "      <td>0.0</td>\n",
              "      <td>1.0</td>\n",
              "      <td>6.0</td>\n",
              "      <td>6.0</td>\n",
              "      <td>8.0</td>\n",
              "      <td>0.0</td>\n",
              "      <td>1.0</td>\n",
              "      <td>...</td>\n",
              "      <td>R4</td>\n",
              "      <td>0</td>\n",
              "      <td>A</td>\n",
              "      <td>Mayor a 10 años</td>\n",
              "      <td>91.0</td>\n",
              "      <td>13.0</td>\n",
              "      <td>D</td>\n",
              "      <td>B</td>\n",
              "      <td>P85</td>\n",
              "      <td>E-E B-B D-E</td>\n",
              "    </tr>\n",
              "    <tr>\n",
              "      <th>4</th>\n",
              "      <td>0.0</td>\n",
              "      <td>0.0</td>\n",
              "      <td>0.0</td>\n",
              "      <td>0.0</td>\n",
              "      <td>1.0</td>\n",
              "      <td>2.0</td>\n",
              "      <td>3.0</td>\n",
              "      <td>1.0</td>\n",
              "      <td>0.0</td>\n",
              "      <td>0.0</td>\n",
              "      <td>...</td>\n",
              "      <td>R5</td>\n",
              "      <td>0</td>\n",
              "      <td>A</td>\n",
              "      <td>Mayor a 10 años</td>\n",
              "      <td>34.0</td>\n",
              "      <td>5.0</td>\n",
              "      <td>B</td>\n",
              "      <td>C</td>\n",
              "      <td>P143</td>\n",
              "      <td>D-E A-A</td>\n",
              "    </tr>\n",
              "  </tbody>\n",
              "</table>\n",
              "<p>5 rows × 44 columns</p>\n",
              "</div>\n",
              "      <button class=\"colab-df-convert\" onclick=\"convertToInteractive('df-68373bb6-94b3-4cf0-bf16-491e14005663')\"\n",
              "              title=\"Convert this dataframe to an interactive table.\"\n",
              "              style=\"display:none;\">\n",
              "        \n",
              "  <svg xmlns=\"http://www.w3.org/2000/svg\" height=\"24px\"viewBox=\"0 0 24 24\"\n",
              "       width=\"24px\">\n",
              "    <path d=\"M0 0h24v24H0V0z\" fill=\"none\"/>\n",
              "    <path d=\"M18.56 5.44l.94 2.06.94-2.06 2.06-.94-2.06-.94-.94-2.06-.94 2.06-2.06.94zm-11 1L8.5 8.5l.94-2.06 2.06-.94-2.06-.94L8.5 2.5l-.94 2.06-2.06.94zm10 10l.94 2.06.94-2.06 2.06-.94-2.06-.94-.94-2.06-.94 2.06-2.06.94z\"/><path d=\"M17.41 7.96l-1.37-1.37c-.4-.4-.92-.59-1.43-.59-.52 0-1.04.2-1.43.59L10.3 9.45l-7.72 7.72c-.78.78-.78 2.05 0 2.83L4 21.41c.39.39.9.59 1.41.59.51 0 1.02-.2 1.41-.59l7.78-7.78 2.81-2.81c.8-.78.8-2.07 0-2.86zM5.41 20L4 18.59l7.72-7.72 1.47 1.35L5.41 20z\"/>\n",
              "  </svg>\n",
              "      </button>\n",
              "      \n",
              "  <style>\n",
              "    .colab-df-container {\n",
              "      display:flex;\n",
              "      flex-wrap:wrap;\n",
              "      gap: 12px;\n",
              "    }\n",
              "\n",
              "    .colab-df-convert {\n",
              "      background-color: #E8F0FE;\n",
              "      border: none;\n",
              "      border-radius: 50%;\n",
              "      cursor: pointer;\n",
              "      display: none;\n",
              "      fill: #1967D2;\n",
              "      height: 32px;\n",
              "      padding: 0 0 0 0;\n",
              "      width: 32px;\n",
              "    }\n",
              "\n",
              "    .colab-df-convert:hover {\n",
              "      background-color: #E2EBFA;\n",
              "      box-shadow: 0px 1px 2px rgba(60, 64, 67, 0.3), 0px 1px 3px 1px rgba(60, 64, 67, 0.15);\n",
              "      fill: #174EA6;\n",
              "    }\n",
              "\n",
              "    [theme=dark] .colab-df-convert {\n",
              "      background-color: #3B4455;\n",
              "      fill: #D2E3FC;\n",
              "    }\n",
              "\n",
              "    [theme=dark] .colab-df-convert:hover {\n",
              "      background-color: #434B5C;\n",
              "      box-shadow: 0px 1px 3px 1px rgba(0, 0, 0, 0.15);\n",
              "      filter: drop-shadow(0px 1px 2px rgba(0, 0, 0, 0.3));\n",
              "      fill: #FFFFFF;\n",
              "    }\n",
              "  </style>\n",
              "\n",
              "      <script>\n",
              "        const buttonEl =\n",
              "          document.querySelector('#df-68373bb6-94b3-4cf0-bf16-491e14005663 button.colab-df-convert');\n",
              "        buttonEl.style.display =\n",
              "          google.colab.kernel.accessAllowed ? 'block' : 'none';\n",
              "\n",
              "        async function convertToInteractive(key) {\n",
              "          const element = document.querySelector('#df-68373bb6-94b3-4cf0-bf16-491e14005663');\n",
              "          const dataTable =\n",
              "            await google.colab.kernel.invokeFunction('convertToInteractive',\n",
              "                                                     [key], {});\n",
              "          if (!dataTable) return;\n",
              "\n",
              "          const docLinkHtml = 'Like what you see? Visit the ' +\n",
              "            '<a target=\"_blank\" href=https://colab.research.google.com/notebooks/data_table.ipynb>data table notebook</a>'\n",
              "            + ' to learn more about interactive tables.';\n",
              "          element.innerHTML = '';\n",
              "          dataTable['output_type'] = 'display_data';\n",
              "          await google.colab.output.renderOutput(dataTable, element);\n",
              "          const docLink = document.createElement('div');\n",
              "          docLink.innerHTML = docLinkHtml;\n",
              "          element.appendChild(docLink);\n",
              "        }\n",
              "      </script>\n",
              "    </div>\n",
              "  </div>\n",
              "  "
            ]
          },
          "metadata": {},
          "execution_count": 4
        }
      ],
      "source": [
        "Data=pd.read_csv(\"cleaned_01June2022.csv\").drop(columns=[\"Unnamed: 0\"]).fillna(\"\")\n",
        "Data.head()"
      ]
    },
    {
      "cell_type": "code",
      "execution_count": 5,
      "metadata": {
        "id": "tZywYKipisDe"
      },
      "outputs": [],
      "source": [
        "# datos númericos\n",
        "numerical=list(Data.select_dtypes(exclude=[\"category\",\"object\"]).columns)\n",
        "numerical.remove(\"Sexo\")\n",
        "numerical.remove('Recibe_sueldo_en_cuenta')\n",
        "\n",
        "\n",
        "# datos categorical\n",
        "categorical=list(Data.select_dtypes(include=[\"category\",\"object\"]).columns)+['Sexo','Recibe_sueldo_en_cuenta']\n",
        "categorical.remove(\"Target\")"
      ]
    },
    {
      "cell_type": "code",
      "execution_count": 6,
      "metadata": {
        "id": "_V6magoZisDf"
      },
      "outputs": [],
      "source": [
        "for i in categorical:\n",
        "    Data[i]=Data[i].astype(str)"
      ]
    },
    {
      "cell_type": "code",
      "execution_count": 7,
      "metadata": {
        "id": "GgNE_nb4isDf"
      },
      "outputs": [],
      "source": [
        "# Select 1 - Only Gini, corte visual\n",
        "select_variables_1=['E-F',\n",
        " 'C-C',\n",
        " 'D-F',\n",
        " 'A-K',\n",
        " 'num_comunicaciones',\n",
        " 'Length',\n",
        " 'pref_A-A',\n",
        " 'Positivo',\n",
        " 'Recency',\n",
        " 'A-G',\n",
        " 'Monto',\n",
        " 'Periodicity',\n",
        " 'Frequency',\n",
        " 'lec_B-B',\n",
        " 'G-K']"
      ]
    },
    {
      "cell_type": "code",
      "execution_count": 8,
      "metadata": {
        "id": "aVfc3icEisDg"
      },
      "outputs": [],
      "source": [
        "# Select 2 - Criterio Corr Kill\n",
        "select_variables_2=['E-F',\n",
        " 'C-C',\n",
        " 'D-F',\n",
        " 'A-K',\n",
        " 'pref_A-A',\n",
        " 'num_comunicaciones',\n",
        " 'Length',\n",
        " 'Sin Info',\n",
        " 'F-I',\n",
        " 'Monto',\n",
        " 'B',\n",
        " 'lec_B-B',\n",
        " 'Comuna',\n",
        " 'Edad',\n",
        " 'Ciudad',\n",
        " 'Profesion',\n",
        " 'Renta',\n",
        " 'F-H',\n",
        " 'lec_A-A',\n",
        " 'Principalidad',\n",
        " 'A-L',\n",
        " 'lec_C-D',\n",
        " 'Estado_civil']"
      ]
    },
    {
      "cell_type": "markdown",
      "metadata": {
        "id": "5wThX9EbisDg"
      },
      "source": [
        "# Train, Test Split"
      ]
    },
    {
      "cell_type": "code",
      "execution_count": 9,
      "metadata": {
        "colab": {
          "base_uri": "https://localhost:8080/",
          "height": 236
        },
        "id": "4TfmQ1MAisDh",
        "outputId": "4f4f0c4e-a0f7-47ac-fa52-d041c90840bb"
      },
      "outputs": [
        {
          "output_type": "execute_result",
          "data": {
            "text/plain": [
              "   pref_B-B  pref_D-E  pref_C-D  pref_A-A  Duracion_Campaña    B    C  \\\n",
              "0       0.0       0.0       0.0       0.0               1.0  4.0  5.0   \n",
              "1       0.0       0.0       0.0       0.0               1.0  2.0  9.0   \n",
              "2       0.0       0.0       0.0       0.0               1.0  2.0  2.0   \n",
              "3       0.0       0.0       0.0       0.0               1.0  6.0  6.0   \n",
              "4       0.0       0.0       0.0       0.0               1.0  2.0  3.0   \n",
              "\n",
              "   lec_B-B  lec_E-E  lec_D-E  ...  Sexo  Renta  Recibe_sueldo_en_cuenta  \\\n",
              "0      5.0      0.0      0.0  ...     1     R1                        0   \n",
              "1     14.0      1.0      1.0  ...     1     R9                        0   \n",
              "2      5.0      0.0      0.0  ...     1     R9                        1   \n",
              "3      8.0      0.0      1.0  ...     1     R4                        0   \n",
              "4      1.0      0.0      0.0  ...     1     R5                        0   \n",
              "\n",
              "   Segmento_consumidor  Meses_antiguedad  Comuna  Ciudad  Estado_civil  \\\n",
              "0                    A   Mayor a 10 años   331.0    13.0             D   \n",
              "1                    B   Mayor a 10 años    37.0     5.0             D   \n",
              "2                    B   Mayor a 10 años    19.0     4.0             B   \n",
              "3                    A   Mayor a 10 años    91.0    13.0             D   \n",
              "4                    A   Mayor a 10 años    34.0     5.0             B   \n",
              "\n",
              "   Principalidad  Profesion  \n",
              "0              B       P164  \n",
              "1              E       P164  \n",
              "2              D       P114  \n",
              "3              B        P85  \n",
              "4              C       P143  \n",
              "\n",
              "[5 rows x 43 columns]"
            ],
            "text/html": [
              "\n",
              "  <div id=\"df-24ccab7f-f696-4dfe-ad96-1bd077038318\">\n",
              "    <div class=\"colab-df-container\">\n",
              "      <div>\n",
              "<style scoped>\n",
              "    .dataframe tbody tr th:only-of-type {\n",
              "        vertical-align: middle;\n",
              "    }\n",
              "\n",
              "    .dataframe tbody tr th {\n",
              "        vertical-align: top;\n",
              "    }\n",
              "\n",
              "    .dataframe thead th {\n",
              "        text-align: right;\n",
              "    }\n",
              "</style>\n",
              "<table border=\"1\" class=\"dataframe\">\n",
              "  <thead>\n",
              "    <tr style=\"text-align: right;\">\n",
              "      <th></th>\n",
              "      <th>pref_B-B</th>\n",
              "      <th>pref_D-E</th>\n",
              "      <th>pref_C-D</th>\n",
              "      <th>pref_A-A</th>\n",
              "      <th>Duracion_Campaña</th>\n",
              "      <th>B</th>\n",
              "      <th>C</th>\n",
              "      <th>lec_B-B</th>\n",
              "      <th>lec_E-E</th>\n",
              "      <th>lec_D-E</th>\n",
              "      <th>...</th>\n",
              "      <th>Sexo</th>\n",
              "      <th>Renta</th>\n",
              "      <th>Recibe_sueldo_en_cuenta</th>\n",
              "      <th>Segmento_consumidor</th>\n",
              "      <th>Meses_antiguedad</th>\n",
              "      <th>Comuna</th>\n",
              "      <th>Ciudad</th>\n",
              "      <th>Estado_civil</th>\n",
              "      <th>Principalidad</th>\n",
              "      <th>Profesion</th>\n",
              "    </tr>\n",
              "  </thead>\n",
              "  <tbody>\n",
              "    <tr>\n",
              "      <th>0</th>\n",
              "      <td>0.0</td>\n",
              "      <td>0.0</td>\n",
              "      <td>0.0</td>\n",
              "      <td>0.0</td>\n",
              "      <td>1.0</td>\n",
              "      <td>4.0</td>\n",
              "      <td>5.0</td>\n",
              "      <td>5.0</td>\n",
              "      <td>0.0</td>\n",
              "      <td>0.0</td>\n",
              "      <td>...</td>\n",
              "      <td>1</td>\n",
              "      <td>R1</td>\n",
              "      <td>0</td>\n",
              "      <td>A</td>\n",
              "      <td>Mayor a 10 años</td>\n",
              "      <td>331.0</td>\n",
              "      <td>13.0</td>\n",
              "      <td>D</td>\n",
              "      <td>B</td>\n",
              "      <td>P164</td>\n",
              "    </tr>\n",
              "    <tr>\n",
              "      <th>1</th>\n",
              "      <td>0.0</td>\n",
              "      <td>0.0</td>\n",
              "      <td>0.0</td>\n",
              "      <td>0.0</td>\n",
              "      <td>1.0</td>\n",
              "      <td>2.0</td>\n",
              "      <td>9.0</td>\n",
              "      <td>14.0</td>\n",
              "      <td>1.0</td>\n",
              "      <td>1.0</td>\n",
              "      <td>...</td>\n",
              "      <td>1</td>\n",
              "      <td>R9</td>\n",
              "      <td>0</td>\n",
              "      <td>B</td>\n",
              "      <td>Mayor a 10 años</td>\n",
              "      <td>37.0</td>\n",
              "      <td>5.0</td>\n",
              "      <td>D</td>\n",
              "      <td>E</td>\n",
              "      <td>P164</td>\n",
              "    </tr>\n",
              "    <tr>\n",
              "      <th>2</th>\n",
              "      <td>0.0</td>\n",
              "      <td>0.0</td>\n",
              "      <td>0.0</td>\n",
              "      <td>0.0</td>\n",
              "      <td>1.0</td>\n",
              "      <td>2.0</td>\n",
              "      <td>2.0</td>\n",
              "      <td>5.0</td>\n",
              "      <td>0.0</td>\n",
              "      <td>0.0</td>\n",
              "      <td>...</td>\n",
              "      <td>1</td>\n",
              "      <td>R9</td>\n",
              "      <td>1</td>\n",
              "      <td>B</td>\n",
              "      <td>Mayor a 10 años</td>\n",
              "      <td>19.0</td>\n",
              "      <td>4.0</td>\n",
              "      <td>B</td>\n",
              "      <td>D</td>\n",
              "      <td>P114</td>\n",
              "    </tr>\n",
              "    <tr>\n",
              "      <th>3</th>\n",
              "      <td>0.0</td>\n",
              "      <td>0.0</td>\n",
              "      <td>0.0</td>\n",
              "      <td>0.0</td>\n",
              "      <td>1.0</td>\n",
              "      <td>6.0</td>\n",
              "      <td>6.0</td>\n",
              "      <td>8.0</td>\n",
              "      <td>0.0</td>\n",
              "      <td>1.0</td>\n",
              "      <td>...</td>\n",
              "      <td>1</td>\n",
              "      <td>R4</td>\n",
              "      <td>0</td>\n",
              "      <td>A</td>\n",
              "      <td>Mayor a 10 años</td>\n",
              "      <td>91.0</td>\n",
              "      <td>13.0</td>\n",
              "      <td>D</td>\n",
              "      <td>B</td>\n",
              "      <td>P85</td>\n",
              "    </tr>\n",
              "    <tr>\n",
              "      <th>4</th>\n",
              "      <td>0.0</td>\n",
              "      <td>0.0</td>\n",
              "      <td>0.0</td>\n",
              "      <td>0.0</td>\n",
              "      <td>1.0</td>\n",
              "      <td>2.0</td>\n",
              "      <td>3.0</td>\n",
              "      <td>1.0</td>\n",
              "      <td>0.0</td>\n",
              "      <td>0.0</td>\n",
              "      <td>...</td>\n",
              "      <td>1</td>\n",
              "      <td>R5</td>\n",
              "      <td>0</td>\n",
              "      <td>A</td>\n",
              "      <td>Mayor a 10 años</td>\n",
              "      <td>34.0</td>\n",
              "      <td>5.0</td>\n",
              "      <td>B</td>\n",
              "      <td>C</td>\n",
              "      <td>P143</td>\n",
              "    </tr>\n",
              "  </tbody>\n",
              "</table>\n",
              "<p>5 rows × 43 columns</p>\n",
              "</div>\n",
              "      <button class=\"colab-df-convert\" onclick=\"convertToInteractive('df-24ccab7f-f696-4dfe-ad96-1bd077038318')\"\n",
              "              title=\"Convert this dataframe to an interactive table.\"\n",
              "              style=\"display:none;\">\n",
              "        \n",
              "  <svg xmlns=\"http://www.w3.org/2000/svg\" height=\"24px\"viewBox=\"0 0 24 24\"\n",
              "       width=\"24px\">\n",
              "    <path d=\"M0 0h24v24H0V0z\" fill=\"none\"/>\n",
              "    <path d=\"M18.56 5.44l.94 2.06.94-2.06 2.06-.94-2.06-.94-.94-2.06-.94 2.06-2.06.94zm-11 1L8.5 8.5l.94-2.06 2.06-.94-2.06-.94L8.5 2.5l-.94 2.06-2.06.94zm10 10l.94 2.06.94-2.06 2.06-.94-2.06-.94-.94-2.06-.94 2.06-2.06.94z\"/><path d=\"M17.41 7.96l-1.37-1.37c-.4-.4-.92-.59-1.43-.59-.52 0-1.04.2-1.43.59L10.3 9.45l-7.72 7.72c-.78.78-.78 2.05 0 2.83L4 21.41c.39.39.9.59 1.41.59.51 0 1.02-.2 1.41-.59l7.78-7.78 2.81-2.81c.8-.78.8-2.07 0-2.86zM5.41 20L4 18.59l7.72-7.72 1.47 1.35L5.41 20z\"/>\n",
              "  </svg>\n",
              "      </button>\n",
              "      \n",
              "  <style>\n",
              "    .colab-df-container {\n",
              "      display:flex;\n",
              "      flex-wrap:wrap;\n",
              "      gap: 12px;\n",
              "    }\n",
              "\n",
              "    .colab-df-convert {\n",
              "      background-color: #E8F0FE;\n",
              "      border: none;\n",
              "      border-radius: 50%;\n",
              "      cursor: pointer;\n",
              "      display: none;\n",
              "      fill: #1967D2;\n",
              "      height: 32px;\n",
              "      padding: 0 0 0 0;\n",
              "      width: 32px;\n",
              "    }\n",
              "\n",
              "    .colab-df-convert:hover {\n",
              "      background-color: #E2EBFA;\n",
              "      box-shadow: 0px 1px 2px rgba(60, 64, 67, 0.3), 0px 1px 3px 1px rgba(60, 64, 67, 0.15);\n",
              "      fill: #174EA6;\n",
              "    }\n",
              "\n",
              "    [theme=dark] .colab-df-convert {\n",
              "      background-color: #3B4455;\n",
              "      fill: #D2E3FC;\n",
              "    }\n",
              "\n",
              "    [theme=dark] .colab-df-convert:hover {\n",
              "      background-color: #434B5C;\n",
              "      box-shadow: 0px 1px 3px 1px rgba(0, 0, 0, 0.15);\n",
              "      filter: drop-shadow(0px 1px 2px rgba(0, 0, 0, 0.3));\n",
              "      fill: #FFFFFF;\n",
              "    }\n",
              "  </style>\n",
              "\n",
              "      <script>\n",
              "        const buttonEl =\n",
              "          document.querySelector('#df-24ccab7f-f696-4dfe-ad96-1bd077038318 button.colab-df-convert');\n",
              "        buttonEl.style.display =\n",
              "          google.colab.kernel.accessAllowed ? 'block' : 'none';\n",
              "\n",
              "        async function convertToInteractive(key) {\n",
              "          const element = document.querySelector('#df-24ccab7f-f696-4dfe-ad96-1bd077038318');\n",
              "          const dataTable =\n",
              "            await google.colab.kernel.invokeFunction('convertToInteractive',\n",
              "                                                     [key], {});\n",
              "          if (!dataTable) return;\n",
              "\n",
              "          const docLinkHtml = 'Like what you see? Visit the ' +\n",
              "            '<a target=\"_blank\" href=https://colab.research.google.com/notebooks/data_table.ipynb>data table notebook</a>'\n",
              "            + ' to learn more about interactive tables.';\n",
              "          element.innerHTML = '';\n",
              "          dataTable['output_type'] = 'display_data';\n",
              "          await google.colab.output.renderOutput(dataTable, element);\n",
              "          const docLink = document.createElement('div');\n",
              "          docLink.innerHTML = docLinkHtml;\n",
              "          element.appendChild(docLink);\n",
              "        }\n",
              "      </script>\n",
              "    </div>\n",
              "  </div>\n",
              "  "
            ]
          },
          "metadata": {},
          "execution_count": 9
        }
      ],
      "source": [
        "X=Data.drop(columns=[\"Target\"]).copy()\n",
        "X.head()"
      ]
    },
    {
      "cell_type": "code",
      "execution_count": 10,
      "metadata": {
        "colab": {
          "base_uri": "https://localhost:8080/"
        },
        "id": "pIO3GvwOisDi",
        "outputId": "089194b9-206a-4d75-fa18-248694955a9b"
      },
      "outputs": [
        {
          "output_type": "execute_result",
          "data": {
            "text/plain": [
              "0                   \n",
              "1    D-E C-D E-E B-B\n",
              "2        E-E A-A B-B\n",
              "3        E-E B-B D-E\n",
              "4            D-E A-A\n",
              "Name: Target, dtype: object"
            ]
          },
          "metadata": {},
          "execution_count": 10
        }
      ],
      "source": [
        "Y=Data[\"Target\"]\n",
        "Y.head()"
      ]
    },
    {
      "cell_type": "code",
      "execution_count": 11,
      "metadata": {
        "colab": {
          "base_uri": "https://localhost:8080/"
        },
        "id": "4rrj0xnLPhhy",
        "outputId": "abf3b6b4-2896-4dc2-f4bd-348625e133dd"
      },
      "outputs": [
        {
          "output_type": "stream",
          "name": "stdout",
          "text": [
            "{'': 0, 'A-A': 36, 'A-A B-B': 15, 'A-A B-B D-E': 43, 'A-A C-D': 73, 'A-A D-E': 44, 'A-A D-E B-B': 50, 'A-A E-E': 39, 'B-B': 18, 'B-B A-A': 35, 'B-B A-A D-E': 42, 'B-B C-D': 59, 'B-B C-D D-E': 37, 'B-B C-D D-E E-E': 64, 'B-B C-D E-E': 62, 'B-B D-E': 13, 'B-B D-E A-A': 71, 'B-B D-E C-D': 60, 'B-B D-E E-E': 29, 'B-B E-E': 9, 'B-B E-E C-D': 65, 'B-B E-E D-E': 34, 'C-D': 21, 'C-D A-A': 54, 'C-D A-A B-B': 25, 'C-D B-B': 20, 'C-D B-B A-A': 61, 'C-D B-B D-E': 16, 'C-D B-B D-E E-E': 68, 'C-D B-B E-E': 12, 'C-D B-B E-E D-E': 14, 'C-D D-E': 31, 'C-D D-E B-B': 24, 'C-D D-E B-B E-E': 56, 'C-D D-E E-E': 23, 'C-D D-E E-E B-B': 70, 'C-D E-E': 19, 'C-D E-E B-B': 32, 'C-D E-E B-B D-E': 38, 'C-D E-E D-E': 28, 'C-D E-E D-E B-B': 33, 'D-E': 6, 'D-E A-A': 4, 'D-E A-A B-B': 41, 'D-E B-B': 7, 'D-E B-B A-A': 8, 'D-E B-B C-D': 63, 'D-E B-B E-E': 46, 'D-E C-D': 45, 'D-E C-D B-B': 40, 'D-E C-D B-B E-E': 66, 'D-E C-D E-E': 67, 'D-E C-D E-E B-B': 1, 'D-E E-E': 22, 'D-E E-E A-A': 72, 'D-E E-E B-B': 10, 'D-E E-E C-D': 11, 'E-E': 5, 'E-E A-A': 57, 'E-E A-A B-B': 2, 'E-E A-A D-E': 48, 'E-E B-B': 17, 'E-E B-B A-A': 69, 'E-E B-B C-D': 55, 'E-E B-B D-E': 3, 'E-E C-D': 49, 'E-E C-D B-B': 52, 'E-E C-D B-B D-E': 58, 'E-E C-D D-E': 53, 'E-E C-D D-E B-B': 47, 'E-E D-E': 26, 'E-E D-E A-A': 51, 'E-E D-E B-B': 30, 'E-E D-E C-D': 27}\n"
          ]
        }
      ],
      "source": [
        "tf = open(\"myDictionary.json\", \"r\")\n",
        "dic_target = json.load(tf)\n",
        "print(dic_target)"
      ]
    },
    {
      "cell_type": "code",
      "execution_count": 12,
      "metadata": {
        "id": "-BQGcazcPtw9"
      },
      "outputs": [],
      "source": [
        "Y.replace(dic_target,inplace=True)"
      ]
    },
    {
      "cell_type": "code",
      "execution_count": 13,
      "metadata": {
        "id": "JQNFpl3IisDi"
      },
      "outputs": [],
      "source": [
        "# Generación de conjuntos de train y test\n",
        "Xtrain, Xtest, Ytrain, Ytest = train_test_split(\n",
        "    X, Y, test_size=0.33, \n",
        "    shuffle=True,\n",
        "    \n",
        ") "
      ]
    },
    {
      "cell_type": "code",
      "execution_count": 14,
      "metadata": {
        "id": "cEjw5QFYisDj"
      },
      "outputs": [],
      "source": [
        "# Sobremuestreo: Aumentar numero de datos de la clase minoritaria\n",
        "# ROS(Duplica clases):\n",
        "ros=RandomOverSampler(random_state=0) # Random_state=0"
      ]
    },
    {
      "cell_type": "code",
      "execution_count": 15,
      "metadata": {
        "id": "lhE1_yewisDj"
      },
      "outputs": [],
      "source": [
        "# ROS:\n",
        "Xtrain, Ytrain=ros.fit_resample(Xtrain,Ytrain)"
      ]
    },
    {
      "cell_type": "code",
      "execution_count": 16,
      "metadata": {
        "colab": {
          "base_uri": "https://localhost:8080/"
        },
        "id": "HaYY93nnisDk",
        "outputId": "e41ebdc3-bbdb-46ab-e260-bd47c2cf7e71"
      },
      "outputs": [
        {
          "output_type": "execute_result",
          "data": {
            "text/plain": [
              "(608650, 43)"
            ]
          },
          "metadata": {},
          "execution_count": 16
        }
      ],
      "source": [
        "Xtrain.shape"
      ]
    },
    {
      "cell_type": "code",
      "execution_count": 17,
      "metadata": {
        "id": "j5Vihe-TisDl"
      },
      "outputs": [],
      "source": [
        "numerical1=list(filter(lambda x:x  in numerical,select_variables_1))\n",
        "categorical1=list(filter(lambda x:x  in categorical,select_variables_1))"
      ]
    },
    {
      "cell_type": "code",
      "execution_count": 18,
      "metadata": {
        "id": "sxMwtpBOisDl"
      },
      "outputs": [],
      "source": [
        "numerical2=list(filter(lambda x:x  in numerical,select_variables_2))\n",
        "categorical2=list(filter(lambda x:x  in categorical,select_variables_2))"
      ]
    },
    {
      "cell_type": "code",
      "execution_count": 19,
      "metadata": {
        "id": "LVYPQTNVisDm"
      },
      "outputs": [],
      "source": [
        "# Preprocesamiento de datos\n",
        "preprocessing_transformer1 = ColumnTransformer(\n",
        "    transformers=[('OneHotEncoder', OneHotEncoder(handle_unknown=\"ignore\"),categorical1 ),\n",
        "        ('MinMax', MinMaxScaler(),numerical1),\n",
        "    ])"
      ]
    },
    {
      "cell_type": "code",
      "execution_count": 20,
      "metadata": {
        "id": "M_Nj9LTYisDm"
      },
      "outputs": [],
      "source": [
        "# Preprocesamiento de datos\n",
        "preprocessing_transformer2 = ColumnTransformer(\n",
        "    transformers=[('OneHotEncoder', OneHotEncoder(handle_unknown=\"ignore\"),categorical2 ),\n",
        "        ('MinMax', MinMaxScaler(),numerical2),\n",
        "    ])"
      ]
    },
    {
      "cell_type": "markdown",
      "metadata": {
        "id": "mcGdDxJyisDu"
      },
      "source": [
        "# Exp 1"
      ]
    },
    {
      "cell_type": "code",
      "execution_count": 21,
      "metadata": {
        "id": "DLaJfNxAisDu"
      },
      "outputs": [],
      "source": [
        "pipe_xgb1 = Pipeline(\n",
        "    [(\"preprocesamiento\", preprocessing_transformer1),\n",
        "     (\"clf\", xgb.XGBClassifier(seed=1,  eval_metric='mlogloss',\n",
        "                               learning_rate= 0.05,n_estimators= 500,\n",
        "                               tree_method='gpu_hist', gpu_id=0\n",
        "                               ))]\n",
        ")\n"
      ]
    },
    {
      "cell_type": "code",
      "execution_count": 22,
      "metadata": {
        "colab": {
          "base_uri": "https://localhost:8080/"
        },
        "id": "-s7wWSGJisDu",
        "outputId": "d3e26d8c-d5e1-47ad-cd5e-0c6df4643193"
      },
      "outputs": [
        {
          "output_type": "execute_result",
          "data": {
            "text/plain": [
              "Pipeline(steps=[('preprocesamiento',\n",
              "                 ColumnTransformer(transformers=[('OneHotEncoder',\n",
              "                                                  OneHotEncoder(handle_unknown='ignore'),\n",
              "                                                  []),\n",
              "                                                 ('MinMax', MinMaxScaler(),\n",
              "                                                  ['E-F', 'C-C', 'D-F', 'A-K',\n",
              "                                                   'num_comunicaciones',\n",
              "                                                   'Length', 'pref_A-A',\n",
              "                                                   'Positivo', 'Recency', 'A-G',\n",
              "                                                   'Monto', 'Periodicity',\n",
              "                                                   'Frequency', 'lec_B-B',\n",
              "                                                   'G-K'])])),\n",
              "                ('clf',\n",
              "                 XGBClassifier(eval_metric='mlogloss', gpu_id=0,\n",
              "                               learning_rate=0.05, n_estimators=500,\n",
              "                               objective='multi:softprob', seed=1,\n",
              "                               tree_method='gpu_hist'))])"
            ]
          },
          "metadata": {},
          "execution_count": 22
        }
      ],
      "source": [
        "# Fit\n",
        "pipe_xgb1.fit(Xtrain, Ytrain)"
      ]
    },
    {
      "cell_type": "code",
      "execution_count": 23,
      "metadata": {
        "id": "n06LVzDNacLB"
      },
      "outputs": [],
      "source": [
        "inv_map = {v: k for k, v in dic_target.items()}"
      ]
    },
    {
      "cell_type": "code",
      "execution_count": 24,
      "metadata": {
        "id": "clNesunvisDu"
      },
      "outputs": [],
      "source": [
        "# Generación de predicciones\n",
        "Ypred =pd.DataFrame(pipe_xgb1.predict(Xtest)).replace(inv_map)[0]"
      ]
    },
    {
      "cell_type": "code",
      "execution_count": 25,
      "metadata": {
        "id": "xdAtS1fXaWDv"
      },
      "outputs": [],
      "source": [
        "Ytest.replace(inv_map,inplace=True)"
      ]
    },
    {
      "cell_type": "code",
      "execution_count": 26,
      "metadata": {
        "colab": {
          "base_uri": "https://localhost:8080/"
        },
        "id": "jaXgYHLWisDu",
        "outputId": "f17d83cf-fc3e-480d-bdc4-fd5141b08783"
      },
      "outputs": [
        {
          "output_type": "execute_result",
          "data": {
            "text/plain": [
              "0.2867803837953092"
            ]
          },
          "metadata": {},
          "execution_count": 26
        }
      ],
      "source": [
        "accuracy_score(Ypred, Ytest)"
      ]
    },
    {
      "cell_type": "code",
      "execution_count": 27,
      "metadata": {
        "colab": {
          "base_uri": "https://localhost:8080/"
        },
        "id": "Ra9zK6eLisDv",
        "outputId": "ed1ef39c-f09b-4fb0-8592-eb90425eb4ac"
      },
      "outputs": [
        {
          "output_type": "execute_result",
          "data": {
            "text/plain": [
              "0.7153147950722576"
            ]
          },
          "metadata": {},
          "execution_count": 27
        }
      ],
      "source": [
        "Ypred_map=Ypred.apply( lambda x: x.split(\" \"))\n",
        "Ytest_map=Ytest.apply( lambda x: x.split(\" \"))\n",
        "ml_metrics.mapk(Ytest_map, Ypred_map, 5)"
      ]
    },
    {
      "cell_type": "code",
      "execution_count": 28,
      "metadata": {
        "colab": {
          "base_uri": "https://localhost:8080/"
        },
        "id": "2fq4MNNmBbEr",
        "outputId": "08097553-219f-45cc-fe12-988c4ec6a908"
      },
      "outputs": [
        {
          "output_type": "execute_result",
          "data": {
            "text/plain": [
              "XGBClassifier(eval_metric='mlogloss', gpu_id=0, learning_rate=0.05,\n",
              "              n_estimators=500, objective='multi:softprob', seed=1,\n",
              "              tree_method='gpu_hist')"
            ]
          },
          "metadata": {},
          "execution_count": 28
        }
      ],
      "source": [
        "pipe_xgb1[1]"
      ]
    },
    {
      "cell_type": "code",
      "execution_count": 29,
      "metadata": {
        "id": "dcYfsl0NZC89"
      },
      "outputs": [],
      "source": [
        "# save to JSON\n",
        "pipe_xgb1[1].save_model(\"./model_xgb1.bin\")\n"
      ]
    }
  ],
  "metadata": {
    "accelerator": "GPU",
    "colab": {
      "collapsed_sections": [],
      "name": "Experimentos_Finales_No_RN_parte_1.ipynb",
      "provenance": []
    },
    "interpreter": {
      "hash": "65e97ffa20fbdd895c76c3a1d2c2ade704754874d6e45df701862667e65d73d7"
    },
    "kernelspec": {
      "display_name": "Python 3 (ipykernel)",
      "language": "python",
      "name": "python3"
    },
    "language_info": {
      "codemirror_mode": {
        "name": "ipython",
        "version": 3
      },
      "file_extension": ".py",
      "mimetype": "text/x-python",
      "name": "python",
      "nbconvert_exporter": "python",
      "pygments_lexer": "ipython3",
      "version": "3.9.6"
    }
  },
  "nbformat": 4,
  "nbformat_minor": 0
}