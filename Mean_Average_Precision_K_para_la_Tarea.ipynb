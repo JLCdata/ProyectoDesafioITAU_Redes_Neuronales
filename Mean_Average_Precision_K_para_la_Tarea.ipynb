{
 "cells": [
  {
   "cell_type": "markdown",
   "id": "apart-equivalent",
   "metadata": {},
   "source": [
    "# Mean Average Precision @ 5 para Tarea ML"
   ]
  },
  {
   "cell_type": "code",
   "execution_count": 4,
   "id": "massive-jumping",
   "metadata": {},
   "outputs": [],
   "source": [
    "## Metrica para Tarea ML by srios\n",
    "\n",
    "## Ejemplo minimal:\n",
    "import numpy as np\n",
    "import ml_metrics\n",
    "\n",
    "## Data real\n",
    "## Cada fila es una prediccion\n",
    "\n",
    "actual = [ \n",
    "    ['YES','YES','NO'],\n",
    "    ['NO','NO','YES'],\n",
    "    ['YES','YES','NO']\n",
    "]\n",
    "\n",
    "\n",
    "## Data Predicha\n",
    "predicted = [ \n",
    "    ['YES','YES','YES'],    \n",
    "    ['YES','NO'], ##Notar que nuestra predicción puede ser más corta que el real, no afecta el resultado de la métrica.\n",
    "    ['YES','YES','YES']\n",
    "]\n",
    "\n",
    "## Notar que si agregamos filas a la predicción, no va a afectar en nada el calculo del mAP@k\n",
    "\n",
    "\n",
    "\n",
    "## K es la posición de nuestra precisión promedio \n",
    "## EJ con K=1 estamos considerando solo el primer valor de cada fila\n",
    "## EJ con K=3 estamos considerando los 3 elementos de cada fila (pero usted puede predecir menos de 3 valores-ver fila 2 de la predicción)\n",
    "k = 3"
   ]
  },
  {
   "cell_type": "code",
   "execution_count": 5,
   "id": "round-swift",
   "metadata": {},
   "outputs": [
    {
     "data": {
      "text/plain": [
       "0.4444444444444444"
      ]
     },
     "execution_count": 5,
     "metadata": {},
     "output_type": "execute_result"
    }
   ],
   "source": [
    "ml_metrics.mapk(actual, predicted, k)"
   ]
  },
  {
   "cell_type": "code",
   "execution_count": 301,
   "id": "recreational-drawing",
   "metadata": {},
   "outputs": [],
   "source": [
    "##Otro Ejemplo:\n",
    "## Primero con el Average Precision (AP) @ 5\n",
    "## Luego con el Mean AP (map) @ 5"
   ]
  },
  {
   "cell_type": "code",
   "execution_count": 6,
   "id": "lined-childhood",
   "metadata": {},
   "outputs": [
    {
     "name": "stdout",
     "output_type": "stream",
     "text": [
      "Answer= [1] predicted= [1, 2, 3, 4, 5]\n",
      "AP@5 = 1.0\n",
      "Answer= [1] predicted= [2, 1, 3, 4, 5]\n",
      "AP@5 = 0.5\n",
      "Answer= [1] predicted= [3, 2, 1, 4, 5]\n",
      "AP@5 = 0.3333333333333333\n",
      "Answer= [1] predicted= [4, 2, 3, 1, 5]\n",
      "AP@5 = 0.25\n",
      "Answer= [1] predicted= [4, 2, 3, 5, 1]\n",
      "AP@5 = 0.2\n"
     ]
    }
   ],
   "source": [
    "actual = [1]\n",
    "\n",
    "predicted = [1,2,3,4,5]\n",
    "\n",
    "print('Answer=',actual,'predicted=',predicted)\n",
    "print('AP@5 =',ml_metrics.apk(actual,predicted,5) )\n",
    "\n",
    "predicted = [2,1,3,4,5]\n",
    "print('Answer=',actual,'predicted=',predicted)\n",
    "print('AP@5 =',ml_metrics.apk(actual,predicted,5) )\n",
    "\n",
    "predicted = [3,2,1,4,5]\n",
    "print('Answer=',actual,'predicted=',predicted)\n",
    "print('AP@5 =',ml_metrics.apk(actual,predicted,5) )\n",
    "\n",
    "predicted = [4,2,3,1,5]\n",
    "print('Answer=',actual,'predicted=',predicted)\n",
    "print('AP@5 =',ml_metrics.apk(actual,predicted,5) )\n",
    "\n",
    "predicted = [4,2,3,5,1]\n",
    "print('Answer=',actual,'predicted=',predicted)\n",
    "print('AP@5 =',ml_metrics.apk(actual,predicted,5) )"
   ]
  },
  {
   "cell_type": "code",
   "execution_count": 7,
   "id": "favorite-andrews",
   "metadata": {},
   "outputs": [
    {
     "name": "stdout",
     "output_type": "stream",
     "text": [
      "Answer= [[1, 2, 3, 4, 5]] predicted= [[2, 1, 3, 4, 5]]\n",
      "mAP@5 = 1.0\n"
     ]
    }
   ],
   "source": [
    "actual =[[1,2,3,4,5]]\n",
    "\n",
    "predicted = [[2,1,3,4,5]]\n",
    "\n",
    "print('Answer=',actual,'predicted=',predicted)\n",
    "print('mAP@5 =',ml_metrics.mapk(actual,predicted,5) )"
   ]
  }
 ],
 "metadata": {
  "interpreter": {
   "hash": "65e97ffa20fbdd895c76c3a1d2c2ade704754874d6e45df701862667e65d73d7"
  },
  "kernelspec": {
   "display_name": "Python 3.9.6 ('Programacion_Cientifica')",
   "language": "python",
   "name": "python3"
  },
  "language_info": {
   "codemirror_mode": {
    "name": "ipython",
    "version": 3
   },
   "file_extension": ".py",
   "mimetype": "text/x-python",
   "name": "python",
   "nbconvert_exporter": "python",
   "pygments_lexer": "ipython3",
   "version": "3.9.6"
  }
 },
 "nbformat": 4,
 "nbformat_minor": 5
}
