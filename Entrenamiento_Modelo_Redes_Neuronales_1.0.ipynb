{
 "cells": [
  {
   "cell_type": "markdown",
   "metadata": {},
   "source": [
    "# Entrenamiento RN"
   ]
  },
  {
   "cell_type": "code",
   "execution_count": 2,
   "metadata": {},
   "outputs": [],
   "source": [
    "import pandas as pd\n",
    "import numpy as np\n",
    "\n",
    "import missingno as msno\n",
    "import matplotlib.pyplot as plt\n",
    "import plotly.express as px\n",
    "\n",
    "from sklearn.ensemble import RandomForestClassifier\n",
    "from sklearn.metrics import classification_report\n",
    "from sklearn.model_selection import train_test_split \n",
    "from sklearn.decomposition import PCA\n",
    "from sklearn.pipeline import Pipeline\n",
    "from sklearn.decomposition import TruncatedSVD\n",
    "\n",
    "from sklearn.compose import ColumnTransformer\n",
    "from sklearn.preprocessing import MinMaxScaler\n",
    "from sklearn.preprocessing import OneHotEncoder\n",
    "import datetime\n",
    "from dateutil.parser import parse\n",
    "from sklearn.tree import  DecisionTreeClassifier\n",
    "import plotly.graph_objects as go\n",
    "import umap\n",
    "from imblearn.under_sampling import RandomUnderSampler\n",
    "from imblearn.over_sampling import RandomOverSampler\n",
    "import xgboost as xgb\n",
    "from sklearn.naive_bayes import MultinomialNB\n",
    "from sklearn.model_selection import GridSearchCV\n",
    "import ml_metrics\n",
    "import pickle\n",
    "from sklearn.metrics import accuracy_score\n",
    "import joblib\n",
    "import json\n",
    "import sklearn.metrics as metrics\n",
    "from keras.models import Sequential\n",
    "from keras.layers import Dense\n",
    "from keras.optimizers import SGD, Adam\n",
    "from keras.callbacks import TensorBoard\n",
    "from keras.callbacks import EarlyStopping\n",
    "import warnings\n",
    "warnings.filterwarnings(\"ignore\")"
   ]
  },
  {
   "cell_type": "code",
   "execution_count": 3,
   "metadata": {},
   "outputs": [],
   "source": [
    "Data=pd.read_csv(\"cleaned_01June2022.csv\").drop(columns=[\"Unnamed: 0\"]).fillna(\"\")"
   ]
  },
  {
   "cell_type": "code",
   "execution_count": 4,
   "metadata": {},
   "outputs": [],
   "source": [
    "# datos númericos\n",
    "numerical=list(Data.select_dtypes(exclude=[\"category\",\"object\"]).columns)\n",
    "numerical.remove(\"Sexo\")\n",
    "numerical.remove('Recibe_sueldo_en_cuenta')\n",
    "\n",
    "\n",
    "# datos categorical\n",
    "categorical=list(Data.select_dtypes(include=[\"category\",\"object\"]).columns)+['Sexo','Recibe_sueldo_en_cuenta']\n",
    "categorical.remove(\"Target\")"
   ]
  },
  {
   "cell_type": "code",
   "execution_count": 5,
   "metadata": {},
   "outputs": [],
   "source": [
    "for i in categorical:\n",
    "    Data[i]=Data[i].astype(str)"
   ]
  },
  {
   "cell_type": "code",
   "execution_count": 6,
   "metadata": {},
   "outputs": [],
   "source": [
    "# Select 1 - Only Gini, corte visual\n",
    "select_variables_1=['E-F',\n",
    " 'C-C',\n",
    " 'D-F',\n",
    " 'A-K',\n",
    " 'num_comunicaciones',\n",
    " 'Length',\n",
    " 'pref_A-A',\n",
    " 'Positivo',\n",
    " 'Recency',\n",
    " 'A-G',\n",
    " 'Monto',\n",
    " 'Periodicity',\n",
    " 'Frequency',\n",
    " 'lec_B-B',\n",
    " 'G-K']"
   ]
  },
  {
   "cell_type": "code",
   "execution_count": 7,
   "metadata": {
    "id": "j5Vihe-TisDl"
   },
   "outputs": [],
   "source": [
    "numerical1=list(filter(lambda x:x  in numerical,select_variables_1))\n",
    "categorical1=list(filter(lambda x:x  in categorical,select_variables_1))"
   ]
  },
  {
   "cell_type": "code",
   "execution_count": 8,
   "metadata": {
    "id": "LVYPQTNVisDm"
   },
   "outputs": [],
   "source": [
    "# Preprocesamiento de datos\n",
    "preprocessing_transformer1 = ColumnTransformer(\n",
    "    transformers=[('OneHotEncoder', OneHotEncoder(handle_unknown=\"ignore\"),categorical1 ),\n",
    "        ('MinMax', MinMaxScaler(),numerical1),\n",
    "    ])"
   ]
  },
  {
   "cell_type": "code",
   "execution_count": 9,
   "metadata": {},
   "outputs": [],
   "source": [
    "pipe1 = Pipeline(\n",
    "    [(\"preprocesamiento\", preprocessing_transformer1)]\n",
    ")"
   ]
  },
  {
   "cell_type": "markdown",
   "metadata": {},
   "source": [
    "------------------------"
   ]
  },
  {
   "cell_type": "markdown",
   "metadata": {
    "id": "5wThX9EbisDg"
   },
   "source": [
    "# Train, Test Split"
   ]
  },
  {
   "cell_type": "code",
   "execution_count": 10,
   "metadata": {
    "colab": {
     "base_uri": "https://localhost:8080/",
     "height": 236
    },
    "id": "4TfmQ1MAisDh",
    "outputId": "4f4f0c4e-a0f7-47ac-fa52-d041c90840bb"
   },
   "outputs": [],
   "source": [
    "X=Data.drop(columns=[\"Target\"])[select_variables_1].copy()"
   ]
  },
  {
   "cell_type": "code",
   "execution_count": 11,
   "metadata": {
    "colab": {
     "base_uri": "https://localhost:8080/"
    },
    "id": "pIO3GvwOisDi",
    "outputId": "089194b9-206a-4d75-fa18-248694955a9b"
   },
   "outputs": [],
   "source": [
    "Y=Data[\"Target\"]"
   ]
  },
  {
   "cell_type": "code",
   "execution_count": 12,
   "metadata": {
    "colab": {
     "base_uri": "https://localhost:8080/"
    },
    "id": "pIO3GvwOisDi",
    "outputId": "089194b9-206a-4d75-fa18-248694955a9b"
   },
   "outputs": [],
   "source": [
    "enc = OneHotEncoder()\n",
    "Y = enc.fit_transform(Y[:, np.newaxis]).toarray()"
   ]
  },
  {
   "cell_type": "code",
   "execution_count": 13,
   "metadata": {},
   "outputs": [],
   "source": [
    "dic={}\n",
    "to_enc_inv=list(enc.categories_[0])\n",
    "for i in range(len(to_enc_inv)):\n",
    "    dic[i]=to_enc_inv[i]"
   ]
  },
  {
   "cell_type": "code",
   "execution_count": 14,
   "metadata": {},
   "outputs": [],
   "source": [
    "inv_map = {v: k for k, v in dic.items()}"
   ]
  },
  {
   "cell_type": "code",
   "execution_count": 15,
   "metadata": {},
   "outputs": [],
   "source": [
    "# Split the data set into training and testing\n",
    "X_train, X_test, Y_train, Y_test = train_test_split(\n",
    "    X, Y, test_size=0.5, random_state=2)"
   ]
  },
  {
   "cell_type": "code",
   "execution_count": 16,
   "metadata": {},
   "outputs": [],
   "source": [
    "# Submuestreo:\n",
    "rus=RandomUnderSampler(random_state=0) # Random_state=0\n",
    "# ROS:\n",
    "X_train, Y_train=rus.fit_resample(X_train,Y_train)"
   ]
  },
  {
   "cell_type": "code",
   "execution_count": 20,
   "metadata": {},
   "outputs": [],
   "source": [
    "# Sobremuestreo:\n",
    "#ros=RandomOverSampler(random_state=0) # Random_state=0\n",
    "## ROS:\n",
    "#X_train, Y_train=ros.fit_resample(X_train,Y_train)"
   ]
  },
  {
   "cell_type": "code",
   "execution_count": 17,
   "metadata": {},
   "outputs": [
    {
     "data": {
      "text/plain": [
       "(3774, 15)"
      ]
     },
     "execution_count": 17,
     "metadata": {},
     "output_type": "execute_result"
    }
   ],
   "source": [
    "X_train.shape"
   ]
  },
  {
   "cell_type": "code",
   "execution_count": 18,
   "metadata": {},
   "outputs": [],
   "source": [
    "# Preprocesamiento\n",
    "pipe1.fit(X_train)\n",
    "X_train1=pipe1.transform(X_train)\n",
    "X_test1=pipe1.transform(X_test)\n",
    "n_features1 =X_train1.shape[1]\n",
    "n_classes1 =Y_train.shape[1]"
   ]
  },
  {
   "cell_type": "markdown",
   "metadata": {},
   "source": [
    "#### Definición de arquitectura"
   ]
  },
  {
   "cell_type": "code",
   "execution_count": 19,
   "metadata": {},
   "outputs": [
    {
     "name": "stdout",
     "output_type": "stream",
     "text": [
      "Model: \"sequential\"\n",
      "_________________________________________________________________\n",
      " Layer (type)                Output Shape              Param #   \n",
      "=================================================================\n",
      " dense (Dense)               (None, 10)                160       \n",
      "                                                                 \n",
      " dense_1 (Dense)             (None, 10)                110       \n",
      "                                                                 \n",
      " dense_2 (Dense)             (None, 10)                110       \n",
      "                                                                 \n",
      " dense_3 (Dense)             (None, 10)                110       \n",
      "                                                                 \n",
      " dense_4 (Dense)             (None, 74)                814       \n",
      "                                                                 \n",
      "=================================================================\n",
      "Total params: 1,304\n",
      "Trainable params: 1,304\n",
      "Non-trainable params: 0\n",
      "_________________________________________________________________\n"
     ]
    }
   ],
   "source": [
    "model1 = Sequential()\n",
    "model1.add(Dense(10, input_dim=n_features1, activation='relu'))\n",
    "model1.add(Dense(10,activation='relu'))\n",
    "model1.add(Dense(10,activation='relu'))\n",
    "model1.add(Dense(10,activation='relu'))\n",
    "model1.add(Dense(n_classes1,activation='softmax'))\n",
    "model1.compile(loss='categorical_crossentropy', optimizer='adam', metrics=['accuracy']) \n",
    "\n",
    "#alfa=0.001\n",
    "#my_optimizer = SGD(lr = alfa)\n",
    "#model.compile(optimizer=my_optimizer,loss='categorical_crossentropy',metrics=['accuracy'])\n",
    "\n",
    "model1.summary()"
   ]
  },
  {
   "cell_type": "code",
   "execution_count": 20,
   "metadata": {},
   "outputs": [],
   "source": [
    "cb = TensorBoard(log_dir='./', histogram_freq=1)\n",
    "early_stopping_monitor = EarlyStopping(monitor='val_loss', patience=20)"
   ]
  },
  {
   "cell_type": "code",
   "execution_count": 21,
   "metadata": {},
   "outputs": [
    {
     "name": "stdout",
     "output_type": "stream",
     "text": [
      "Epoch 1/100\n",
      "378/378 [==============================] - 6s 14ms/step - loss: 4.3051 - accuracy: 0.0101 - val_loss: 4.3024 - val_accuracy: 0.0204\n",
      "Epoch 2/100\n",
      "378/378 [==============================] - 5s 13ms/step - loss: 4.1228 - accuracy: 0.0199 - val_loss: 3.9986 - val_accuracy: 0.0282\n",
      "Epoch 3/100\n",
      "378/378 [==============================] - 5s 13ms/step - loss: 3.8450 - accuracy: 0.0268 - val_loss: 3.8387 - val_accuracy: 0.0144\n",
      "Epoch 4/100\n",
      "378/378 [==============================] - 5s 12ms/step - loss: 3.7548 - accuracy: 0.0313 - val_loss: 3.7747 - val_accuracy: 0.0145\n",
      "Epoch 5/100\n",
      "378/378 [==============================] - 5s 13ms/step - loss: 3.7060 - accuracy: 0.0368 - val_loss: 3.7147 - val_accuracy: 0.0261\n",
      "Epoch 6/100\n",
      "378/378 [==============================] - 5s 12ms/step - loss: 3.6736 - accuracy: 0.0358 - val_loss: 3.6836 - val_accuracy: 0.0385\n",
      "Epoch 7/100\n",
      "378/378 [==============================] - 6s 15ms/step - loss: 3.6450 - accuracy: 0.0450 - val_loss: 3.6302 - val_accuracy: 0.0300\n",
      "Epoch 8/100\n",
      "378/378 [==============================] - 5s 14ms/step - loss: 3.6222 - accuracy: 0.0464 - val_loss: 3.6214 - val_accuracy: 0.0570\n",
      "Epoch 9/100\n",
      "378/378 [==============================] - 5s 13ms/step - loss: 3.5962 - accuracy: 0.0525 - val_loss: 3.5953 - val_accuracy: 0.0427\n",
      "Epoch 10/100\n",
      "378/378 [==============================] - 6s 15ms/step - loss: 3.5823 - accuracy: 0.0495 - val_loss: 3.5380 - val_accuracy: 0.0454\n",
      "Epoch 11/100\n",
      "378/378 [==============================] - 5s 15ms/step - loss: 3.5618 - accuracy: 0.0506 - val_loss: 3.5291 - val_accuracy: 0.0518\n",
      "Epoch 12/100\n",
      "378/378 [==============================] - 5s 13ms/step - loss: 3.5365 - accuracy: 0.0490 - val_loss: 3.4453 - val_accuracy: 0.0635\n",
      "Epoch 13/100\n",
      "378/378 [==============================] - 5s 13ms/step - loss: 3.5036 - accuracy: 0.0556 - val_loss: 3.5018 - val_accuracy: 0.1058\n",
      "Epoch 14/100\n",
      "378/378 [==============================] - 5s 13ms/step - loss: 3.4697 - accuracy: 0.0533 - val_loss: 3.3759 - val_accuracy: 0.0624\n",
      "Epoch 15/100\n",
      "378/378 [==============================] - 5s 13ms/step - loss: 3.4234 - accuracy: 0.0668 - val_loss: 3.2913 - val_accuracy: 0.1205\n",
      "Epoch 16/100\n",
      "378/378 [==============================] - 5s 12ms/step - loss: 3.3781 - accuracy: 0.0599 - val_loss: 3.2706 - val_accuracy: 0.1471\n",
      "Epoch 17/100\n",
      "378/378 [==============================] - 5s 12ms/step - loss: 3.3341 - accuracy: 0.0742 - val_loss: 3.2820 - val_accuracy: 0.0863\n",
      "Epoch 18/100\n",
      "378/378 [==============================] - 5s 14ms/step - loss: 3.2979 - accuracy: 0.0784 - val_loss: 3.1972 - val_accuracy: 0.1770\n",
      "Epoch 19/100\n",
      "378/378 [==============================] - 6s 15ms/step - loss: 3.2589 - accuracy: 0.0869 - val_loss: 3.1626 - val_accuracy: 0.1117\n",
      "Epoch 20/100\n",
      "378/378 [==============================] - 5s 14ms/step - loss: 3.2377 - accuracy: 0.0806 - val_loss: 3.1476 - val_accuracy: 0.1582\n",
      "Epoch 21/100\n",
      "378/378 [==============================] - 5s 12ms/step - loss: 3.2159 - accuracy: 0.0782 - val_loss: 3.0937 - val_accuracy: 0.1933\n",
      "Epoch 22/100\n",
      "378/378 [==============================] - 5s 13ms/step - loss: 3.1938 - accuracy: 0.0784 - val_loss: 3.1121 - val_accuracy: 0.1636\n",
      "Epoch 23/100\n",
      "378/378 [==============================] - 4s 12ms/step - loss: 3.1866 - accuracy: 0.0951 - val_loss: 3.1212 - val_accuracy: 0.1280\n",
      "Epoch 24/100\n",
      "378/378 [==============================] - 4s 12ms/step - loss: 3.1775 - accuracy: 0.0851 - val_loss: 3.1351 - val_accuracy: 0.1264\n",
      "Epoch 25/100\n",
      "378/378 [==============================] - 4s 12ms/step - loss: 3.1683 - accuracy: 0.0877 - val_loss: 3.1111 - val_accuracy: 0.1701\n",
      "Epoch 26/100\n",
      "378/378 [==============================] - 5s 12ms/step - loss: 3.1582 - accuracy: 0.0933 - val_loss: 3.0810 - val_accuracy: 0.1324\n",
      "Epoch 27/100\n",
      "378/378 [==============================] - 5s 12ms/step - loss: 3.1506 - accuracy: 0.0943 - val_loss: 3.0991 - val_accuracy: 0.1805\n",
      "Epoch 28/100\n",
      "378/378 [==============================] - 5s 12ms/step - loss: 3.1473 - accuracy: 0.0951 - val_loss: 3.0297 - val_accuracy: 0.1622\n",
      "Epoch 29/100\n",
      "378/378 [==============================] - 5s 13ms/step - loss: 3.1415 - accuracy: 0.0972 - val_loss: 3.0038 - val_accuracy: 0.2120\n",
      "Epoch 30/100\n",
      "378/378 [==============================] - 4s 12ms/step - loss: 3.1352 - accuracy: 0.0978 - val_loss: 3.1019 - val_accuracy: 0.1385\n",
      "Epoch 31/100\n",
      "378/378 [==============================] - 5s 12ms/step - loss: 3.1316 - accuracy: 0.0991 - val_loss: 3.0824 - val_accuracy: 0.1639\n",
      "Epoch 32/100\n",
      "378/378 [==============================] - 4s 11ms/step - loss: 3.1241 - accuracy: 0.0986 - val_loss: 3.0051 - val_accuracy: 0.1591\n",
      "Epoch 33/100\n",
      "378/378 [==============================] - 4s 11ms/step - loss: 3.1179 - accuracy: 0.1007 - val_loss: 2.9993 - val_accuracy: 0.1891\n",
      "Epoch 34/100\n",
      "378/378 [==============================] - 5s 13ms/step - loss: 3.1182 - accuracy: 0.0991 - val_loss: 3.0656 - val_accuracy: 0.1687\n",
      "Epoch 35/100\n",
      "378/378 [==============================] - 4s 11ms/step - loss: 3.1080 - accuracy: 0.1068 - val_loss: 3.0811 - val_accuracy: 0.1204\n",
      "Epoch 36/100\n",
      "378/378 [==============================] - 4s 12ms/step - loss: 3.1057 - accuracy: 0.0991 - val_loss: 3.0712 - val_accuracy: 0.1196\n",
      "Epoch 37/100\n",
      "378/378 [==============================] - 4s 12ms/step - loss: 3.0989 - accuracy: 0.1047 - val_loss: 3.0345 - val_accuracy: 0.1404\n",
      "Epoch 38/100\n",
      "378/378 [==============================] - 5s 13ms/step - loss: 3.0963 - accuracy: 0.1070 - val_loss: 3.0636 - val_accuracy: 0.1201\n",
      "Epoch 39/100\n",
      "378/378 [==============================] - 4s 11ms/step - loss: 3.0926 - accuracy: 0.1017 - val_loss: 3.0418 - val_accuracy: 0.1401\n",
      "Epoch 40/100\n",
      "378/378 [==============================] - 4s 11ms/step - loss: 3.0833 - accuracy: 0.1084 - val_loss: 2.9387 - val_accuracy: 0.1928\n",
      "Epoch 41/100\n",
      "378/378 [==============================] - 4s 11ms/step - loss: 3.0794 - accuracy: 0.1076 - val_loss: 2.9689 - val_accuracy: 0.1711\n",
      "Epoch 42/100\n",
      "378/378 [==============================] - 5s 13ms/step - loss: 3.0747 - accuracy: 0.1105 - val_loss: 2.9710 - val_accuracy: 0.1713\n",
      "Epoch 43/100\n",
      "378/378 [==============================] - 4s 12ms/step - loss: 3.0700 - accuracy: 0.1057 - val_loss: 2.9648 - val_accuracy: 0.1625\n",
      "Epoch 44/100\n",
      "378/378 [==============================] - 4s 12ms/step - loss: 3.0689 - accuracy: 0.1102 - val_loss: 2.9338 - val_accuracy: 0.1979\n",
      "Epoch 45/100\n",
      "378/378 [==============================] - 4s 11ms/step - loss: 3.0558 - accuracy: 0.1163 - val_loss: 2.9978 - val_accuracy: 0.1418\n",
      "Epoch 46/100\n",
      "378/378 [==============================] - 4s 12ms/step - loss: 3.0584 - accuracy: 0.1155 - val_loss: 3.0580 - val_accuracy: 0.1083\n",
      "Epoch 47/100\n",
      "378/378 [==============================] - 4s 11ms/step - loss: 3.0504 - accuracy: 0.1121 - val_loss: 3.0047 - val_accuracy: 0.1222\n",
      "Epoch 48/100\n",
      "378/378 [==============================] - 4s 11ms/step - loss: 3.0468 - accuracy: 0.1126 - val_loss: 2.9234 - val_accuracy: 0.1849\n",
      "Epoch 49/100\n",
      "378/378 [==============================] - 5s 12ms/step - loss: 3.0417 - accuracy: 0.1174 - val_loss: 3.0082 - val_accuracy: 0.1367\n",
      "Epoch 50/100\n",
      "378/378 [==============================] - 5s 13ms/step - loss: 3.0346 - accuracy: 0.1158 - val_loss: 3.0234 - val_accuracy: 0.1096\n",
      "Epoch 51/100\n",
      "378/378 [==============================] - 5s 13ms/step - loss: 3.0321 - accuracy: 0.1161 - val_loss: 2.8543 - val_accuracy: 0.2063\n",
      "Epoch 52/100\n",
      "378/378 [==============================] - 6s 16ms/step - loss: 3.0254 - accuracy: 0.1171 - val_loss: 2.9701 - val_accuracy: 0.1340\n",
      "Epoch 53/100\n",
      "378/378 [==============================] - 4s 11ms/step - loss: 3.0192 - accuracy: 0.1208 - val_loss: 2.9612 - val_accuracy: 0.1548\n",
      "Epoch 54/100\n",
      "378/378 [==============================] - 6s 16ms/step - loss: 3.0132 - accuracy: 0.1272 - val_loss: 2.9021 - val_accuracy: 0.2112\n",
      "Epoch 55/100\n",
      "378/378 [==============================] - 6s 16ms/step - loss: 3.0072 - accuracy: 0.1253 - val_loss: 2.8451 - val_accuracy: 0.1676\n",
      "Epoch 56/100\n",
      "378/378 [==============================] - 6s 16ms/step - loss: 2.9998 - accuracy: 0.1243 - val_loss: 2.9458 - val_accuracy: 0.1550\n",
      "Epoch 57/100\n",
      "378/378 [==============================] - 6s 15ms/step - loss: 2.9927 - accuracy: 0.1264 - val_loss: 2.8845 - val_accuracy: 0.1657\n",
      "Epoch 58/100\n",
      "378/378 [==============================] - 5s 14ms/step - loss: 2.9878 - accuracy: 0.1290 - val_loss: 2.7732 - val_accuracy: 0.2222\n",
      "Epoch 59/100\n",
      "378/378 [==============================] - 6s 15ms/step - loss: 2.9805 - accuracy: 0.1240 - val_loss: 2.7837 - val_accuracy: 0.2063\n",
      "Epoch 60/100\n",
      "378/378 [==============================] - 6s 16ms/step - loss: 2.9712 - accuracy: 0.1325 - val_loss: 2.8789 - val_accuracy: 0.1572\n",
      "Epoch 61/100\n",
      "378/378 [==============================] - 6s 15ms/step - loss: 2.9697 - accuracy: 0.1328 - val_loss: 2.8234 - val_accuracy: 0.1819\n",
      "Epoch 62/100\n",
      "378/378 [==============================] - 6s 15ms/step - loss: 2.9635 - accuracy: 0.1275 - val_loss: 2.8761 - val_accuracy: 0.1966\n",
      "Epoch 63/100\n",
      "378/378 [==============================] - 5s 14ms/step - loss: 2.9598 - accuracy: 0.1280 - val_loss: 2.8064 - val_accuracy: 0.1849\n",
      "Epoch 64/100\n",
      "378/378 [==============================] - 5s 14ms/step - loss: 2.9522 - accuracy: 0.1317 - val_loss: 2.8752 - val_accuracy: 0.2355\n",
      "Epoch 65/100\n",
      "378/378 [==============================] - 5s 13ms/step - loss: 2.9487 - accuracy: 0.1325 - val_loss: 2.7879 - val_accuracy: 0.1872\n",
      "Epoch 66/100\n",
      "378/378 [==============================] - 5s 14ms/step - loss: 2.9382 - accuracy: 0.1343 - val_loss: 2.7995 - val_accuracy: 0.1853\n",
      "Epoch 67/100\n",
      "378/378 [==============================] - 5s 14ms/step - loss: 2.9338 - accuracy: 0.1410 - val_loss: 2.7971 - val_accuracy: 0.1943\n",
      "Epoch 68/100\n",
      "378/378 [==============================] - 5s 13ms/step - loss: 2.9284 - accuracy: 0.1436 - val_loss: 2.7796 - val_accuracy: 0.1880\n",
      "Epoch 69/100\n",
      "378/378 [==============================] - 6s 15ms/step - loss: 2.9243 - accuracy: 0.1304 - val_loss: 2.8454 - val_accuracy: 0.1823\n",
      "Epoch 70/100\n",
      "378/378 [==============================] - 5s 13ms/step - loss: 2.9159 - accuracy: 0.1380 - val_loss: 2.7296 - val_accuracy: 0.2277\n",
      "Epoch 71/100\n",
      "378/378 [==============================] - 5s 13ms/step - loss: 2.9081 - accuracy: 0.1357 - val_loss: 2.7937 - val_accuracy: 0.2372\n",
      "Epoch 72/100\n",
      "378/378 [==============================] - 5s 13ms/step - loss: 2.9031 - accuracy: 0.1449 - val_loss: 2.7432 - val_accuracy: 0.2166\n",
      "Epoch 73/100\n",
      "378/378 [==============================] - 5s 13ms/step - loss: 2.9000 - accuracy: 0.1396 - val_loss: 2.8725 - val_accuracy: 0.1772\n",
      "Epoch 74/100\n",
      "378/378 [==============================] - 4s 12ms/step - loss: 2.8940 - accuracy: 0.1370 - val_loss: 2.7505 - val_accuracy: 0.2348\n",
      "Epoch 75/100\n",
      "378/378 [==============================] - 4s 12ms/step - loss: 2.8894 - accuracy: 0.1388 - val_loss: 2.8445 - val_accuracy: 0.1891\n",
      "Epoch 76/100\n",
      "378/378 [==============================] - 4s 11ms/step - loss: 2.8781 - accuracy: 0.1402 - val_loss: 2.8240 - val_accuracy: 0.2146\n",
      "Epoch 77/100\n",
      "378/378 [==============================] - 4s 12ms/step - loss: 2.8706 - accuracy: 0.1465 - val_loss: 2.7652 - val_accuracy: 0.2421\n",
      "Epoch 78/100\n",
      "378/378 [==============================] - 4s 12ms/step - loss: 2.8651 - accuracy: 0.1500 - val_loss: 2.8508 - val_accuracy: 0.1839\n",
      "Epoch 79/100\n",
      "378/378 [==============================] - 4s 12ms/step - loss: 2.8681 - accuracy: 0.1420 - val_loss: 2.7568 - val_accuracy: 0.2152\n",
      "Epoch 80/100\n",
      "378/378 [==============================] - 5s 13ms/step - loss: 2.8553 - accuracy: 0.1479 - val_loss: 2.7418 - val_accuracy: 0.2063\n",
      "Epoch 81/100\n",
      "378/378 [==============================] - 5s 12ms/step - loss: 2.8533 - accuracy: 0.1484 - val_loss: 2.7442 - val_accuracy: 0.2103\n",
      "Epoch 82/100\n",
      "378/378 [==============================] - 5s 12ms/step - loss: 2.8453 - accuracy: 0.1489 - val_loss: 2.7895 - val_accuracy: 0.1884\n",
      "Epoch 83/100\n",
      "378/378 [==============================] - 4s 12ms/step - loss: 2.8392 - accuracy: 0.1484 - val_loss: 2.7497 - val_accuracy: 0.2104\n",
      "Epoch 84/100\n",
      "378/378 [==============================] - 5s 13ms/step - loss: 2.8361 - accuracy: 0.1492 - val_loss: 2.6899 - val_accuracy: 0.2630\n",
      "Epoch 85/100\n",
      "378/378 [==============================] - 5s 12ms/step - loss: 2.8322 - accuracy: 0.1431 - val_loss: 2.8352 - val_accuracy: 0.2550\n",
      "Epoch 86/100\n",
      "378/378 [==============================] - 4s 12ms/step - loss: 2.8276 - accuracy: 0.1489 - val_loss: 2.7222 - val_accuracy: 0.2199\n",
      "Epoch 87/100\n",
      "378/378 [==============================] - 5s 12ms/step - loss: 2.8237 - accuracy: 0.1471 - val_loss: 2.7788 - val_accuracy: 0.1771\n",
      "Epoch 88/100\n",
      "378/378 [==============================] - 5s 12ms/step - loss: 2.8173 - accuracy: 0.1582 - val_loss: 2.7430 - val_accuracy: 0.2352\n",
      "Epoch 89/100\n",
      "378/378 [==============================] - 5s 12ms/step - loss: 2.8134 - accuracy: 0.1492 - val_loss: 2.6603 - val_accuracy: 0.2347\n",
      "Epoch 90/100\n",
      "378/378 [==============================] - 4s 11ms/step - loss: 2.8120 - accuracy: 0.1563 - val_loss: 2.7425 - val_accuracy: 0.1974\n",
      "Epoch 91/100\n",
      "378/378 [==============================] - 5s 12ms/step - loss: 2.8019 - accuracy: 0.1566 - val_loss: 2.8513 - val_accuracy: 0.1503\n",
      "Epoch 92/100\n",
      "378/378 [==============================] - 4s 12ms/step - loss: 2.8123 - accuracy: 0.1460 - val_loss: 2.7007 - val_accuracy: 0.2143\n",
      "Epoch 93/100\n",
      "378/378 [==============================] - 4s 12ms/step - loss: 2.7971 - accuracy: 0.1545 - val_loss: 2.6648 - val_accuracy: 0.2140\n",
      "Epoch 94/100\n",
      "378/378 [==============================] - 5s 14ms/step - loss: 2.8013 - accuracy: 0.1455 - val_loss: 2.7396 - val_accuracy: 0.1920\n",
      "Epoch 95/100\n",
      "378/378 [==============================] - 5s 13ms/step - loss: 2.7912 - accuracy: 0.1518 - val_loss: 2.7056 - val_accuracy: 0.2286\n",
      "Epoch 96/100\n",
      "378/378 [==============================] - 4s 12ms/step - loss: 2.7879 - accuracy: 0.1497 - val_loss: 2.6766 - val_accuracy: 0.2236\n",
      "Epoch 97/100\n",
      "378/378 [==============================] - 5s 12ms/step - loss: 2.7833 - accuracy: 0.1500 - val_loss: 2.6771 - val_accuracy: 0.2138\n",
      "Epoch 98/100\n",
      "378/378 [==============================] - 5s 12ms/step - loss: 2.7849 - accuracy: 0.1539 - val_loss: 2.6650 - val_accuracy: 0.2266\n",
      "Epoch 99/100\n",
      "378/378 [==============================] - 5s 12ms/step - loss: 2.7825 - accuracy: 0.1513 - val_loss: 2.6484 - val_accuracy: 0.2127\n",
      "Epoch 100/100\n",
      "378/378 [==============================] - 5s 12ms/step - loss: 2.7767 - accuracy: 0.1622 - val_loss: 2.7224 - val_accuracy: 0.2144\n"
     ]
    }
   ],
   "source": [
    "history_callback=model1.fit(X_train1, Y_train, epochs=100, batch_size=10,verbose=1,\n",
    "validation_data=(X_test1, Y_test),\n",
    "#callbacks=[early_stopping_monitor],\n",
    "#validation_split = 0.1\n",
    "callbacks=[cb]\n",
    ")"
   ]
  },
  {
   "cell_type": "code",
   "execution_count": 22,
   "metadata": {},
   "outputs": [
    {
     "name": "stdout",
     "output_type": "stream",
     "text": [
      "1155/1155 [==============================] - 2s 1ms/step - loss: 2.7224 - accuracy: 0.2144\n",
      "Test loss: 2.7224197387695312\n",
      "Test accuracy: 0.2143920361995697\n",
      "[2.7224197387695312, 0.2143920361995697]\n"
     ]
    }
   ],
   "source": [
    "scores = model1.evaluate(X_test1, Y_test, verbose=1)\n",
    "print('Test loss:', scores[0])\n",
    "print('Test accuracy:', scores[1])\n",
    "print(scores)"
   ]
  },
  {
   "cell_type": "code",
   "execution_count": 23,
   "metadata": {},
   "outputs": [
    {
     "name": "stdout",
     "output_type": "stream",
     "text": [
      "1155/1155 [==============================] - 2s 1ms/step\n"
     ]
    }
   ],
   "source": [
    "  ### Genero la predicción con el modelo\n",
    "y_pred = model1.predict(X_test1)"
   ]
  },
  {
   "cell_type": "code",
   "execution_count": 24,
   "metadata": {},
   "outputs": [],
   "source": [
    "y_pred_1col = np.argmax(y_pred, axis=1, out=None) "
   ]
  },
  {
   "cell_type": "code",
   "execution_count": 25,
   "metadata": {},
   "outputs": [],
   "source": [
    "y_pred_1col = pd.DataFrame(y_pred_1col, columns= ['target'])"
   ]
  },
  {
   "cell_type": "code",
   "execution_count": 26,
   "metadata": {},
   "outputs": [],
   "source": [
    "y_test_1col = pd.DataFrame(enc.inverse_transform(Y_test), columns= ['target']).replace(inv_map)"
   ]
  },
  {
   "cell_type": "code",
   "execution_count": 27,
   "metadata": {},
   "outputs": [
    {
     "data": {
      "text/plain": [
       "0.683069019331908"
      ]
     },
     "execution_count": 27,
     "metadata": {},
     "output_type": "execute_result"
    }
   ],
   "source": [
    "Ypred_map=y_pred_1col[\"target\"].replace(dic).apply( lambda x: x.split(\" \"))\n",
    "Ytest_map=y_test_1col[\"target\"].replace(dic).apply( lambda x: x.split(\" \"))\n",
    "ml_metrics.mapk(Ytest_map, Ypred_map, 5)"
   ]
  },
  {
   "cell_type": "code",
   "execution_count": 28,
   "metadata": {},
   "outputs": [
    {
     "data": {
      "image/png": "[encoded data removed]",
      "text/plain": [
       "<Figure size 1080x1080 with 2 Axes>"
      ]
     },
     "metadata": {
      "needs_background": "light"
     },
     "output_type": "display_data"
    }
   ],
   "source": [
    "history_dict=history_callback.history\n",
    "fig, (ax1, ax2) = plt.subplots(2, figsize=(15, 15))\n",
    "\n",
    "accuracy = history_dict['accuracy']\n",
    "val_accuracy = history_dict['val_accuracy']\n",
    "\n",
    "loss = history_dict['loss']\n",
    "val_loss = history_dict['val_loss']\n",
    "ax1.plot(val_accuracy, label=\"val acc \")\n",
    "ax1.plot(accuracy, label=\"acc \")\n",
    "\n",
    "ax2.plot(loss, label= \"loss \")\n",
    "ax2.plot(val_loss, label= \"Val loss \")\n",
    "    \n",
    "ax1.set_ylabel('validation accuracy')\n",
    "ax2.set_ylabel('validation loss')\n",
    "ax2.set_xlabel('epochs')\n",
    "ax1.legend()\n",
    "ax2.legend();"
   ]
  },
  {
   "cell_type": "markdown",
   "metadata": {},
   "source": [
    "--------------------"
   ]
  },
  {
   "cell_type": "code",
   "execution_count": null,
   "metadata": {},
   "outputs": [],
   "source": [
    "### Para guardar los modelos se hace de la siguiente forma\n",
    "from tensorflow import keras\n",
    "\n",
    "# Guardar el Modelo\n",
    "model1.save('my_model1.h5')\n",
    "\n",
    "# Recrea exactamente el mismo modelo solo desde el archivo\n",
    "new_model = keras.models.load_model('my_model1.h5')\n",
    "\n",
    "new_model.summary()"
   ]
  },
  {
   "cell_type": "markdown",
   "metadata": {},
   "source": [
    "----------------------"
   ]
  }
 ],
 "metadata": {
  "interpreter": {
   "hash": "65e97ffa20fbdd895c76c3a1d2c2ade704754874d6e45df701862667e65d73d7"
  },
  "kernelspec": {
   "display_name": "Python 3.9.6 ('Programacion_Cientifica')",
   "language": "python",
   "name": "python3"
  },
  "language_info": {
   "codemirror_mode": {
    "name": "ipython",
    "version": 3
   },
   "file_extension": ".py",
   "mimetype": "text/x-python",
   "name": "python",
   "nbconvert_exporter": "python",
   "pygments_lexer": "ipython3",
   "version": "3.9.6"
  },
  "orig_nbformat": 4
 },
 "nbformat": 4,
 "nbformat_minor": 2
}
