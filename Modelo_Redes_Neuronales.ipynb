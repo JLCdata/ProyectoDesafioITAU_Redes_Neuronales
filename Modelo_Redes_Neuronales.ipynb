{
 "cells": [
  {
   "cell_type": "code",
   "execution_count": 326,
   "metadata": {},
   "outputs": [],
   "source": [
    "import pandas as pd\n",
    "import numpy as np\n",
    "\n",
    "import missingno as msno\n",
    "import matplotlib.pyplot as plt\n",
    "import plotly.express as px\n",
    "\n",
    "from sklearn.ensemble import RandomForestClassifier\n",
    "from sklearn.metrics import classification_report\n",
    "from sklearn.model_selection import train_test_split \n",
    "from sklearn.decomposition import PCA\n",
    "from sklearn.pipeline import Pipeline\n",
    "from sklearn.decomposition import TruncatedSVD\n",
    "\n",
    "from sklearn.compose import ColumnTransformer\n",
    "from sklearn.preprocessing import MinMaxScaler\n",
    "from sklearn.preprocessing import OneHotEncoder\n",
    "import datetime\n",
    "from dateutil.parser import parse\n",
    "from sklearn.tree import  DecisionTreeClassifier\n",
    "import plotly.graph_objects as go\n",
    "import umap\n",
    "from imblearn.under_sampling import RandomUnderSampler\n",
    "from imblearn.over_sampling import RandomOverSampler\n",
    "import xgboost as xgb\n",
    "from sklearn.naive_bayes import MultinomialNB\n",
    "from sklearn.model_selection import GridSearchCV\n",
    "import ml_metrics\n",
    "import pickle\n",
    "from sklearn.metrics import accuracy_score\n",
    "import joblib\n",
    "import json\n",
    "import sklearn.metrics as metrics\n",
    "from keras.models import Sequential\n",
    "from keras.layers import Dense\n",
    "from keras.optimizers import SGD, Adam\n",
    "from keras.callbacks import TensorBoard\n",
    "from keras.callbacks import EarlyStopping\n",
    "import warnings\n",
    "warnings.filterwarnings(\"ignore\")"
   ]
  },
  {
   "cell_type": "code",
   "execution_count": 325,
   "metadata": {},
   "outputs": [],
   "source": [
    "Data=pd.read_csv(\"cleaned_01June2022.csv\").drop(columns=[\"Unnamed: 0\"]).fillna(\"\")"
   ]
  },
  {
   "cell_type": "code",
   "execution_count": 316,
   "metadata": {},
   "outputs": [],
   "source": [
    "# datos númericos\n",
    "numerical=list(Data.select_dtypes(exclude=[\"category\",\"object\"]).columns)\n",
    "numerical.remove(\"Sexo\")\n",
    "numerical.remove('Recibe_sueldo_en_cuenta')\n",
    "\n",
    "\n",
    "# datos categorical\n",
    "categorical=list(Data.select_dtypes(include=[\"category\",\"object\"]).columns)+['Sexo','Recibe_sueldo_en_cuenta']\n",
    "categorical.remove(\"Target\")"
   ]
  },
  {
   "cell_type": "code",
   "execution_count": 327,
   "metadata": {},
   "outputs": [],
   "source": [
    "for i in categorical:\n",
    "    Data[i]=Data[i].astype(str)"
   ]
  },
  {
   "cell_type": "code",
   "execution_count": 328,
   "metadata": {},
   "outputs": [],
   "source": [
    "# Select 1 - Only Gini, corte visual\n",
    "select_variables_1=['E-F',\n",
    " 'C-C',\n",
    " 'D-F',\n",
    " 'A-K',\n",
    " 'num_comunicaciones',\n",
    " 'Length',\n",
    " 'pref_A-A',\n",
    " 'Positivo',\n",
    " 'Recency',\n",
    " 'A-G',\n",
    " 'Monto',\n",
    " 'Periodicity',\n",
    " 'Frequency',\n",
    " 'lec_B-B',\n",
    " 'G-K']"
   ]
  },
  {
   "cell_type": "code",
   "execution_count": 329,
   "metadata": {},
   "outputs": [],
   "source": [
    "# Select 2 - Criterio Corr Kill\n",
    "select_variables_2=['E-F',\n",
    " 'C-C',\n",
    " 'D-F',\n",
    " 'A-K',\n",
    " 'pref_A-A',\n",
    " 'num_comunicaciones',\n",
    " 'Length',\n",
    " 'Sin Info',\n",
    " 'F-I',\n",
    " 'Monto',\n",
    " 'B',\n",
    " 'lec_B-B',\n",
    " 'Comuna',\n",
    " 'Edad',\n",
    " 'Ciudad',\n",
    " 'Profesion',\n",
    " 'Renta',\n",
    " 'F-H',\n",
    " 'lec_A-A',\n",
    " 'Principalidad',\n",
    " 'A-L',\n",
    " 'lec_C-D',\n",
    " 'Estado_civil']"
   ]
  },
  {
   "cell_type": "code",
   "execution_count": 323,
   "metadata": {
    "id": "j5Vihe-TisDl"
   },
   "outputs": [],
   "source": [
    "numerical1=list(filter(lambda x:x  in numerical,select_variables_1))\n",
    "categorical1=list(filter(lambda x:x  in categorical,select_variables_1))"
   ]
  },
  {
   "cell_type": "code",
   "execution_count": 324,
   "metadata": {
    "id": "sxMwtpBOisDl"
   },
   "outputs": [],
   "source": [
    "numerical2=list(filter(lambda x:x  in numerical,select_variables_2))\n",
    "categorical2=list(filter(lambda x:x  in categorical,select_variables_2))"
   ]
  },
  {
   "cell_type": "code",
   "execution_count": 270,
   "metadata": {
    "id": "LVYPQTNVisDm"
   },
   "outputs": [],
   "source": [
    "# Preprocesamiento de datos\n",
    "preprocessing_transformer1 = ColumnTransformer(\n",
    "    transformers=[('OneHotEncoder', OneHotEncoder(handle_unknown=\"ignore\"),categorical1 ),\n",
    "        ('MinMax', MinMaxScaler(),numerical1),\n",
    "    ])"
   ]
  },
  {
   "cell_type": "code",
   "execution_count": 271,
   "metadata": {
    "id": "M_Nj9LTYisDm"
   },
   "outputs": [],
   "source": [
    "# Preprocesamiento de datos\n",
    "preprocessing_transformer2 = ColumnTransformer(\n",
    "    transformers=[('OneHotEncoder', OneHotEncoder(handle_unknown=\"ignore\"),categorical2 ),\n",
    "        ('MinMax', MinMaxScaler(),numerical2),\n",
    "    ])"
   ]
  },
  {
   "cell_type": "markdown",
   "metadata": {},
   "source": [
    "------------------------"
   ]
  },
  {
   "cell_type": "markdown",
   "metadata": {
    "id": "5wThX9EbisDg"
   },
   "source": [
    "# Train, Test Split"
   ]
  },
  {
   "cell_type": "code",
   "execution_count": 330,
   "metadata": {
    "colab": {
     "base_uri": "https://localhost:8080/",
     "height": 236
    },
    "id": "4TfmQ1MAisDh",
    "outputId": "4f4f0c4e-a0f7-47ac-fa52-d041c90840bb"
   },
   "outputs": [],
   "source": [
    "X=Data.drop(columns=[\"Target\"])[select_variables_1].copy()"
   ]
  },
  {
   "cell_type": "code",
   "execution_count": 331,
   "metadata": {
    "colab": {
     "base_uri": "https://localhost:8080/"
    },
    "id": "pIO3GvwOisDi",
    "outputId": "089194b9-206a-4d75-fa18-248694955a9b"
   },
   "outputs": [],
   "source": [
    "Y=Data[\"Target\"]"
   ]
  },
  {
   "cell_type": "code",
   "execution_count": 332,
   "metadata": {
    "colab": {
     "base_uri": "https://localhost:8080/"
    },
    "id": "pIO3GvwOisDi",
    "outputId": "089194b9-206a-4d75-fa18-248694955a9b"
   },
   "outputs": [],
   "source": [
    "enc = OneHotEncoder()\n",
    "Y = enc.fit_transform(Y[:, np.newaxis]).toarray()"
   ]
  },
  {
   "cell_type": "code",
   "execution_count": 333,
   "metadata": {},
   "outputs": [],
   "source": [
    "dic={}\n",
    "to_enc_inv=list(enc.categories_[0])\n",
    "for i in range(len(to_enc_inv)):\n",
    "    dic[i]=to_enc_inv[i]"
   ]
  },
  {
   "cell_type": "code",
   "execution_count": 334,
   "metadata": {},
   "outputs": [],
   "source": [
    "inv_map = {v: k for k, v in dic.items()}"
   ]
  },
  {
   "cell_type": "code",
   "execution_count": 336,
   "metadata": {},
   "outputs": [],
   "source": [
    "n_features =X.shape[1]\n",
    "n_classes =Y.shape[1]"
   ]
  },
  {
   "cell_type": "code",
   "execution_count": 337,
   "metadata": {},
   "outputs": [],
   "source": [
    "# Split the data set into training and testing\n",
    "X_train, X_test, Y_train, Y_test = train_test_split(\n",
    "    X, Y, test_size=0.5, random_state=2)\n",
    "minmax=MinMaxScaler()\n",
    "minmax.fit(X_train)\n",
    "X_train=minmax.transform(X_train)\n",
    "X_test=minmax.transform(X_test)"
   ]
  },
  {
   "cell_type": "code",
   "execution_count": 277,
   "metadata": {},
   "outputs": [],
   "source": [
    "# Sobremuestreo:\n",
    "#ros=RandomOverSampler(random_state=0) # Random_state=0\n",
    "# ROS:\n",
    "#X_train, Y_train=ros.fit_resample(X_train,Y_train)"
   ]
  },
  {
   "cell_type": "code",
   "execution_count": 338,
   "metadata": {},
   "outputs": [],
   "source": [
    "# Submuestreo:\n",
    "rus=RandomUnderSampler(random_state=0) # Random_state=0\n",
    "# ROS:\n",
    "X_train, Y_train=rus.fit_resample(X_train,Y_train)"
   ]
  },
  {
   "cell_type": "code",
   "execution_count": 339,
   "metadata": {},
   "outputs": [
    {
     "name": "stdout",
     "output_type": "stream",
     "text": [
      "Model: \"sequential_33\"\n",
      "_________________________________________________________________\n",
      " Layer (type)                Output Shape              Param #   \n",
      "=================================================================\n",
      " dense_120 (Dense)           (None, 4)                 64        \n",
      "                                                                 \n",
      " dense_121 (Dense)           (None, 4)                 20        \n",
      "                                                                 \n",
      " dense_122 (Dense)           (None, 4)                 20        \n",
      "                                                                 \n",
      " dense_123 (Dense)           (None, 74)                370       \n",
      "                                                                 \n",
      "=================================================================\n",
      "Total params: 474\n",
      "Trainable params: 474\n",
      "Non-trainable params: 0\n",
      "_________________________________________________________________\n"
     ]
    }
   ],
   "source": [
    "model = Sequential()\n",
    "model.add(Dense(4, input_dim=n_features, activation='relu'))\n",
    "model.add(Dense(4,activation='relu'))\n",
    "model.add(Dense(4,activation='relu'))\n",
    "\n",
    "model.add(Dense(n_classes,activation='softmax'))\n",
    "\n",
    "model.compile(loss='categorical_crossentropy', optimizer='adam', metrics=['accuracy']) \n",
    "\n",
    "#alfa=0.05\n",
    "#my_optimizer = SGD(lr = alfa)\n",
    "#model.compile(optimizer=my_optimizer,loss='categorical_crossentropy',metrics=['accuracy'])\n",
    "\n",
    "model.summary()"
   ]
  },
  {
   "cell_type": "code",
   "execution_count": 340,
   "metadata": {},
   "outputs": [],
   "source": [
    "cb = TensorBoard(log_dir='./', histogram_freq=1)\n",
    "early_stopping_monitor = EarlyStopping(monitor='val_loss', patience=20)"
   ]
  },
  {
   "cell_type": "code",
   "execution_count": 341,
   "metadata": {},
   "outputs": [
    {
     "name": "stdout",
     "output_type": "stream",
     "text": [
      "Epoch 1/300\n",
      "378/378 [==============================] - 5s 12ms/step - loss: 4.3000 - accuracy: 0.0119 - val_loss: 4.2597 - val_accuracy: 0.0119\n",
      "Epoch 2/300\n",
      "378/378 [==============================] - 4s 11ms/step - loss: 4.2259 - accuracy: 0.0159 - val_loss: 4.1074 - val_accuracy: 0.0123\n",
      "Epoch 3/300\n",
      "378/378 [==============================] - 4s 10ms/step - loss: 4.1377 - accuracy: 0.0196 - val_loss: 3.9931 - val_accuracy: 0.0266\n",
      "Epoch 4/300\n",
      "378/378 [==============================] - 4s 10ms/step - loss: 3.8846 - accuracy: 0.0244 - val_loss: 3.8493 - val_accuracy: 0.0072\n",
      "Epoch 5/300\n",
      "378/378 [==============================] - 4s 10ms/step - loss: 3.7927 - accuracy: 0.0249 - val_loss: 3.7850 - val_accuracy: 0.0147\n",
      "Epoch 6/300\n",
      "378/378 [==============================] - 4s 10ms/step - loss: 3.7538 - accuracy: 0.0321 - val_loss: 3.7614 - val_accuracy: 0.0128\n",
      "Epoch 7/300\n",
      "378/378 [==============================] - 4s 10ms/step - loss: 3.7292 - accuracy: 0.0265 - val_loss: 3.7346 - val_accuracy: 0.0154\n",
      "Epoch 8/300\n",
      "378/378 [==============================] - 5s 12ms/step - loss: 3.7112 - accuracy: 0.0347 - val_loss: 3.7249 - val_accuracy: 0.0181\n",
      "Epoch 9/300\n",
      "378/378 [==============================] - 5s 13ms/step - loss: 3.6981 - accuracy: 0.0360 - val_loss: 3.7048 - val_accuracy: 0.0181\n",
      "Epoch 10/300\n",
      "378/378 [==============================] - 5s 13ms/step - loss: 3.6860 - accuracy: 0.0350 - val_loss: 3.6946 - val_accuracy: 0.0228\n",
      "Epoch 11/300\n",
      "378/378 [==============================] - 5s 12ms/step - loss: 3.6741 - accuracy: 0.0315 - val_loss: 3.6808 - val_accuracy: 0.0152\n",
      "Epoch 12/300\n",
      "378/378 [==============================] - 4s 12ms/step - loss: 3.6655 - accuracy: 0.0366 - val_loss: 3.6790 - val_accuracy: 0.0187\n",
      "Epoch 13/300\n",
      "378/378 [==============================] - 5s 13ms/step - loss: 3.6566 - accuracy: 0.0387 - val_loss: 3.6677 - val_accuracy: 0.0173\n",
      "Epoch 14/300\n",
      "378/378 [==============================] - 4s 12ms/step - loss: 3.6491 - accuracy: 0.0382 - val_loss: 3.6662 - val_accuracy: 0.0166\n",
      "Epoch 15/300\n",
      "378/378 [==============================] - 5s 14ms/step - loss: 3.6405 - accuracy: 0.0382 - val_loss: 3.6494 - val_accuracy: 0.0168\n",
      "Epoch 16/300\n",
      "378/378 [==============================] - 5s 13ms/step - loss: 3.6345 - accuracy: 0.0390 - val_loss: 3.6393 - val_accuracy: 0.0266\n",
      "Epoch 17/300\n",
      "378/378 [==============================] - 5s 12ms/step - loss: 3.6280 - accuracy: 0.0411 - val_loss: 3.6255 - val_accuracy: 0.0460\n",
      "Epoch 18/300\n",
      "378/378 [==============================] - 4s 11ms/step - loss: 3.6230 - accuracy: 0.0368 - val_loss: 3.6166 - val_accuracy: 0.0242\n",
      "Epoch 19/300\n",
      "378/378 [==============================] - 4s 11ms/step - loss: 3.6170 - accuracy: 0.0400 - val_loss: 3.6103 - val_accuracy: 0.0199\n",
      "Epoch 20/300\n",
      "378/378 [==============================] - 4s 11ms/step - loss: 3.6107 - accuracy: 0.0371 - val_loss: 3.6091 - val_accuracy: 0.0324\n",
      "Epoch 21/300\n",
      "378/378 [==============================] - 4s 10ms/step - loss: 3.6055 - accuracy: 0.0376 - val_loss: 3.6289 - val_accuracy: 0.0290\n",
      "Epoch 22/300\n",
      "378/378 [==============================] - 4s 10ms/step - loss: 3.5993 - accuracy: 0.0390 - val_loss: 3.5868 - val_accuracy: 0.0373\n",
      "Epoch 23/300\n",
      "378/378 [==============================] - 4s 10ms/step - loss: 3.5955 - accuracy: 0.0429 - val_loss: 3.5915 - val_accuracy: 0.0205\n",
      "Epoch 24/300\n",
      "378/378 [==============================] - 4s 10ms/step - loss: 3.5886 - accuracy: 0.0440 - val_loss: 3.5593 - val_accuracy: 0.0299\n",
      "Epoch 25/300\n",
      "378/378 [==============================] - 4s 10ms/step - loss: 3.5852 - accuracy: 0.0416 - val_loss: 3.5489 - val_accuracy: 0.0328\n",
      "Epoch 26/300\n",
      "378/378 [==============================] - 4s 10ms/step - loss: 3.5819 - accuracy: 0.0424 - val_loss: 3.5515 - val_accuracy: 0.0360\n",
      "Epoch 27/300\n",
      "378/378 [==============================] - 4s 10ms/step - loss: 3.5757 - accuracy: 0.0421 - val_loss: 3.5484 - val_accuracy: 0.0486\n",
      "Epoch 28/300\n",
      "378/378 [==============================] - 4s 10ms/step - loss: 3.5733 - accuracy: 0.0403 - val_loss: 3.5704 - val_accuracy: 0.0251\n",
      "Epoch 29/300\n",
      "378/378 [==============================] - 4s 10ms/step - loss: 3.5710 - accuracy: 0.0427 - val_loss: 3.5504 - val_accuracy: 0.0389\n",
      "Epoch 30/300\n",
      "378/378 [==============================] - 4s 11ms/step - loss: 3.5639 - accuracy: 0.0453 - val_loss: 3.5327 - val_accuracy: 0.0615\n",
      "Epoch 31/300\n",
      "378/378 [==============================] - 4s 11ms/step - loss: 3.5612 - accuracy: 0.0445 - val_loss: 3.5219 - val_accuracy: 0.0746\n",
      "Epoch 32/300\n",
      "378/378 [==============================] - 4s 10ms/step - loss: 3.5577 - accuracy: 0.0466 - val_loss: 3.5205 - val_accuracy: 0.0670\n",
      "Epoch 33/300\n",
      "378/378 [==============================] - 4s 10ms/step - loss: 3.5552 - accuracy: 0.0458 - val_loss: 3.5038 - val_accuracy: 0.0814\n",
      "Epoch 34/300\n",
      "378/378 [==============================] - 4s 10ms/step - loss: 3.5510 - accuracy: 0.0503 - val_loss: 3.5067 - val_accuracy: 0.0648\n",
      "Epoch 35/300\n",
      "378/378 [==============================] - 4s 10ms/step - loss: 3.5471 - accuracy: 0.0501 - val_loss: 3.4909 - val_accuracy: 0.0798\n",
      "Epoch 36/300\n",
      "378/378 [==============================] - 4s 10ms/step - loss: 3.5439 - accuracy: 0.0525 - val_loss: 3.5118 - val_accuracy: 0.0662\n",
      "Epoch 37/300\n",
      "378/378 [==============================] - 4s 10ms/step - loss: 3.5424 - accuracy: 0.0493 - val_loss: 3.5075 - val_accuracy: 0.0657\n",
      "Epoch 38/300\n",
      "378/378 [==============================] - 4s 10ms/step - loss: 3.5371 - accuracy: 0.0517 - val_loss: 3.4898 - val_accuracy: 0.0774\n",
      "Epoch 39/300\n",
      "378/378 [==============================] - 4s 10ms/step - loss: 3.5349 - accuracy: 0.0525 - val_loss: 3.4843 - val_accuracy: 0.0727\n",
      "Epoch 40/300\n",
      "378/378 [==============================] - 4s 10ms/step - loss: 3.5319 - accuracy: 0.0503 - val_loss: 3.5229 - val_accuracy: 0.0598\n",
      "Epoch 41/300\n",
      "378/378 [==============================] - 4s 10ms/step - loss: 3.5286 - accuracy: 0.0480 - val_loss: 3.4812 - val_accuracy: 0.0775\n",
      "Epoch 42/300\n",
      "378/378 [==============================] - 4s 10ms/step - loss: 3.5237 - accuracy: 0.0511 - val_loss: 3.4692 - val_accuracy: 0.0895\n",
      "Epoch 43/300\n",
      "378/378 [==============================] - 4s 10ms/step - loss: 3.5214 - accuracy: 0.0541 - val_loss: 3.4687 - val_accuracy: 0.0754\n",
      "Epoch 44/300\n",
      "378/378 [==============================] - 4s 10ms/step - loss: 3.5184 - accuracy: 0.0527 - val_loss: 3.4489 - val_accuracy: 0.0942\n",
      "Epoch 45/300\n",
      "378/378 [==============================] - 4s 10ms/step - loss: 3.5154 - accuracy: 0.0551 - val_loss: 3.4525 - val_accuracy: 0.1051\n",
      "Epoch 46/300\n",
      "378/378 [==============================] - 5s 13ms/step - loss: 3.5142 - accuracy: 0.0567 - val_loss: 3.4444 - val_accuracy: 0.1010\n",
      "Epoch 47/300\n",
      "378/378 [==============================] - 5s 12ms/step - loss: 3.5106 - accuracy: 0.0548 - val_loss: 3.4492 - val_accuracy: 0.0852\n",
      "Epoch 48/300\n",
      "378/378 [==============================] - 5s 12ms/step - loss: 3.5065 - accuracy: 0.0543 - val_loss: 3.4499 - val_accuracy: 0.0686\n",
      "Epoch 49/300\n",
      "378/378 [==============================] - 5s 12ms/step - loss: 3.5033 - accuracy: 0.0609 - val_loss: 3.4324 - val_accuracy: 0.0930\n",
      "Epoch 50/300\n",
      "378/378 [==============================] - 4s 11ms/step - loss: 3.5006 - accuracy: 0.0591 - val_loss: 3.4738 - val_accuracy: 0.0657\n",
      "Epoch 51/300\n",
      "378/378 [==============================] - 5s 13ms/step - loss: 3.4974 - accuracy: 0.0551 - val_loss: 3.4308 - val_accuracy: 0.0904\n",
      "Epoch 52/300\n",
      "378/378 [==============================] - 5s 13ms/step - loss: 3.4941 - accuracy: 0.0594 - val_loss: 3.4048 - val_accuracy: 0.1069\n",
      "Epoch 53/300\n",
      "378/378 [==============================] - 5s 13ms/step - loss: 3.4908 - accuracy: 0.0572 - val_loss: 3.4118 - val_accuracy: 0.1014\n",
      "Epoch 54/300\n",
      "378/378 [==============================] - 5s 13ms/step - loss: 3.4882 - accuracy: 0.0594 - val_loss: 3.4119 - val_accuracy: 0.0876\n",
      "Epoch 55/300\n",
      "378/378 [==============================] - 5s 12ms/step - loss: 3.4848 - accuracy: 0.0604 - val_loss: 3.4090 - val_accuracy: 0.1330\n",
      "Epoch 56/300\n",
      "378/378 [==============================] - 4s 10ms/step - loss: 3.4817 - accuracy: 0.0636 - val_loss: 3.4030 - val_accuracy: 0.1025\n",
      "Epoch 57/300\n",
      "378/378 [==============================] - 4s 9ms/step - loss: 3.4797 - accuracy: 0.0596 - val_loss: 3.4047 - val_accuracy: 0.0903\n",
      "Epoch 58/300\n",
      "378/378 [==============================] - 4s 9ms/step - loss: 3.4742 - accuracy: 0.0609 - val_loss: 3.3897 - val_accuracy: 0.1237\n",
      "Epoch 59/300\n",
      "378/378 [==============================] - 4s 9ms/step - loss: 3.4709 - accuracy: 0.0594 - val_loss: 3.3782 - val_accuracy: 0.1298\n",
      "Epoch 60/300\n",
      "378/378 [==============================] - 4s 9ms/step - loss: 3.4695 - accuracy: 0.0588 - val_loss: 3.3809 - val_accuracy: 0.1036\n",
      "Epoch 61/300\n",
      "378/378 [==============================] - 4s 9ms/step - loss: 3.4636 - accuracy: 0.0713 - val_loss: 3.3724 - val_accuracy: 0.1162\n",
      "Epoch 62/300\n",
      "378/378 [==============================] - 4s 9ms/step - loss: 3.4623 - accuracy: 0.0673 - val_loss: 3.4012 - val_accuracy: 0.1571\n",
      "Epoch 63/300\n",
      "378/378 [==============================] - 4s 9ms/step - loss: 3.4582 - accuracy: 0.0705 - val_loss: 3.3594 - val_accuracy: 0.1687\n",
      "Epoch 64/300\n",
      "378/378 [==============================] - 4s 9ms/step - loss: 3.4534 - accuracy: 0.0673 - val_loss: 3.3712 - val_accuracy: 0.1057\n",
      "Epoch 65/300\n",
      "378/378 [==============================] - 4s 9ms/step - loss: 3.4481 - accuracy: 0.0636 - val_loss: 3.3342 - val_accuracy: 0.1449\n",
      "Epoch 66/300\n",
      "378/378 [==============================] - 4s 9ms/step - loss: 3.4460 - accuracy: 0.0702 - val_loss: 3.3565 - val_accuracy: 0.1228\n",
      "Epoch 67/300\n",
      "378/378 [==============================] - 4s 9ms/step - loss: 3.4399 - accuracy: 0.0649 - val_loss: 3.3373 - val_accuracy: 0.1547\n",
      "Epoch 68/300\n",
      "378/378 [==============================] - 4s 9ms/step - loss: 3.4321 - accuracy: 0.0686 - val_loss: 3.3349 - val_accuracy: 0.1847\n",
      "Epoch 69/300\n",
      "378/378 [==============================] - 4s 9ms/step - loss: 3.4302 - accuracy: 0.0697 - val_loss: 3.3389 - val_accuracy: 0.1612\n",
      "Epoch 70/300\n",
      "378/378 [==============================] - 4s 9ms/step - loss: 3.4229 - accuracy: 0.0692 - val_loss: 3.3185 - val_accuracy: 0.1375\n",
      "Epoch 71/300\n",
      "378/378 [==============================] - 4s 10ms/step - loss: 3.4154 - accuracy: 0.0753 - val_loss: 3.3209 - val_accuracy: 0.1398\n",
      "Epoch 72/300\n",
      "378/378 [==============================] - 4s 9ms/step - loss: 3.4095 - accuracy: 0.0723 - val_loss: 3.3064 - val_accuracy: 0.1358\n",
      "Epoch 73/300\n",
      "378/378 [==============================] - 4s 11ms/step - loss: 3.4020 - accuracy: 0.0723 - val_loss: 3.2994 - val_accuracy: 0.1481\n",
      "Epoch 74/300\n",
      "378/378 [==============================] - 5s 12ms/step - loss: 3.3888 - accuracy: 0.0760 - val_loss: 3.3017 - val_accuracy: 0.1543\n",
      "Epoch 75/300\n",
      "378/378 [==============================] - 4s 11ms/step - loss: 3.3734 - accuracy: 0.0824 - val_loss: 3.2851 - val_accuracy: 0.1406\n",
      "Epoch 76/300\n",
      "378/378 [==============================] - 3s 9ms/step - loss: 3.3629 - accuracy: 0.0819 - val_loss: 3.2722 - val_accuracy: 0.1411\n",
      "Epoch 77/300\n",
      "378/378 [==============================] - 3s 9ms/step - loss: 3.3534 - accuracy: 0.0798 - val_loss: 3.2388 - val_accuracy: 0.2044\n",
      "Epoch 78/300\n",
      "378/378 [==============================] - 4s 10ms/step - loss: 3.3425 - accuracy: 0.0745 - val_loss: 3.2339 - val_accuracy: 0.1736\n",
      "Epoch 79/300\n",
      "378/378 [==============================] - 4s 11ms/step - loss: 3.3300 - accuracy: 0.0851 - val_loss: 3.2490 - val_accuracy: 0.1405\n",
      "Epoch 80/300\n",
      "378/378 [==============================] - 4s 11ms/step - loss: 3.3206 - accuracy: 0.0941 - val_loss: 3.2026 - val_accuracy: 0.1687\n",
      "Epoch 81/300\n",
      "378/378 [==============================] - 4s 11ms/step - loss: 3.3113 - accuracy: 0.0800 - val_loss: 3.2052 - val_accuracy: 0.1625\n",
      "Epoch 82/300\n",
      "378/378 [==============================] - 4s 10ms/step - loss: 3.2994 - accuracy: 0.0906 - val_loss: 3.2076 - val_accuracy: 0.1495\n",
      "Epoch 83/300\n",
      "378/378 [==============================] - 4s 11ms/step - loss: 3.2973 - accuracy: 0.0832 - val_loss: 3.1880 - val_accuracy: 0.1553\n",
      "Epoch 84/300\n",
      "378/378 [==============================] - 4s 12ms/step - loss: 3.2857 - accuracy: 0.0824 - val_loss: 3.1561 - val_accuracy: 0.1940\n",
      "Epoch 85/300\n",
      "378/378 [==============================] - 5s 14ms/step - loss: 3.2780 - accuracy: 0.0835 - val_loss: 3.1659 - val_accuracy: 0.2258\n",
      "Epoch 86/300\n",
      "378/378 [==============================] - 6s 15ms/step - loss: 3.2723 - accuracy: 0.0938 - val_loss: 3.1770 - val_accuracy: 0.2126\n",
      "Epoch 87/300\n",
      "378/378 [==============================] - 5s 13ms/step - loss: 3.2655 - accuracy: 0.0851 - val_loss: 3.1462 - val_accuracy: 0.1480\n",
      "Epoch 88/300\n",
      "378/378 [==============================] - 4s 11ms/step - loss: 3.2607 - accuracy: 0.0882 - val_loss: 3.1180 - val_accuracy: 0.1546\n",
      "Epoch 89/300\n",
      "378/378 [==============================] - 4s 10ms/step - loss: 3.2548 - accuracy: 0.0840 - val_loss: 3.1122 - val_accuracy: 0.1910\n",
      "Epoch 90/300\n",
      "378/378 [==============================] - 4s 10ms/step - loss: 3.2508 - accuracy: 0.0901 - val_loss: 3.0984 - val_accuracy: 0.1795\n",
      "Epoch 91/300\n",
      "378/378 [==============================] - 4s 10ms/step - loss: 3.2462 - accuracy: 0.0917 - val_loss: 3.1170 - val_accuracy: 0.1676\n",
      "Epoch 92/300\n",
      "378/378 [==============================] - 4s 10ms/step - loss: 3.2430 - accuracy: 0.0877 - val_loss: 3.0813 - val_accuracy: 0.1858\n",
      "Epoch 93/300\n",
      "378/378 [==============================] - 4s 10ms/step - loss: 3.2367 - accuracy: 0.0906 - val_loss: 3.0816 - val_accuracy: 0.1758\n",
      "Epoch 94/300\n",
      "378/378 [==============================] - 4s 10ms/step - loss: 3.2329 - accuracy: 0.0917 - val_loss: 3.1541 - val_accuracy: 0.1404\n",
      "Epoch 95/300\n",
      "378/378 [==============================] - 4s 10ms/step - loss: 3.2261 - accuracy: 0.1004 - val_loss: 3.0894 - val_accuracy: 0.1421\n",
      "Epoch 96/300\n",
      "378/378 [==============================] - 4s 10ms/step - loss: 3.2244 - accuracy: 0.0954 - val_loss: 3.0666 - val_accuracy: 0.1660\n",
      "Epoch 97/300\n",
      "378/378 [==============================] - 4s 10ms/step - loss: 3.2208 - accuracy: 0.0925 - val_loss: 3.0655 - val_accuracy: 0.1652\n",
      "Epoch 98/300\n",
      "378/378 [==============================] - 4s 10ms/step - loss: 3.2172 - accuracy: 0.1010 - val_loss: 3.0930 - val_accuracy: 0.1504\n",
      "Epoch 99/300\n",
      "378/378 [==============================] - 4s 10ms/step - loss: 3.2159 - accuracy: 0.0927 - val_loss: 3.0691 - val_accuracy: 0.1586\n",
      "Epoch 100/300\n",
      "378/378 [==============================] - 4s 10ms/step - loss: 3.2123 - accuracy: 0.0975 - val_loss: 3.0457 - val_accuracy: 0.1715\n",
      "Epoch 101/300\n",
      "378/378 [==============================] - 4s 10ms/step - loss: 3.2077 - accuracy: 0.0983 - val_loss: 3.0710 - val_accuracy: 0.1808\n",
      "Epoch 102/300\n",
      "378/378 [==============================] - 4s 10ms/step - loss: 3.2078 - accuracy: 0.1002 - val_loss: 3.0613 - val_accuracy: 0.1631\n",
      "Epoch 103/300\n",
      "378/378 [==============================] - 4s 10ms/step - loss: 3.2030 - accuracy: 0.1010 - val_loss: 3.0694 - val_accuracy: 0.1455\n",
      "Epoch 104/300\n",
      "378/378 [==============================] - 4s 10ms/step - loss: 3.1971 - accuracy: 0.0975 - val_loss: 3.0259 - val_accuracy: 0.1777\n",
      "Epoch 105/300\n",
      "378/378 [==============================] - 4s 10ms/step - loss: 3.1974 - accuracy: 0.0975 - val_loss: 3.0247 - val_accuracy: 0.1899\n",
      "Epoch 106/300\n",
      "378/378 [==============================] - 4s 10ms/step - loss: 3.1940 - accuracy: 0.0954 - val_loss: 3.0483 - val_accuracy: 0.1532\n",
      "Epoch 107/300\n",
      "378/378 [==============================] - 4s 10ms/step - loss: 3.1878 - accuracy: 0.1004 - val_loss: 3.0396 - val_accuracy: 0.1533\n",
      "Epoch 108/300\n",
      "378/378 [==============================] - 4s 10ms/step - loss: 3.1850 - accuracy: 0.0972 - val_loss: 2.9813 - val_accuracy: 0.1810\n",
      "Epoch 109/300\n",
      "378/378 [==============================] - 4s 10ms/step - loss: 3.1833 - accuracy: 0.1039 - val_loss: 2.9972 - val_accuracy: 0.1699\n",
      "Epoch 110/300\n",
      "378/378 [==============================] - 4s 10ms/step - loss: 3.1798 - accuracy: 0.1047 - val_loss: 3.0044 - val_accuracy: 0.2064\n",
      "Epoch 111/300\n",
      "378/378 [==============================] - 4s 10ms/step - loss: 3.1785 - accuracy: 0.1063 - val_loss: 3.0209 - val_accuracy: 0.1758\n",
      "Epoch 112/300\n",
      "378/378 [==============================] - 4s 11ms/step - loss: 3.1733 - accuracy: 0.0996 - val_loss: 3.0045 - val_accuracy: 0.1649\n",
      "Epoch 113/300\n",
      "378/378 [==============================] - 4s 11ms/step - loss: 3.1703 - accuracy: 0.1015 - val_loss: 2.9761 - val_accuracy: 0.2015\n",
      "Epoch 114/300\n",
      "378/378 [==============================] - 4s 10ms/step - loss: 3.1664 - accuracy: 0.1015 - val_loss: 2.9790 - val_accuracy: 0.2056\n",
      "Epoch 115/300\n",
      "378/378 [==============================] - 4s 10ms/step - loss: 3.1666 - accuracy: 0.1004 - val_loss: 2.9979 - val_accuracy: 0.1743\n",
      "Epoch 116/300\n",
      "378/378 [==============================] - 4s 10ms/step - loss: 3.1628 - accuracy: 0.1028 - val_loss: 2.9774 - val_accuracy: 0.1752\n",
      "Epoch 117/300\n",
      "378/378 [==============================] - 4s 10ms/step - loss: 3.1605 - accuracy: 0.1033 - val_loss: 3.0066 - val_accuracy: 0.1720\n",
      "Epoch 118/300\n",
      "378/378 [==============================] - 4s 10ms/step - loss: 3.1596 - accuracy: 0.1025 - val_loss: 3.0308 - val_accuracy: 0.1485\n",
      "Epoch 119/300\n",
      "378/378 [==============================] - 4s 10ms/step - loss: 3.1589 - accuracy: 0.1047 - val_loss: 2.9834 - val_accuracy: 0.1842\n",
      "Epoch 120/300\n",
      "378/378 [==============================] - 4s 10ms/step - loss: 3.1561 - accuracy: 0.1063 - val_loss: 3.0421 - val_accuracy: 0.1425\n",
      "Epoch 121/300\n",
      "378/378 [==============================] - 4s 10ms/step - loss: 3.1598 - accuracy: 0.1041 - val_loss: 2.9939 - val_accuracy: 0.1527\n",
      "Epoch 122/300\n",
      "378/378 [==============================] - 4s 10ms/step - loss: 3.1510 - accuracy: 0.1012 - val_loss: 3.0369 - val_accuracy: 0.1384\n",
      "Epoch 123/300\n",
      "378/378 [==============================] - 4s 10ms/step - loss: 3.1546 - accuracy: 0.1031 - val_loss: 2.9756 - val_accuracy: 0.1678\n",
      "Epoch 124/300\n",
      "378/378 [==============================] - 4s 10ms/step - loss: 3.1499 - accuracy: 0.1057 - val_loss: 3.0153 - val_accuracy: 0.1402\n",
      "Epoch 125/300\n",
      "378/378 [==============================] - 4s 10ms/step - loss: 3.1498 - accuracy: 0.1055 - val_loss: 2.9599 - val_accuracy: 0.1984\n",
      "Epoch 126/300\n",
      "378/378 [==============================] - 4s 10ms/step - loss: 3.1487 - accuracy: 0.0999 - val_loss: 3.0099 - val_accuracy: 0.1510\n",
      "Epoch 127/300\n",
      "378/378 [==============================] - 4s 10ms/step - loss: 3.1483 - accuracy: 0.1039 - val_loss: 3.0577 - val_accuracy: 0.1495\n",
      "Epoch 128/300\n",
      "378/378 [==============================] - 4s 10ms/step - loss: 3.1436 - accuracy: 0.1047 - val_loss: 2.9543 - val_accuracy: 0.1919\n",
      "Epoch 129/300\n",
      "378/378 [==============================] - 4s 10ms/step - loss: 3.1425 - accuracy: 0.1060 - val_loss: 2.9511 - val_accuracy: 0.1612\n",
      "Epoch 130/300\n",
      "378/378 [==============================] - 4s 10ms/step - loss: 3.1422 - accuracy: 0.1049 - val_loss: 2.9490 - val_accuracy: 0.1980\n",
      "Epoch 131/300\n",
      "378/378 [==============================] - 4s 10ms/step - loss: 3.1409 - accuracy: 0.1081 - val_loss: 2.9318 - val_accuracy: 0.2097\n",
      "Epoch 132/300\n",
      "378/378 [==============================] - 4s 10ms/step - loss: 3.1405 - accuracy: 0.1073 - val_loss: 2.9689 - val_accuracy: 0.2397\n",
      "Epoch 133/300\n",
      "378/378 [==============================] - 4s 10ms/step - loss: 3.1350 - accuracy: 0.1063 - val_loss: 3.0193 - val_accuracy: 0.1413\n",
      "Epoch 134/300\n",
      "378/378 [==============================] - 4s 10ms/step - loss: 3.1355 - accuracy: 0.1065 - val_loss: 2.9785 - val_accuracy: 0.1603\n",
      "Epoch 135/300\n",
      "378/378 [==============================] - 4s 10ms/step - loss: 3.1385 - accuracy: 0.1057 - val_loss: 2.9454 - val_accuracy: 0.1738\n",
      "Epoch 136/300\n",
      "378/378 [==============================] - 4s 10ms/step - loss: 3.1358 - accuracy: 0.1025 - val_loss: 2.9742 - val_accuracy: 0.1532\n",
      "Epoch 137/300\n",
      "378/378 [==============================] - 4s 10ms/step - loss: 3.1325 - accuracy: 0.1068 - val_loss: 2.9636 - val_accuracy: 0.1624\n",
      "Epoch 138/300\n",
      "378/378 [==============================] - 4s 10ms/step - loss: 3.1310 - accuracy: 0.1065 - val_loss: 2.9834 - val_accuracy: 0.1553\n",
      "Epoch 139/300\n",
      "378/378 [==============================] - 4s 10ms/step - loss: 3.1293 - accuracy: 0.1063 - val_loss: 2.9854 - val_accuracy: 0.1585\n",
      "Epoch 140/300\n",
      "378/378 [==============================] - 4s 10ms/step - loss: 3.1282 - accuracy: 0.1041 - val_loss: 2.9715 - val_accuracy: 0.1478\n",
      "Epoch 141/300\n",
      "378/378 [==============================] - 4s 10ms/step - loss: 3.1279 - accuracy: 0.1108 - val_loss: 2.9357 - val_accuracy: 0.2101\n",
      "Epoch 142/300\n",
      "378/378 [==============================] - 4s 10ms/step - loss: 3.1279 - accuracy: 0.0996 - val_loss: 2.9355 - val_accuracy: 0.1894\n",
      "Epoch 143/300\n",
      "378/378 [==============================] - 4s 10ms/step - loss: 3.1249 - accuracy: 0.1134 - val_loss: 2.9672 - val_accuracy: 0.1608\n",
      "Epoch 144/300\n",
      "378/378 [==============================] - 4s 10ms/step - loss: 3.1237 - accuracy: 0.1118 - val_loss: 2.9321 - val_accuracy: 0.1809\n",
      "Epoch 145/300\n",
      "378/378 [==============================] - 4s 10ms/step - loss: 3.1189 - accuracy: 0.1028 - val_loss: 2.9457 - val_accuracy: 0.1715\n",
      "Epoch 146/300\n",
      "378/378 [==============================] - 4s 10ms/step - loss: 3.1185 - accuracy: 0.1012 - val_loss: 2.9302 - val_accuracy: 0.1976\n",
      "Epoch 147/300\n",
      "378/378 [==============================] - 4s 10ms/step - loss: 3.1212 - accuracy: 0.1057 - val_loss: 2.9382 - val_accuracy: 0.1746\n",
      "Epoch 148/300\n",
      "378/378 [==============================] - 4s 10ms/step - loss: 3.1195 - accuracy: 0.1055 - val_loss: 3.0438 - val_accuracy: 0.1336\n",
      "Epoch 149/300\n",
      "378/378 [==============================] - 4s 10ms/step - loss: 3.1170 - accuracy: 0.1065 - val_loss: 2.9157 - val_accuracy: 0.2046\n",
      "Epoch 150/300\n",
      "378/378 [==============================] - 4s 10ms/step - loss: 3.1157 - accuracy: 0.1092 - val_loss: 2.9055 - val_accuracy: 0.2204\n",
      "Epoch 151/300\n",
      "378/378 [==============================] - 4s 10ms/step - loss: 3.1147 - accuracy: 0.1068 - val_loss: 2.9250 - val_accuracy: 0.1812\n",
      "Epoch 152/300\n",
      "378/378 [==============================] - 4s 10ms/step - loss: 3.1146 - accuracy: 0.1070 - val_loss: 2.9519 - val_accuracy: 0.1682\n",
      "Epoch 153/300\n",
      "378/378 [==============================] - 4s 10ms/step - loss: 3.1111 - accuracy: 0.1060 - val_loss: 2.9471 - val_accuracy: 0.1543\n",
      "Epoch 154/300\n",
      "378/378 [==============================] - 4s 10ms/step - loss: 3.1081 - accuracy: 0.1084 - val_loss: 2.9973 - val_accuracy: 0.1441\n",
      "Epoch 155/300\n",
      "378/378 [==============================] - 4s 10ms/step - loss: 3.1106 - accuracy: 0.1031 - val_loss: 2.9478 - val_accuracy: 0.1515\n",
      "Epoch 156/300\n",
      "378/378 [==============================] - 4s 10ms/step - loss: 3.1056 - accuracy: 0.1105 - val_loss: 2.9487 - val_accuracy: 0.1480\n",
      "Epoch 157/300\n",
      "378/378 [==============================] - 4s 10ms/step - loss: 3.1061 - accuracy: 0.1105 - val_loss: 2.9762 - val_accuracy: 0.1578\n",
      "Epoch 158/300\n",
      "378/378 [==============================] - 4s 10ms/step - loss: 3.1028 - accuracy: 0.1118 - val_loss: 2.9437 - val_accuracy: 0.1736\n",
      "Epoch 159/300\n",
      "378/378 [==============================] - 4s 10ms/step - loss: 3.1023 - accuracy: 0.1121 - val_loss: 2.9259 - val_accuracy: 0.1732\n",
      "Epoch 160/300\n",
      "378/378 [==============================] - 4s 10ms/step - loss: 3.1029 - accuracy: 0.1028 - val_loss: 2.9510 - val_accuracy: 0.1638\n",
      "Epoch 161/300\n",
      "378/378 [==============================] - 4s 10ms/step - loss: 3.1017 - accuracy: 0.1070 - val_loss: 2.9222 - val_accuracy: 0.1894\n",
      "Epoch 162/300\n",
      "378/378 [==============================] - 4s 10ms/step - loss: 3.0962 - accuracy: 0.1150 - val_loss: 2.9443 - val_accuracy: 0.1651\n",
      "Epoch 163/300\n",
      "378/378 [==============================] - 4s 10ms/step - loss: 3.0981 - accuracy: 0.1020 - val_loss: 2.9589 - val_accuracy: 0.1432\n",
      "Epoch 164/300\n",
      "378/378 [==============================] - 4s 10ms/step - loss: 3.0996 - accuracy: 0.1044 - val_loss: 2.9129 - val_accuracy: 0.1995\n",
      "Epoch 165/300\n",
      "378/378 [==============================] - 4s 10ms/step - loss: 3.0958 - accuracy: 0.1121 - val_loss: 2.9050 - val_accuracy: 0.2027\n",
      "Epoch 166/300\n",
      "378/378 [==============================] - 4s 10ms/step - loss: 3.0968 - accuracy: 0.0988 - val_loss: 2.9076 - val_accuracy: 0.1774\n",
      "Epoch 167/300\n",
      "378/378 [==============================] - 4s 10ms/step - loss: 3.0914 - accuracy: 0.1084 - val_loss: 2.9532 - val_accuracy: 0.1555\n",
      "Epoch 168/300\n",
      "378/378 [==============================] - 4s 10ms/step - loss: 3.0921 - accuracy: 0.1084 - val_loss: 2.9284 - val_accuracy: 0.1491\n",
      "Epoch 169/300\n",
      "378/378 [==============================] - 4s 10ms/step - loss: 3.0909 - accuracy: 0.1033 - val_loss: 2.9313 - val_accuracy: 0.1616\n",
      "Epoch 170/300\n",
      "378/378 [==============================] - 4s 10ms/step - loss: 3.0925 - accuracy: 0.1089 - val_loss: 2.9262 - val_accuracy: 0.1606\n",
      "Epoch 171/300\n",
      "378/378 [==============================] - 4s 10ms/step - loss: 3.0893 - accuracy: 0.1033 - val_loss: 2.9145 - val_accuracy: 0.2153\n",
      "Epoch 172/300\n",
      "378/378 [==============================] - 4s 10ms/step - loss: 3.0880 - accuracy: 0.1023 - val_loss: 2.9449 - val_accuracy: 0.1609\n",
      "Epoch 173/300\n",
      "378/378 [==============================] - 4s 10ms/step - loss: 3.0853 - accuracy: 0.1102 - val_loss: 2.8979 - val_accuracy: 0.2008\n",
      "Epoch 174/300\n",
      "378/378 [==============================] - 4s 10ms/step - loss: 3.0858 - accuracy: 0.1078 - val_loss: 2.9689 - val_accuracy: 0.1504\n",
      "Epoch 175/300\n",
      "378/378 [==============================] - 4s 10ms/step - loss: 3.0841 - accuracy: 0.1126 - val_loss: 2.8914 - val_accuracy: 0.2139\n",
      "Epoch 176/300\n",
      "378/378 [==============================] - 4s 10ms/step - loss: 3.0822 - accuracy: 0.1108 - val_loss: 2.8910 - val_accuracy: 0.2219\n",
      "Epoch 177/300\n",
      "378/378 [==============================] - 4s 10ms/step - loss: 3.0876 - accuracy: 0.1055 - val_loss: 2.9368 - val_accuracy: 0.1555\n",
      "Epoch 178/300\n",
      "378/378 [==============================] - 4s 10ms/step - loss: 3.0824 - accuracy: 0.1153 - val_loss: 2.9268 - val_accuracy: 0.2015\n",
      "Epoch 179/300\n",
      "378/378 [==============================] - 4s 10ms/step - loss: 3.0821 - accuracy: 0.1060 - val_loss: 2.9406 - val_accuracy: 0.1710\n",
      "Epoch 180/300\n",
      "378/378 [==============================] - 4s 10ms/step - loss: 3.0778 - accuracy: 0.1129 - val_loss: 2.9192 - val_accuracy: 0.1925\n",
      "Epoch 181/300\n",
      "378/378 [==============================] - 4s 10ms/step - loss: 3.0776 - accuracy: 0.1055 - val_loss: 2.8791 - val_accuracy: 0.1991\n",
      "Epoch 182/300\n",
      "378/378 [==============================] - 4s 10ms/step - loss: 3.0801 - accuracy: 0.1057 - val_loss: 2.9286 - val_accuracy: 0.1526\n",
      "Epoch 183/300\n",
      "378/378 [==============================] - 4s 10ms/step - loss: 3.0745 - accuracy: 0.1108 - val_loss: 2.9256 - val_accuracy: 0.1697\n",
      "Epoch 184/300\n",
      "378/378 [==============================] - 4s 10ms/step - loss: 3.0779 - accuracy: 0.1118 - val_loss: 2.9382 - val_accuracy: 0.1622\n",
      "Epoch 185/300\n",
      "378/378 [==============================] - 4s 10ms/step - loss: 3.0717 - accuracy: 0.1153 - val_loss: 2.9447 - val_accuracy: 0.1692\n",
      "Epoch 186/300\n",
      "378/378 [==============================] - 4s 10ms/step - loss: 3.0744 - accuracy: 0.1068 - val_loss: 2.9081 - val_accuracy: 0.1859\n",
      "Epoch 187/300\n",
      "378/378 [==============================] - 4s 10ms/step - loss: 3.0734 - accuracy: 0.1007 - val_loss: 2.9295 - val_accuracy: 0.1563\n",
      "Epoch 188/300\n",
      "378/378 [==============================] - 4s 10ms/step - loss: 3.0707 - accuracy: 0.1108 - val_loss: 2.9247 - val_accuracy: 0.1600\n",
      "Epoch 189/300\n",
      "378/378 [==============================] - 4s 10ms/step - loss: 3.0739 - accuracy: 0.1131 - val_loss: 2.9156 - val_accuracy: 0.1861\n",
      "Epoch 190/300\n",
      "378/378 [==============================] - 4s 10ms/step - loss: 3.0689 - accuracy: 0.1055 - val_loss: 2.8766 - val_accuracy: 0.2211\n",
      "Epoch 191/300\n",
      "378/378 [==============================] - 4s 10ms/step - loss: 3.0730 - accuracy: 0.1089 - val_loss: 3.0184 - val_accuracy: 0.1381\n",
      "Epoch 192/300\n",
      "378/378 [==============================] - 4s 10ms/step - loss: 3.0684 - accuracy: 0.1078 - val_loss: 2.9374 - val_accuracy: 0.1434\n",
      "Epoch 193/300\n",
      "378/378 [==============================] - 4s 10ms/step - loss: 3.0725 - accuracy: 0.1084 - val_loss: 2.9468 - val_accuracy: 0.1563\n",
      "Epoch 194/300\n",
      "378/378 [==============================] - 4s 10ms/step - loss: 3.0689 - accuracy: 0.1097 - val_loss: 2.9370 - val_accuracy: 0.1590\n",
      "Epoch 195/300\n",
      "378/378 [==============================] - 4s 10ms/step - loss: 3.0675 - accuracy: 0.1007 - val_loss: 2.9315 - val_accuracy: 0.1513\n",
      "Epoch 196/300\n",
      "378/378 [==============================] - 4s 10ms/step - loss: 3.0668 - accuracy: 0.1116 - val_loss: 2.9062 - val_accuracy: 0.1800\n",
      "Epoch 197/300\n",
      "378/378 [==============================] - 4s 10ms/step - loss: 3.0682 - accuracy: 0.1100 - val_loss: 2.9142 - val_accuracy: 0.1962\n",
      "Epoch 198/300\n",
      "378/378 [==============================] - 4s 11ms/step - loss: 3.0657 - accuracy: 0.1121 - val_loss: 3.0901 - val_accuracy: 0.1179\n",
      "Epoch 199/300\n",
      "378/378 [==============================] - 4s 12ms/step - loss: 3.0654 - accuracy: 0.1094 - val_loss: 2.9586 - val_accuracy: 0.1427\n",
      "Epoch 200/300\n",
      "378/378 [==============================] - 4s 10ms/step - loss: 3.0676 - accuracy: 0.0994 - val_loss: 2.9471 - val_accuracy: 0.1528\n",
      "Epoch 201/300\n",
      "378/378 [==============================] - 5s 13ms/step - loss: 3.0597 - accuracy: 0.1017 - val_loss: 2.9241 - val_accuracy: 0.1890\n",
      "Epoch 202/300\n",
      "378/378 [==============================] - 5s 13ms/step - loss: 3.0640 - accuracy: 0.1102 - val_loss: 2.9354 - val_accuracy: 0.1913\n",
      "Epoch 203/300\n",
      "378/378 [==============================] - 4s 12ms/step - loss: 3.0638 - accuracy: 0.1033 - val_loss: 2.9562 - val_accuracy: 0.1343\n",
      "Epoch 204/300\n",
      "378/378 [==============================] - 4s 10ms/step - loss: 3.0630 - accuracy: 0.1116 - val_loss: 2.8917 - val_accuracy: 0.2045\n",
      "Epoch 205/300\n",
      "378/378 [==============================] - 4s 10ms/step - loss: 3.0594 - accuracy: 0.1100 - val_loss: 2.8890 - val_accuracy: 0.1698\n",
      "Epoch 206/300\n",
      "378/378 [==============================] - 4s 10ms/step - loss: 3.0604 - accuracy: 0.1073 - val_loss: 2.9315 - val_accuracy: 0.1484\n",
      "Epoch 207/300\n",
      "378/378 [==============================] - 4s 10ms/step - loss: 3.0611 - accuracy: 0.1108 - val_loss: 2.9051 - val_accuracy: 0.1600\n",
      "Epoch 208/300\n",
      "378/378 [==============================] - 4s 11ms/step - loss: 3.0610 - accuracy: 0.1033 - val_loss: 2.8834 - val_accuracy: 0.1932\n",
      "Epoch 209/300\n",
      "378/378 [==============================] - 4s 11ms/step - loss: 3.0580 - accuracy: 0.1078 - val_loss: 2.9448 - val_accuracy: 0.1334\n",
      "Epoch 210/300\n",
      "378/378 [==============================] - 4s 11ms/step - loss: 3.0590 - accuracy: 0.1192 - val_loss: 2.8936 - val_accuracy: 0.1845\n",
      "1155/1155 [==============================] - 2s 1ms/step - loss: 2.8936 - accuracy: 0.1845\n"
     ]
    }
   ],
   "source": [
    "history_callback=model.fit(X_train, Y_train, epochs=300, batch_size=10,verbose=1,\n",
    "validation_data=(X_test, Y_test),\n",
    "callbacks=[early_stopping_monitor],\n",
    "#validation_split = 0.1\n",
    "#callbacks=[cb]\n",
    ")\n",
    "scores = model.evaluate(X_test, Y_test)"
   ]
  },
  {
   "cell_type": "markdown",
   "metadata": {},
   "source": [
    "--------------------"
   ]
  },
  {
   "cell_type": "code",
   "execution_count": null,
   "metadata": {},
   "outputs": [],
   "source": [
    "### Para guardar los modelos se hace de la siguiente forma\n",
    "from tensorflow import keras\n",
    "\n",
    "# Guardar el Modelo\n",
    "model.save('my_model_hoy.h5')\n",
    "\n",
    "# Recrea exactamente el mismo modelo solo desde el archivo\n",
    "new_model = keras.models.load_model('my_model_hoy.h5')\n",
    "\n",
    "new_model.summary()"
   ]
  },
  {
   "cell_type": "markdown",
   "metadata": {},
   "source": [
    "----------------------"
   ]
  },
  {
   "cell_type": "code",
   "execution_count": 342,
   "metadata": {},
   "outputs": [
    {
     "name": "stdout",
     "output_type": "stream",
     "text": [
      "1155/1155 [==============================] - 2s 2ms/step - loss: 2.8936 - accuracy: 0.1845\n",
      "Test loss: 2.89355731010437\n",
      "Test accuracy: 0.1845146268606186\n",
      "[2.89355731010437, 0.1845146268606186]\n"
     ]
    }
   ],
   "source": [
    "scores = model.evaluate(X_test, Y_test, verbose=1)\n",
    "print('Test loss:', scores[0])\n",
    "print('Test accuracy:', scores[1])\n",
    "print(scores)"
   ]
  },
  {
   "cell_type": "code",
   "execution_count": 343,
   "metadata": {},
   "outputs": [
    {
     "name": "stdout",
     "output_type": "stream",
     "text": [
      "1155/1155 [==============================] - 2s 1ms/step\n"
     ]
    },
    {
     "data": {
      "text/plain": [
       "array([[1.1342751e-06, 2.7345497e-05, 1.0019576e-04, ..., 3.5878796e-02,\n",
       "        3.0951548e-02, 3.7375492e-05],\n",
       "       [2.2774448e-01, 1.9005118e-01, 8.5279778e-02, ..., 2.8178093e-07,\n",
       "        8.6842242e-11, 2.3386132e-03],\n",
       "       [1.7188052e-02, 5.0121501e-02, 8.7200694e-02, ..., 5.9790593e-03,\n",
       "        3.5700456e-03, 2.9893729e-03],\n",
       "       ...,\n",
       "       [1.3782644e-03, 3.3623309e-04, 3.0748130e-04, ..., 1.6617205e-02,\n",
       "        1.2746468e-02, 2.4259748e-02],\n",
       "       [1.4901448e-06, 3.1599175e-06, 5.9348667e-06, ..., 9.3414083e-02,\n",
       "        9.2059217e-02, 7.6863600e-04],\n",
       "       [4.6877913e-02, 3.0688543e-02, 2.7269769e-02, ..., 8.9914107e-04,\n",
       "        8.0939208e-05, 1.4905515e-02]], dtype=float32)"
      ]
     },
     "execution_count": 343,
     "metadata": {},
     "output_type": "execute_result"
    }
   ],
   "source": [
    "  ### Genero la predicción con el modelo\n",
    "y_pred = model.predict(X_test)\n",
    "y_pred"
   ]
  },
  {
   "cell_type": "code",
   "execution_count": 344,
   "metadata": {},
   "outputs": [
    {
     "data": {
      "text/plain": [
       "array([44,  0,  2, ..., 59, 71,  7], dtype=int64)"
      ]
     },
     "execution_count": 344,
     "metadata": {},
     "output_type": "execute_result"
    }
   ],
   "source": [
    "y_pred_1col = np.argmax(y_pred, axis=1, out=None) \n",
    "y_pred_1col"
   ]
  },
  {
   "cell_type": "code",
   "execution_count": 345,
   "metadata": {},
   "outputs": [
    {
     "data": {
      "text/html": [
       "<div>\n",
       "<style scoped>\n",
       "    .dataframe tbody tr th:only-of-type {\n",
       "        vertical-align: middle;\n",
       "    }\n",
       "\n",
       "    .dataframe tbody tr th {\n",
       "        vertical-align: top;\n",
       "    }\n",
       "\n",
       "    .dataframe thead th {\n",
       "        text-align: right;\n",
       "    }\n",
       "</style>\n",
       "<table border=\"1\" class=\"dataframe\">\n",
       "  <thead>\n",
       "    <tr style=\"text-align: right;\">\n",
       "      <th></th>\n",
       "      <th>target</th>\n",
       "    </tr>\n",
       "  </thead>\n",
       "  <tbody>\n",
       "    <tr>\n",
       "      <th>0</th>\n",
       "      <td>44</td>\n",
       "    </tr>\n",
       "    <tr>\n",
       "      <th>1</th>\n",
       "      <td>0</td>\n",
       "    </tr>\n",
       "    <tr>\n",
       "      <th>2</th>\n",
       "      <td>2</td>\n",
       "    </tr>\n",
       "    <tr>\n",
       "      <th>3</th>\n",
       "      <td>71</td>\n",
       "    </tr>\n",
       "    <tr>\n",
       "      <th>4</th>\n",
       "      <td>41</td>\n",
       "    </tr>\n",
       "    <tr>\n",
       "      <th>...</th>\n",
       "      <td>...</td>\n",
       "    </tr>\n",
       "    <tr>\n",
       "      <th>36946</th>\n",
       "      <td>59</td>\n",
       "    </tr>\n",
       "    <tr>\n",
       "      <th>36947</th>\n",
       "      <td>8</td>\n",
       "    </tr>\n",
       "    <tr>\n",
       "      <th>36948</th>\n",
       "      <td>59</td>\n",
       "    </tr>\n",
       "    <tr>\n",
       "      <th>36949</th>\n",
       "      <td>71</td>\n",
       "    </tr>\n",
       "    <tr>\n",
       "      <th>36950</th>\n",
       "      <td>7</td>\n",
       "    </tr>\n",
       "  </tbody>\n",
       "</table>\n",
       "<p>36951 rows × 1 columns</p>\n",
       "</div>"
      ],
      "text/plain": [
       "       target\n",
       "0          44\n",
       "1           0\n",
       "2           2\n",
       "3          71\n",
       "4          41\n",
       "...       ...\n",
       "36946      59\n",
       "36947       8\n",
       "36948      59\n",
       "36949      71\n",
       "36950       7\n",
       "\n",
       "[36951 rows x 1 columns]"
      ]
     },
     "execution_count": 345,
     "metadata": {},
     "output_type": "execute_result"
    }
   ],
   "source": [
    "y_pred_1col = pd.DataFrame(y_pred_1col, columns= ['target'])\n",
    "y_pred_1col"
   ]
  },
  {
   "cell_type": "code",
   "execution_count": 346,
   "metadata": {},
   "outputs": [
    {
     "data": {
      "text/html": [
       "<div>\n",
       "<style scoped>\n",
       "    .dataframe tbody tr th:only-of-type {\n",
       "        vertical-align: middle;\n",
       "    }\n",
       "\n",
       "    .dataframe tbody tr th {\n",
       "        vertical-align: top;\n",
       "    }\n",
       "\n",
       "    .dataframe thead th {\n",
       "        text-align: right;\n",
       "    }\n",
       "</style>\n",
       "<table border=\"1\" class=\"dataframe\">\n",
       "  <thead>\n",
       "    <tr style=\"text-align: right;\">\n",
       "      <th></th>\n",
       "      <th>target</th>\n",
       "    </tr>\n",
       "  </thead>\n",
       "  <tbody>\n",
       "    <tr>\n",
       "      <th>0</th>\n",
       "      <td>16</td>\n",
       "    </tr>\n",
       "    <tr>\n",
       "      <th>1</th>\n",
       "      <td>0</td>\n",
       "    </tr>\n",
       "    <tr>\n",
       "      <th>2</th>\n",
       "      <td>8</td>\n",
       "    </tr>\n",
       "    <tr>\n",
       "      <th>3</th>\n",
       "      <td>15</td>\n",
       "    </tr>\n",
       "    <tr>\n",
       "      <th>4</th>\n",
       "      <td>57</td>\n",
       "    </tr>\n",
       "    <tr>\n",
       "      <th>...</th>\n",
       "      <td>...</td>\n",
       "    </tr>\n",
       "    <tr>\n",
       "      <th>36946</th>\n",
       "      <td>57</td>\n",
       "    </tr>\n",
       "    <tr>\n",
       "      <th>36947</th>\n",
       "      <td>0</td>\n",
       "    </tr>\n",
       "    <tr>\n",
       "      <th>36948</th>\n",
       "      <td>15</td>\n",
       "    </tr>\n",
       "    <tr>\n",
       "      <th>36949</th>\n",
       "      <td>55</td>\n",
       "    </tr>\n",
       "    <tr>\n",
       "      <th>36950</th>\n",
       "      <td>11</td>\n",
       "    </tr>\n",
       "  </tbody>\n",
       "</table>\n",
       "<p>36951 rows × 1 columns</p>\n",
       "</div>"
      ],
      "text/plain": [
       "       target\n",
       "0          16\n",
       "1           0\n",
       "2           8\n",
       "3          15\n",
       "4          57\n",
       "...       ...\n",
       "36946      57\n",
       "36947       0\n",
       "36948      15\n",
       "36949      55\n",
       "36950      11\n",
       "\n",
       "[36951 rows x 1 columns]"
      ]
     },
     "execution_count": 346,
     "metadata": {},
     "output_type": "execute_result"
    }
   ],
   "source": [
    "y_test_1col = pd.DataFrame(enc.inverse_transform(Y_test), columns= ['target']).replace(inv_map)\n",
    "y_test_1col"
   ]
  },
  {
   "cell_type": "code",
   "execution_count": 347,
   "metadata": {},
   "outputs": [
    {
     "name": "stdout",
     "output_type": "stream",
     "text": [
      "              precision    recall  f1-score   support\n",
      "\n",
      "           0       0.58      0.69      0.63      5217\n",
      "           1       0.22      0.09      0.13      1873\n",
      "           2       0.31      0.05      0.08      2090\n",
      "           3       0.00      0.00      0.00         0\n",
      "           4       0.56      0.05      0.09      1155\n",
      "           5       0.00      0.00      0.00         0\n",
      "           6       0.12      0.02      0.03      1184\n",
      "           7       0.27      0.01      0.02      2656\n",
      "           8       0.11      0.18      0.13      1368\n",
      "           9       0.34      0.12      0.18       717\n",
      "          10       0.21      0.02      0.04       871\n",
      "          11       0.14      0.13      0.14       326\n",
      "          12       0.17      0.03      0.06       690\n",
      "          13       0.00      0.00      0.00         0\n",
      "          14       0.03      0.05      0.04        37\n",
      "          15       0.00      0.00      0.00         0\n",
      "          16       0.02      0.05      0.03        57\n",
      "          17       0.00      0.00      0.00         0\n",
      "          18       0.00      0.00      0.00         0\n",
      "          19       0.07      0.12      0.09       360\n",
      "          20       0.24      0.04      0.06       428\n",
      "          21       0.00      0.00      0.00         0\n",
      "          22       0.04      0.49      0.07       112\n",
      "          23       0.34      0.09      0.14       542\n",
      "          24       0.29      0.02      0.04      1007\n",
      "          25       0.00      0.00      0.00         0\n",
      "          26       0.11      0.04      0.06       168\n",
      "          27       0.00      0.00      0.00         0\n",
      "          28       0.17      0.03      0.05       515\n",
      "          29       0.02      0.07      0.03        28\n",
      "          30       0.00      0.00      0.00         0\n",
      "          31       0.00      0.00      0.00         0\n",
      "          32       0.00      0.00      0.00         0\n",
      "          33       0.06      0.05      0.05        99\n",
      "          34       0.00      0.00      0.00         0\n",
      "          35       0.00      0.00      0.00         0\n",
      "          36       0.27      0.31      0.29       573\n",
      "          37       0.16      0.14      0.15       221\n",
      "          38       0.32      0.06      0.10       512\n",
      "          39       0.00      0.00      0.00         0\n",
      "          40       0.00      0.00      0.00         0\n",
      "          41       0.12      0.35      0.18      1450\n",
      "          42       0.06      0.11      0.08       220\n",
      "          43       0.00      0.02      0.01        65\n",
      "          44       0.28      0.26      0.27      2352\n",
      "          45       0.36      0.08      0.13       957\n",
      "          46       0.52      0.11      0.18      1290\n",
      "          47       0.23      0.09      0.13      1077\n",
      "          48       0.00      0.00      0.00         3\n",
      "          49       0.00      0.00      0.00         0\n",
      "          50       0.00      0.00      0.00         0\n",
      "          51       0.00      0.00      0.00         0\n",
      "          52       0.26      0.05      0.09       478\n",
      "          53       0.06      0.13      0.09       448\n",
      "          54       0.00      0.00      0.00         0\n",
      "          55       0.00      0.00      0.00         0\n",
      "          56       0.00      0.00      0.00         0\n",
      "          57       0.04      0.66      0.07       116\n",
      "          58       0.00      0.00      0.00         7\n",
      "          59       0.44      0.02      0.03      1622\n",
      "          60       0.08      0.01      0.01       934\n",
      "          61       0.08      0.14      0.10       406\n",
      "          62       0.00      0.00      0.00         0\n",
      "          63       0.00      0.00      0.00        28\n",
      "          64       0.19      0.14      0.16       608\n",
      "          65       0.07      0.10      0.08       204\n",
      "          66       0.22      0.06      0.09       599\n",
      "          67       0.00      0.00      0.00         0\n",
      "          68       0.00      0.00      0.00         0\n",
      "          69       0.01      0.01      0.01       128\n",
      "          70       0.01      0.19      0.01        32\n",
      "          71       0.02      0.01      0.01       217\n",
      "          72       0.22      0.14      0.17       736\n",
      "          73       0.09      0.04      0.06       168\n",
      "\n",
      "    accuracy                           0.18     36951\n",
      "   macro avg       0.12      0.08      0.06     36951\n",
      "weighted avg       0.30      0.18      0.18     36951\n",
      "\n"
     ]
    }
   ],
   "source": [
    "print(classification_report(y_pred_1col,y_test_1col))"
   ]
  },
  {
   "cell_type": "code",
   "execution_count": 348,
   "metadata": {},
   "outputs": [],
   "source": [
    "history_dict=history_callback.history"
   ]
  },
  {
   "cell_type": "code",
   "execution_count": 349,
   "metadata": {},
   "outputs": [
    {
     "data": {
      "image/png": "[encoded data removed]",
      "text/plain": [
       "<Figure size 1080x1080 with 2 Axes>"
      ]
     },
     "metadata": {
      "needs_background": "light"
     },
     "output_type": "display_data"
    }
   ],
   "source": [
    "fig, (ax1, ax2) = plt.subplots(2, figsize=(15, 15))\n",
    "\n",
    "accuracy = history_dict['accuracy']\n",
    "val_accuracy = history_dict['val_accuracy']\n",
    "\n",
    "loss = history_dict['loss']\n",
    "val_loss = history_dict['val_loss']\n",
    "ax1.plot(val_accuracy, label=\"val acc \")\n",
    "ax1.plot(accuracy, label=\"acc \")\n",
    "\n",
    "ax2.plot(loss, label= \"loss \")\n",
    "ax2.plot(val_loss, label= \"Val loss \")\n",
    "    \n",
    "ax1.set_ylabel('validation accuracy')\n",
    "ax2.set_ylabel('validation loss')\n",
    "ax2.set_xlabel('epochs')\n",
    "ax1.legend()\n",
    "ax2.legend();"
   ]
  },
  {
   "cell_type": "code",
   "execution_count": 350,
   "metadata": {},
   "outputs": [
    {
     "data": {
      "text/plain": [
       "<function matplotlib.pyplot.show(close=None, block=None)>"
      ]
     },
     "execution_count": 350,
     "metadata": {},
     "output_type": "execute_result"
    },
    {
     "data": {
      "image/png": "[encoded data removed]",
      "text/plain": [
       "<Figure size 432x288 with 1 Axes>"
      ]
     },
     "metadata": {
      "needs_background": "light"
     },
     "output_type": "display_data"
    }
   ],
   "source": [
    "# Visualize the model's accuracy\n",
    "plt.plot(history_dict['accuracy'])\n",
    "plt.plot(history_dict['val_accuracy'])\n",
    "plt.title('Model Accuracy')\n",
    "plt.ylabel('Accuracy')\n",
    "plt.xlabel('Epoch')\n",
    "plt.legend(['Train', 'Val'], loc='upper left')\n",
    "plt.show"
   ]
  },
  {
   "cell_type": "code",
   "execution_count": 351,
   "metadata": {},
   "outputs": [
    {
     "data": {
      "image/png": "[encoded data removed]",
      "text/plain": [
       "<Figure size 432x288 with 1 Axes>"
      ]
     },
     "metadata": {
      "needs_background": "light"
     },
     "output_type": "display_data"
    }
   ],
   "source": [
    "# summarize history for loss\n",
    "plt.plot(history_dict['loss'])\n",
    "plt.plot(history_dict['val_loss'])\n",
    "plt.title('model loss')\n",
    "plt.ylabel('loss')\n",
    "plt.xlabel('epoch')\n",
    "plt.legend(['train', 'test'], loc='upper left')\n",
    "plt.show()\n"
   ]
  },
  {
   "cell_type": "code",
   "execution_count": 353,
   "metadata": {},
   "outputs": [
    {
     "data": {
      "text/plain": [
       "0.6200922242369024"
      ]
     },
     "execution_count": 353,
     "metadata": {},
     "output_type": "execute_result"
    }
   ],
   "source": [
    "Ypred_map=y_pred_1col[\"target\"].replace(dic).apply( lambda x: x.split(\" \"))\n",
    "Ytest_map=y_test_1col[\"target\"].replace(dic).apply( lambda x: x.split(\" \"))\n",
    "ml_metrics.mapk(Ytest_map, Ypred_map, 5)"
   ]
  },
  {
   "cell_type": "markdown",
   "metadata": {},
   "source": [
    "# Para Grid tasas de aprendizaje"
   ]
  },
  {
   "cell_type": "code",
   "execution_count": null,
   "metadata": {},
   "outputs": [],
   "source": [
    "#Importamos librerias necesarias.\n",
    "from keras.optimizers import SGD, Adam\n",
    "\n",
    "## Ejecutare 3 redes neuronales identicas en capas y nodos. Invocando MiRed()\n",
    "## Pero la optimizaremos usando el Grandiente Descendente Estocastico (SGD en ingles)\n",
    "## Es a este operador al que uno le entrega la Tasa de Aprendizaje (Learning Rate)\n",
    "## Otro ejemplo creando un optimizador usando Adam\n",
    "## adam = Adam(lr=0.01)\n",
    "\n",
    "lr_to_test = [ .000001,  0.01, 0.1, 1, 10]  #tres tasas de aprendizaje diferentes, una pequeña, mediana y grande\n",
    "\n",
    "\n",
    "## 1) Que cree que ocurriria si algun peso es mayor que 1??\n",
    "\n",
    "for alfa in lr_to_test:\n",
    "    print('\\nProbando el modelo with learning rate: %f\\n'%alfa )\n",
    "    modelo = MiRed() ## creo una red limpia. \n",
    "    \n",
    "    my_optimizer = SGD(lr = alfa) ##metodo de optimizacion\n",
    "    \n",
    "    modelo.compile(optimizer=my_optimizer,loss='mean_squared_error',metrics=['accuracy'])\n",
    "    \n",
    "    #results = modelo.fit(X_train, Y_train, epochs=1000, verbose=0)\n",
    "    results = modelo.fit(X_train, Y_train, epochs=2000, verbose=0)\n",
    "    \n",
    "        \n",
    "    print(\"Train-Accuracy: {:.2%}\".format(np.mean(results.history[\"accuracy\"][-11:-1])),\"+/- {:.6%}\".format(np.std(results.history[\"accuracy\"][-11:-1])))\n",
    "    print(\"Train-Loss: {:.2%}\".format(np.mean(results.history[\"loss\"][-11:-1])),\"+/- {:.6%}\".format(np.std(results.history[\"loss\"][-11:-1])))"
   ]
  }
 ],
 "metadata": {
  "interpreter": {
   "hash": "65e97ffa20fbdd895c76c3a1d2c2ade704754874d6e45df701862667e65d73d7"
  },
  "kernelspec": {
   "display_name": "Python 3.9.6 ('Programacion_Cientifica')",
   "language": "python",
   "name": "python3"
  },
  "language_info": {
   "codemirror_mode": {
    "name": "ipython",
    "version": 3
   },
   "file_extension": ".py",
   "mimetype": "text/x-python",
   "name": "python",
   "nbconvert_exporter": "python",
   "pygments_lexer": "ipython3",
   "version": "3.9.6"
  },
  "orig_nbformat": 4
 },
 "nbformat": 4,
 "nbformat_minor": 2
}
