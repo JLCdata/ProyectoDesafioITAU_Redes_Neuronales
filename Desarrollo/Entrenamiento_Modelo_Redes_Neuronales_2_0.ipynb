{
  "cells": [
    {
      "cell_type": "markdown",
      "metadata": {
        "id": "arooajkzyEke"
      },
      "source": [
        "# Entrenamiento RN"
      ]
    },
    {
      "cell_type": "code",
      "execution_count": 76,
      "metadata": {
        "id": "SpSZJh2fYK-E"
      },
      "outputs": [],
      "source": [
        "import pandas as pd\n",
        "import numpy as np\n",
        "\n",
        "import missingno as msno\n",
        "import matplotlib.pyplot as plt\n",
        "import plotly.express as px\n",
        "\n",
        "from sklearn.ensemble import RandomForestClassifier\n",
        "from sklearn.metrics import classification_report\n",
        "from sklearn.model_selection import train_test_split \n",
        "from sklearn.decomposition import PCA\n",
        "from sklearn.pipeline import Pipeline\n",
        "from sklearn.decomposition import TruncatedSVD\n",
        "\n",
        "from sklearn.compose import ColumnTransformer\n",
        "from sklearn.preprocessing import MinMaxScaler\n",
        "from sklearn.preprocessing import OneHotEncoder\n",
        "import datetime\n",
        "from dateutil.parser import parse\n",
        "from sklearn.tree import  DecisionTreeClassifier\n",
        "import plotly.graph_objects as go\n",
        "\n",
        "from imblearn.under_sampling import RandomUnderSampler\n",
        "from imblearn.over_sampling import RandomOverSampler\n",
        "import xgboost as xgb\n",
        "from sklearn.naive_bayes import MultinomialNB\n",
        "from sklearn.model_selection import GridSearchCV\n",
        "import ml_metrics\n",
        "import pickle\n",
        "from sklearn.metrics import accuracy_score\n",
        "import joblib\n",
        "import json\n",
        "import sklearn.metrics as metrics\n",
        "from keras.models import Sequential\n",
        "from keras.layers import Dense\n",
        "#from keras.optimizers import SGD, Adam\n",
        "from tensorflow.keras.optimizers import Adam, SGD, RMSprop\n",
        "from keras.callbacks import TensorBoard\n",
        "from keras.callbacks import EarlyStopping\n",
        "import warnings\n",
        "from tensorflow import keras\n",
        "from plotly.subplots import make_subplots\n",
        "\n",
        "warnings.filterwarnings(\"ignore\")"
      ]
    },
    {
      "cell_type": "code",
      "execution_count": 2,
      "metadata": {
        "id": "2hnvAMbbYK-H"
      },
      "outputs": [],
      "source": [
        "Data=pd.read_csv(\"cleaned_05June2022.csv\").drop(columns=[\"Unnamed: 0\"]).fillna(\"\")"
      ]
    },
    {
      "cell_type": "code",
      "execution_count": 3,
      "metadata": {
        "id": "ZglzLwy3YK-I"
      },
      "outputs": [],
      "source": [
        "# datos númericos\n",
        "numerical=list(Data.select_dtypes(exclude=[\"category\",\"object\"]).columns)\n",
        "numerical.remove(\"Sexo\")\n",
        "numerical.remove('Recibe_sueldo_en_cuenta')\n",
        "\n",
        "\n",
        "# datos categorical\n",
        "categorical=list(Data.select_dtypes(include=[\"category\",\"object\"]).columns)+['Sexo','Recibe_sueldo_en_cuenta']\n",
        "categorical.remove(\"Target\")"
      ]
    },
    {
      "cell_type": "code",
      "execution_count": 4,
      "metadata": {
        "id": "yGfOksRUYK-I"
      },
      "outputs": [],
      "source": [
        "for i in categorical:\n",
        "    Data[i]=Data[i].astype(str)"
      ]
    },
    {
      "cell_type": "code",
      "execution_count": 5,
      "metadata": {
        "id": "K5jBuNxwYK-J"
      },
      "outputs": [],
      "source": [
        "# Select 1 - Only Gini, corte visual\n",
        "select_variables_1=['E-F',\n",
        " 'D-F',\n",
        " 'C-C',\n",
        " 'A-K',\n",
        " 'A-G',\n",
        " 'num_comunicaciones',\n",
        " 'Recency',\n",
        " 'Positivo',\n",
        " 'B',\n",
        " 'Monto',\n",
        " 'Periodicity',\n",
        " 'Profesion',\n",
        " 'lec_B-B',\n",
        " 'Renta',\n",
        " 'F-I',\n",
        " 'Edad',\n",
        " 'lec_A-A',\n",
        " 'Comuna',\n",
        " 'Sin Info',\n",
        " 'Ciudad',\n",
        " 'Duracion_Campaña',\n",
        " 'Principalidad']"
      ]
    },
    {
      "cell_type": "code",
      "execution_count": 6,
      "metadata": {
        "id": "j5Vihe-TisDl"
      },
      "outputs": [],
      "source": [
        "numerical1=list(filter(lambda x:x  in numerical,select_variables_1))\n",
        "categorical1=list(filter(lambda x:x  in categorical,select_variables_1))"
      ]
    },
    {
      "cell_type": "code",
      "execution_count": 7,
      "metadata": {
        "id": "LVYPQTNVisDm"
      },
      "outputs": [],
      "source": [
        "# Preprocesamiento de datos\n",
        "preprocessing_transformer1 = ColumnTransformer(\n",
        "    transformers=[('OneHotEncoder', OneHotEncoder(handle_unknown=\"ignore\"),categorical1 ),\n",
        "        ('MinMax', MinMaxScaler(),numerical1),\n",
        "    ])"
      ]
    },
    {
      "cell_type": "code",
      "execution_count": 8,
      "metadata": {
        "id": "jk3YTZ8xYK-K"
      },
      "outputs": [],
      "source": [
        "pipe1 = Pipeline(\n",
        "    [(\"preprocesamiento\", preprocessing_transformer1)]\n",
        ")"
      ]
    },
    {
      "cell_type": "markdown",
      "metadata": {
        "id": "Ezkdf9VBYK-K"
      },
      "source": [
        "------------------------"
      ]
    },
    {
      "cell_type": "markdown",
      "metadata": {
        "id": "5wThX9EbisDg"
      },
      "source": [
        "# Train, Test Split"
      ]
    },
    {
      "cell_type": "code",
      "execution_count": 9,
      "metadata": {
        "id": "4TfmQ1MAisDh"
      },
      "outputs": [],
      "source": [
        "X=Data.drop(columns=[\"Target\"])[select_variables_1].copy()"
      ]
    },
    {
      "cell_type": "code",
      "execution_count": 10,
      "metadata": {
        "id": "pIO3GvwOisDi"
      },
      "outputs": [],
      "source": [
        "Y=Data[\"Target\"]"
      ]
    },
    {
      "cell_type": "code",
      "execution_count": 11,
      "metadata": {
        "id": "sa7gEgRqYK-N"
      },
      "outputs": [],
      "source": [
        "enc = OneHotEncoder()\n",
        "Y = enc.fit_transform(Y[:, np.newaxis]).toarray()"
      ]
    },
    {
      "cell_type": "code",
      "execution_count": 12,
      "metadata": {
        "id": "4zZcGHIYYK-N"
      },
      "outputs": [],
      "source": [
        "dic={}\n",
        "to_enc_inv=list(enc.categories_[0])\n",
        "for i in range(len(to_enc_inv)):\n",
        "    dic[i]=to_enc_inv[i]"
      ]
    },
    {
      "cell_type": "code",
      "execution_count": 13,
      "metadata": {
        "id": "mUZverP1YK-O"
      },
      "outputs": [],
      "source": [
        "inv_map = {v: k for k, v in dic.items()}"
      ]
    },
    {
      "cell_type": "code",
      "execution_count": 14,
      "metadata": {
        "id": "oRIzuG4XYK-O"
      },
      "outputs": [],
      "source": [
        "# Split the data set into training and testing\n",
        "X_train, X_test, Y_train, Y_test = train_test_split(\n",
        "    X, Y, test_size=0.33, random_state=2)"
      ]
    },
    {
      "cell_type": "code",
      "execution_count": 15,
      "metadata": {
        "id": "a0qe7yd4YK-P"
      },
      "outputs": [],
      "source": [
        "# Sobremuestreo:\n",
        "ros=RandomOverSampler(random_state=0) # Random_state=0\n",
        "# ROS:\n",
        "X_train, Y_train=ros.fit_resample(X_train,Y_train)"
      ]
    },
    {
      "cell_type": "code",
      "execution_count": 16,
      "metadata": {
        "colab": {
          "base_uri": "https://localhost:8080/"
        },
        "id": "d-5UhfpMY-nP",
        "outputId": "705e327f-7c3e-4e86-d7e3-ceff26b7e62a"
      },
      "outputs": [
        {
          "data": {
            "text/plain": [
              "(21460, 22)"
            ]
          },
          "execution_count": 16,
          "metadata": {},
          "output_type": "execute_result"
        }
      ],
      "source": [
        "X_test.shape"
      ]
    },
    {
      "cell_type": "code",
      "execution_count": 17,
      "metadata": {
        "id": "KxYKayW8YK-Q"
      },
      "outputs": [],
      "source": [
        "# Preprocesamiento\n",
        "pipe1.fit(X_train)\n",
        "X_train1=pipe1.transform(X_train)\n",
        "X_test1=pipe1.transform(X_test)\n",
        "n_features1 =X_train1.shape[1]\n",
        "n_classes1 =Y_train.shape[1]"
      ]
    },
    {
      "cell_type": "markdown",
      "metadata": {
        "id": "TmOVAU84YK-R"
      },
      "source": [
        "#### Definición de arquitectura"
      ]
    },
    {
      "cell_type": "code",
      "execution_count": 50,
      "metadata": {},
      "outputs": [
        {
          "name": "stdout",
          "output_type": "stream",
          "text": [
            "Model: \"sequential_4\"\n",
            "_________________________________________________________________\n",
            " Layer (type)                Output Shape              Param #   \n",
            "=================================================================\n",
            " dense_11 (Dense)            (None, 4)                 2344      \n",
            "                                                                 \n",
            " dense_12 (Dense)            (None, 35)                175       \n",
            "                                                                 \n",
            "=================================================================\n",
            "Total params: 2,519\n",
            "Trainable params: 2,519\n",
            "Non-trainable params: 0\n",
            "_________________________________________________________________\n"
          ]
        }
      ],
      "source": [
        "model1 = Sequential()\n",
        "model1.add(Dense(4, input_dim=n_features1, activation='relu'))\n",
        "model1.add(Dense(n_classes1,activation='softmax'))\n",
        "model1.compile(loss='categorical_crossentropy', optimizer='adam', metrics=['accuracy']) \n",
        "\n",
        "#alfa=0.001\n",
        "#my_optimizer = SGD(lr = alfa)\n",
        "#model.compile(optimizer=my_optimizer,loss='categorical_crossentropy',metrics=['accuracy'])\n",
        "model1.summary()"
      ]
    },
    {
      "cell_type": "code",
      "execution_count": 51,
      "metadata": {
        "id": "FUkizMkgYK-S"
      },
      "outputs": [],
      "source": [
        "cb = TensorBoard(log_dir='./', histogram_freq=1)\n",
        "early_stopping_monitor = EarlyStopping(monitor='val_loss', patience=10)"
      ]
    },
    {
      "cell_type": "code",
      "execution_count": 52,
      "metadata": {
        "colab": {
          "base_uri": "https://localhost:8080/"
        },
        "id": "UK_URx4kYK-U",
        "outputId": "e8d65f8e-30f1-4055-e76c-2b48ad1b3654"
      },
      "outputs": [
        {
          "name": "stdout",
          "output_type": "stream",
          "text": [
            "Epoch 1/1000\n",
            "3000/3000 [==============================] - 16s 5ms/step - loss: 2.8442 - accuracy: 0.2202 - val_loss: 2.4744 - val_accuracy: 0.2928\n",
            "Epoch 2/1000\n",
            "3000/3000 [==============================] - 13s 4ms/step - loss: 2.3341 - accuracy: 0.3110 - val_loss: 2.2162 - val_accuracy: 0.3351\n",
            "Epoch 3/1000\n",
            "3000/3000 [==============================] - 11s 4ms/step - loss: 2.1522 - accuracy: 0.3448 - val_loss: 2.0904 - val_accuracy: 0.3589\n",
            "Epoch 4/1000\n",
            "3000/3000 [==============================] - 11s 4ms/step - loss: 2.0553 - accuracy: 0.3638 - val_loss: 2.0171 - val_accuracy: 0.3780\n",
            "Epoch 5/1000\n",
            "3000/3000 [==============================] - 11s 4ms/step - loss: 1.9947 - accuracy: 0.3750 - val_loss: 1.9723 - val_accuracy: 0.3879\n",
            "Epoch 6/1000\n",
            "3000/3000 [==============================] - 14s 5ms/step - loss: 1.9544 - accuracy: 0.3854 - val_loss: 1.9395 - val_accuracy: 0.3975\n",
            "Epoch 7/1000\n",
            "3000/3000 [==============================] - 16s 5ms/step - loss: 1.9251 - accuracy: 0.3948 - val_loss: 1.9168 - val_accuracy: 0.4019\n",
            "Epoch 8/1000\n",
            "3000/3000 [==============================] - 15s 5ms/step - loss: 1.9028 - accuracy: 0.4012 - val_loss: 1.8997 - val_accuracy: 0.4072\n",
            "Epoch 9/1000\n",
            "3000/3000 [==============================] - 11s 4ms/step - loss: 1.8854 - accuracy: 0.4081 - val_loss: 1.8845 - val_accuracy: 0.4131\n",
            "Epoch 10/1000\n",
            "3000/3000 [==============================] - 13s 4ms/step - loss: 1.8722 - accuracy: 0.4094 - val_loss: 1.8742 - val_accuracy: 0.4148\n",
            "Epoch 11/1000\n",
            "3000/3000 [==============================] - 11s 4ms/step - loss: 1.8601 - accuracy: 0.4158 - val_loss: 1.8655 - val_accuracy: 0.4166\n",
            "Epoch 12/1000\n",
            "3000/3000 [==============================] - 12s 4ms/step - loss: 1.8492 - accuracy: 0.4160 - val_loss: 1.8603 - val_accuracy: 0.4185\n",
            "Epoch 13/1000\n",
            "3000/3000 [==============================] - 13s 4ms/step - loss: 1.8415 - accuracy: 0.4183 - val_loss: 1.8495 - val_accuracy: 0.4207\n",
            "Epoch 14/1000\n",
            "3000/3000 [==============================] - 12s 4ms/step - loss: 1.8339 - accuracy: 0.4196 - val_loss: 1.8520 - val_accuracy: 0.4267\n",
            "Epoch 15/1000\n",
            "3000/3000 [==============================] - 16s 5ms/step - loss: 1.8270 - accuracy: 0.4229 - val_loss: 1.8407 - val_accuracy: 0.4240\n",
            "Epoch 16/1000\n",
            "3000/3000 [==============================] - 11s 4ms/step - loss: 1.8215 - accuracy: 0.4236 - val_loss: 1.8387 - val_accuracy: 0.4231\n",
            "Epoch 17/1000\n",
            "3000/3000 [==============================] - 11s 4ms/step - loss: 1.8158 - accuracy: 0.4232 - val_loss: 1.8316 - val_accuracy: 0.4278\n",
            "Epoch 18/1000\n",
            "3000/3000 [==============================] - 11s 4ms/step - loss: 1.8116 - accuracy: 0.4244 - val_loss: 1.8290 - val_accuracy: 0.4245\n",
            "Epoch 19/1000\n",
            "3000/3000 [==============================] - 11s 3ms/step - loss: 1.8074 - accuracy: 0.4260 - val_loss: 1.8243 - val_accuracy: 0.4254\n",
            "Epoch 20/1000\n",
            "3000/3000 [==============================] - 15s 5ms/step - loss: 1.8037 - accuracy: 0.4269 - val_loss: 1.8225 - val_accuracy: 0.4292\n",
            "Epoch 21/1000\n",
            "3000/3000 [==============================] - 18s 6ms/step - loss: 1.8005 - accuracy: 0.4289 - val_loss: 1.8208 - val_accuracy: 0.4242\n",
            "Epoch 22/1000\n",
            "3000/3000 [==============================] - 11s 4ms/step - loss: 1.7976 - accuracy: 0.4282 - val_loss: 1.8189 - val_accuracy: 0.4264\n",
            "Epoch 23/1000\n",
            "3000/3000 [==============================] - 12s 4ms/step - loss: 1.7938 - accuracy: 0.4289 - val_loss: 1.8214 - val_accuracy: 0.4287\n",
            "Epoch 24/1000\n",
            "3000/3000 [==============================] - 12s 4ms/step - loss: 1.7919 - accuracy: 0.4295 - val_loss: 1.8186 - val_accuracy: 0.4270\n",
            "Epoch 25/1000\n",
            "3000/3000 [==============================] - 11s 4ms/step - loss: 1.7887 - accuracy: 0.4303 - val_loss: 1.8189 - val_accuracy: 0.4277\n",
            "Epoch 26/1000\n",
            "3000/3000 [==============================] - 12s 4ms/step - loss: 1.7878 - accuracy: 0.4321 - val_loss: 1.8101 - val_accuracy: 0.4330\n",
            "Epoch 27/1000\n",
            "3000/3000 [==============================] - 18s 6ms/step - loss: 1.7845 - accuracy: 0.4320 - val_loss: 1.8073 - val_accuracy: 0.4326\n",
            "Epoch 28/1000\n",
            "3000/3000 [==============================] - 15s 5ms/step - loss: 1.7819 - accuracy: 0.4328 - val_loss: 1.8089 - val_accuracy: 0.4329\n",
            "Epoch 29/1000\n",
            "3000/3000 [==============================] - 12s 4ms/step - loss: 1.7806 - accuracy: 0.4324 - val_loss: 1.8076 - val_accuracy: 0.4275\n",
            "Epoch 30/1000\n",
            "3000/3000 [==============================] - 16s 5ms/step - loss: 1.7786 - accuracy: 0.4304 - val_loss: 1.8115 - val_accuracy: 0.4320\n",
            "Epoch 31/1000\n",
            "3000/3000 [==============================] - 15s 5ms/step - loss: 1.7768 - accuracy: 0.4328 - val_loss: 1.8058 - val_accuracy: 0.4326\n",
            "Epoch 32/1000\n",
            "3000/3000 [==============================] - 14s 5ms/step - loss: 1.7749 - accuracy: 0.4331 - val_loss: 1.8103 - val_accuracy: 0.4301\n",
            "Epoch 33/1000\n",
            "3000/3000 [==============================] - 14s 5ms/step - loss: 1.7737 - accuracy: 0.4339 - val_loss: 1.8043 - val_accuracy: 0.4295\n",
            "Epoch 34/1000\n",
            "3000/3000 [==============================] - 13s 4ms/step - loss: 1.7717 - accuracy: 0.4347 - val_loss: 1.8046 - val_accuracy: 0.4324\n",
            "Epoch 35/1000\n",
            "3000/3000 [==============================] - 14s 5ms/step - loss: 1.7702 - accuracy: 0.4364 - val_loss: 1.8068 - val_accuracy: 0.4308\n",
            "Epoch 36/1000\n",
            "3000/3000 [==============================] - 13s 4ms/step - loss: 1.7693 - accuracy: 0.4356 - val_loss: 1.8023 - val_accuracy: 0.4337\n",
            "Epoch 37/1000\n",
            "3000/3000 [==============================] - 13s 4ms/step - loss: 1.7679 - accuracy: 0.4353 - val_loss: 1.8041 - val_accuracy: 0.4316\n",
            "Epoch 38/1000\n",
            "3000/3000 [==============================] - 18s 6ms/step - loss: 1.7667 - accuracy: 0.4356 - val_loss: 1.8007 - val_accuracy: 0.4350\n",
            "Epoch 39/1000\n",
            "3000/3000 [==============================] - 15s 5ms/step - loss: 1.7648 - accuracy: 0.4348 - val_loss: 1.7989 - val_accuracy: 0.4332\n",
            "Epoch 40/1000\n",
            "3000/3000 [==============================] - 14s 5ms/step - loss: 1.7641 - accuracy: 0.4346 - val_loss: 1.7982 - val_accuracy: 0.4348\n",
            "Epoch 41/1000\n",
            "3000/3000 [==============================] - 14s 4ms/step - loss: 1.7635 - accuracy: 0.4357 - val_loss: 1.7987 - val_accuracy: 0.4359\n",
            "Epoch 42/1000\n",
            "3000/3000 [==============================] - 14s 5ms/step - loss: 1.7619 - accuracy: 0.4368 - val_loss: 1.7984 - val_accuracy: 0.4354\n",
            "Epoch 43/1000\n",
            "3000/3000 [==============================] - 14s 5ms/step - loss: 1.7602 - accuracy: 0.4362 - val_loss: 1.7983 - val_accuracy: 0.4335\n",
            "Epoch 44/1000\n",
            "3000/3000 [==============================] - 13s 4ms/step - loss: 1.7597 - accuracy: 0.4366 - val_loss: 1.7984 - val_accuracy: 0.4334\n",
            "Epoch 45/1000\n",
            "3000/3000 [==============================] - 15s 5ms/step - loss: 1.7594 - accuracy: 0.4354 - val_loss: 1.8007 - val_accuracy: 0.4331\n",
            "Epoch 46/1000\n",
            "3000/3000 [==============================] - 14s 5ms/step - loss: 1.7577 - accuracy: 0.4386 - val_loss: 1.7956 - val_accuracy: 0.4341\n",
            "Epoch 47/1000\n",
            "3000/3000 [==============================] - 13s 4ms/step - loss: 1.7571 - accuracy: 0.4372 - val_loss: 1.7952 - val_accuracy: 0.4340\n",
            "Epoch 48/1000\n",
            "3000/3000 [==============================] - 13s 4ms/step - loss: 1.7561 - accuracy: 0.4374 - val_loss: 1.7984 - val_accuracy: 0.4334\n",
            "Epoch 49/1000\n",
            "3000/3000 [==============================] - 14s 5ms/step - loss: 1.7549 - accuracy: 0.4375 - val_loss: 1.7971 - val_accuracy: 0.4348\n",
            "Epoch 50/1000\n",
            "3000/3000 [==============================] - 13s 4ms/step - loss: 1.7543 - accuracy: 0.4374 - val_loss: 1.7925 - val_accuracy: 0.4359\n",
            "Epoch 51/1000\n",
            "3000/3000 [==============================] - 14s 5ms/step - loss: 1.7523 - accuracy: 0.4380 - val_loss: 1.7939 - val_accuracy: 0.4358\n",
            "Epoch 52/1000\n",
            "3000/3000 [==============================] - 16s 5ms/step - loss: 1.7529 - accuracy: 0.4387 - val_loss: 1.7960 - val_accuracy: 0.4394\n",
            "Epoch 53/1000\n",
            "3000/3000 [==============================] - 16s 5ms/step - loss: 1.7514 - accuracy: 0.4407 - val_loss: 1.7925 - val_accuracy: 0.4352\n",
            "Epoch 54/1000\n",
            "3000/3000 [==============================] - 15s 5ms/step - loss: 1.7505 - accuracy: 0.4392 - val_loss: 1.7950 - val_accuracy: 0.4376\n",
            "Epoch 55/1000\n",
            "3000/3000 [==============================] - 11s 4ms/step - loss: 1.7494 - accuracy: 0.4389 - val_loss: 1.7917 - val_accuracy: 0.4392\n",
            "Epoch 56/1000\n",
            "3000/3000 [==============================] - 9s 3ms/step - loss: 1.7495 - accuracy: 0.4396 - val_loss: 1.7984 - val_accuracy: 0.4395\n",
            "Epoch 57/1000\n",
            "3000/3000 [==============================] - 9s 3ms/step - loss: 1.7488 - accuracy: 0.4404 - val_loss: 1.7926 - val_accuracy: 0.4382\n",
            "Epoch 58/1000\n",
            "3000/3000 [==============================] - 10s 3ms/step - loss: 1.7478 - accuracy: 0.4386 - val_loss: 1.7937 - val_accuracy: 0.4378\n",
            "Epoch 59/1000\n",
            "3000/3000 [==============================] - 9s 3ms/step - loss: 1.7464 - accuracy: 0.4405 - val_loss: 1.7902 - val_accuracy: 0.4345\n",
            "Epoch 60/1000\n",
            "3000/3000 [==============================] - 9s 3ms/step - loss: 1.7465 - accuracy: 0.4411 - val_loss: 1.7975 - val_accuracy: 0.4376\n",
            "Epoch 61/1000\n",
            "3000/3000 [==============================] - 9s 3ms/step - loss: 1.7450 - accuracy: 0.4407 - val_loss: 1.7916 - val_accuracy: 0.4386\n",
            "Epoch 62/1000\n",
            "3000/3000 [==============================] - 9s 3ms/step - loss: 1.7436 - accuracy: 0.4416 - val_loss: 1.7920 - val_accuracy: 0.4411\n",
            "Epoch 63/1000\n",
            "3000/3000 [==============================] - 9s 3ms/step - loss: 1.7444 - accuracy: 0.4400 - val_loss: 1.7959 - val_accuracy: 0.4369\n",
            "Epoch 64/1000\n",
            "3000/3000 [==============================] - 9s 3ms/step - loss: 1.7426 - accuracy: 0.4418 - val_loss: 1.7936 - val_accuracy: 0.4415\n",
            "Epoch 65/1000\n",
            "3000/3000 [==============================] - 11s 4ms/step - loss: 1.7426 - accuracy: 0.4411 - val_loss: 1.7918 - val_accuracy: 0.4396\n",
            "Epoch 66/1000\n",
            "3000/3000 [==============================] - 16s 5ms/step - loss: 1.7411 - accuracy: 0.4427 - val_loss: 1.7903 - val_accuracy: 0.4399\n",
            "Epoch 67/1000\n",
            "3000/3000 [==============================] - 13s 4ms/step - loss: 1.7404 - accuracy: 0.4423 - val_loss: 1.7955 - val_accuracy: 0.4380\n",
            "Epoch 68/1000\n",
            "3000/3000 [==============================] - 13s 4ms/step - loss: 1.7402 - accuracy: 0.4420 - val_loss: 1.7900 - val_accuracy: 0.4412\n",
            "Epoch 69/1000\n",
            "3000/3000 [==============================] - 13s 4ms/step - loss: 1.7397 - accuracy: 0.4425 - val_loss: 1.7911 - val_accuracy: 0.4399\n",
            "Epoch 70/1000\n",
            "3000/3000 [==============================] - 10s 3ms/step - loss: 1.7381 - accuracy: 0.4419 - val_loss: 1.7883 - val_accuracy: 0.4394\n",
            "Epoch 71/1000\n",
            "3000/3000 [==============================] - 9s 3ms/step - loss: 1.7383 - accuracy: 0.4441 - val_loss: 1.7917 - val_accuracy: 0.4403\n",
            "Epoch 72/1000\n",
            "3000/3000 [==============================] - 10s 3ms/step - loss: 1.7383 - accuracy: 0.4408 - val_loss: 1.7906 - val_accuracy: 0.4415\n",
            "Epoch 73/1000\n",
            "3000/3000 [==============================] - 14s 5ms/step - loss: 1.7373 - accuracy: 0.4424 - val_loss: 1.7909 - val_accuracy: 0.4401\n",
            "Epoch 74/1000\n",
            "3000/3000 [==============================] - 11s 4ms/step - loss: 1.7373 - accuracy: 0.4428 - val_loss: 1.7884 - val_accuracy: 0.4412\n",
            "Epoch 75/1000\n",
            "3000/3000 [==============================] - 14s 5ms/step - loss: 1.7355 - accuracy: 0.4415 - val_loss: 1.7913 - val_accuracy: 0.4412\n",
            "Epoch 76/1000\n",
            "3000/3000 [==============================] - 15s 5ms/step - loss: 1.7346 - accuracy: 0.4426 - val_loss: 1.7852 - val_accuracy: 0.4407\n",
            "Epoch 77/1000\n",
            "3000/3000 [==============================] - 10s 3ms/step - loss: 1.7348 - accuracy: 0.4447 - val_loss: 1.7900 - val_accuracy: 0.4379\n",
            "Epoch 78/1000\n",
            "3000/3000 [==============================] - 11s 4ms/step - loss: 1.7342 - accuracy: 0.4444 - val_loss: 1.7953 - val_accuracy: 0.4400\n",
            "Epoch 79/1000\n",
            "3000/3000 [==============================] - 12s 4ms/step - loss: 1.7332 - accuracy: 0.4458 - val_loss: 1.7959 - val_accuracy: 0.4363\n",
            "Epoch 80/1000\n",
            "3000/3000 [==============================] - 14s 4ms/step - loss: 1.7333 - accuracy: 0.4429 - val_loss: 1.7898 - val_accuracy: 0.4426\n",
            "Epoch 81/1000\n",
            "3000/3000 [==============================] - 14s 5ms/step - loss: 1.7331 - accuracy: 0.4459 - val_loss: 1.7883 - val_accuracy: 0.4450\n",
            "Epoch 82/1000\n",
            "3000/3000 [==============================] - 17s 6ms/step - loss: 1.7321 - accuracy: 0.4435 - val_loss: 1.7923 - val_accuracy: 0.4435\n",
            "Epoch 83/1000\n",
            "3000/3000 [==============================] - 13s 4ms/step - loss: 1.7309 - accuracy: 0.4456 - val_loss: 1.7904 - val_accuracy: 0.4374\n",
            "Epoch 84/1000\n",
            "3000/3000 [==============================] - 11s 4ms/step - loss: 1.7300 - accuracy: 0.4453 - val_loss: 1.7892 - val_accuracy: 0.4417\n",
            "Epoch 85/1000\n",
            "3000/3000 [==============================] - 12s 4ms/step - loss: 1.7302 - accuracy: 0.4432 - val_loss: 1.7890 - val_accuracy: 0.4393\n",
            "Epoch 86/1000\n",
            "3000/3000 [==============================] - 12s 4ms/step - loss: 1.7305 - accuracy: 0.4430 - val_loss: 1.7893 - val_accuracy: 0.4414\n"
          ]
        }
      ],
      "source": [
        "history_callback=model1.fit(X_train1[0:30000], Y_train[0:30000], epochs=1000, batch_size=10,verbose=1,\n",
        "validation_data=(X_test1, Y_test),\n",
        "callbacks=[early_stopping_monitor],\n",
        "#validation_split = 0.1\n",
        "#callbacks=[cb]\n",
        ")"
      ]
    },
    {
      "cell_type": "code",
      "execution_count": 53,
      "metadata": {
        "colab": {
          "base_uri": "https://localhost:8080/"
        },
        "id": "mr07O8hMYK-U",
        "outputId": "f3332079-e043-44a9-cb23-ebc53988ac9a"
      },
      "outputs": [
        {
          "name": "stdout",
          "output_type": "stream",
          "text": [
            "671/671 [==============================] - 2s 3ms/step - loss: 1.7893 - accuracy: 0.4414\n",
            "Test loss: 1.7892714738845825\n",
            "Test accuracy: 0.4413793087005615\n",
            "[1.7892714738845825, 0.4413793087005615]\n"
          ]
        }
      ],
      "source": [
        "scores = model1.evaluate(X_test1, Y_test, verbose=1)\n",
        "print('Test loss:', scores[0])\n",
        "print('Test accuracy:', scores[1])\n",
        "print(scores)"
      ]
    },
    {
      "cell_type": "code",
      "execution_count": 54,
      "metadata": {
        "id": "a-mBDIO8YK-V"
      },
      "outputs": [
        {
          "name": "stdout",
          "output_type": "stream",
          "text": [
            "671/671 [==============================] - 2s 2ms/step\n"
          ]
        }
      ],
      "source": [
        "  ### Genero la predicción con el modelo\n",
        "y_pred = model1.predict(X_test1)"
      ]
    },
    {
      "cell_type": "code",
      "execution_count": 55,
      "metadata": {
        "id": "5NiIIGvkYK-V"
      },
      "outputs": [],
      "source": [
        "y_pred_1col = np.argmax(y_pred, axis=1, out=None) "
      ]
    },
    {
      "cell_type": "code",
      "execution_count": 56,
      "metadata": {
        "id": "9_B6XWh7YK-V"
      },
      "outputs": [],
      "source": [
        "y_pred_1col = pd.DataFrame(y_pred_1col, columns= ['target'])"
      ]
    },
    {
      "cell_type": "code",
      "execution_count": 57,
      "metadata": {
        "id": "TPS6wI1MYK-W"
      },
      "outputs": [],
      "source": [
        "y_test_1col = pd.DataFrame(enc.inverse_transform(Y_test), columns= ['target']).replace(inv_map)"
      ]
    },
    {
      "cell_type": "code",
      "execution_count": 58,
      "metadata": {
        "colab": {
          "base_uri": "https://localhost:8080/"
        },
        "id": "-p2eboL_YK-W",
        "outputId": "12859daf-ba67-476e-f356-48e3129e0d04"
      },
      "outputs": [
        {
          "data": {
            "text/plain": [
              "0.6912744641192917"
            ]
          },
          "execution_count": 58,
          "metadata": {},
          "output_type": "execute_result"
        }
      ],
      "source": [
        "Ypred_map=y_pred_1col[\"target\"].replace(dic).apply( lambda x: x.split(\" \"))\n",
        "Ytest_map=y_test_1col[\"target\"].replace(dic).apply( lambda x: x.split(\" \"))\n",
        "ml_metrics.mapk(Ytest_map, Ypred_map, 5)"
      ]
    },
    {
      "cell_type": "code",
      "execution_count": 75,
      "metadata": {},
      "outputs": [
        {
          "data": {
            "text/plain": [
              "range(0, 86)"
            ]
          },
          "execution_count": 75,
          "metadata": {},
          "output_type": "execute_result"
        }
      ],
      "source": [
        "range(len(history_dict['accuracy']))"
      ]
    },
    {
      "cell_type": "code",
      "execution_count": 87,
      "metadata": {},
      "outputs": [
        {
          "data": {
            "application/vnd.plotly.v1+json": {
              "config": {
                "plotlyServerURL": "https://plot.ly"
              },
              "data": [
                {
                  "mode": "lines",
                  "name": "Val_accuracy",
                  "type": "scatter",
                  "x": [
                    0,
                    1,
                    2,
                    3,
                    4,
                    5,
                    6,
                    7,
                    8,
                    9,
                    10,
                    11,
                    12,
                    13,
                    14,
                    15,
                    16,
                    17,
                    18,
                    19,
                    20,
                    21,
                    22,
                    23,
                    24,
                    25,
                    26,
                    27,
                    28,
                    29,
                    30,
                    31,
                    32,
                    33,
                    34,
                    35,
                    36,
                    37,
                    38,
                    39,
                    40,
                    41,
                    42,
                    43,
                    44,
                    45,
                    46,
                    47,
                    48,
                    49,
                    50,
                    51,
                    52,
                    53,
                    54,
                    55,
                    56,
                    57,
                    58,
                    59,
                    60,
                    61,
                    62,
                    63,
                    64,
                    65,
                    66,
                    67,
                    68,
                    69,
                    70,
                    71,
                    72,
                    73,
                    74,
                    75,
                    76,
                    77,
                    78,
                    79,
                    80,
                    81,
                    82,
                    83,
                    84,
                    85
                  ],
                  "xaxis": "x",
                  "y": [
                    0.29277727007865906,
                    0.3350885510444641,
                    0.35894688963890076,
                    0.37800559401512146,
                    0.38793104887008667,
                    0.3974836766719818,
                    0.40191054344177246,
                    0.40717613697052,
                    0.4130941331386566,
                    0.4147716760635376,
                    0.4166356027126312,
                    0.4185461401939392,
                    0.42073625326156616,
                    0.4267474412918091,
                    0.42404472827911377,
                    0.4230661690235138,
                    0.4277726113796234,
                    0.4245107173919678,
                    0.4254426956176758,
                    0.42917054891586304,
                    0.42418453097343445,
                    0.4263746440410614,
                    0.42870455980300903,
                    0.42702701687812805,
                    0.4276793897151947,
                    0.432991623878479,
                    0.43257221579551697,
                    0.4328984022140503,
                    0.42749300599098206,
                    0.4319664537906647,
                    0.43257221579551697,
                    0.43010252714157104,
                    0.4294501543045044,
                    0.4324324429035187,
                    0.4307548999786377,
                    0.433737188577652,
                    0.431593656539917,
                    0.4350419342517853,
                    0.433224618434906,
                    0.4347623586654663,
                    0.43588072061538696,
                    0.43541473150253296,
                    0.4334575831890106,
                    0.43341100215911865,
                    0.4331313967704773,
                    0.4340633749961853,
                    0.433970183134079,
                    0.43341100215911865,
                    0.4347623586654663,
                    0.43588072061538696,
                    0.4358341097831726,
                    0.4394221901893616,
                    0.43518173694610596,
                    0.4376048445701599,
                    0.43918919563293457,
                    0.43946877121925354,
                    0.4382106363773346,
                    0.43779122829437256,
                    0.43448275327682495,
                    0.4376048445701599,
                    0.4385834038257599,
                    0.44109973311424255,
                    0.43685927987098694,
                    0.44147250056266785,
                    0.4396085739135742,
                    0.4398881494998932,
                    0.43802422285079956,
                    0.44123950600624084,
                    0.43993476033210754,
                    0.4393755793571472,
                    0.44026094675064087,
                    0.4415191113948822,
                    0.4400745630264282,
                    0.44123950600624084,
                    0.44123950600624084,
                    0.4407269358634949,
                    0.43788444995880127,
                    0.4399813711643219,
                    0.43625348806381226,
                    0.44263747334480286,
                    0.44501397013664246,
                    0.44347622990608215,
                    0.4373718500137329,
                    0.44170549511909485,
                    0.43932899832725525,
                    0.4413793087005615
                  ],
                  "yaxis": "y"
                },
                {
                  "mode": "lines",
                  "name": "Accuracy",
                  "type": "scatter",
                  "x": [
                    0,
                    1,
                    2,
                    3,
                    4,
                    5,
                    6,
                    7,
                    8,
                    9,
                    10,
                    11,
                    12,
                    13,
                    14,
                    15,
                    16,
                    17,
                    18,
                    19,
                    20,
                    21,
                    22,
                    23,
                    24,
                    25,
                    26,
                    27,
                    28,
                    29,
                    30,
                    31,
                    32,
                    33,
                    34,
                    35,
                    36,
                    37,
                    38,
                    39,
                    40,
                    41,
                    42,
                    43,
                    44,
                    45,
                    46,
                    47,
                    48,
                    49,
                    50,
                    51,
                    52,
                    53,
                    54,
                    55,
                    56,
                    57,
                    58,
                    59,
                    60,
                    61,
                    62,
                    63,
                    64,
                    65,
                    66,
                    67,
                    68,
                    69,
                    70,
                    71,
                    72,
                    73,
                    74,
                    75,
                    76,
                    77,
                    78,
                    79,
                    80,
                    81,
                    82,
                    83,
                    84,
                    85
                  ],
                  "xaxis": "x",
                  "y": [
                    0.22020000219345093,
                    0.3109666705131531,
                    0.3447999954223633,
                    0.3637999892234802,
                    0.37496668100357056,
                    0.3853999972343445,
                    0.39480000734329224,
                    0.4011666774749756,
                    0.4081000089645386,
                    0.4094333350658417,
                    0.415800005197525,
                    0.41600000858306885,
                    0.41830000281333923,
                    0.41956666111946106,
                    0.42289999127388,
                    0.4235999882221222,
                    0.42320001125335693,
                    0.42443332076072693,
                    0.42596668004989624,
                    0.4268999993801117,
                    0.42890000343322754,
                    0.42820000648498535,
                    0.42890000343322754,
                    0.429500013589859,
                    0.43026667833328247,
                    0.4320666790008545,
                    0.4319666624069214,
                    0.43283334374427795,
                    0.43236666917800903,
                    0.43043333292007446,
                    0.4327666759490967,
                    0.43309998512268066,
                    0.4339333474636078,
                    0.43470001220703125,
                    0.43639999628067017,
                    0.43560001254081726,
                    0.43533334136009216,
                    0.43556666374206543,
                    0.4347666800022125,
                    0.4345666766166687,
                    0.435699999332428,
                    0.4368000030517578,
                    0.4361666738986969,
                    0.43663331866264343,
                    0.43540000915527344,
                    0.4386333227157593,
                    0.43716666102409363,
                    0.43736666440963745,
                    0.43746668100357056,
                    0.4374000132083893,
                    0.4380333423614502,
                    0.43869999051094055,
                    0.44066667556762695,
                    0.43923333287239075,
                    0.4389333426952362,
                    0.4396333396434784,
                    0.44040000438690186,
                    0.43860000371932983,
                    0.44046667218208313,
                    0.4411333203315735,
                    0.44066667556762695,
                    0.4415999948978424,
                    0.44003334641456604,
                    0.44179999828338623,
                    0.4410666525363922,
                    0.4427333474159241,
                    0.4423333406448364,
                    0.4419666528701782,
                    0.4424999952316284,
                    0.4418666660785675,
                    0.4440666735172272,
                    0.44083333015441895,
                    0.4424000084400177,
                    0.4428333342075348,
                    0.44153332710266113,
                    0.44263333082199097,
                    0.4447000026702881,
                    0.444433331489563,
                    0.4457666575908661,
                    0.4429333209991455,
                    0.44589999318122864,
                    0.443533331155777,
                    0.44563332200050354,
                    0.4452666640281677,
                    0.44316667318344116,
                    0.44296666979789734
                  ],
                  "yaxis": "y"
                },
                {
                  "mode": "lines",
                  "name": "Val_loss",
                  "type": "scatter",
                  "x": [
                    0,
                    1,
                    2,
                    3,
                    4,
                    5,
                    6,
                    7,
                    8,
                    9,
                    10,
                    11,
                    12,
                    13,
                    14,
                    15,
                    16,
                    17,
                    18,
                    19,
                    20,
                    21,
                    22,
                    23,
                    24,
                    25,
                    26,
                    27,
                    28,
                    29,
                    30,
                    31,
                    32,
                    33,
                    34,
                    35,
                    36,
                    37,
                    38,
                    39,
                    40,
                    41,
                    42,
                    43,
                    44,
                    45,
                    46,
                    47,
                    48,
                    49,
                    50,
                    51,
                    52,
                    53,
                    54,
                    55,
                    56,
                    57,
                    58,
                    59,
                    60,
                    61,
                    62,
                    63,
                    64,
                    65,
                    66,
                    67,
                    68,
                    69,
                    70,
                    71,
                    72,
                    73,
                    74,
                    75,
                    76,
                    77,
                    78,
                    79,
                    80,
                    81,
                    82,
                    83,
                    84,
                    85
                  ],
                  "xaxis": "x2",
                  "y": [
                    2.4743597507476807,
                    2.2162277698516846,
                    2.0903513431549072,
                    2.017139196395874,
                    1.9723198413848877,
                    1.9394503831863403,
                    1.916799783706665,
                    1.8996647596359253,
                    1.8844871520996094,
                    1.8742420673370361,
                    1.865471363067627,
                    1.8603360652923584,
                    1.8495091199874878,
                    1.8520264625549316,
                    1.8407280445098877,
                    1.838657259941101,
                    1.8316024541854858,
                    1.8289917707443237,
                    1.8243396282196045,
                    1.8225317001342773,
                    1.8207998275756836,
                    1.8189278841018677,
                    1.8214213848114014,
                    1.8186346292495728,
                    1.8189365863800049,
                    1.810060739517212,
                    1.8073457479476929,
                    1.8089215755462646,
                    1.8076285123825073,
                    1.8114798069000244,
                    1.8058218955993652,
                    1.8103123903274536,
                    1.8042751550674438,
                    1.8046425580978394,
                    1.806830883026123,
                    1.8023226261138916,
                    1.8041497468948364,
                    1.8007310628890991,
                    1.7989107370376587,
                    1.798215389251709,
                    1.7986575365066528,
                    1.7984073162078857,
                    1.798328161239624,
                    1.7983758449554443,
                    1.8007228374481201,
                    1.7955591678619385,
                    1.7951891422271729,
                    1.798399806022644,
                    1.7971022129058838,
                    1.7924869060516357,
                    1.7939436435699463,
                    1.796007513999939,
                    1.7924712896347046,
                    1.795008659362793,
                    1.7917031049728394,
                    1.7983580827713013,
                    1.7925748825073242,
                    1.7936582565307617,
                    1.7901897430419922,
                    1.7974727153778076,
                    1.791612982749939,
                    1.7920032739639282,
                    1.7959015369415283,
                    1.7935949563980103,
                    1.791764497756958,
                    1.790314793586731,
                    1.7954503297805786,
                    1.7899796962738037,
                    1.7910677194595337,
                    1.7882981300354004,
                    1.7916861772537231,
                    1.7905813455581665,
                    1.7909044027328491,
                    1.7883729934692383,
                    1.7912757396697998,
                    1.785225749015808,
                    1.7900196313858032,
                    1.7953150272369385,
                    1.7959216833114624,
                    1.7898061275482178,
                    1.7882932424545288,
                    1.7922526597976685,
                    1.7904001474380493,
                    1.7892006635665894,
                    1.7890126705169678,
                    1.789273977279663
                  ],
                  "yaxis": "y2"
                },
                {
                  "mode": "lines",
                  "name": "Loss",
                  "type": "scatter",
                  "x": [
                    0,
                    1,
                    2,
                    3,
                    4,
                    5,
                    6,
                    7,
                    8,
                    9,
                    10,
                    11,
                    12,
                    13,
                    14,
                    15,
                    16,
                    17,
                    18,
                    19,
                    20,
                    21,
                    22,
                    23,
                    24,
                    25,
                    26,
                    27,
                    28,
                    29,
                    30,
                    31,
                    32,
                    33,
                    34,
                    35,
                    36,
                    37,
                    38,
                    39,
                    40,
                    41,
                    42,
                    43,
                    44,
                    45,
                    46,
                    47,
                    48,
                    49,
                    50,
                    51,
                    52,
                    53,
                    54,
                    55,
                    56,
                    57,
                    58,
                    59,
                    60,
                    61,
                    62,
                    63,
                    64,
                    65,
                    66,
                    67,
                    68,
                    69,
                    70,
                    71,
                    72,
                    73,
                    74,
                    75,
                    76,
                    77,
                    78,
                    79,
                    80,
                    81,
                    82,
                    83,
                    84,
                    85
                  ],
                  "xaxis": "x2",
                  "y": [
                    2.844224691390991,
                    2.334099531173706,
                    2.152200937271118,
                    2.055283308029175,
                    1.9946763515472412,
                    1.954371690750122,
                    1.9251272678375244,
                    1.9027811288833618,
                    1.885395884513855,
                    1.872170090675354,
                    1.8601322174072266,
                    1.849194884300232,
                    1.8414846658706665,
                    1.8339353799819946,
                    1.8270113468170166,
                    1.8215205669403076,
                    1.815800428390503,
                    1.811598777770996,
                    1.807411551475525,
                    1.8037089109420776,
                    1.8005326986312866,
                    1.7976129055023193,
                    1.793813705444336,
                    1.7919032573699951,
                    1.7887436151504517,
                    1.7878401279449463,
                    1.7844947576522827,
                    1.7818721532821655,
                    1.780571460723877,
                    1.7786253690719604,
                    1.776804804801941,
                    1.774867057800293,
                    1.7736890316009521,
                    1.771672248840332,
                    1.7702267169952393,
                    1.7692692279815674,
                    1.7679352760314941,
                    1.766699194908142,
                    1.764809012413025,
                    1.7641032934188843,
                    1.7634541988372803,
                    1.761866569519043,
                    1.7601794004440308,
                    1.7597236633300781,
                    1.7594178915023804,
                    1.7577067613601685,
                    1.7570914030075073,
                    1.75606369972229,
                    1.7548713684082031,
                    1.7543079853057861,
                    1.7523186206817627,
                    1.752884864807129,
                    1.7514148950576782,
                    1.7504689693450928,
                    1.7494457960128784,
                    1.749499797821045,
                    1.7488073110580444,
                    1.7478135824203491,
                    1.7463743686676025,
                    1.7464579343795776,
                    1.7450039386749268,
                    1.7436480522155762,
                    1.7444138526916504,
                    1.7426387071609497,
                    1.7426273822784424,
                    1.741143822669983,
                    1.7404252290725708,
                    1.7401599884033203,
                    1.7396554946899414,
                    1.7381420135498047,
                    1.7383365631103516,
                    1.7383252382278442,
                    1.7373032569885254,
                    1.7372902631759644,
                    1.7354867458343506,
                    1.7346112728118896,
                    1.7347593307495117,
                    1.7341721057891846,
                    1.733193039894104,
                    1.733339548110962,
                    1.733074426651001,
                    1.7321462631225586,
                    1.730902075767517,
                    1.7299585342407227,
                    1.7301878929138184,
                    1.7305084466934204
                  ],
                  "yaxis": "y2"
                }
              ],
              "layout": {
                "annotations": [
                  {
                    "font": {
                      "size": 16
                    },
                    "showarrow": false,
                    "text": "Accuracy",
                    "x": 0.5,
                    "xanchor": "center",
                    "xref": "paper",
                    "y": 1,
                    "yanchor": "bottom",
                    "yref": "paper"
                  },
                  {
                    "font": {
                      "size": 16
                    },
                    "showarrow": false,
                    "text": "Cross-Entropy",
                    "x": 0.5,
                    "xanchor": "center",
                    "xref": "paper",
                    "y": 0.375,
                    "yanchor": "bottom",
                    "yref": "paper"
                  }
                ],
                "height": 800,
                "legend": {
                  "title": {
                    "text": "Leyenda"
                  },
                  "tracegroupgap": 90
                },
                "template": {
                  "data": {
                    "bar": [
                      {
                        "error_x": {
                          "color": "#2a3f5f"
                        },
                        "error_y": {
                          "color": "#2a3f5f"
                        },
                        "marker": {
                          "line": {
                            "color": "#E5ECF6",
                            "width": 0.5
                          },
                          "pattern": {
                            "fillmode": "overlay",
                            "size": 10,
                            "solidity": 0.2
                          }
                        },
                        "type": "bar"
                      }
                    ],
                    "barpolar": [
                      {
                        "marker": {
                          "line": {
                            "color": "#E5ECF6",
                            "width": 0.5
                          },
                          "pattern": {
                            "fillmode": "overlay",
                            "size": 10,
                            "solidity": 0.2
                          }
                        },
                        "type": "barpolar"
                      }
                    ],
                    "carpet": [
                      {
                        "aaxis": {
                          "endlinecolor": "#2a3f5f",
                          "gridcolor": "white",
                          "linecolor": "white",
                          "minorgridcolor": "white",
                          "startlinecolor": "#2a3f5f"
                        },
                        "baxis": {
                          "endlinecolor": "#2a3f5f",
                          "gridcolor": "white",
                          "linecolor": "white",
                          "minorgridcolor": "white",
                          "startlinecolor": "#2a3f5f"
                        },
                        "type": "carpet"
                      }
                    ],
                    "choropleth": [
                      {
                        "colorbar": {
                          "outlinewidth": 0,
                          "ticks": ""
                        },
                        "type": "choropleth"
                      }
                    ],
                    "contour": [
                      {
                        "colorbar": {
                          "outlinewidth": 0,
                          "ticks": ""
                        },
                        "colorscale": [
                          [
                            0,
                            "#0d0887"
                          ],
                          [
                            0.1111111111111111,
                            "#46039f"
                          ],
                          [
                            0.2222222222222222,
                            "#7201a8"
                          ],
                          [
                            0.3333333333333333,
                            "#9c179e"
                          ],
                          [
                            0.4444444444444444,
                            "#bd3786"
                          ],
                          [
                            0.5555555555555556,
                            "#d8576b"
                          ],
                          [
                            0.6666666666666666,
                            "#ed7953"
                          ],
                          [
                            0.7777777777777778,
                            "#fb9f3a"
                          ],
                          [
                            0.8888888888888888,
                            "#fdca26"
                          ],
                          [
                            1,
                            "#f0f921"
                          ]
                        ],
                        "type": "contour"
                      }
                    ],
                    "contourcarpet": [
                      {
                        "colorbar": {
                          "outlinewidth": 0,
                          "ticks": ""
                        },
                        "type": "contourcarpet"
                      }
                    ],
                    "heatmap": [
                      {
                        "colorbar": {
                          "outlinewidth": 0,
                          "ticks": ""
                        },
                        "colorscale": [
                          [
                            0,
                            "#0d0887"
                          ],
                          [
                            0.1111111111111111,
                            "#46039f"
                          ],
                          [
                            0.2222222222222222,
                            "#7201a8"
                          ],
                          [
                            0.3333333333333333,
                            "#9c179e"
                          ],
                          [
                            0.4444444444444444,
                            "#bd3786"
                          ],
                          [
                            0.5555555555555556,
                            "#d8576b"
                          ],
                          [
                            0.6666666666666666,
                            "#ed7953"
                          ],
                          [
                            0.7777777777777778,
                            "#fb9f3a"
                          ],
                          [
                            0.8888888888888888,
                            "#fdca26"
                          ],
                          [
                            1,
                            "#f0f921"
                          ]
                        ],
                        "type": "heatmap"
                      }
                    ],
                    "heatmapgl": [
                      {
                        "colorbar": {
                          "outlinewidth": 0,
                          "ticks": ""
                        },
                        "colorscale": [
                          [
                            0,
                            "#0d0887"
                          ],
                          [
                            0.1111111111111111,
                            "#46039f"
                          ],
                          [
                            0.2222222222222222,
                            "#7201a8"
                          ],
                          [
                            0.3333333333333333,
                            "#9c179e"
                          ],
                          [
                            0.4444444444444444,
                            "#bd3786"
                          ],
                          [
                            0.5555555555555556,
                            "#d8576b"
                          ],
                          [
                            0.6666666666666666,
                            "#ed7953"
                          ],
                          [
                            0.7777777777777778,
                            "#fb9f3a"
                          ],
                          [
                            0.8888888888888888,
                            "#fdca26"
                          ],
                          [
                            1,
                            "#f0f921"
                          ]
                        ],
                        "type": "heatmapgl"
                      }
                    ],
                    "histogram": [
                      {
                        "marker": {
                          "pattern": {
                            "fillmode": "overlay",
                            "size": 10,
                            "solidity": 0.2
                          }
                        },
                        "type": "histogram"
                      }
                    ],
                    "histogram2d": [
                      {
                        "colorbar": {
                          "outlinewidth": 0,
                          "ticks": ""
                        },
                        "colorscale": [
                          [
                            0,
                            "#0d0887"
                          ],
                          [
                            0.1111111111111111,
                            "#46039f"
                          ],
                          [
                            0.2222222222222222,
                            "#7201a8"
                          ],
                          [
                            0.3333333333333333,
                            "#9c179e"
                          ],
                          [
                            0.4444444444444444,
                            "#bd3786"
                          ],
                          [
                            0.5555555555555556,
                            "#d8576b"
                          ],
                          [
                            0.6666666666666666,
                            "#ed7953"
                          ],
                          [
                            0.7777777777777778,
                            "#fb9f3a"
                          ],
                          [
                            0.8888888888888888,
                            "#fdca26"
                          ],
                          [
                            1,
                            "#f0f921"
                          ]
                        ],
                        "type": "histogram2d"
                      }
                    ],
                    "histogram2dcontour": [
                      {
                        "colorbar": {
                          "outlinewidth": 0,
                          "ticks": ""
                        },
                        "colorscale": [
                          [
                            0,
                            "#0d0887"
                          ],
                          [
                            0.1111111111111111,
                            "#46039f"
                          ],
                          [
                            0.2222222222222222,
                            "#7201a8"
                          ],
                          [
                            0.3333333333333333,
                            "#9c179e"
                          ],
                          [
                            0.4444444444444444,
                            "#bd3786"
                          ],
                          [
                            0.5555555555555556,
                            "#d8576b"
                          ],
                          [
                            0.6666666666666666,
                            "#ed7953"
                          ],
                          [
                            0.7777777777777778,
                            "#fb9f3a"
                          ],
                          [
                            0.8888888888888888,
                            "#fdca26"
                          ],
                          [
                            1,
                            "#f0f921"
                          ]
                        ],
                        "type": "histogram2dcontour"
                      }
                    ],
                    "mesh3d": [
                      {
                        "colorbar": {
                          "outlinewidth": 0,
                          "ticks": ""
                        },
                        "type": "mesh3d"
                      }
                    ],
                    "parcoords": [
                      {
                        "line": {
                          "colorbar": {
                            "outlinewidth": 0,
                            "ticks": ""
                          }
                        },
                        "type": "parcoords"
                      }
                    ],
                    "pie": [
                      {
                        "automargin": true,
                        "type": "pie"
                      }
                    ],
                    "scatter": [
                      {
                        "marker": {
                          "colorbar": {
                            "outlinewidth": 0,
                            "ticks": ""
                          }
                        },
                        "type": "scatter"
                      }
                    ],
                    "scatter3d": [
                      {
                        "line": {
                          "colorbar": {
                            "outlinewidth": 0,
                            "ticks": ""
                          }
                        },
                        "marker": {
                          "colorbar": {
                            "outlinewidth": 0,
                            "ticks": ""
                          }
                        },
                        "type": "scatter3d"
                      }
                    ],
                    "scattercarpet": [
                      {
                        "marker": {
                          "colorbar": {
                            "outlinewidth": 0,
                            "ticks": ""
                          }
                        },
                        "type": "scattercarpet"
                      }
                    ],
                    "scattergeo": [
                      {
                        "marker": {
                          "colorbar": {
                            "outlinewidth": 0,
                            "ticks": ""
                          }
                        },
                        "type": "scattergeo"
                      }
                    ],
                    "scattergl": [
                      {
                        "marker": {
                          "colorbar": {
                            "outlinewidth": 0,
                            "ticks": ""
                          }
                        },
                        "type": "scattergl"
                      }
                    ],
                    "scattermapbox": [
                      {
                        "marker": {
                          "colorbar": {
                            "outlinewidth": 0,
                            "ticks": ""
                          }
                        },
                        "type": "scattermapbox"
                      }
                    ],
                    "scatterpolar": [
                      {
                        "marker": {
                          "colorbar": {
                            "outlinewidth": 0,
                            "ticks": ""
                          }
                        },
                        "type": "scatterpolar"
                      }
                    ],
                    "scatterpolargl": [
                      {
                        "marker": {
                          "colorbar": {
                            "outlinewidth": 0,
                            "ticks": ""
                          }
                        },
                        "type": "scatterpolargl"
                      }
                    ],
                    "scatterternary": [
                      {
                        "marker": {
                          "colorbar": {
                            "outlinewidth": 0,
                            "ticks": ""
                          }
                        },
                        "type": "scatterternary"
                      }
                    ],
                    "surface": [
                      {
                        "colorbar": {
                          "outlinewidth": 0,
                          "ticks": ""
                        },
                        "colorscale": [
                          [
                            0,
                            "#0d0887"
                          ],
                          [
                            0.1111111111111111,
                            "#46039f"
                          ],
                          [
                            0.2222222222222222,
                            "#7201a8"
                          ],
                          [
                            0.3333333333333333,
                            "#9c179e"
                          ],
                          [
                            0.4444444444444444,
                            "#bd3786"
                          ],
                          [
                            0.5555555555555556,
                            "#d8576b"
                          ],
                          [
                            0.6666666666666666,
                            "#ed7953"
                          ],
                          [
                            0.7777777777777778,
                            "#fb9f3a"
                          ],
                          [
                            0.8888888888888888,
                            "#fdca26"
                          ],
                          [
                            1,
                            "#f0f921"
                          ]
                        ],
                        "type": "surface"
                      }
                    ],
                    "table": [
                      {
                        "cells": {
                          "fill": {
                            "color": "#EBF0F8"
                          },
                          "line": {
                            "color": "white"
                          }
                        },
                        "header": {
                          "fill": {
                            "color": "#C8D4E3"
                          },
                          "line": {
                            "color": "white"
                          }
                        },
                        "type": "table"
                      }
                    ]
                  },
                  "layout": {
                    "annotationdefaults": {
                      "arrowcolor": "#2a3f5f",
                      "arrowhead": 0,
                      "arrowwidth": 1
                    },
                    "autotypenumbers": "strict",
                    "coloraxis": {
                      "colorbar": {
                        "outlinewidth": 0,
                        "ticks": ""
                      }
                    },
                    "colorscale": {
                      "diverging": [
                        [
                          0,
                          "#8e0152"
                        ],
                        [
                          0.1,
                          "#c51b7d"
                        ],
                        [
                          0.2,
                          "#de77ae"
                        ],
                        [
                          0.3,
                          "#f1b6da"
                        ],
                        [
                          0.4,
                          "#fde0ef"
                        ],
                        [
                          0.5,
                          "#f7f7f7"
                        ],
                        [
                          0.6,
                          "#e6f5d0"
                        ],
                        [
                          0.7,
                          "#b8e186"
                        ],
                        [
                          0.8,
                          "#7fbc41"
                        ],
                        [
                          0.9,
                          "#4d9221"
                        ],
                        [
                          1,
                          "#276419"
                        ]
                      ],
                      "sequential": [
                        [
                          0,
                          "#0d0887"
                        ],
                        [
                          0.1111111111111111,
                          "#46039f"
                        ],
                        [
                          0.2222222222222222,
                          "#7201a8"
                        ],
                        [
                          0.3333333333333333,
                          "#9c179e"
                        ],
                        [
                          0.4444444444444444,
                          "#bd3786"
                        ],
                        [
                          0.5555555555555556,
                          "#d8576b"
                        ],
                        [
                          0.6666666666666666,
                          "#ed7953"
                        ],
                        [
                          0.7777777777777778,
                          "#fb9f3a"
                        ],
                        [
                          0.8888888888888888,
                          "#fdca26"
                        ],
                        [
                          1,
                          "#f0f921"
                        ]
                      ],
                      "sequentialminus": [
                        [
                          0,
                          "#0d0887"
                        ],
                        [
                          0.1111111111111111,
                          "#46039f"
                        ],
                        [
                          0.2222222222222222,
                          "#7201a8"
                        ],
                        [
                          0.3333333333333333,
                          "#9c179e"
                        ],
                        [
                          0.4444444444444444,
                          "#bd3786"
                        ],
                        [
                          0.5555555555555556,
                          "#d8576b"
                        ],
                        [
                          0.6666666666666666,
                          "#ed7953"
                        ],
                        [
                          0.7777777777777778,
                          "#fb9f3a"
                        ],
                        [
                          0.8888888888888888,
                          "#fdca26"
                        ],
                        [
                          1,
                          "#f0f921"
                        ]
                      ]
                    },
                    "colorway": [
                      "#636efa",
                      "#EF553B",
                      "#00cc96",
                      "#ab63fa",
                      "#FFA15A",
                      "#19d3f3",
                      "#FF6692",
                      "#B6E880",
                      "#FF97FF",
                      "#FECB52"
                    ],
                    "font": {
                      "color": "#2a3f5f"
                    },
                    "geo": {
                      "bgcolor": "white",
                      "lakecolor": "white",
                      "landcolor": "#E5ECF6",
                      "showlakes": true,
                      "showland": true,
                      "subunitcolor": "white"
                    },
                    "hoverlabel": {
                      "align": "left"
                    },
                    "hovermode": "closest",
                    "mapbox": {
                      "style": "light"
                    },
                    "paper_bgcolor": "white",
                    "plot_bgcolor": "#E5ECF6",
                    "polar": {
                      "angularaxis": {
                        "gridcolor": "white",
                        "linecolor": "white",
                        "ticks": ""
                      },
                      "bgcolor": "#E5ECF6",
                      "radialaxis": {
                        "gridcolor": "white",
                        "linecolor": "white",
                        "ticks": ""
                      }
                    },
                    "scene": {
                      "xaxis": {
                        "backgroundcolor": "#E5ECF6",
                        "gridcolor": "white",
                        "gridwidth": 2,
                        "linecolor": "white",
                        "showbackground": true,
                        "ticks": "",
                        "zerolinecolor": "white"
                      },
                      "yaxis": {
                        "backgroundcolor": "#E5ECF6",
                        "gridcolor": "white",
                        "gridwidth": 2,
                        "linecolor": "white",
                        "showbackground": true,
                        "ticks": "",
                        "zerolinecolor": "white"
                      },
                      "zaxis": {
                        "backgroundcolor": "#E5ECF6",
                        "gridcolor": "white",
                        "gridwidth": 2,
                        "linecolor": "white",
                        "showbackground": true,
                        "ticks": "",
                        "zerolinecolor": "white"
                      }
                    },
                    "shapedefaults": {
                      "line": {
                        "color": "#2a3f5f"
                      }
                    },
                    "ternary": {
                      "aaxis": {
                        "gridcolor": "white",
                        "linecolor": "white",
                        "ticks": ""
                      },
                      "baxis": {
                        "gridcolor": "white",
                        "linecolor": "white",
                        "ticks": ""
                      },
                      "bgcolor": "#E5ECF6",
                      "caxis": {
                        "gridcolor": "white",
                        "linecolor": "white",
                        "ticks": ""
                      }
                    },
                    "title": {
                      "x": 0.05
                    },
                    "xaxis": {
                      "automargin": true,
                      "gridcolor": "white",
                      "linecolor": "white",
                      "ticks": "",
                      "title": {
                        "standoff": 15
                      },
                      "zerolinecolor": "white",
                      "zerolinewidth": 2
                    },
                    "yaxis": {
                      "automargin": true,
                      "gridcolor": "white",
                      "linecolor": "white",
                      "ticks": "",
                      "title": {
                        "standoff": 15
                      },
                      "zerolinecolor": "white",
                      "zerolinewidth": 2
                    }
                  }
                },
                "title": {
                  "text": "Resultados entrenamiento de la Red Neuronal"
                },
                "width": 1000,
                "xaxis": {
                  "anchor": "y",
                  "domain": [
                    0,
                    1
                  ]
                },
                "xaxis2": {
                  "anchor": "y2",
                  "domain": [
                    0,
                    1
                  ],
                  "title": {
                    "text": "Epoch"
                  }
                },
                "yaxis": {
                  "anchor": "x",
                  "domain": [
                    0.625,
                    1
                  ],
                  "title": {
                    "text": "Accuracy"
                  }
                },
                "yaxis2": {
                  "anchor": "x2",
                  "domain": [
                    0,
                    0.375
                  ],
                  "title": {
                    "text": "Loss"
                  }
                }
              }
            }
          },
          "metadata": {},
          "output_type": "display_data"
        }
      ],
      "source": [
        "# Visualización\n",
        "history_dict=history_callback.history\n",
        "fig = make_subplots(\n",
        "    rows=2, cols=1,\n",
        "    subplot_titles=(\"Accuracy\", \"Cross-Entropy\"))\n",
        "# Create traces\n",
        "\n",
        "fig.add_trace(go.Scatter(x=list(range(len(history_dict['accuracy']))), y=history_dict['val_accuracy'],\n",
        "                    mode='lines',\n",
        "                    name='Val_accuracy'),row=1, col=1)\n",
        "fig.add_trace(go.Scatter(x=list(range(len(history_dict['accuracy']))), y=history_dict['accuracy'],\n",
        "                    mode='lines',\n",
        "                    name='Accuracy'),row=1, col=1)\n",
        "\n",
        "fig.add_trace(go.Scatter(x=list(range(len(history_dict['accuracy']))), y=history_dict['val_loss'],\n",
        "                    mode='lines',\n",
        "                    name='Val_loss'),row=2, col=1)\n",
        "\n",
        "fig.add_trace(go.Scatter(x=list(range(len(history_dict['accuracy']))), y=history_dict['loss'],\n",
        "                    mode='lines',\n",
        "                    name='Loss'),row=2, col=1)\n",
        "\n",
        "fig.update_layout(title_text=\"Resultados entrenamiento de la Red Neuronal\",\n",
        "                      height=800,\n",
        "                      width=1000,font=dict(#color=\"white\"\n",
        "                      ),#template=\"plotly_dark\",\n",
        "                      legend_tracegroupgap = 90,legend_title=\"Leyenda\")\n",
        "\n",
        "fig.update_xaxes(title_text=\"Epoch\",row=2, col=1)\n",
        "fig.update_yaxes(title_text=\"Accuracy\", row=1, col=1)\n",
        "fig.update_yaxes(title_text=\"Loss\", row=2, col=1)\n",
        "\n",
        "fig.show()"
      ]
    },
    {
      "cell_type": "markdown",
      "metadata": {
        "id": "uaTduJhpYK-X"
      },
      "source": [
        "--------------------"
      ]
    },
    {
      "cell_type": "code",
      "execution_count": 60,
      "metadata": {
        "id": "u9JgtLpLyElS"
      },
      "outputs": [],
      "source": [
        "# Guardar pipe:\n",
        "pickle.dump(pipe1, open('pipe_rn.pkl', \"wb\"))"
      ]
    },
    {
      "cell_type": "code",
      "execution_count": 64,
      "metadata": {
        "id": "XaD9cHUHyElT"
      },
      "outputs": [],
      "source": [
        "# Leer pipe:\n",
        "pipe1= pickle.load(open('pipe_rn.pkl', 'rb'))"
      ]
    },
    {
      "cell_type": "code",
      "execution_count": 61,
      "metadata": {
        "id": "omjeQTY6yElT"
      },
      "outputs": [],
      "source": [
        "# Guardar enc:\n",
        "pickle.dump(enc, open('encoder.pkl', \"wb\"))"
      ]
    },
    {
      "cell_type": "code",
      "execution_count": 65,
      "metadata": {
        "id": "eqSmYzonyElT"
      },
      "outputs": [],
      "source": [
        "# Leer enc:\n",
        "enc= pickle.load(open('encoder.pkl', 'rb'))"
      ]
    },
    {
      "cell_type": "code",
      "execution_count": 62,
      "metadata": {
        "id": "xCUDFVCMYK-X"
      },
      "outputs": [],
      "source": [
        "# Guardar el Modelo\n",
        "model1.save('my_model1.h5')\n",
        "\n"
      ]
    },
    {
      "cell_type": "code",
      "execution_count": 66,
      "metadata": {
        "id": "ZTEdh_XAyElU",
        "outputId": "9835ed7a-272f-4cb2-b968-e79ee47a5752"
      },
      "outputs": [
        {
          "name": "stdout",
          "output_type": "stream",
          "text": [
            "Model: \"sequential_4\"\n",
            "_________________________________________________________________\n",
            " Layer (type)                Output Shape              Param #   \n",
            "=================================================================\n",
            " dense_11 (Dense)            (None, 4)                 2344      \n",
            "                                                                 \n",
            " dense_12 (Dense)            (None, 35)                175       \n",
            "                                                                 \n",
            "=================================================================\n",
            "Total params: 2,519\n",
            "Trainable params: 2,519\n",
            "Non-trainable params: 0\n",
            "_________________________________________________________________\n"
          ]
        }
      ],
      "source": [
        "# Recrea exactamente el mismo modelo solo desde el archivo\n",
        "model1 = keras.models.load_model('my_model1.h5')\n",
        "\n",
        "model1.summary()"
      ]
    },
    {
      "cell_type": "markdown",
      "metadata": {
        "id": "yE34uoXIYK-X"
      },
      "source": [
        "----------------------"
      ]
    },
    {
      "cell_type": "code",
      "execution_count": 67,
      "metadata": {
        "id": "Ats4MfsXyElW",
        "outputId": "ed88d0ee-6621-45e5-b107-69560ae3f806"
      },
      "outputs": [
        {
          "name": "stdout",
          "output_type": "stream",
          "text": [
            "671/671 [==============================] - 2s 2ms/step\n"
          ]
        }
      ],
      "source": [
        "  ### Genero la predicción con el modelo\n",
        "y_pred = model1.predict(X_test1)"
      ]
    },
    {
      "cell_type": "code",
      "execution_count": 68,
      "metadata": {
        "id": "bfF62pYjyElX"
      },
      "outputs": [],
      "source": [
        "y_pred_1col = np.argmax(y_pred, axis=1, out=None) "
      ]
    },
    {
      "cell_type": "code",
      "execution_count": 69,
      "metadata": {
        "id": "BqFL6t9CyElY"
      },
      "outputs": [],
      "source": [
        "y_pred_1col = pd.DataFrame(y_pred_1col, columns= ['target'])"
      ]
    },
    {
      "cell_type": "code",
      "execution_count": 70,
      "metadata": {
        "id": "IQL4fyVXyElY"
      },
      "outputs": [],
      "source": [
        "y_test_1col = pd.DataFrame(enc.inverse_transform(Y_test), columns= ['target']).replace(inv_map)"
      ]
    },
    {
      "cell_type": "code",
      "execution_count": 71,
      "metadata": {},
      "outputs": [
        {
          "data": {
            "text/plain": [
              "array([[0., 0., 0., ..., 0., 0., 0.],\n",
              "       [0., 0., 0., ..., 0., 0., 0.],\n",
              "       [0., 0., 0., ..., 0., 0., 0.],\n",
              "       ...,\n",
              "       [0., 0., 0., ..., 0., 0., 0.],\n",
              "       [1., 0., 0., ..., 0., 0., 0.],\n",
              "       [0., 0., 0., ..., 0., 0., 0.]])"
            ]
          },
          "execution_count": 71,
          "metadata": {},
          "output_type": "execute_result"
        }
      ],
      "source": [
        "Y_test"
      ]
    },
    {
      "cell_type": "code",
      "execution_count": 72,
      "metadata": {
        "colab": {
          "base_uri": "https://localhost:8080/"
        },
        "id": "9AoGJsA8yEla",
        "outputId": "e2cdf56d-7f20-4caa-f68e-2dba32e12e67"
      },
      "outputs": [
        {
          "data": {
            "text/plain": [
              "0.6912744641192917"
            ]
          },
          "execution_count": 72,
          "metadata": {},
          "output_type": "execute_result"
        }
      ],
      "source": [
        "Ypred_map=y_pred_1col[\"target\"].replace(dic).apply( lambda x: x.split(\" \"))\n",
        "Ytest_map=y_test_1col[\"target\"].replace(dic).apply( lambda x: x.split(\" \"))\n",
        "ml_metrics.mapk(Ytest_map, Ypred_map, 5)"
      ]
    },
    {
      "cell_type": "code",
      "execution_count": 73,
      "metadata": {
        "id": "1ERbNNrByElj",
        "outputId": "f91b9d8c-bee5-44a3-cea9-f89244eb55d8"
      },
      "outputs": [
        {
          "name": "stdout",
          "output_type": "stream",
          "text": [
            "671/671 [==============================] - 2s 2ms/step - loss: 1.7893 - accuracy: 0.4414\n",
            "Test loss: 1.7892714738845825\n",
            "Test accuracy: 0.4413793087005615\n",
            "[1.7892714738845825, 0.4413793087005615]\n"
          ]
        }
      ],
      "source": [
        "scores = model1.evaluate(X_test1, Y_test, verbose=1)\n",
        "print('Test loss:', scores[0])\n",
        "print('Test accuracy:', scores[1])\n",
        "print(scores)"
      ]
    }
  ],
  "metadata": {
    "colab": {
      "collapsed_sections": [],
      "name": "Entrenamiento_Modelo_Redes_Neuronales_2.0.ipynb",
      "provenance": []
    },
    "interpreter": {
      "hash": "65e97ffa20fbdd895c76c3a1d2c2ade704754874d6e45df701862667e65d73d7"
    },
    "kernelspec": {
      "display_name": "Python 3.9.6 ('Programacion_Cientifica')",
      "language": "python",
      "name": "python3"
    },
    "language_info": {
      "codemirror_mode": {
        "name": "ipython",
        "version": 3
      },
      "file_extension": ".py",
      "mimetype": "text/x-python",
      "name": "python",
      "nbconvert_exporter": "python",
      "pygments_lexer": "ipython3",
      "version": "3.9.6"
    },
    "orig_nbformat": 4
  },
  "nbformat": 4,
  "nbformat_minor": 0
}
