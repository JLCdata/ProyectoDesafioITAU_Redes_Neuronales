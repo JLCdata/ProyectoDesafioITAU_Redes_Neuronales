{
 "cells": [
  {
   "cell_type": "markdown",
   "metadata": {},
   "source": [
    "# Grid Search modelos finales no basados en Redes Neuronales"
   ]
  },
  {
   "cell_type": "code",
   "execution_count": null,
   "metadata": {},
   "outputs": [],
   "source": [
    "import pandas as pd\n",
    "import numpy as np\n",
    "\n",
    "import missingno as msno\n",
    "import matplotlib.pyplot as plt\n",
    "import plotly.express as px\n",
    "\n",
    "from sklearn.ensemble import RandomForestClassifier\n",
    "from sklearn.metrics import classification_report\n",
    "from sklearn.model_selection import train_test_split \n",
    "from sklearn.decomposition import PCA\n",
    "from sklearn.pipeline import Pipeline\n",
    "from sklearn.decomposition import TruncatedSVD\n",
    "\n",
    "from sklearn.compose import ColumnTransformer\n",
    "from sklearn.preprocessing import MinMaxScaler\n",
    "from sklearn.preprocessing import OneHotEncoder\n",
    "import datetime\n",
    "from dateutil.parser import parse\n",
    "from sklearn.tree import  DecisionTreeClassifier\n",
    "import plotly.graph_objects as go\n",
    "import umap\n",
    "from imblearn.under_sampling import RandomUnderSampler\n",
    "from imblearn.over_sampling import RandomOverSampler\n",
    "import xgboost as xgb\n",
    "from sklearn.naive_bayes import MultinomialNB\n",
    "from sklearn.model_selection import GridSearchCV\n",
    "import ml_metrics\n",
    "import pickle\n"
   ]
  },
  {
   "cell_type": "code",
   "execution_count": 90,
   "metadata": {},
   "outputs": [
    {
     "name": "stderr",
     "output_type": "stream",
     "text": [
      "c:\\Users\\Jose Luis\\anaconda3\\envs\\Programacion_Cientifica\\lib\\site-packages\\IPython\\core\\interactiveshell.py:3441: DtypeWarning:\n",
      "\n",
      "Columns (40) have mixed types.Specify dtype option on import or set low_memory=False.\n",
      "\n"
     ]
    },
    {
     "data": {
      "text/html": [
       "<div>\n",
       "<style scoped>\n",
       "    .dataframe tbody tr th:only-of-type {\n",
       "        vertical-align: middle;\n",
       "    }\n",
       "\n",
       "    .dataframe tbody tr th {\n",
       "        vertical-align: top;\n",
       "    }\n",
       "\n",
       "    .dataframe thead th {\n",
       "        text-align: right;\n",
       "    }\n",
       "</style>\n",
       "<table border=\"1\" class=\"dataframe\">\n",
       "  <thead>\n",
       "    <tr style=\"text-align: right;\">\n",
       "      <th></th>\n",
       "      <th>pref_B-B</th>\n",
       "      <th>pref_D-E</th>\n",
       "      <th>pref_C-D</th>\n",
       "      <th>pref_A-A</th>\n",
       "      <th>Duracion_Campaña</th>\n",
       "      <th>B</th>\n",
       "      <th>C</th>\n",
       "      <th>lec_B-B</th>\n",
       "      <th>lec_E-E</th>\n",
       "      <th>lec_D-E</th>\n",
       "      <th>...</th>\n",
       "      <th>Renta</th>\n",
       "      <th>Recibe_sueldo_en_cuenta</th>\n",
       "      <th>Segmento_consumidor</th>\n",
       "      <th>Meses_antiguedad</th>\n",
       "      <th>Comuna</th>\n",
       "      <th>Ciudad</th>\n",
       "      <th>Estado_civil</th>\n",
       "      <th>Principalidad</th>\n",
       "      <th>Profesion</th>\n",
       "      <th>Target</th>\n",
       "    </tr>\n",
       "  </thead>\n",
       "  <tbody>\n",
       "    <tr>\n",
       "      <th>0</th>\n",
       "      <td>0.0</td>\n",
       "      <td>0.0</td>\n",
       "      <td>0.0</td>\n",
       "      <td>0.0</td>\n",
       "      <td>1.0</td>\n",
       "      <td>4.0</td>\n",
       "      <td>5.0</td>\n",
       "      <td>5.0</td>\n",
       "      <td>0.0</td>\n",
       "      <td>0.0</td>\n",
       "      <td>...</td>\n",
       "      <td>R1</td>\n",
       "      <td>0</td>\n",
       "      <td>A</td>\n",
       "      <td>Mayor a 10 años</td>\n",
       "      <td>331.0</td>\n",
       "      <td>13.0</td>\n",
       "      <td>D</td>\n",
       "      <td>B</td>\n",
       "      <td>P164</td>\n",
       "      <td></td>\n",
       "    </tr>\n",
       "    <tr>\n",
       "      <th>1</th>\n",
       "      <td>0.0</td>\n",
       "      <td>0.0</td>\n",
       "      <td>0.0</td>\n",
       "      <td>0.0</td>\n",
       "      <td>1.0</td>\n",
       "      <td>2.0</td>\n",
       "      <td>9.0</td>\n",
       "      <td>14.0</td>\n",
       "      <td>1.0</td>\n",
       "      <td>1.0</td>\n",
       "      <td>...</td>\n",
       "      <td>R9</td>\n",
       "      <td>0</td>\n",
       "      <td>B</td>\n",
       "      <td>Mayor a 10 años</td>\n",
       "      <td>37.0</td>\n",
       "      <td>5.0</td>\n",
       "      <td>D</td>\n",
       "      <td>E</td>\n",
       "      <td>P164</td>\n",
       "      <td>D-E C-D E-E B-B</td>\n",
       "    </tr>\n",
       "    <tr>\n",
       "      <th>2</th>\n",
       "      <td>0.0</td>\n",
       "      <td>0.0</td>\n",
       "      <td>0.0</td>\n",
       "      <td>0.0</td>\n",
       "      <td>1.0</td>\n",
       "      <td>2.0</td>\n",
       "      <td>2.0</td>\n",
       "      <td>5.0</td>\n",
       "      <td>0.0</td>\n",
       "      <td>0.0</td>\n",
       "      <td>...</td>\n",
       "      <td>R9</td>\n",
       "      <td>1</td>\n",
       "      <td>B</td>\n",
       "      <td>Mayor a 10 años</td>\n",
       "      <td>19.0</td>\n",
       "      <td>4.0</td>\n",
       "      <td>B</td>\n",
       "      <td>D</td>\n",
       "      <td>P114</td>\n",
       "      <td>E-E A-A B-B</td>\n",
       "    </tr>\n",
       "    <tr>\n",
       "      <th>3</th>\n",
       "      <td>0.0</td>\n",
       "      <td>0.0</td>\n",
       "      <td>0.0</td>\n",
       "      <td>0.0</td>\n",
       "      <td>1.0</td>\n",
       "      <td>6.0</td>\n",
       "      <td>6.0</td>\n",
       "      <td>8.0</td>\n",
       "      <td>0.0</td>\n",
       "      <td>1.0</td>\n",
       "      <td>...</td>\n",
       "      <td>R4</td>\n",
       "      <td>0</td>\n",
       "      <td>A</td>\n",
       "      <td>Mayor a 10 años</td>\n",
       "      <td>91.0</td>\n",
       "      <td>13.0</td>\n",
       "      <td>D</td>\n",
       "      <td>B</td>\n",
       "      <td>P85</td>\n",
       "      <td>E-E B-B D-E</td>\n",
       "    </tr>\n",
       "    <tr>\n",
       "      <th>4</th>\n",
       "      <td>0.0</td>\n",
       "      <td>0.0</td>\n",
       "      <td>0.0</td>\n",
       "      <td>0.0</td>\n",
       "      <td>1.0</td>\n",
       "      <td>2.0</td>\n",
       "      <td>3.0</td>\n",
       "      <td>1.0</td>\n",
       "      <td>0.0</td>\n",
       "      <td>0.0</td>\n",
       "      <td>...</td>\n",
       "      <td>R5</td>\n",
       "      <td>0</td>\n",
       "      <td>A</td>\n",
       "      <td>Mayor a 10 años</td>\n",
       "      <td>34.0</td>\n",
       "      <td>5.0</td>\n",
       "      <td>B</td>\n",
       "      <td>C</td>\n",
       "      <td>P143</td>\n",
       "      <td>D-E A-A</td>\n",
       "    </tr>\n",
       "  </tbody>\n",
       "</table>\n",
       "<p>5 rows × 44 columns</p>\n",
       "</div>"
      ],
      "text/plain": [
       "   pref_B-B  pref_D-E  pref_C-D  pref_A-A  Duracion_Campaña    B    C  \\\n",
       "0       0.0       0.0       0.0       0.0               1.0  4.0  5.0   \n",
       "1       0.0       0.0       0.0       0.0               1.0  2.0  9.0   \n",
       "2       0.0       0.0       0.0       0.0               1.0  2.0  2.0   \n",
       "3       0.0       0.0       0.0       0.0               1.0  6.0  6.0   \n",
       "4       0.0       0.0       0.0       0.0               1.0  2.0  3.0   \n",
       "\n",
       "   lec_B-B  lec_E-E  lec_D-E  ...  Renta  Recibe_sueldo_en_cuenta  \\\n",
       "0      5.0      0.0      0.0  ...     R1                        0   \n",
       "1     14.0      1.0      1.0  ...     R9                        0   \n",
       "2      5.0      0.0      0.0  ...     R9                        1   \n",
       "3      8.0      0.0      1.0  ...     R4                        0   \n",
       "4      1.0      0.0      0.0  ...     R5                        0   \n",
       "\n",
       "   Segmento_consumidor  Meses_antiguedad  Comuna  Ciudad  Estado_civil  \\\n",
       "0                    A   Mayor a 10 años   331.0    13.0             D   \n",
       "1                    B   Mayor a 10 años    37.0     5.0             D   \n",
       "2                    B   Mayor a 10 años    19.0     4.0             B   \n",
       "3                    A   Mayor a 10 años    91.0    13.0             D   \n",
       "4                    A   Mayor a 10 años    34.0     5.0             B   \n",
       "\n",
       "   Principalidad  Profesion           Target  \n",
       "0              B       P164                   \n",
       "1              E       P164  D-E C-D E-E B-B  \n",
       "2              D       P114      E-E A-A B-B  \n",
       "3              B        P85      E-E B-B D-E  \n",
       "4              C       P143          D-E A-A  \n",
       "\n",
       "[5 rows x 44 columns]"
      ]
     },
     "execution_count": 90,
     "metadata": {},
     "output_type": "execute_result"
    }
   ],
   "source": [
    "Data=pd.read_csv(\"cleaned_01June2022.csv\").drop(columns=[\"Unnamed: 0\"]).fillna(\"\")\n",
    "Data.head()"
   ]
  },
  {
   "cell_type": "code",
   "execution_count": 91,
   "metadata": {},
   "outputs": [],
   "source": [
    "# datos númericos\n",
    "numerical=list(Data.select_dtypes(exclude=[\"category\",\"object\"]).columns)\n",
    "numerical.remove(\"Sexo\")\n",
    "numerical.remove('Recibe_sueldo_en_cuenta')\n",
    "\n",
    "\n",
    "# datos categorical\n",
    "categorical=list(Data.select_dtypes(include=[\"category\",\"object\"]).columns)+['Sexo','Recibe_sueldo_en_cuenta']\n",
    "categorical.remove(\"Target\")"
   ]
  },
  {
   "cell_type": "code",
   "execution_count": 92,
   "metadata": {},
   "outputs": [],
   "source": [
    "for i in categorical:\n",
    "    Data[i]=Data[i].astype(str)"
   ]
  },
  {
   "cell_type": "code",
   "execution_count": 105,
   "metadata": {},
   "outputs": [],
   "source": [
    "# Según criterio Gini (Todas variables númricas) - Version antigua\n",
    "select_variables=['E-F',\n",
    " 'C-C',\n",
    " 'D-F',\n",
    " 'A-K',\n",
    " 'num_comunicaciones',\n",
    " 'Length',\n",
    " 'pref_A-A',\n",
    " 'Positivo',\n",
    " 'Recency',\n",
    " 'A-G',\n",
    " 'Monto',\n",
    " 'Periodicity',\n",
    " 'Frequency',\n",
    " 'lec_B-B',\n",
    " 'G-K']"
   ]
  },
  {
   "cell_type": "code",
   "execution_count": 123,
   "metadata": {},
   "outputs": [],
   "source": [
    "# Según criterio Gini (Todas variables númricas) - Version nueva\n",
    "select_variables=['E-F',\n",
    " 'C-C',\n",
    " 'D-F',\n",
    " 'A-K',\n",
    " 'pref_A-A',\n",
    " 'num_comunicaciones',\n",
    " 'Length',\n",
    " 'Sin Info',\n",
    " 'F-I',\n",
    " 'Monto',\n",
    " 'B',\n",
    " 'lec_B-B',\n",
    " 'Comuna',\n",
    " 'Edad',\n",
    " 'Ciudad',\n",
    " 'Profesion',\n",
    " 'Renta',\n",
    " 'F-H',\n",
    " 'lec_A-A',\n",
    " 'Principalidad',\n",
    " 'A-L',\n",
    " 'lec_C-D',\n",
    " 'Estado_civil']"
   ]
  },
  {
   "cell_type": "markdown",
   "metadata": {},
   "source": [
    "# Train, Test Split"
   ]
  },
  {
   "cell_type": "code",
   "execution_count": 124,
   "metadata": {},
   "outputs": [
    {
     "data": {
      "text/html": [
       "<div>\n",
       "<style scoped>\n",
       "    .dataframe tbody tr th:only-of-type {\n",
       "        vertical-align: middle;\n",
       "    }\n",
       "\n",
       "    .dataframe tbody tr th {\n",
       "        vertical-align: top;\n",
       "    }\n",
       "\n",
       "    .dataframe thead th {\n",
       "        text-align: right;\n",
       "    }\n",
       "</style>\n",
       "<table border=\"1\" class=\"dataframe\">\n",
       "  <thead>\n",
       "    <tr style=\"text-align: right;\">\n",
       "      <th></th>\n",
       "      <th>E-F</th>\n",
       "      <th>C-C</th>\n",
       "      <th>D-F</th>\n",
       "      <th>A-K</th>\n",
       "      <th>pref_A-A</th>\n",
       "      <th>num_comunicaciones</th>\n",
       "      <th>Length</th>\n",
       "      <th>Sin Info</th>\n",
       "      <th>F-I</th>\n",
       "      <th>Monto</th>\n",
       "      <th>...</th>\n",
       "      <th>Edad</th>\n",
       "      <th>Ciudad</th>\n",
       "      <th>Profesion</th>\n",
       "      <th>Renta</th>\n",
       "      <th>F-H</th>\n",
       "      <th>lec_A-A</th>\n",
       "      <th>Principalidad</th>\n",
       "      <th>A-L</th>\n",
       "      <th>lec_C-D</th>\n",
       "      <th>Estado_civil</th>\n",
       "    </tr>\n",
       "  </thead>\n",
       "  <tbody>\n",
       "    <tr>\n",
       "      <th>0</th>\n",
       "      <td>0</td>\n",
       "      <td>0</td>\n",
       "      <td>0</td>\n",
       "      <td>274</td>\n",
       "      <td>0.0</td>\n",
       "      <td>22.0</td>\n",
       "      <td>371</td>\n",
       "      <td>18</td>\n",
       "      <td>2</td>\n",
       "      <td>180754.821871</td>\n",
       "      <td>...</td>\n",
       "      <td>Mayor a 70</td>\n",
       "      <td>13.0</td>\n",
       "      <td>P164</td>\n",
       "      <td>R1</td>\n",
       "      <td>19</td>\n",
       "      <td>0.0</td>\n",
       "      <td>B</td>\n",
       "      <td>0</td>\n",
       "      <td>0.0</td>\n",
       "      <td>D</td>\n",
       "    </tr>\n",
       "    <tr>\n",
       "      <th>1</th>\n",
       "      <td>3</td>\n",
       "      <td>6</td>\n",
       "      <td>14</td>\n",
       "      <td>148</td>\n",
       "      <td>0.0</td>\n",
       "      <td>21.0</td>\n",
       "      <td>371</td>\n",
       "      <td>19</td>\n",
       "      <td>2</td>\n",
       "      <td>303094.160627</td>\n",
       "      <td>...</td>\n",
       "      <td>Mayor a 70</td>\n",
       "      <td>5.0</td>\n",
       "      <td>P164</td>\n",
       "      <td>R9</td>\n",
       "      <td>5</td>\n",
       "      <td>0.0</td>\n",
       "      <td>E</td>\n",
       "      <td>0</td>\n",
       "      <td>3.0</td>\n",
       "      <td>D</td>\n",
       "    </tr>\n",
       "    <tr>\n",
       "      <th>2</th>\n",
       "      <td>10</td>\n",
       "      <td>0</td>\n",
       "      <td>0</td>\n",
       "      <td>257</td>\n",
       "      <td>0.0</td>\n",
       "      <td>20.0</td>\n",
       "      <td>371</td>\n",
       "      <td>37</td>\n",
       "      <td>5</td>\n",
       "      <td>144339.196858</td>\n",
       "      <td>...</td>\n",
       "      <td>Mayor a 70</td>\n",
       "      <td>4.0</td>\n",
       "      <td>P114</td>\n",
       "      <td>R9</td>\n",
       "      <td>19</td>\n",
       "      <td>0.0</td>\n",
       "      <td>D</td>\n",
       "      <td>1</td>\n",
       "      <td>0.0</td>\n",
       "      <td>B</td>\n",
       "    </tr>\n",
       "    <tr>\n",
       "      <th>3</th>\n",
       "      <td>3</td>\n",
       "      <td>0</td>\n",
       "      <td>2</td>\n",
       "      <td>69</td>\n",
       "      <td>0.0</td>\n",
       "      <td>15.0</td>\n",
       "      <td>371</td>\n",
       "      <td>16</td>\n",
       "      <td>16</td>\n",
       "      <td>154439.534968</td>\n",
       "      <td>...</td>\n",
       "      <td>Mayor a 70</td>\n",
       "      <td>13.0</td>\n",
       "      <td>P85</td>\n",
       "      <td>R4</td>\n",
       "      <td>17</td>\n",
       "      <td>0.0</td>\n",
       "      <td>B</td>\n",
       "      <td>0</td>\n",
       "      <td>1.0</td>\n",
       "      <td>D</td>\n",
       "    </tr>\n",
       "    <tr>\n",
       "      <th>4</th>\n",
       "      <td>0</td>\n",
       "      <td>0</td>\n",
       "      <td>2</td>\n",
       "      <td>51</td>\n",
       "      <td>0.0</td>\n",
       "      <td>26.0</td>\n",
       "      <td>371</td>\n",
       "      <td>20</td>\n",
       "      <td>13</td>\n",
       "      <td>128719.371341</td>\n",
       "      <td>...</td>\n",
       "      <td>Mayor a 70</td>\n",
       "      <td>5.0</td>\n",
       "      <td>P143</td>\n",
       "      <td>R5</td>\n",
       "      <td>15</td>\n",
       "      <td>0.0</td>\n",
       "      <td>C</td>\n",
       "      <td>0</td>\n",
       "      <td>1.0</td>\n",
       "      <td>B</td>\n",
       "    </tr>\n",
       "  </tbody>\n",
       "</table>\n",
       "<p>5 rows × 23 columns</p>\n",
       "</div>"
      ],
      "text/plain": [
       "   E-F  C-C  D-F  A-K  pref_A-A  num_comunicaciones  Length  Sin Info  F-I  \\\n",
       "0    0    0    0  274       0.0                22.0     371        18    2   \n",
       "1    3    6   14  148       0.0                21.0     371        19    2   \n",
       "2   10    0    0  257       0.0                20.0     371        37    5   \n",
       "3    3    0    2   69       0.0                15.0     371        16   16   \n",
       "4    0    0    2   51       0.0                26.0     371        20   13   \n",
       "\n",
       "           Monto  ...        Edad  Ciudad Profesion Renta F-H lec_A-A  \\\n",
       "0  180754.821871  ...  Mayor a 70    13.0      P164    R1  19     0.0   \n",
       "1  303094.160627  ...  Mayor a 70     5.0      P164    R9   5     0.0   \n",
       "2  144339.196858  ...  Mayor a 70     4.0      P114    R9  19     0.0   \n",
       "3  154439.534968  ...  Mayor a 70    13.0       P85    R4  17     0.0   \n",
       "4  128719.371341  ...  Mayor a 70     5.0      P143    R5  15     0.0   \n",
       "\n",
       "  Principalidad  A-L  lec_C-D Estado_civil  \n",
       "0             B    0      0.0            D  \n",
       "1             E    0      3.0            D  \n",
       "2             D    1      0.0            B  \n",
       "3             B    0      1.0            D  \n",
       "4             C    0      1.0            B  \n",
       "\n",
       "[5 rows x 23 columns]"
      ]
     },
     "execution_count": 124,
     "metadata": {},
     "output_type": "execute_result"
    }
   ],
   "source": [
    "X=Data[select_variables]\n",
    "X.head()"
   ]
  },
  {
   "cell_type": "code",
   "execution_count": 125,
   "metadata": {},
   "outputs": [
    {
     "data": {
      "text/plain": [
       "0                   \n",
       "1    D-E C-D E-E B-B\n",
       "2        E-E A-A B-B\n",
       "3        E-E B-B D-E\n",
       "4            D-E A-A\n",
       "Name: Target, dtype: object"
      ]
     },
     "execution_count": 125,
     "metadata": {},
     "output_type": "execute_result"
    }
   ],
   "source": [
    "Y=Data[\"Target\"]\n",
    "Y.head()"
   ]
  },
  {
   "cell_type": "code",
   "execution_count": 126,
   "metadata": {},
   "outputs": [],
   "source": [
    "# Generación de conjuntos de train y test\n",
    "Xtrain, Xtest, Ytrain, Ytest = train_test_split(\n",
    "    X, Y, test_size=0.33, \n",
    "    shuffle=True,\n",
    "    \n",
    ") "
   ]
  },
  {
   "cell_type": "code",
   "execution_count": 127,
   "metadata": {},
   "outputs": [],
   "source": [
    "# Sobremuestreo: Aumentar numero de datos de la clase minoritaria\n",
    "# ROS(Duplica clases):\n",
    "ros=RandomOverSampler(random_state=0) # Random_state=0"
   ]
  },
  {
   "cell_type": "code",
   "execution_count": 128,
   "metadata": {},
   "outputs": [],
   "source": [
    "# ROS:\n",
    "Xtrain, Ytrain=ros.fit_resample(Xtrain,Ytrain)"
   ]
  },
  {
   "cell_type": "code",
   "execution_count": 129,
   "metadata": {},
   "outputs": [],
   "source": [
    "numerical1=list(filter(lambda x:x  in numerical,select_variables))\n",
    "categorical1=list(filter(lambda x:x  in categorical,select_variables))"
   ]
  },
  {
   "cell_type": "code",
   "execution_count": 130,
   "metadata": {},
   "outputs": [],
   "source": [
    "# Preprocesamiento de datos\n",
    "preprocessing_transformer = ColumnTransformer(\n",
    "    transformers=[('OneHotEncoder', OneHotEncoder(handle_unknown=\"ignore\"),categorical1 ),\n",
    "        ('MinMax', MinMaxScaler(),numerical1),\n",
    "    ])"
   ]
  },
  {
   "cell_type": "markdown",
   "metadata": {},
   "source": [
    "# Naive"
   ]
  },
  {
   "cell_type": "code",
   "execution_count": 113,
   "metadata": {},
   "outputs": [],
   "source": [
    "pipe_naive = Pipeline(\n",
    "    [\n",
    "        (\"preprocesamiento\", preprocessing_transformer), \n",
    "     (\"clf\",MultinomialNB())\n",
    "    ]\n",
    ")"
   ]
  },
  {
   "cell_type": "code",
   "execution_count": 114,
   "metadata": {},
   "outputs": [
    {
     "data": {
      "text/plain": [
       "Pipeline(steps=[('preprocesamiento',\n",
       "                 ColumnTransformer(transformers=[('OneHotEncoder',\n",
       "                                                  OneHotEncoder(handle_unknown='ignore'),\n",
       "                                                  []),\n",
       "                                                 ('MinMax', MinMaxScaler(),\n",
       "                                                  ['E-F', 'C-C', 'D-F', 'A-K',\n",
       "                                                   'num_comunicaciones',\n",
       "                                                   'Length', 'pref_A-A',\n",
       "                                                   'Positivo', 'Recency', 'A-G',\n",
       "                                                   'Monto', 'Periodicity',\n",
       "                                                   'Frequency', 'lec_B-B',\n",
       "                                                   'G-K'])])),\n",
       "                ('clf', MultinomialNB())])"
      ]
     },
     "execution_count": 114,
     "metadata": {},
     "output_type": "execute_result"
    }
   ],
   "source": [
    "# Grid\n",
    "pipe_naive.fit(Xtrain, Ytrain)"
   ]
  },
  {
   "cell_type": "code",
   "execution_count": 115,
   "metadata": {},
   "outputs": [
    {
     "name": "stdout",
     "output_type": "stream",
     "text": [
      "                 precision    recall  f1-score   support\n",
      "\n",
      "                      0.58      0.60      0.59      3801\n",
      "            A-A       0.20      0.42      0.27       227\n",
      "        A-A B-B       0.16      0.06      0.09       498\n",
      "    A-A B-B D-E       0.16      0.02      0.04       567\n",
      "        A-A C-D       0.35      0.06      0.10       307\n",
      "        A-A D-E       0.03      0.02      0.03       281\n",
      "    A-A D-E B-B       0.09      0.02      0.03       510\n",
      "        A-A E-E       0.05      0.02      0.03       136\n",
      "            B-B       0.36      0.36      0.36      1544\n",
      "        B-B A-A       0.22      0.14      0.17       249\n",
      "    B-B A-A D-E       0.03      0.09      0.04        22\n",
      "        B-B C-D       0.31      0.18      0.23       373\n",
      "    B-B C-D D-E       0.07      0.09      0.08        74\n",
      "B-B C-D D-E E-E       0.00      0.00      0.00        80\n",
      "    B-B C-D E-E       0.05      0.03      0.04        64\n",
      "        B-B D-E       0.08      0.21      0.12       422\n",
      "    B-B D-E A-A       0.12      0.10      0.11       118\n",
      "    B-B D-E C-D       0.19      0.13      0.16       171\n",
      "    B-B D-E E-E       0.06      0.07      0.07       198\n",
      "        B-B E-E       0.25      0.13      0.17       692\n",
      "    B-B E-E C-D       0.05      0.03      0.04        69\n",
      "    B-B E-E D-E       0.16      0.08      0.10       466\n",
      "            C-D       0.34      0.60      0.44       569\n",
      "        C-D A-A       0.08      0.15      0.10        47\n",
      "    C-D A-A B-B       0.04      0.20      0.06        10\n",
      "        C-D B-B       0.32      0.37      0.34       383\n",
      "    C-D B-B A-A       0.34      0.09      0.15       116\n",
      "    C-D B-B D-E       0.13      0.28      0.18       141\n",
      "C-D B-B D-E E-E       0.05      0.04      0.04        79\n",
      "    C-D B-B E-E       0.18      0.09      0.12       178\n",
      "C-D B-B E-E D-E       0.12      0.06      0.08       116\n",
      "        C-D D-E       0.25      0.37      0.30       349\n",
      "    C-D D-E B-B       0.11      0.25      0.15       136\n",
      "C-D D-E B-B E-E       0.05      0.09      0.07        33\n",
      "    C-D D-E E-E       0.14      0.15      0.15       128\n",
      "C-D D-E E-E B-B       0.05      0.07      0.06        41\n",
      "        C-D E-E       0.40      0.46      0.42       381\n",
      "    C-D E-E B-B       0.11      0.16      0.13        87\n",
      "C-D E-E B-B D-E       0.07      0.07      0.07        60\n",
      "    C-D E-E D-E       0.20      0.22      0.21       164\n",
      "C-D E-E D-E B-B       0.00      0.00      0.00        19\n",
      "            D-E       0.37      0.48      0.42      2115\n",
      "        D-E A-A       0.13      0.30      0.18       113\n",
      "    D-E A-A B-B       0.00      0.00      0.00        10\n",
      "        D-E B-B       0.30      0.37      0.33      1256\n",
      "    D-E B-B A-A       0.14      0.18      0.16       119\n",
      "    D-E B-B C-D       0.25      0.21      0.23       209\n",
      "    D-E B-B E-E       0.31      0.12      0.17       657\n",
      "        D-E C-D       0.31      0.22      0.26       330\n",
      "    D-E C-D B-B       0.26      0.29      0.28       228\n",
      "D-E C-D B-B E-E       0.10      0.06      0.07        67\n",
      "    D-E C-D E-E       0.11      0.05      0.07        83\n",
      "D-E C-D E-E B-B       0.06      0.07      0.06        45\n",
      "        D-E E-E       0.22      0.18      0.20       708\n",
      "    D-E E-E A-A       0.09      0.04      0.05       113\n",
      "    D-E E-E B-B       0.04      0.19      0.07        73\n",
      "    D-E E-E C-D       0.22      0.08      0.12       155\n",
      "            E-E       0.48      0.53      0.50      1274\n",
      "        E-E A-A       0.12      0.11      0.12        89\n",
      "    E-E A-A B-B       0.00      0.00      0.00        15\n",
      "    E-E A-A D-E       0.00      0.00      0.00       323\n",
      "        E-E B-B       0.38      0.31      0.34       559\n",
      "    E-E B-B A-A       0.13      0.09      0.10        58\n",
      "    E-E B-B C-D       0.23      0.07      0.11       174\n",
      "    E-E B-B D-E       0.14      0.15      0.14       266\n",
      "        E-E C-D       0.36      0.29      0.32       245\n",
      "    E-E C-D B-B       0.15      0.20      0.17        66\n",
      "E-E C-D B-B D-E       0.06      0.15      0.09        20\n",
      "    E-E C-D D-E       0.14      0.07      0.10        80\n",
      "E-E C-D D-E B-B       0.05      0.16      0.08        19\n",
      "        E-E D-E       0.25      0.26      0.26       649\n",
      "    E-E D-E A-A       0.14      0.04      0.07       113\n",
      "    E-E D-E B-B       0.09      0.18      0.12       159\n",
      "    E-E D-E C-D       0.27      0.14      0.19        92\n",
      "\n",
      "       accuracy                           0.31     24388\n",
      "      macro avg       0.17      0.16      0.15     24388\n",
      "   weighted avg       0.31      0.31      0.30     24388\n",
      "\n"
     ]
    }
   ],
   "source": [
    "# Generación de predicciones\n",
    "Ypred = pipe_naive.predict(Xtest)\n",
    "# Métricas de evaluación \n",
    "print(classification_report(Ypred, Ytest))"
   ]
  },
  {
   "cell_type": "code",
   "execution_count": 116,
   "metadata": {},
   "outputs": [
    {
     "data": {
      "text/plain": [
       "0.6947627931769723"
      ]
     },
     "execution_count": 116,
     "metadata": {},
     "output_type": "execute_result"
    }
   ],
   "source": [
    "Ypred_map=pd.Series(Ypred).apply( lambda x: x.split(\" \"))\n",
    "Ytest_map=pd.Series(Ytest).apply( lambda x: x.split(\" \"))\n",
    "ml_metrics.mapk(Ytest_map, Ypred_map, 5)"
   ]
  },
  {
   "cell_type": "markdown",
   "metadata": {},
   "source": [
    "# Decision Tree"
   ]
  },
  {
   "cell_type": "code",
   "execution_count": 131,
   "metadata": {},
   "outputs": [],
   "source": [
    "pipe_decision_tree = Pipeline(\n",
    "    [(\"preprocesamiento\", preprocessing_transformer),\n",
    "     (\"clf\", DecisionTreeClassifier(random_state=0,criterion='entropy',max_depth=12))]\n",
    ")\n"
   ]
  },
  {
   "cell_type": "code",
   "execution_count": 134,
   "metadata": {},
   "outputs": [
    {
     "data": {
      "text/plain": [
       "Pipeline(steps=[('preprocesamiento',\n",
       "                 ColumnTransformer(transformers=[('OneHotEncoder',\n",
       "                                                  OneHotEncoder(handle_unknown='ignore'),\n",
       "                                                  ['Comuna', 'Edad', 'Ciudad',\n",
       "                                                   'Profesion', 'Renta',\n",
       "                                                   'Principalidad',\n",
       "                                                   'Estado_civil']),\n",
       "                                                 ('MinMax', MinMaxScaler(),\n",
       "                                                  ['E-F', 'C-C', 'D-F', 'A-K',\n",
       "                                                   'pref_A-A',\n",
       "                                                   'num_comunicaciones',\n",
       "                                                   'Length', 'Sin Info', 'F-I',\n",
       "                                                   'Monto', 'B', 'lec_B-B',\n",
       "                                                   'F-H', 'lec_A-A', 'A-L',\n",
       "                                                   'lec_C-D'])])),\n",
       "                ('clf',\n",
       "                 DecisionTreeClassifier(criterion='entropy', max_depth=12,\n",
       "                                        random_state=0))])"
      ]
     },
     "execution_count": 134,
     "metadata": {},
     "output_type": "execute_result"
    }
   ],
   "source": [
    "# Grid\n",
    "pipe_decision_tree.fit(Xtrain, Ytrain)"
   ]
  },
  {
   "cell_type": "code",
   "execution_count": 135,
   "metadata": {},
   "outputs": [
    {
     "name": "stdout",
     "output_type": "stream",
     "text": [
      "                 precision    recall  f1-score   support\n",
      "\n",
      "                      0.44      0.73      0.55      2449\n",
      "            A-A       0.33      0.12      0.17      1245\n",
      "        A-A B-B       0.17      0.04      0.06       931\n",
      "    A-A B-B D-E       0.03      0.01      0.01       434\n",
      "        A-A C-D       0.19      0.05      0.08       213\n",
      "        A-A D-E       0.09      0.04      0.05       529\n",
      "    A-A D-E B-B       0.05      0.02      0.02       382\n",
      "        A-A E-E       0.06      0.01      0.02       422\n",
      "            B-B       0.12      0.36      0.18       525\n",
      "        B-B A-A       0.18      0.04      0.07       592\n",
      "    B-B A-A D-E       0.31      0.02      0.03      1216\n",
      "        B-B C-D       0.24      0.19      0.21       290\n",
      "    B-B C-D D-E       0.09      0.04      0.05       206\n",
      "B-B C-D D-E E-E       0.03      0.01      0.01       119\n",
      "    B-B C-D E-E       0.17      0.04      0.07       148\n",
      "        B-B D-E       0.00      0.08      0.01        50\n",
      "    B-B D-E A-A       0.16      0.05      0.08       303\n",
      "    B-B D-E C-D       0.15      0.08      0.10       211\n",
      "    B-B D-E E-E       0.11      0.06      0.08       428\n",
      "        B-B E-E       0.24      0.12      0.16       715\n",
      "    B-B E-E C-D       0.04      0.03      0.04        69\n",
      "    B-B E-E D-E       0.08      0.07      0.08       287\n",
      "            C-D       0.25      0.66      0.36       390\n",
      "        C-D A-A       0.18      0.07      0.10       289\n",
      "    C-D A-A B-B       0.13      0.02      0.03       281\n",
      "        C-D B-B       0.15      0.28      0.20       243\n",
      "    C-D B-B A-A       0.24      0.06      0.09       143\n",
      "    C-D B-B D-E       0.13      0.23      0.16       167\n",
      "C-D B-B D-E E-E       0.09      0.06      0.07       104\n",
      "    C-D B-B E-E       0.22      0.10      0.14       220\n",
      "C-D B-B E-E D-E       0.10      0.04      0.05       158\n",
      "        C-D D-E       0.10      0.34      0.16       151\n",
      "    C-D D-E B-B       0.06      0.16      0.09       116\n",
      "C-D D-E B-B E-E       0.04      0.02      0.03        96\n",
      "    C-D D-E E-E       0.05      0.06      0.05        96\n",
      "C-D D-E E-E B-B       0.06      0.03      0.04        88\n",
      "        C-D E-E       0.29      0.50      0.36       254\n",
      "    C-D E-E B-B       0.13      0.11      0.12       152\n",
      "C-D E-E B-B D-E       0.06      0.04      0.05        93\n",
      "    C-D E-E D-E       0.07      0.15      0.10        84\n",
      "C-D E-E D-E B-B       0.19      0.15      0.17        82\n",
      "            D-E       0.19      0.61      0.29       836\n",
      "        D-E A-A       0.09      0.07      0.08       355\n",
      "    D-E A-A B-B       0.10      0.03      0.04       557\n",
      "        D-E B-B       0.15      0.31      0.20       699\n",
      "    D-E B-B A-A       0.05      0.05      0.05       146\n",
      "    D-E B-B C-D       0.18      0.14      0.16       214\n",
      "    D-E B-B E-E       0.18      0.10      0.13       513\n",
      "        D-E C-D       0.19      0.21      0.20       221\n",
      "    D-E C-D B-B       0.14      0.18      0.16       202\n",
      "D-E C-D B-B E-E       0.05      0.03      0.04       106\n",
      "    D-E C-D E-E       0.00      0.00      0.00        71\n",
      "D-E C-D E-E B-B       0.10      0.06      0.07       107\n",
      "        D-E E-E       0.17      0.18      0.17       573\n",
      "    D-E E-E A-A       0.03      0.00      0.01       226\n",
      "    D-E E-E B-B       0.08      0.11      0.09       234\n",
      "    D-E E-E C-D       0.09      0.04      0.06       120\n",
      "            E-E       0.31      0.48      0.38       859\n",
      "        E-E A-A       0.11      0.02      0.04       510\n",
      "    E-E A-A B-B       0.08      0.02      0.03       222\n",
      "    E-E A-A D-E       0.12      0.02      0.03       298\n",
      "        E-E B-B       0.09      0.24      0.13       172\n",
      "    E-E B-B A-A       0.06      0.01      0.01       332\n",
      "    E-E B-B C-D       0.16      0.08      0.11       100\n",
      "    E-E B-B D-E       0.13      0.12      0.12       296\n",
      "        E-E C-D       0.25      0.24      0.24       200\n",
      "    E-E C-D B-B       0.10      0.07      0.08       129\n",
      "E-E C-D B-B D-E       0.04      0.03      0.03        60\n",
      "    E-E C-D D-E       0.08      0.05      0.06        84\n",
      "E-E C-D D-E B-B       0.16      0.07      0.10       113\n",
      "        E-E D-E       0.11      0.28      0.16       273\n",
      "    E-E D-E A-A       0.06      0.02      0.03       150\n",
      "    E-E D-E B-B       0.13      0.12      0.12       337\n",
      "    E-E D-E C-D       0.07      0.03      0.04       102\n",
      "\n",
      "       accuracy                           0.20     24388\n",
      "      macro avg       0.13      0.13      0.11     24388\n",
      "   weighted avg       0.19      0.20      0.16     24388\n",
      "\n"
     ]
    }
   ],
   "source": [
    "# Generación de predicciones\n",
    "Ypred = pipe_decision_tree.predict(Xtest)\n",
    "# Métricas de evaluación \n",
    "print(classification_report(Ypred, Ytest))"
   ]
  },
  {
   "cell_type": "code",
   "execution_count": 136,
   "metadata": {},
   "outputs": [
    {
     "data": {
      "text/plain": [
       "0.6782906666302189"
      ]
     },
     "execution_count": 136,
     "metadata": {},
     "output_type": "execute_result"
    }
   ],
   "source": [
    "Ypred_map=pd.Series(Ypred).apply( lambda x: x.split(\" \"))\n",
    "Ytest_map=pd.Series(Ytest).apply( lambda x: x.split(\" \"))\n",
    "ml_metrics.mapk(Ytest_map, Ypred_map, 5)"
   ]
  },
  {
   "cell_type": "markdown",
   "metadata": {},
   "source": [
    "# Random Forest"
   ]
  },
  {
   "cell_type": "code",
   "execution_count": 137,
   "metadata": {},
   "outputs": [],
   "source": [
    "pipe_random_forest = Pipeline(\n",
    "    [\n",
    "        (\"preprocesamiento\", preprocessing_transformer), \n",
    "     (\"clf\",RandomForestClassifier(random_state=1,max_depth=50,n_estimators=700))\n",
    "    ]\n",
    ")"
   ]
  },
  {
   "cell_type": "code",
   "execution_count": null,
   "metadata": {},
   "outputs": [
    {
     "data": {
      "text/plain": [
       "dict_keys(['bootstrap', 'ccp_alpha', 'class_weight', 'criterion', 'max_depth', 'max_features', 'max_leaf_nodes', 'max_samples', 'min_impurity_decrease', 'min_samples_leaf', 'min_samples_split', 'min_weight_fraction_leaf', 'n_estimators', 'n_jobs', 'oob_score', 'random_state', 'verbose', 'warm_start'])"
      ]
     },
     "execution_count": 115,
     "metadata": {},
     "output_type": "execute_result"
    }
   ],
   "source": [
    "# Get params\n",
    "pipe_random_forest[1].get_params().keys()"
   ]
  },
  {
   "cell_type": "code",
   "execution_count": null,
   "metadata": {},
   "outputs": [],
   "source": [
    "# Parametros grid clf\n",
    "param_grid_clf_forest = {\n",
    "                    #'clf__criterion':  ['gini', 'entropy'],\n",
    "                  'clf__max_depth':[50,100], # Maximum tree depth for base learners.\n",
    "                  'clf__n_estimators': [700,1400],\n",
    "                  #'clf__max_features': ['auto', 'sqrt']\n",
    "                 }"
   ]
  },
  {
   "cell_type": "code",
   "execution_count": null,
   "metadata": {},
   "outputs": [],
   "source": [
    "# Clasificación\n",
    "gs_pipe_forest= GridSearchCV(pipe_random_forest, param_grid_clf_forest, scoring='accuracy',cv=3,\n",
    "                            refit=True,\n",
    "                             verbose=10\n",
    "                            )"
   ]
  },
  {
   "cell_type": "code",
   "execution_count": null,
   "metadata": {},
   "outputs": [],
   "source": [
    "# Grid\n",
    "gs_pipe_forest.fit(Xtrain, Ytrain)"
   ]
  },
  {
   "cell_type": "code",
   "execution_count": null,
   "metadata": {},
   "outputs": [],
   "source": [
    "# Best Params\n",
    "gs_pipe_forest.best_params_"
   ]
  },
  {
   "cell_type": "code",
   "execution_count": null,
   "metadata": {},
   "outputs": [],
   "source": [
    "# Best score\n",
    "gs_pipe_forest.best_score_"
   ]
  },
  {
   "cell_type": "code",
   "execution_count": null,
   "metadata": {},
   "outputs": [],
   "source": [
    "# Generación de predicciones\n",
    "Ypred = gs_pipe_forest.predict(Xtest)\n",
    "# Métricas de evaluación \n",
    "print(classification_report(Ypred, Ytest))"
   ]
  },
  {
   "cell_type": "code",
   "execution_count": null,
   "metadata": {},
   "outputs": [
    {
     "data": {
      "text/plain": [
       "0.6782906666302189"
      ]
     },
     "metadata": {},
     "output_type": "display_data"
    }
   ],
   "source": [
    "Ypred_map=pd.Series(Ypred).apply( lambda x: x.split(\" \"))\n",
    "Ytest_map=pd.Series(Ytest).apply( lambda x: x.split(\" \"))\n",
    "ml_metrics.mapk(Ytest_map, Ypred_map, 5)"
   ]
  },
  {
   "cell_type": "markdown",
   "metadata": {},
   "source": [
    "# XGBoost"
   ]
  },
  {
   "cell_type": "code",
   "execution_count": 11,
   "metadata": {},
   "outputs": [],
   "source": [
    "pipe_xgb = Pipeline(\n",
    "    [(\"preprocesamiento\", preprocessing_transformer),\n",
    "     (\"clf\", xgb.XGBClassifier(seed=1,  eval_metric='mlogloss',learning_rate= 0.5,n_estimators= 500))]\n",
    ")\n",
    "\n"
   ]
  },
  {
   "cell_type": "code",
   "execution_count": null,
   "metadata": {},
   "outputs": [
    {
     "data": {
      "text/plain": [
       "<bound method XGBModel.get_params of XGBClassifier(base_score=None, booster=None, colsample_bylevel=None,\n",
       "              colsample_bynode=None, colsample_bytree=None,\n",
       "              enable_categorical=False, eval_metric='mlogloss', gamma=None,\n",
       "              gpu_id=None, importance_type=None, interaction_constraints=None,\n",
       "              learning_rate=None, max_delta_step=None, max_depth=None,\n",
       "              min_child_weight=None, missing=nan, monotone_constraints=None,\n",
       "              n_estimators=100, n_jobs=None, num_parallel_tree=None,\n",
       "              predictor=None, random_state=None, reg_alpha=None,\n",
       "              reg_lambda=None, scale_pos_weight=None, seed=1, subsample=None,\n",
       "              tree_method=None, validate_parameters=None, verbosity=None)>"
      ]
     },
     "execution_count": 13,
     "metadata": {},
     "output_type": "execute_result"
    }
   ],
   "source": [
    "pipe_xgb[1].get_params"
   ]
  },
  {
   "cell_type": "code",
   "execution_count": null,
   "metadata": {},
   "outputs": [],
   "source": [
    "# Get params\n",
    "pipe_xgb[1].get_params().keys()"
   ]
  },
  {
   "cell_type": "code",
   "execution_count": null,
   "metadata": {},
   "outputs": [],
   "source": [
    "# Parametros grid clf\n",
    "param_grid_clf_xgb = {'clf__learning_rate': [0.1,0.5,0.05,1], # Boosting learning rate\n",
    "                  #'clf__gamma':[0.1,1,2,10], # Minimum loss reduction required to make a further partition on a leaf node of the tree.\n",
    "                  #'clf__max_depth':[5,10,50,100], # Maximum tree depth for base learners.\n",
    "                 # 'clf__min_child_weight':[40,5,100], # Minimum sum of instance weight(hessian) needed in a child.\n",
    "                 # 'clf__colsample_bytree':[0.5,0.8], # Subsample ratio of columns when constructing each tree.\n",
    "                  'clf__n_estimators': [100,500,1000] # Number of gradient boosted trees.\n",
    "                 } "
   ]
  },
  {
   "cell_type": "code",
   "execution_count": null,
   "metadata": {},
   "outputs": [],
   "source": [
    "# Clasificación\n",
    "gs_pipe_xgb= GridSearchCV(pipe_xgb, param_grid_clf_xgb, scoring='accuracy',cv=2,\n",
    "                            refit=True,\n",
    "                             verbose=10\n",
    "                            )"
   ]
  },
  {
   "cell_type": "code",
   "execution_count": null,
   "metadata": {},
   "outputs": [],
   "source": [
    "# Entrenamiento de pipeline\n",
    "gs_pipe_xgb.fit(Xtrain, Ytrain)"
   ]
  },
  {
   "cell_type": "code",
   "execution_count": null,
   "metadata": {},
   "outputs": [
    {
     "data": {
      "text/plain": [
       "{'clf__learning_rate': 0.5, 'clf__n_estimators': 500}"
      ]
     },
     "execution_count": 26,
     "metadata": {},
     "output_type": "execute_result"
    }
   ],
   "source": [
    "# Best Params\n",
    "gs_pipe_xgb.best_params_"
   ]
  },
  {
   "cell_type": "code",
   "execution_count": null,
   "metadata": {},
   "outputs": [
    {
     "data": {
      "text/plain": [
       "0.9692194943202639"
      ]
     },
     "execution_count": 27,
     "metadata": {},
     "output_type": "execute_result"
    }
   ],
   "source": [
    "# Best score\n",
    "gs_pipe_xgb.best_score_"
   ]
  },
  {
   "cell_type": "code",
   "execution_count": 28,
   "metadata": {},
   "outputs": [
    {
     "name": "stdout",
     "output_type": "stream",
     "text": [
      "              precision    recall  f1-score   support\n",
      "\n",
      "                   0.76      0.63      0.69      5025\n",
      "         A-A       0.23      0.38      0.28       292\n",
      "     A-A B-B       0.08      0.19      0.11        77\n",
      "     A-A D-E       0.00      0.00      0.00        37\n",
      "         B-B       0.45      0.39      0.42      1798\n",
      "     B-B C-D       0.21      0.23      0.22       171\n",
      "     B-B D-E       0.19      0.23      0.21       925\n",
      " B-B D-E E-E       0.03      0.15      0.05        46\n",
      "     B-B E-E       0.11      0.19      0.14       229\n",
      " B-B E-E D-E       0.04      0.08      0.06       106\n",
      "         C-D       0.68      0.62      0.65      1122\n",
      "     C-D B-B       0.44      0.44      0.44       444\n",
      " C-D B-B D-E       0.26      0.27      0.27       281\n",
      "     C-D D-E       0.40      0.37      0.39       537\n",
      " C-D D-E B-B       0.16      0.19      0.18       271\n",
      "     C-D E-E       0.57      0.55      0.56       467\n",
      " C-D E-E D-E       0.43      0.58      0.49       137\n",
      "         D-E       0.54      0.46      0.50      3091\n",
      "     D-E A-A       0.16      0.35      0.22       115\n",
      "     D-E B-B       0.39      0.33      0.36      1752\n",
      " D-E B-B C-D       0.20      0.27      0.23       134\n",
      " D-E B-B E-E       0.09      0.15      0.11       166\n",
      "     D-E C-D       0.28      0.28      0.28       204\n",
      " D-E C-D B-B       0.23      0.23      0.23       231\n",
      "     D-E E-E       0.15      0.17      0.16       506\n",
      " D-E E-E B-B       0.08      0.12      0.10       218\n",
      "         E-E       0.55      0.52      0.53      1409\n",
      "     E-E B-B       0.28      0.32      0.30       419\n",
      " E-E B-B D-E       0.11      0.20      0.15       163\n",
      "     E-E C-D       0.28      0.39      0.32       137\n",
      "     E-E D-E       0.24      0.26      0.25       611\n",
      " E-E D-E B-B       0.13      0.17      0.15       243\n",
      "\n",
      "    accuracy                           0.44     21364\n",
      "   macro avg       0.27      0.30      0.28     21364\n",
      "weighted avg       0.48      0.44      0.46     21364\n",
      "\n"
     ]
    }
   ],
   "source": [
    "# Generación de predicciones\n",
    "Ypred = gs_pipe_xgb.predict(Xtest)\n",
    "# Métricas de evaluación \n",
    "print(classification_report(Ypred, Ytest))"
   ]
  },
  {
   "cell_type": "code",
   "execution_count": null,
   "metadata": {},
   "outputs": [
    {
     "data": {
      "text/plain": [
       "0.6782906666302189"
      ]
     },
     "metadata": {},
     "output_type": "display_data"
    }
   ],
   "source": [
    "Ypred_map=pd.Series(Ypred).apply( lambda x: x.split(\" \"))\n",
    "Ytest_map=pd.Series(Ytest).apply( lambda x: x.split(\" \"))\n",
    "ml_metrics.mapk(Ytest_map, Ypred_map, 5)"
   ]
  }
 ],
 "metadata": {
  "interpreter": {
   "hash": "65e97ffa20fbdd895c76c3a1d2c2ade704754874d6e45df701862667e65d73d7"
  },
  "kernelspec": {
   "display_name": "Python 3.9.6 ('Programacion_Cientifica')",
   "language": "python",
   "name": "python3"
  },
  "language_info": {
   "codemirror_mode": {
    "name": "ipython",
    "version": 3
   },
   "file_extension": ".py",
   "mimetype": "text/x-python",
   "name": "python",
   "nbconvert_exporter": "python",
   "pygments_lexer": "ipython3",
   "version": "3.9.6"
  },
  "orig_nbformat": 4
 },
 "nbformat": 4,
 "nbformat_minor": 2
}
