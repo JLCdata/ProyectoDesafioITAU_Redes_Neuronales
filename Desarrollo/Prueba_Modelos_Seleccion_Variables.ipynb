{
 "cells": [
  {
   "cell_type": "markdown",
   "metadata": {},
   "source": [
    "# Iteración inicial de modelos predictivos"
   ]
  },
  {
   "cell_type": "code",
   "execution_count": 1,
   "metadata": {},
   "outputs": [],
   "source": [
    "import pandas as pd\n",
    "import numpy as np\n",
    "\n",
    "import missingno as msno\n",
    "import matplotlib.pyplot as plt\n",
    "import plotly.express as px\n",
    "\n",
    "from sklearn.ensemble import RandomForestClassifier\n",
    "from sklearn.metrics import classification_report\n",
    "from sklearn.model_selection import train_test_split \n",
    "from sklearn.decomposition import PCA\n",
    "from sklearn.pipeline import Pipeline\n",
    "from sklearn.decomposition import TruncatedSVD\n",
    "\n",
    "from sklearn.compose import ColumnTransformer\n",
    "from sklearn.preprocessing import MinMaxScaler\n",
    "from sklearn.preprocessing import OneHotEncoder\n",
    "import datetime\n",
    "from dateutil.parser import parse\n",
    "from sklearn.tree import  DecisionTreeClassifier\n",
    "import plotly.graph_objects as go\n",
    "import umap\n",
    "from imblearn.under_sampling import RandomUnderSampler\n",
    "from imblearn.over_sampling import RandomOverSampler\n",
    "import ml_metrics\n",
    "import pickle\n",
    "from sklearn.metrics import accuracy_score\n",
    "from plotly.subplots import make_subplots"
   ]
  },
  {
   "cell_type": "code",
   "execution_count": 2,
   "metadata": {},
   "outputs": [],
   "source": [
    "# Seteo jupyter notebook\n",
    "pd.set_option('display.max_columns', None)"
   ]
  },
  {
   "cell_type": "code",
   "execution_count": 3,
   "metadata": {},
   "outputs": [
    {
     "name": "stderr",
     "output_type": "stream",
     "text": [
      "c:\\Users\\Jose Luis\\anaconda3\\envs\\Programacion_Cientifica\\lib\\site-packages\\IPython\\core\\interactiveshell.py:3441: DtypeWarning: Columns (36) have mixed types.Specify dtype option on import or set low_memory=False.\n",
      "  exec(code_obj, self.user_global_ns, self.user_ns)\n"
     ]
    },
    {
     "data": {
      "text/html": [
       "<div>\n",
       "<style scoped>\n",
       "    .dataframe tbody tr th:only-of-type {\n",
       "        vertical-align: middle;\n",
       "    }\n",
       "\n",
       "    .dataframe tbody tr th {\n",
       "        vertical-align: top;\n",
       "    }\n",
       "\n",
       "    .dataframe thead th {\n",
       "        text-align: right;\n",
       "    }\n",
       "</style>\n",
       "<table border=\"1\" class=\"dataframe\">\n",
       "  <thead>\n",
       "    <tr style=\"text-align: right;\">\n",
       "      <th></th>\n",
       "      <th>Duracion_Campaña</th>\n",
       "      <th>B</th>\n",
       "      <th>C</th>\n",
       "      <th>lec_B-B</th>\n",
       "      <th>lec_E-E</th>\n",
       "      <th>lec_D-E</th>\n",
       "      <th>lec_C-D</th>\n",
       "      <th>lec_A-A</th>\n",
       "      <th>num_comunicaciones</th>\n",
       "      <th>Length</th>\n",
       "      <th>Monto</th>\n",
       "      <th>Frequency</th>\n",
       "      <th>Periodicity</th>\n",
       "      <th>Recency</th>\n",
       "      <th>F-D</th>\n",
       "      <th>F-H</th>\n",
       "      <th>F-I</th>\n",
       "      <th>F-J</th>\n",
       "      <th>G-K</th>\n",
       "      <th>A-G</th>\n",
       "      <th>A-K</th>\n",
       "      <th>C-C</th>\n",
       "      <th>D-F</th>\n",
       "      <th>E-F</th>\n",
       "      <th>A-L</th>\n",
       "      <th>Positivo</th>\n",
       "      <th>Negativo</th>\n",
       "      <th>Sin Info</th>\n",
       "      <th>Edad</th>\n",
       "      <th>Sexo</th>\n",
       "      <th>Renta</th>\n",
       "      <th>Recibe_sueldo_en_cuenta</th>\n",
       "      <th>Segmento_consumidor</th>\n",
       "      <th>Meses_antiguedad</th>\n",
       "      <th>Comuna</th>\n",
       "      <th>Ciudad</th>\n",
       "      <th>Estado_civil</th>\n",
       "      <th>Principalidad</th>\n",
       "      <th>Profesion</th>\n",
       "      <th>Target</th>\n",
       "    </tr>\n",
       "  </thead>\n",
       "  <tbody>\n",
       "    <tr>\n",
       "      <th>0</th>\n",
       "      <td>1.0</td>\n",
       "      <td>4.0</td>\n",
       "      <td>5.0</td>\n",
       "      <td>5.0</td>\n",
       "      <td>0.0</td>\n",
       "      <td>0.0</td>\n",
       "      <td>0.0</td>\n",
       "      <td>0.0</td>\n",
       "      <td>22.0</td>\n",
       "      <td>371</td>\n",
       "      <td>180754.821871</td>\n",
       "      <td>396</td>\n",
       "      <td>91.0</td>\n",
       "      <td>652.012626</td>\n",
       "      <td>17</td>\n",
       "      <td>19</td>\n",
       "      <td>2</td>\n",
       "      <td>19</td>\n",
       "      <td>47</td>\n",
       "      <td>18</td>\n",
       "      <td>274</td>\n",
       "      <td>0</td>\n",
       "      <td>0</td>\n",
       "      <td>0</td>\n",
       "      <td>0</td>\n",
       "      <td>36</td>\n",
       "      <td>342</td>\n",
       "      <td>18</td>\n",
       "      <td>Mayor a 70</td>\n",
       "      <td>1</td>\n",
       "      <td>R1</td>\n",
       "      <td>0</td>\n",
       "      <td>A</td>\n",
       "      <td>Mayor a 10 años</td>\n",
       "      <td>331.0</td>\n",
       "      <td>13.0</td>\n",
       "      <td>D</td>\n",
       "      <td>B</td>\n",
       "      <td>P164</td>\n",
       "      <td></td>\n",
       "    </tr>\n",
       "    <tr>\n",
       "      <th>1</th>\n",
       "      <td>1.0</td>\n",
       "      <td>6.0</td>\n",
       "      <td>6.0</td>\n",
       "      <td>8.0</td>\n",
       "      <td>0.0</td>\n",
       "      <td>1.0</td>\n",
       "      <td>1.0</td>\n",
       "      <td>0.0</td>\n",
       "      <td>15.0</td>\n",
       "      <td>371</td>\n",
       "      <td>154439.534968</td>\n",
       "      <td>416</td>\n",
       "      <td>102.0</td>\n",
       "      <td>649.634615</td>\n",
       "      <td>2</td>\n",
       "      <td>17</td>\n",
       "      <td>16</td>\n",
       "      <td>17</td>\n",
       "      <td>266</td>\n",
       "      <td>16</td>\n",
       "      <td>69</td>\n",
       "      <td>0</td>\n",
       "      <td>2</td>\n",
       "      <td>3</td>\n",
       "      <td>0</td>\n",
       "      <td>23</td>\n",
       "      <td>377</td>\n",
       "      <td>16</td>\n",
       "      <td>Mayor a 70</td>\n",
       "      <td>1</td>\n",
       "      <td>R4</td>\n",
       "      <td>0</td>\n",
       "      <td>A</td>\n",
       "      <td>Mayor a 10 años</td>\n",
       "      <td>91.0</td>\n",
       "      <td>13.0</td>\n",
       "      <td>D</td>\n",
       "      <td>B</td>\n",
       "      <td>P85</td>\n",
       "      <td>E-E B-B D-E</td>\n",
       "    </tr>\n",
       "    <tr>\n",
       "      <th>2</th>\n",
       "      <td>1.0</td>\n",
       "      <td>2.0</td>\n",
       "      <td>3.0</td>\n",
       "      <td>1.0</td>\n",
       "      <td>0.0</td>\n",
       "      <td>0.0</td>\n",
       "      <td>1.0</td>\n",
       "      <td>0.0</td>\n",
       "      <td>26.0</td>\n",
       "      <td>371</td>\n",
       "      <td>128719.371341</td>\n",
       "      <td>395</td>\n",
       "      <td>107.0</td>\n",
       "      <td>629.587342</td>\n",
       "      <td>2</td>\n",
       "      <td>15</td>\n",
       "      <td>13</td>\n",
       "      <td>17</td>\n",
       "      <td>272</td>\n",
       "      <td>20</td>\n",
       "      <td>51</td>\n",
       "      <td>0</td>\n",
       "      <td>2</td>\n",
       "      <td>0</td>\n",
       "      <td>0</td>\n",
       "      <td>22</td>\n",
       "      <td>353</td>\n",
       "      <td>20</td>\n",
       "      <td>Mayor a 70</td>\n",
       "      <td>1</td>\n",
       "      <td>R5</td>\n",
       "      <td>0</td>\n",
       "      <td>A</td>\n",
       "      <td>Mayor a 10 años</td>\n",
       "      <td>34.0</td>\n",
       "      <td>5.0</td>\n",
       "      <td>B</td>\n",
       "      <td>C</td>\n",
       "      <td>P143</td>\n",
       "      <td>D-E A-A</td>\n",
       "    </tr>\n",
       "    <tr>\n",
       "      <th>3</th>\n",
       "      <td>1.2</td>\n",
       "      <td>7.0</td>\n",
       "      <td>3.0</td>\n",
       "      <td>5.0</td>\n",
       "      <td>0.0</td>\n",
       "      <td>0.0</td>\n",
       "      <td>2.0</td>\n",
       "      <td>2.0</td>\n",
       "      <td>34.0</td>\n",
       "      <td>371</td>\n",
       "      <td>142752.939212</td>\n",
       "      <td>698</td>\n",
       "      <td>69.0</td>\n",
       "      <td>690.118911</td>\n",
       "      <td>15</td>\n",
       "      <td>0</td>\n",
       "      <td>0</td>\n",
       "      <td>19</td>\n",
       "      <td>144</td>\n",
       "      <td>20</td>\n",
       "      <td>465</td>\n",
       "      <td>0</td>\n",
       "      <td>0</td>\n",
       "      <td>15</td>\n",
       "      <td>6</td>\n",
       "      <td>54</td>\n",
       "      <td>624</td>\n",
       "      <td>20</td>\n",
       "      <td>Mayor a 70</td>\n",
       "      <td>1</td>\n",
       "      <td>R9</td>\n",
       "      <td>0</td>\n",
       "      <td>A</td>\n",
       "      <td>Mayor a 10 años</td>\n",
       "      <td>331.0</td>\n",
       "      <td>13.0</td>\n",
       "      <td>B</td>\n",
       "      <td>C</td>\n",
       "      <td>P1</td>\n",
       "      <td>E-E</td>\n",
       "    </tr>\n",
       "    <tr>\n",
       "      <th>4</th>\n",
       "      <td>1.0</td>\n",
       "      <td>4.0</td>\n",
       "      <td>1.0</td>\n",
       "      <td>1.0</td>\n",
       "      <td>0.0</td>\n",
       "      <td>0.0</td>\n",
       "      <td>0.0</td>\n",
       "      <td>0.0</td>\n",
       "      <td>24.0</td>\n",
       "      <td>371</td>\n",
       "      <td>127120.640500</td>\n",
       "      <td>374</td>\n",
       "      <td>112.0</td>\n",
       "      <td>613.438503</td>\n",
       "      <td>0</td>\n",
       "      <td>19</td>\n",
       "      <td>0</td>\n",
       "      <td>19</td>\n",
       "      <td>284</td>\n",
       "      <td>17</td>\n",
       "      <td>27</td>\n",
       "      <td>0</td>\n",
       "      <td>3</td>\n",
       "      <td>1</td>\n",
       "      <td>0</td>\n",
       "      <td>23</td>\n",
       "      <td>334</td>\n",
       "      <td>17</td>\n",
       "      <td>Mayor a 70</td>\n",
       "      <td>0</td>\n",
       "      <td>R2</td>\n",
       "      <td>0</td>\n",
       "      <td>B</td>\n",
       "      <td>Mayor a 10 años</td>\n",
       "      <td>37.0</td>\n",
       "      <td>5.0</td>\n",
       "      <td>D</td>\n",
       "      <td>F</td>\n",
       "      <td>P210</td>\n",
       "      <td>D-E</td>\n",
       "    </tr>\n",
       "  </tbody>\n",
       "</table>\n",
       "</div>"
      ],
      "text/plain": [
       "   Duracion_Campaña    B    C  lec_B-B  lec_E-E  lec_D-E  lec_C-D  lec_A-A  \\\n",
       "0               1.0  4.0  5.0      5.0      0.0      0.0      0.0      0.0   \n",
       "1               1.0  6.0  6.0      8.0      0.0      1.0      1.0      0.0   \n",
       "2               1.0  2.0  3.0      1.0      0.0      0.0      1.0      0.0   \n",
       "3               1.2  7.0  3.0      5.0      0.0      0.0      2.0      2.0   \n",
       "4               1.0  4.0  1.0      1.0      0.0      0.0      0.0      0.0   \n",
       "\n",
       "   num_comunicaciones  Length          Monto  Frequency  Periodicity  \\\n",
       "0                22.0     371  180754.821871        396         91.0   \n",
       "1                15.0     371  154439.534968        416        102.0   \n",
       "2                26.0     371  128719.371341        395        107.0   \n",
       "3                34.0     371  142752.939212        698         69.0   \n",
       "4                24.0     371  127120.640500        374        112.0   \n",
       "\n",
       "      Recency  F-D  F-H  F-I  F-J  G-K  A-G  A-K  C-C  D-F  E-F  A-L  \\\n",
       "0  652.012626   17   19    2   19   47   18  274    0    0    0    0   \n",
       "1  649.634615    2   17   16   17  266   16   69    0    2    3    0   \n",
       "2  629.587342    2   15   13   17  272   20   51    0    2    0    0   \n",
       "3  690.118911   15    0    0   19  144   20  465    0    0   15    6   \n",
       "4  613.438503    0   19    0   19  284   17   27    0    3    1    0   \n",
       "\n",
       "   Positivo  Negativo  Sin Info        Edad  Sexo Renta  \\\n",
       "0        36       342        18  Mayor a 70     1    R1   \n",
       "1        23       377        16  Mayor a 70     1    R4   \n",
       "2        22       353        20  Mayor a 70     1    R5   \n",
       "3        54       624        20  Mayor a 70     1    R9   \n",
       "4        23       334        17  Mayor a 70     0    R2   \n",
       "\n",
       "   Recibe_sueldo_en_cuenta Segmento_consumidor Meses_antiguedad Comuna Ciudad  \\\n",
       "0                        0                   A  Mayor a 10 años  331.0   13.0   \n",
       "1                        0                   A  Mayor a 10 años   91.0   13.0   \n",
       "2                        0                   A  Mayor a 10 años   34.0    5.0   \n",
       "3                        0                   A  Mayor a 10 años  331.0   13.0   \n",
       "4                        0                   B  Mayor a 10 años   37.0    5.0   \n",
       "\n",
       "  Estado_civil Principalidad Profesion       Target  \n",
       "0            D             B      P164               \n",
       "1            D             B       P85  E-E B-B D-E  \n",
       "2            B             C      P143      D-E A-A  \n",
       "3            B             C        P1          E-E  \n",
       "4            D             F      P210          D-E  "
      ]
     },
     "execution_count": 3,
     "metadata": {},
     "output_type": "execute_result"
    }
   ],
   "source": [
    "Data=pd.read_csv(\"cleaned_05June2022.csv\").drop(columns=[\"Unnamed: 0\"]).fillna(\"\")\n",
    "Data.head()"
   ]
  },
  {
   "cell_type": "code",
   "execution_count": 4,
   "metadata": {},
   "outputs": [],
   "source": [
    "# datos númericos\n",
    "numerical=list(Data.select_dtypes(exclude=[\"category\",\"object\"]).columns)\n",
    "numerical.remove(\"Sexo\")\n",
    "numerical.remove('Recibe_sueldo_en_cuenta')\n",
    "\n",
    "\n",
    "# datos categorical\n",
    "categorical=list(Data.select_dtypes(include=[\"category\",\"object\"]).columns)+['Sexo','Recibe_sueldo_en_cuenta']\n",
    "categorical.remove(\"Target\")"
   ]
  },
  {
   "cell_type": "code",
   "execution_count": 5,
   "metadata": {},
   "outputs": [],
   "source": [
    "for i in categorical:\n",
    "    Data[i]=Data[i].astype(str)"
   ]
  },
  {
   "cell_type": "code",
   "execution_count": 6,
   "metadata": {},
   "outputs": [
    {
     "data": {
      "text/html": [
       "<div>\n",
       "<style scoped>\n",
       "    .dataframe tbody tr th:only-of-type {\n",
       "        vertical-align: middle;\n",
       "    }\n",
       "\n",
       "    .dataframe tbody tr th {\n",
       "        vertical-align: top;\n",
       "    }\n",
       "\n",
       "    .dataframe thead th {\n",
       "        text-align: right;\n",
       "    }\n",
       "</style>\n",
       "<table border=\"1\" class=\"dataframe\">\n",
       "  <thead>\n",
       "    <tr style=\"text-align: right;\">\n",
       "      <th></th>\n",
       "      <th>Duracion_Campaña</th>\n",
       "      <th>B</th>\n",
       "      <th>C</th>\n",
       "      <th>lec_B-B</th>\n",
       "      <th>lec_E-E</th>\n",
       "      <th>lec_D-E</th>\n",
       "      <th>lec_C-D</th>\n",
       "      <th>lec_A-A</th>\n",
       "      <th>num_comunicaciones</th>\n",
       "      <th>Length</th>\n",
       "      <th>Monto</th>\n",
       "      <th>Frequency</th>\n",
       "      <th>Periodicity</th>\n",
       "      <th>Recency</th>\n",
       "      <th>F-D</th>\n",
       "      <th>F-H</th>\n",
       "      <th>F-I</th>\n",
       "      <th>F-J</th>\n",
       "      <th>G-K</th>\n",
       "      <th>A-G</th>\n",
       "      <th>A-K</th>\n",
       "      <th>C-C</th>\n",
       "      <th>D-F</th>\n",
       "      <th>E-F</th>\n",
       "      <th>A-L</th>\n",
       "      <th>Positivo</th>\n",
       "      <th>Negativo</th>\n",
       "      <th>Sin Info</th>\n",
       "      <th>Edad</th>\n",
       "      <th>Renta</th>\n",
       "      <th>Segmento_consumidor</th>\n",
       "      <th>Meses_antiguedad</th>\n",
       "      <th>Comuna</th>\n",
       "      <th>Ciudad</th>\n",
       "      <th>Estado_civil</th>\n",
       "      <th>Principalidad</th>\n",
       "      <th>Profesion</th>\n",
       "      <th>Sexo</th>\n",
       "      <th>Recibe_sueldo_en_cuenta</th>\n",
       "    </tr>\n",
       "  </thead>\n",
       "  <tbody>\n",
       "    <tr>\n",
       "      <th>0</th>\n",
       "      <td>1.0</td>\n",
       "      <td>4.0</td>\n",
       "      <td>5.0</td>\n",
       "      <td>5.0</td>\n",
       "      <td>0.0</td>\n",
       "      <td>0.0</td>\n",
       "      <td>0.0</td>\n",
       "      <td>0.0</td>\n",
       "      <td>22.0</td>\n",
       "      <td>371</td>\n",
       "      <td>180754.821871</td>\n",
       "      <td>396</td>\n",
       "      <td>91.0</td>\n",
       "      <td>652.012626</td>\n",
       "      <td>17</td>\n",
       "      <td>19</td>\n",
       "      <td>2</td>\n",
       "      <td>19</td>\n",
       "      <td>47</td>\n",
       "      <td>18</td>\n",
       "      <td>274</td>\n",
       "      <td>0</td>\n",
       "      <td>0</td>\n",
       "      <td>0</td>\n",
       "      <td>0</td>\n",
       "      <td>36</td>\n",
       "      <td>342</td>\n",
       "      <td>18</td>\n",
       "      <td>Mayor a 70</td>\n",
       "      <td>R1</td>\n",
       "      <td>A</td>\n",
       "      <td>Mayor a 10 años</td>\n",
       "      <td>331.0</td>\n",
       "      <td>13.0</td>\n",
       "      <td>D</td>\n",
       "      <td>B</td>\n",
       "      <td>P164</td>\n",
       "      <td>1</td>\n",
       "      <td>0</td>\n",
       "    </tr>\n",
       "    <tr>\n",
       "      <th>1</th>\n",
       "      <td>1.0</td>\n",
       "      <td>6.0</td>\n",
       "      <td>6.0</td>\n",
       "      <td>8.0</td>\n",
       "      <td>0.0</td>\n",
       "      <td>1.0</td>\n",
       "      <td>1.0</td>\n",
       "      <td>0.0</td>\n",
       "      <td>15.0</td>\n",
       "      <td>371</td>\n",
       "      <td>154439.534968</td>\n",
       "      <td>416</td>\n",
       "      <td>102.0</td>\n",
       "      <td>649.634615</td>\n",
       "      <td>2</td>\n",
       "      <td>17</td>\n",
       "      <td>16</td>\n",
       "      <td>17</td>\n",
       "      <td>266</td>\n",
       "      <td>16</td>\n",
       "      <td>69</td>\n",
       "      <td>0</td>\n",
       "      <td>2</td>\n",
       "      <td>3</td>\n",
       "      <td>0</td>\n",
       "      <td>23</td>\n",
       "      <td>377</td>\n",
       "      <td>16</td>\n",
       "      <td>Mayor a 70</td>\n",
       "      <td>R4</td>\n",
       "      <td>A</td>\n",
       "      <td>Mayor a 10 años</td>\n",
       "      <td>91.0</td>\n",
       "      <td>13.0</td>\n",
       "      <td>D</td>\n",
       "      <td>B</td>\n",
       "      <td>P85</td>\n",
       "      <td>1</td>\n",
       "      <td>0</td>\n",
       "    </tr>\n",
       "    <tr>\n",
       "      <th>2</th>\n",
       "      <td>1.0</td>\n",
       "      <td>2.0</td>\n",
       "      <td>3.0</td>\n",
       "      <td>1.0</td>\n",
       "      <td>0.0</td>\n",
       "      <td>0.0</td>\n",
       "      <td>1.0</td>\n",
       "      <td>0.0</td>\n",
       "      <td>26.0</td>\n",
       "      <td>371</td>\n",
       "      <td>128719.371341</td>\n",
       "      <td>395</td>\n",
       "      <td>107.0</td>\n",
       "      <td>629.587342</td>\n",
       "      <td>2</td>\n",
       "      <td>15</td>\n",
       "      <td>13</td>\n",
       "      <td>17</td>\n",
       "      <td>272</td>\n",
       "      <td>20</td>\n",
       "      <td>51</td>\n",
       "      <td>0</td>\n",
       "      <td>2</td>\n",
       "      <td>0</td>\n",
       "      <td>0</td>\n",
       "      <td>22</td>\n",
       "      <td>353</td>\n",
       "      <td>20</td>\n",
       "      <td>Mayor a 70</td>\n",
       "      <td>R5</td>\n",
       "      <td>A</td>\n",
       "      <td>Mayor a 10 años</td>\n",
       "      <td>34.0</td>\n",
       "      <td>5.0</td>\n",
       "      <td>B</td>\n",
       "      <td>C</td>\n",
       "      <td>P143</td>\n",
       "      <td>1</td>\n",
       "      <td>0</td>\n",
       "    </tr>\n",
       "    <tr>\n",
       "      <th>3</th>\n",
       "      <td>1.2</td>\n",
       "      <td>7.0</td>\n",
       "      <td>3.0</td>\n",
       "      <td>5.0</td>\n",
       "      <td>0.0</td>\n",
       "      <td>0.0</td>\n",
       "      <td>2.0</td>\n",
       "      <td>2.0</td>\n",
       "      <td>34.0</td>\n",
       "      <td>371</td>\n",
       "      <td>142752.939212</td>\n",
       "      <td>698</td>\n",
       "      <td>69.0</td>\n",
       "      <td>690.118911</td>\n",
       "      <td>15</td>\n",
       "      <td>0</td>\n",
       "      <td>0</td>\n",
       "      <td>19</td>\n",
       "      <td>144</td>\n",
       "      <td>20</td>\n",
       "      <td>465</td>\n",
       "      <td>0</td>\n",
       "      <td>0</td>\n",
       "      <td>15</td>\n",
       "      <td>6</td>\n",
       "      <td>54</td>\n",
       "      <td>624</td>\n",
       "      <td>20</td>\n",
       "      <td>Mayor a 70</td>\n",
       "      <td>R9</td>\n",
       "      <td>A</td>\n",
       "      <td>Mayor a 10 años</td>\n",
       "      <td>331.0</td>\n",
       "      <td>13.0</td>\n",
       "      <td>B</td>\n",
       "      <td>C</td>\n",
       "      <td>P1</td>\n",
       "      <td>1</td>\n",
       "      <td>0</td>\n",
       "    </tr>\n",
       "    <tr>\n",
       "      <th>4</th>\n",
       "      <td>1.0</td>\n",
       "      <td>4.0</td>\n",
       "      <td>1.0</td>\n",
       "      <td>1.0</td>\n",
       "      <td>0.0</td>\n",
       "      <td>0.0</td>\n",
       "      <td>0.0</td>\n",
       "      <td>0.0</td>\n",
       "      <td>24.0</td>\n",
       "      <td>371</td>\n",
       "      <td>127120.640500</td>\n",
       "      <td>374</td>\n",
       "      <td>112.0</td>\n",
       "      <td>613.438503</td>\n",
       "      <td>0</td>\n",
       "      <td>19</td>\n",
       "      <td>0</td>\n",
       "      <td>19</td>\n",
       "      <td>284</td>\n",
       "      <td>17</td>\n",
       "      <td>27</td>\n",
       "      <td>0</td>\n",
       "      <td>3</td>\n",
       "      <td>1</td>\n",
       "      <td>0</td>\n",
       "      <td>23</td>\n",
       "      <td>334</td>\n",
       "      <td>17</td>\n",
       "      <td>Mayor a 70</td>\n",
       "      <td>R2</td>\n",
       "      <td>B</td>\n",
       "      <td>Mayor a 10 años</td>\n",
       "      <td>37.0</td>\n",
       "      <td>5.0</td>\n",
       "      <td>D</td>\n",
       "      <td>F</td>\n",
       "      <td>P210</td>\n",
       "      <td>0</td>\n",
       "      <td>0</td>\n",
       "    </tr>\n",
       "  </tbody>\n",
       "</table>\n",
       "</div>"
      ],
      "text/plain": [
       "   Duracion_Campaña    B    C  lec_B-B  lec_E-E  lec_D-E  lec_C-D  lec_A-A  \\\n",
       "0               1.0  4.0  5.0      5.0      0.0      0.0      0.0      0.0   \n",
       "1               1.0  6.0  6.0      8.0      0.0      1.0      1.0      0.0   \n",
       "2               1.0  2.0  3.0      1.0      0.0      0.0      1.0      0.0   \n",
       "3               1.2  7.0  3.0      5.0      0.0      0.0      2.0      2.0   \n",
       "4               1.0  4.0  1.0      1.0      0.0      0.0      0.0      0.0   \n",
       "\n",
       "   num_comunicaciones  Length          Monto  Frequency  Periodicity  \\\n",
       "0                22.0     371  180754.821871        396         91.0   \n",
       "1                15.0     371  154439.534968        416        102.0   \n",
       "2                26.0     371  128719.371341        395        107.0   \n",
       "3                34.0     371  142752.939212        698         69.0   \n",
       "4                24.0     371  127120.640500        374        112.0   \n",
       "\n",
       "      Recency  F-D  F-H  F-I  F-J  G-K  A-G  A-K  C-C  D-F  E-F  A-L  \\\n",
       "0  652.012626   17   19    2   19   47   18  274    0    0    0    0   \n",
       "1  649.634615    2   17   16   17  266   16   69    0    2    3    0   \n",
       "2  629.587342    2   15   13   17  272   20   51    0    2    0    0   \n",
       "3  690.118911   15    0    0   19  144   20  465    0    0   15    6   \n",
       "4  613.438503    0   19    0   19  284   17   27    0    3    1    0   \n",
       "\n",
       "   Positivo  Negativo  Sin Info        Edad Renta Segmento_consumidor  \\\n",
       "0        36       342        18  Mayor a 70    R1                   A   \n",
       "1        23       377        16  Mayor a 70    R4                   A   \n",
       "2        22       353        20  Mayor a 70    R5                   A   \n",
       "3        54       624        20  Mayor a 70    R9                   A   \n",
       "4        23       334        17  Mayor a 70    R2                   B   \n",
       "\n",
       "  Meses_antiguedad Comuna Ciudad Estado_civil Principalidad Profesion Sexo  \\\n",
       "0  Mayor a 10 años  331.0   13.0            D             B      P164    1   \n",
       "1  Mayor a 10 años   91.0   13.0            D             B       P85    1   \n",
       "2  Mayor a 10 años   34.0    5.0            B             C      P143    1   \n",
       "3  Mayor a 10 años  331.0   13.0            B             C        P1    1   \n",
       "4  Mayor a 10 años   37.0    5.0            D             F      P210    0   \n",
       "\n",
       "  Recibe_sueldo_en_cuenta  \n",
       "0                       0  \n",
       "1                       0  \n",
       "2                       0  \n",
       "3                       0  \n",
       "4                       0  "
      ]
     },
     "execution_count": 6,
     "metadata": {},
     "output_type": "execute_result"
    }
   ],
   "source": [
    "X=Data[numerical+categorical]\n",
    "X.head()"
   ]
  },
  {
   "cell_type": "code",
   "execution_count": 7,
   "metadata": {},
   "outputs": [
    {
     "data": {
      "text/plain": [
       "0               \n",
       "1    E-E B-B D-E\n",
       "2        D-E A-A\n",
       "3            E-E\n",
       "4            D-E\n",
       "Name: Target, dtype: object"
      ]
     },
     "execution_count": 7,
     "metadata": {},
     "output_type": "execute_result"
    }
   ],
   "source": [
    "Y=Data[\"Target\"]\n",
    "Y.head()"
   ]
  },
  {
   "cell_type": "code",
   "execution_count": 8,
   "metadata": {},
   "outputs": [],
   "source": [
    "# Generación de conjuntos de train y test\n",
    "Xtrain, Xtest, Ytrain, Ytest = train_test_split(\n",
    "    X, Y, test_size=0.33, \n",
    "    shuffle=True,\n",
    "    \n",
    ") "
   ]
  },
  {
   "cell_type": "code",
   "execution_count": 9,
   "metadata": {},
   "outputs": [],
   "source": [
    "# Sobremuestreo: Aumentar numero de datos de la clase minoritaria\n",
    "# ROS(Duplica clases):\n",
    "ros=RandomOverSampler(random_state=0) # Random_state=0"
   ]
  },
  {
   "cell_type": "code",
   "execution_count": 10,
   "metadata": {},
   "outputs": [],
   "source": [
    "# ROS:\n",
    "Xtrain, Ytrain=ros.fit_resample(Xtrain,Ytrain)"
   ]
  },
  {
   "cell_type": "markdown",
   "metadata": {},
   "source": [
    "**Todas las variables**"
   ]
  },
  {
   "cell_type": "code",
   "execution_count": 11,
   "metadata": {},
   "outputs": [],
   "source": [
    "preprocessing_transformer = ColumnTransformer(\n",
    "    transformers=[('OneHotEncoder', OneHotEncoder(handle_unknown=\"ignore\"), categorical),\n",
    "        ('MinMax', MinMaxScaler(),numerical),\n",
    "    ])"
   ]
  },
  {
   "cell_type": "code",
   "execution_count": 12,
   "metadata": {},
   "outputs": [],
   "source": [
    "pipe = Pipeline(\n",
    "    [(\"preprocesamiento\", preprocessing_transformer),\n",
    "     #(\"Selection\", SelectPercentile(f_classif, percentile=80)),\n",
    "     #(\"red_atributos\",TruncatedSVD(n_components=300)),\n",
    "     (\"clf\",DecisionTreeClassifier(random_state=0))]\n",
    ")\n"
   ]
  },
  {
   "cell_type": "code",
   "execution_count": 13,
   "metadata": {},
   "outputs": [
    {
     "data": {
      "text/plain": [
       "Pipeline(steps=[('preprocesamiento',\n",
       "                 ColumnTransformer(transformers=[('OneHotEncoder',\n",
       "                                                  OneHotEncoder(handle_unknown='ignore'),\n",
       "                                                  ['Edad', 'Renta',\n",
       "                                                   'Segmento_consumidor',\n",
       "                                                   'Meses_antiguedad', 'Comuna',\n",
       "                                                   'Ciudad', 'Estado_civil',\n",
       "                                                   'Principalidad', 'Profesion',\n",
       "                                                   'Sexo',\n",
       "                                                   'Recibe_sueldo_en_cuenta']),\n",
       "                                                 ('MinMax', MinMaxScaler(),\n",
       "                                                  ['Duracion_Campaña', 'B', 'C',\n",
       "                                                   'lec_B-B', 'lec_E-E',\n",
       "                                                   'lec_D-E', 'lec_C-D',\n",
       "                                                   'lec_A-A',\n",
       "                                                   'num_comunicaciones',\n",
       "                                                   'Length', 'Monto',\n",
       "                                                   'Frequency', 'Periodicity',\n",
       "                                                   'Recency', 'F-D', 'F-H',\n",
       "                                                   'F-I', 'F-J', 'G-K', 'A-G',\n",
       "                                                   'A-K', 'C-C', 'D-F', 'E-F',\n",
       "                                                   'A-L', 'Positivo',\n",
       "                                                   'Negativo', 'Sin Info'])])),\n",
       "                ('clf', DecisionTreeClassifier(random_state=0))])"
      ]
     },
     "execution_count": 13,
     "metadata": {},
     "output_type": "execute_result"
    }
   ],
   "source": [
    "# Entrenamiento de pipelines\n",
    "pipe.fit(Xtrain, Ytrain)"
   ]
  },
  {
   "cell_type": "code",
   "execution_count": 14,
   "metadata": {},
   "outputs": [
    {
     "name": "stdout",
     "output_type": "stream",
     "text": [
      "              precision    recall  f1-score   support\n",
      "\n",
      "                   0.58      0.58      0.58      3913\n",
      "         A-A       0.17      0.13      0.15       655\n",
      "     A-A B-B       0.06      0.05      0.06       240\n",
      "     A-A D-E       0.02      0.02      0.02       229\n",
      "         B-B       0.26      0.28      0.27      1467\n",
      "     B-B A-A       0.08      0.07      0.07       212\n",
      "     B-B C-D       0.21      0.17      0.19       216\n",
      "     B-B D-E       0.15      0.15      0.15       983\n",
      " B-B D-E E-E       0.08      0.07      0.07       215\n",
      "     B-B E-E       0.11      0.10      0.11       391\n",
      " B-B E-E D-E       0.05      0.04      0.05       255\n",
      "         C-D       0.53      0.60      0.56       929\n",
      "     C-D B-B       0.36      0.35      0.36       445\n",
      " C-D B-B D-E       0.20      0.18      0.19       295\n",
      "     C-D D-E       0.31      0.30      0.30       504\n",
      " C-D D-E B-B       0.18      0.19      0.19       304\n",
      "     C-D E-E       0.48      0.45      0.47       387\n",
      " C-D E-E D-E       0.43      0.39      0.41       176\n",
      "         D-E       0.35      0.38      0.36      2463\n",
      "     D-E A-A       0.06      0.06      0.06       340\n",
      " D-E A-A B-B       0.06      0.04      0.05       216\n",
      "     D-E B-B       0.25      0.26      0.26      1388\n",
      " D-E B-B A-A       0.08      0.06      0.07       244\n",
      " D-E B-B C-D       0.19      0.16      0.18       183\n",
      " D-E B-B E-E       0.06      0.06      0.06       262\n",
      "     D-E C-D       0.19      0.23      0.21       193\n",
      " D-E C-D B-B       0.16      0.17      0.16       228\n",
      "     D-E E-E       0.16      0.16      0.16       603\n",
      " D-E E-E B-B       0.13      0.10      0.11       363\n",
      "         E-E       0.43      0.44      0.43      1333\n",
      "     E-E B-B       0.19      0.18      0.18       476\n",
      " E-E B-B D-E       0.06      0.06      0.06       294\n",
      "     E-E C-D       0.33      0.34      0.33       182\n",
      "     E-E D-E       0.17      0.20      0.18       558\n",
      " E-E D-E B-B       0.13      0.13      0.13       318\n",
      "\n",
      "    accuracy                           0.31     21460\n",
      "   macro avg       0.21      0.20      0.21     21460\n",
      "weighted avg       0.31      0.31      0.31     21460\n",
      "\n"
     ]
    }
   ],
   "source": [
    "# Generación de predicciones\n",
    "Ypred = pipe.predict(Xtest)\n",
    "# Métricas de evaluación \n",
    "print(classification_report(Ypred, Ytest))"
   ]
  },
  {
   "cell_type": "code",
   "execution_count": 15,
   "metadata": {},
   "outputs": [
    {
     "data": {
      "text/plain": [
       "0.6570531738635186"
      ]
     },
     "execution_count": 15,
     "metadata": {},
     "output_type": "execute_result"
    }
   ],
   "source": [
    "Ypred_map=pd.Series(Ypred).apply( lambda x: x.split(\" \"))\n",
    "Ytest_map=pd.Series(Ytest).apply( lambda x: x.split(\" \"))\n",
    "ml_metrics.mapk(Ytest_map, Ypred_map, 5)"
   ]
  },
  {
   "cell_type": "markdown",
   "metadata": {},
   "source": [
    "# Experimento iteración sobre cantidad de features importantes según criterio CorrKill"
   ]
  },
  {
   "cell_type": "code",
   "execution_count": 16,
   "metadata": {},
   "outputs": [],
   "source": [
    "tags=['E-F',\n",
    " 'D-F',\n",
    " 'C-C',\n",
    " 'A-K',\n",
    " 'A-G',\n",
    " 'num_comunicaciones',\n",
    " 'Recency',\n",
    " 'Positivo',\n",
    " 'B',\n",
    " 'Monto',\n",
    " 'Periodicity',\n",
    " 'Profesion',\n",
    " 'lec_B-B',\n",
    " 'Renta',\n",
    " 'F-I',\n",
    " 'Edad',\n",
    " 'lec_A-A',\n",
    " 'Comuna',\n",
    " 'Sin Info',\n",
    " 'Ciudad',\n",
    " 'Duracion_Campaña',\n",
    " 'Principalidad',\n",
    " 'F-H',\n",
    " 'lec_C-D']"
   ]
  },
  {
   "cell_type": "code",
   "execution_count": 17,
   "metadata": {},
   "outputs": [],
   "source": [
    "list_map=[]\n",
    "list_accuracy=[]\n",
    "num_variables=[]\n",
    "for i in range(len(tags)):\n",
    "    if i>1:\n",
    "        # Append categorias\n",
    "        num_variables.append(len(tags[0:i]))###############\n",
    "        numerical2=list(filter(lambda x:x  in numerical,tags[0:i]))\n",
    "        categorical2=list(filter(lambda x:x  in categorical,tags[0:i]))\n",
    "        preprocessing_transformer2 = ColumnTransformer(\n",
    "        transformers=[('OneHotEncoder', OneHotEncoder(handle_unknown=\"ignore\"), categorical2),\n",
    "        ('MinMax', MinMaxScaler(),numerical2),\n",
    "        ])\n",
    "        pipe2 = Pipeline(\n",
    "        [(\"preprocesamiento\", preprocessing_transformer2),\n",
    "        #(\"Selection\", SelectPercentile(f_classif, percentile=80)),\n",
    "        #(\"red_atributos\",TruncatedSVD(n_components=300)),\n",
    "        (\"clf\",DecisionTreeClassifier(random_state=0))]\n",
    "        )\n",
    "        # Entrenamiento de pipelines\n",
    "        pipe2.fit(Xtrain, Ytrain)\n",
    "        Ypred = pipe2.predict(Xtest)\n",
    "        Ypred_map=pd.Series(Ypred).apply( lambda x: x.split(\" \"))\n",
    "        Ytest_map=pd.Series(Ytest).apply( lambda x: x.split(\" \"))\n",
    "        ml_metrics.mapk(Ytest_map, Ypred_map, 5)\n",
    "        # Accuracy\n",
    "        list_accuracy.append(accuracy_score(Ypred, Ytest))##################\n",
    "        #MAP\n",
    "        Ypred_map=pd.Series(Ypred).apply( lambda x: x.split(\" \"))\n",
    "        Ytest_map=pd.Series(Ytest).apply( lambda x: x.split(\" \"))\n",
    "        list_map.append(ml_metrics.mapk(Ytest_map, Ypred_map, 5))#######################\n"
   ]
  },
  {
   "cell_type": "code",
   "execution_count": 19,
   "metadata": {},
   "outputs": [
    {
     "data": {
      "application/vnd.plotly.v1+json": {
       "config": {
        "plotlyServerURL": "https://plot.ly"
       },
       "data": [
        {
         "mode": "lines",
         "name": "MAP",
         "type": "scatter",
         "x": [
          2,
          3,
          4,
          5,
          6,
          7,
          8,
          9,
          10,
          11,
          12,
          13,
          14,
          15,
          16,
          17,
          18,
          19,
          20,
          21,
          22,
          23
         ],
         "xaxis": "x",
         "y": [
          0.4338614476545511,
          0.5517785026405717,
          0.6503870249559904,
          0.6294643781712747,
          0.6409405094749921,
          0.6499857616236927,
          0.6477762245003624,
          0.6488661074867971,
          0.6476040695868281,
          0.6467911877394635,
          0.6545808739774257,
          0.648301750025888,
          0.6476907942425184,
          0.6540113389251321,
          0.6501190846018432,
          0.6538818991405198,
          0.6569884539712126,
          0.6570687066376721,
          0.654754323288806,
          0.6544164854509682,
          0.6589429947188568,
          0.6535505332919126
         ],
         "yaxis": "y"
        },
        {
         "mode": "lines",
         "name": "Accuracy",
         "type": "scatter",
         "x": [
          2,
          3,
          4,
          5,
          6,
          7,
          8,
          9,
          10,
          11,
          12,
          13,
          14,
          15,
          16,
          17,
          18,
          19,
          20,
          21,
          22,
          23
         ],
         "xaxis": "x2",
         "y": [
          0.07124883504193849,
          0.12903075489282387,
          0.25037278657968315,
          0.2657036346691519,
          0.2930568499534017,
          0.3016775396085741,
          0.3025629077353215,
          0.3031220876048462,
          0.30279589934762347,
          0.30237651444547997,
          0.3091798695246971,
          0.3061509785647717,
          0.3041938490214352,
          0.3080615097856477,
          0.3075955265610438,
          0.31225535880708294,
          0.3115097856477167,
          0.312022367194781,
          0.31109040074557315,
          0.3143056849953402,
          0.32124883504193846,
          0.3126747437092265
         ],
         "yaxis": "y2"
        }
       ],
       "layout": {
        "annotations": [
         {
          "font": {
           "size": 16
          },
          "showarrow": false,
          "text": "Métrica MAP",
          "x": 0.5,
          "xanchor": "center",
          "xref": "paper",
          "y": 1,
          "yanchor": "bottom",
          "yref": "paper"
         },
         {
          "font": {
           "size": 16
          },
          "showarrow": false,
          "text": "Métrica Accuracy",
          "x": 0.5,
          "xanchor": "center",
          "xref": "paper",
          "y": 0.375,
          "yanchor": "bottom",
          "yref": "paper"
         }
        ],
        "height": 800,
        "legend": {
         "title": {
          "text": "Leyenda"
         },
         "tracegroupgap": 90
        },
        "shapes": [
         {
          "fillcolor": "#0EB9B9",
          "opacity": 0.25,
          "type": "rect",
          "x0": 22,
          "x1": 22,
          "xref": "x",
          "y0": 0,
          "y1": 1,
          "yref": "y domain"
         },
         {
          "fillcolor": "#0EB9B9",
          "opacity": 0.25,
          "type": "rect",
          "x0": 22,
          "x1": 22,
          "xref": "x2",
          "y0": 0,
          "y1": 1,
          "yref": "y2 domain"
         }
        ],
        "template": {
         "data": {
          "bar": [
           {
            "error_x": {
             "color": "#2a3f5f"
            },
            "error_y": {
             "color": "#2a3f5f"
            },
            "marker": {
             "line": {
              "color": "#E5ECF6",
              "width": 0.5
             },
             "pattern": {
              "fillmode": "overlay",
              "size": 10,
              "solidity": 0.2
             }
            },
            "type": "bar"
           }
          ],
          "barpolar": [
           {
            "marker": {
             "line": {
              "color": "#E5ECF6",
              "width": 0.5
             },
             "pattern": {
              "fillmode": "overlay",
              "size": 10,
              "solidity": 0.2
             }
            },
            "type": "barpolar"
           }
          ],
          "carpet": [
           {
            "aaxis": {
             "endlinecolor": "#2a3f5f",
             "gridcolor": "white",
             "linecolor": "white",
             "minorgridcolor": "white",
             "startlinecolor": "#2a3f5f"
            },
            "baxis": {
             "endlinecolor": "#2a3f5f",
             "gridcolor": "white",
             "linecolor": "white",
             "minorgridcolor": "white",
             "startlinecolor": "#2a3f5f"
            },
            "type": "carpet"
           }
          ],
          "choropleth": [
           {
            "colorbar": {
             "outlinewidth": 0,
             "ticks": ""
            },
            "type": "choropleth"
           }
          ],
          "contour": [
           {
            "colorbar": {
             "outlinewidth": 0,
             "ticks": ""
            },
            "colorscale": [
             [
              0,
              "#0d0887"
             ],
             [
              0.1111111111111111,
              "#46039f"
             ],
             [
              0.2222222222222222,
              "#7201a8"
             ],
             [
              0.3333333333333333,
              "#9c179e"
             ],
             [
              0.4444444444444444,
              "#bd3786"
             ],
             [
              0.5555555555555556,
              "#d8576b"
             ],
             [
              0.6666666666666666,
              "#ed7953"
             ],
             [
              0.7777777777777778,
              "#fb9f3a"
             ],
             [
              0.8888888888888888,
              "#fdca26"
             ],
             [
              1,
              "#f0f921"
             ]
            ],
            "type": "contour"
           }
          ],
          "contourcarpet": [
           {
            "colorbar": {
             "outlinewidth": 0,
             "ticks": ""
            },
            "type": "contourcarpet"
           }
          ],
          "heatmap": [
           {
            "colorbar": {
             "outlinewidth": 0,
             "ticks": ""
            },
            "colorscale": [
             [
              0,
              "#0d0887"
             ],
             [
              0.1111111111111111,
              "#46039f"
             ],
             [
              0.2222222222222222,
              "#7201a8"
             ],
             [
              0.3333333333333333,
              "#9c179e"
             ],
             [
              0.4444444444444444,
              "#bd3786"
             ],
             [
              0.5555555555555556,
              "#d8576b"
             ],
             [
              0.6666666666666666,
              "#ed7953"
             ],
             [
              0.7777777777777778,
              "#fb9f3a"
             ],
             [
              0.8888888888888888,
              "#fdca26"
             ],
             [
              1,
              "#f0f921"
             ]
            ],
            "type": "heatmap"
           }
          ],
          "heatmapgl": [
           {
            "colorbar": {
             "outlinewidth": 0,
             "ticks": ""
            },
            "colorscale": [
             [
              0,
              "#0d0887"
             ],
             [
              0.1111111111111111,
              "#46039f"
             ],
             [
              0.2222222222222222,
              "#7201a8"
             ],
             [
              0.3333333333333333,
              "#9c179e"
             ],
             [
              0.4444444444444444,
              "#bd3786"
             ],
             [
              0.5555555555555556,
              "#d8576b"
             ],
             [
              0.6666666666666666,
              "#ed7953"
             ],
             [
              0.7777777777777778,
              "#fb9f3a"
             ],
             [
              0.8888888888888888,
              "#fdca26"
             ],
             [
              1,
              "#f0f921"
             ]
            ],
            "type": "heatmapgl"
           }
          ],
          "histogram": [
           {
            "marker": {
             "pattern": {
              "fillmode": "overlay",
              "size": 10,
              "solidity": 0.2
             }
            },
            "type": "histogram"
           }
          ],
          "histogram2d": [
           {
            "colorbar": {
             "outlinewidth": 0,
             "ticks": ""
            },
            "colorscale": [
             [
              0,
              "#0d0887"
             ],
             [
              0.1111111111111111,
              "#46039f"
             ],
             [
              0.2222222222222222,
              "#7201a8"
             ],
             [
              0.3333333333333333,
              "#9c179e"
             ],
             [
              0.4444444444444444,
              "#bd3786"
             ],
             [
              0.5555555555555556,
              "#d8576b"
             ],
             [
              0.6666666666666666,
              "#ed7953"
             ],
             [
              0.7777777777777778,
              "#fb9f3a"
             ],
             [
              0.8888888888888888,
              "#fdca26"
             ],
             [
              1,
              "#f0f921"
             ]
            ],
            "type": "histogram2d"
           }
          ],
          "histogram2dcontour": [
           {
            "colorbar": {
             "outlinewidth": 0,
             "ticks": ""
            },
            "colorscale": [
             [
              0,
              "#0d0887"
             ],
             [
              0.1111111111111111,
              "#46039f"
             ],
             [
              0.2222222222222222,
              "#7201a8"
             ],
             [
              0.3333333333333333,
              "#9c179e"
             ],
             [
              0.4444444444444444,
              "#bd3786"
             ],
             [
              0.5555555555555556,
              "#d8576b"
             ],
             [
              0.6666666666666666,
              "#ed7953"
             ],
             [
              0.7777777777777778,
              "#fb9f3a"
             ],
             [
              0.8888888888888888,
              "#fdca26"
             ],
             [
              1,
              "#f0f921"
             ]
            ],
            "type": "histogram2dcontour"
           }
          ],
          "mesh3d": [
           {
            "colorbar": {
             "outlinewidth": 0,
             "ticks": ""
            },
            "type": "mesh3d"
           }
          ],
          "parcoords": [
           {
            "line": {
             "colorbar": {
              "outlinewidth": 0,
              "ticks": ""
             }
            },
            "type": "parcoords"
           }
          ],
          "pie": [
           {
            "automargin": true,
            "type": "pie"
           }
          ],
          "scatter": [
           {
            "marker": {
             "colorbar": {
              "outlinewidth": 0,
              "ticks": ""
             }
            },
            "type": "scatter"
           }
          ],
          "scatter3d": [
           {
            "line": {
             "colorbar": {
              "outlinewidth": 0,
              "ticks": ""
             }
            },
            "marker": {
             "colorbar": {
              "outlinewidth": 0,
              "ticks": ""
             }
            },
            "type": "scatter3d"
           }
          ],
          "scattercarpet": [
           {
            "marker": {
             "colorbar": {
              "outlinewidth": 0,
              "ticks": ""
             }
            },
            "type": "scattercarpet"
           }
          ],
          "scattergeo": [
           {
            "marker": {
             "colorbar": {
              "outlinewidth": 0,
              "ticks": ""
             }
            },
            "type": "scattergeo"
           }
          ],
          "scattergl": [
           {
            "marker": {
             "colorbar": {
              "outlinewidth": 0,
              "ticks": ""
             }
            },
            "type": "scattergl"
           }
          ],
          "scattermapbox": [
           {
            "marker": {
             "colorbar": {
              "outlinewidth": 0,
              "ticks": ""
             }
            },
            "type": "scattermapbox"
           }
          ],
          "scatterpolar": [
           {
            "marker": {
             "colorbar": {
              "outlinewidth": 0,
              "ticks": ""
             }
            },
            "type": "scatterpolar"
           }
          ],
          "scatterpolargl": [
           {
            "marker": {
             "colorbar": {
              "outlinewidth": 0,
              "ticks": ""
             }
            },
            "type": "scatterpolargl"
           }
          ],
          "scatterternary": [
           {
            "marker": {
             "colorbar": {
              "outlinewidth": 0,
              "ticks": ""
             }
            },
            "type": "scatterternary"
           }
          ],
          "surface": [
           {
            "colorbar": {
             "outlinewidth": 0,
             "ticks": ""
            },
            "colorscale": [
             [
              0,
              "#0d0887"
             ],
             [
              0.1111111111111111,
              "#46039f"
             ],
             [
              0.2222222222222222,
              "#7201a8"
             ],
             [
              0.3333333333333333,
              "#9c179e"
             ],
             [
              0.4444444444444444,
              "#bd3786"
             ],
             [
              0.5555555555555556,
              "#d8576b"
             ],
             [
              0.6666666666666666,
              "#ed7953"
             ],
             [
              0.7777777777777778,
              "#fb9f3a"
             ],
             [
              0.8888888888888888,
              "#fdca26"
             ],
             [
              1,
              "#f0f921"
             ]
            ],
            "type": "surface"
           }
          ],
          "table": [
           {
            "cells": {
             "fill": {
              "color": "#EBF0F8"
             },
             "line": {
              "color": "white"
             }
            },
            "header": {
             "fill": {
              "color": "#C8D4E3"
             },
             "line": {
              "color": "white"
             }
            },
            "type": "table"
           }
          ]
         },
         "layout": {
          "annotationdefaults": {
           "arrowcolor": "#2a3f5f",
           "arrowhead": 0,
           "arrowwidth": 1
          },
          "autotypenumbers": "strict",
          "coloraxis": {
           "colorbar": {
            "outlinewidth": 0,
            "ticks": ""
           }
          },
          "colorscale": {
           "diverging": [
            [
             0,
             "#8e0152"
            ],
            [
             0.1,
             "#c51b7d"
            ],
            [
             0.2,
             "#de77ae"
            ],
            [
             0.3,
             "#f1b6da"
            ],
            [
             0.4,
             "#fde0ef"
            ],
            [
             0.5,
             "#f7f7f7"
            ],
            [
             0.6,
             "#e6f5d0"
            ],
            [
             0.7,
             "#b8e186"
            ],
            [
             0.8,
             "#7fbc41"
            ],
            [
             0.9,
             "#4d9221"
            ],
            [
             1,
             "#276419"
            ]
           ],
           "sequential": [
            [
             0,
             "#0d0887"
            ],
            [
             0.1111111111111111,
             "#46039f"
            ],
            [
             0.2222222222222222,
             "#7201a8"
            ],
            [
             0.3333333333333333,
             "#9c179e"
            ],
            [
             0.4444444444444444,
             "#bd3786"
            ],
            [
             0.5555555555555556,
             "#d8576b"
            ],
            [
             0.6666666666666666,
             "#ed7953"
            ],
            [
             0.7777777777777778,
             "#fb9f3a"
            ],
            [
             0.8888888888888888,
             "#fdca26"
            ],
            [
             1,
             "#f0f921"
            ]
           ],
           "sequentialminus": [
            [
             0,
             "#0d0887"
            ],
            [
             0.1111111111111111,
             "#46039f"
            ],
            [
             0.2222222222222222,
             "#7201a8"
            ],
            [
             0.3333333333333333,
             "#9c179e"
            ],
            [
             0.4444444444444444,
             "#bd3786"
            ],
            [
             0.5555555555555556,
             "#d8576b"
            ],
            [
             0.6666666666666666,
             "#ed7953"
            ],
            [
             0.7777777777777778,
             "#fb9f3a"
            ],
            [
             0.8888888888888888,
             "#fdca26"
            ],
            [
             1,
             "#f0f921"
            ]
           ]
          },
          "colorway": [
           "#636efa",
           "#EF553B",
           "#00cc96",
           "#ab63fa",
           "#FFA15A",
           "#19d3f3",
           "#FF6692",
           "#B6E880",
           "#FF97FF",
           "#FECB52"
          ],
          "font": {
           "color": "#2a3f5f"
          },
          "geo": {
           "bgcolor": "white",
           "lakecolor": "white",
           "landcolor": "#E5ECF6",
           "showlakes": true,
           "showland": true,
           "subunitcolor": "white"
          },
          "hoverlabel": {
           "align": "left"
          },
          "hovermode": "closest",
          "mapbox": {
           "style": "light"
          },
          "paper_bgcolor": "white",
          "plot_bgcolor": "#E5ECF6",
          "polar": {
           "angularaxis": {
            "gridcolor": "white",
            "linecolor": "white",
            "ticks": ""
           },
           "bgcolor": "#E5ECF6",
           "radialaxis": {
            "gridcolor": "white",
            "linecolor": "white",
            "ticks": ""
           }
          },
          "scene": {
           "xaxis": {
            "backgroundcolor": "#E5ECF6",
            "gridcolor": "white",
            "gridwidth": 2,
            "linecolor": "white",
            "showbackground": true,
            "ticks": "",
            "zerolinecolor": "white"
           },
           "yaxis": {
            "backgroundcolor": "#E5ECF6",
            "gridcolor": "white",
            "gridwidth": 2,
            "linecolor": "white",
            "showbackground": true,
            "ticks": "",
            "zerolinecolor": "white"
           },
           "zaxis": {
            "backgroundcolor": "#E5ECF6",
            "gridcolor": "white",
            "gridwidth": 2,
            "linecolor": "white",
            "showbackground": true,
            "ticks": "",
            "zerolinecolor": "white"
           }
          },
          "shapedefaults": {
           "line": {
            "color": "#2a3f5f"
           }
          },
          "ternary": {
           "aaxis": {
            "gridcolor": "white",
            "linecolor": "white",
            "ticks": ""
           },
           "baxis": {
            "gridcolor": "white",
            "linecolor": "white",
            "ticks": ""
           },
           "bgcolor": "#E5ECF6",
           "caxis": {
            "gridcolor": "white",
            "linecolor": "white",
            "ticks": ""
           }
          },
          "title": {
           "x": 0.05
          },
          "xaxis": {
           "automargin": true,
           "gridcolor": "white",
           "linecolor": "white",
           "ticks": "",
           "title": {
            "standoff": 15
           },
           "zerolinecolor": "white",
           "zerolinewidth": 2
          },
          "yaxis": {
           "automargin": true,
           "gridcolor": "white",
           "linecolor": "white",
           "ticks": "",
           "title": {
            "standoff": 15
           },
           "zerolinecolor": "white",
           "zerolinewidth": 2
          }
         }
        },
        "title": {
         "text": "Optimización MAP"
        },
        "width": 1000,
        "xaxis": {
         "anchor": "y",
         "domain": [
          0,
          1
         ]
        },
        "xaxis2": {
         "anchor": "y2",
         "domain": [
          0,
          1
         ],
         "title": {
          "text": "# Variables"
         }
        },
        "yaxis": {
         "anchor": "x",
         "domain": [
          0.625,
          1
         ],
         "title": {
          "text": "MAP"
         }
        },
        "yaxis2": {
         "anchor": "x2",
         "domain": [
          0,
          0.375
         ],
         "title": {
          "text": "Accuracy"
         }
        }
       }
      }
     },
     "metadata": {},
     "output_type": "display_data"
    }
   ],
   "source": [
    "# Visualización\n",
    "\n",
    "fig = make_subplots(\n",
    "    rows=2, cols=1,\n",
    "    subplot_titles=(\"Métrica MAP\", \"Métrica Accuracy\"))\n",
    "# Create traces\n",
    "\n",
    "fig.add_trace(go.Scatter(x=num_variables, y=list_map,\n",
    "                    mode='lines',\n",
    "                    name='MAP'),row=1, col=1)\n",
    "fig.add_trace(go.Scatter(x=num_variables, y=list_accuracy,\n",
    "                    mode='lines',\n",
    "                    name='Accuracy'),row=2, col=1)\n",
    "\n",
    "\n",
    "fig.update_layout(title_text=\"Optimización MAP\",\n",
    "                      height=800,\n",
    "                      width=1000,font=dict(#color=\"white\"\n",
    "                      ),#template=\"plotly_dark\",\n",
    "                      legend_tracegroupgap = 90,legend_title=\"Leyenda\")\n",
    "\n",
    "fig.update_xaxes(title_text=\"# Variables\",row=2, col=1)\n",
    "fig.update_yaxes(title_text=\"MAP\", row=1, col=1)\n",
    "fig.update_yaxes(title_text=\"Accuracy\", row=2, col=1)\n",
    "fig.add_vrect(x0=22, x1=22,opacity=0.25,fillcolor=\"#0EB9B9\")\n",
    "\n",
    "fig.show()"
   ]
  },
  {
   "cell_type": "markdown",
   "metadata": {},
   "source": [
    "#### Finalmente las variables elegidas son:"
   ]
  },
  {
   "cell_type": "code",
   "execution_count": 20,
   "metadata": {},
   "outputs": [
    {
     "data": {
      "text/plain": [
       "['E-F',\n",
       " 'D-F',\n",
       " 'C-C',\n",
       " 'A-K',\n",
       " 'A-G',\n",
       " 'num_comunicaciones',\n",
       " 'Recency',\n",
       " 'Positivo',\n",
       " 'B',\n",
       " 'Monto',\n",
       " 'Periodicity',\n",
       " 'Profesion',\n",
       " 'lec_B-B',\n",
       " 'Renta',\n",
       " 'F-I',\n",
       " 'Edad',\n",
       " 'lec_A-A',\n",
       " 'Comuna',\n",
       " 'Sin Info',\n",
       " 'Ciudad',\n",
       " 'Duracion_Campaña',\n",
       " 'Principalidad']"
      ]
     },
     "execution_count": 20,
     "metadata": {},
     "output_type": "execute_result"
    }
   ],
   "source": [
    "tags[0:22]"
   ]
  }
 ],
 "metadata": {
  "interpreter": {
   "hash": "65e97ffa20fbdd895c76c3a1d2c2ade704754874d6e45df701862667e65d73d7"
  },
  "kernelspec": {
   "display_name": "Python 3.9.6 ('Programacion_Cientifica')",
   "language": "python",
   "name": "python3"
  },
  "language_info": {
   "codemirror_mode": {
    "name": "ipython",
    "version": 3
   },
   "file_extension": ".py",
   "mimetype": "text/x-python",
   "name": "python",
   "nbconvert_exporter": "python",
   "pygments_lexer": "ipython3",
   "version": "3.9.6"
  },
  "orig_nbformat": 4
 },
 "nbformat": 4,
 "nbformat_minor": 2
}
