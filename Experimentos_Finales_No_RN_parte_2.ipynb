{
 "cells": [
  {
   "cell_type": "markdown",
   "metadata": {},
   "source": [
    "# Experimentos Finales Modelos no RN"
   ]
  },
  {
   "cell_type": "code",
   "execution_count": 32,
   "metadata": {},
   "outputs": [],
   "source": [
    "import pandas as pd\n",
    "import numpy as np\n",
    "\n",
    "import missingno as msno\n",
    "import matplotlib.pyplot as plt\n",
    "import plotly.express as px\n",
    "\n",
    "from sklearn.ensemble import RandomForestClassifier\n",
    "from sklearn.metrics import classification_report\n",
    "from sklearn.model_selection import train_test_split \n",
    "from sklearn.decomposition import PCA\n",
    "from sklearn.pipeline import Pipeline\n",
    "from sklearn.decomposition import TruncatedSVD\n",
    "\n",
    "from sklearn.compose import ColumnTransformer\n",
    "from sklearn.preprocessing import MinMaxScaler\n",
    "from sklearn.preprocessing import OneHotEncoder\n",
    "import datetime\n",
    "from dateutil.parser import parse\n",
    "from sklearn.tree import  DecisionTreeClassifier\n",
    "import plotly.graph_objects as go\n",
    "import umap\n",
    "from imblearn.under_sampling import RandomUnderSampler\n",
    "from imblearn.over_sampling import RandomOverSampler\n",
    "import xgboost as xgb\n",
    "from sklearn.naive_bayes import MultinomialNB\n",
    "from sklearn.model_selection import GridSearchCV\n",
    "import ml_metrics\n",
    "import pickle\n",
    "from sklearn.metrics import accuracy_score\n",
    "import json\n"
   ]
  },
  {
   "cell_type": "code",
   "execution_count": 33,
   "metadata": {},
   "outputs": [
    {
     "name": "stderr",
     "output_type": "stream",
     "text": [
      "c:\\Users\\Jose Luis\\anaconda3\\envs\\Programacion_Cientifica\\lib\\site-packages\\IPython\\core\\interactiveshell.py:3441: DtypeWarning: Columns (40) have mixed types.Specify dtype option on import or set low_memory=False.\n",
      "  exec(code_obj, self.user_global_ns, self.user_ns)\n"
     ]
    },
    {
     "data": {
      "text/html": [
       "<div>\n",
       "<style scoped>\n",
       "    .dataframe tbody tr th:only-of-type {\n",
       "        vertical-align: middle;\n",
       "    }\n",
       "\n",
       "    .dataframe tbody tr th {\n",
       "        vertical-align: top;\n",
       "    }\n",
       "\n",
       "    .dataframe thead th {\n",
       "        text-align: right;\n",
       "    }\n",
       "</style>\n",
       "<table border=\"1\" class=\"dataframe\">\n",
       "  <thead>\n",
       "    <tr style=\"text-align: right;\">\n",
       "      <th></th>\n",
       "      <th>pref_B-B</th>\n",
       "      <th>pref_D-E</th>\n",
       "      <th>pref_C-D</th>\n",
       "      <th>pref_A-A</th>\n",
       "      <th>Duracion_Campaña</th>\n",
       "      <th>B</th>\n",
       "      <th>C</th>\n",
       "      <th>lec_B-B</th>\n",
       "      <th>lec_E-E</th>\n",
       "      <th>lec_D-E</th>\n",
       "      <th>...</th>\n",
       "      <th>Renta</th>\n",
       "      <th>Recibe_sueldo_en_cuenta</th>\n",
       "      <th>Segmento_consumidor</th>\n",
       "      <th>Meses_antiguedad</th>\n",
       "      <th>Comuna</th>\n",
       "      <th>Ciudad</th>\n",
       "      <th>Estado_civil</th>\n",
       "      <th>Principalidad</th>\n",
       "      <th>Profesion</th>\n",
       "      <th>Target</th>\n",
       "    </tr>\n",
       "  </thead>\n",
       "  <tbody>\n",
       "    <tr>\n",
       "      <th>0</th>\n",
       "      <td>0.0</td>\n",
       "      <td>0.0</td>\n",
       "      <td>0.0</td>\n",
       "      <td>0.0</td>\n",
       "      <td>1.0</td>\n",
       "      <td>4.0</td>\n",
       "      <td>5.0</td>\n",
       "      <td>5.0</td>\n",
       "      <td>0.0</td>\n",
       "      <td>0.0</td>\n",
       "      <td>...</td>\n",
       "      <td>R1</td>\n",
       "      <td>0</td>\n",
       "      <td>A</td>\n",
       "      <td>Mayor a 10 años</td>\n",
       "      <td>331.0</td>\n",
       "      <td>13.0</td>\n",
       "      <td>D</td>\n",
       "      <td>B</td>\n",
       "      <td>P164</td>\n",
       "      <td></td>\n",
       "    </tr>\n",
       "    <tr>\n",
       "      <th>1</th>\n",
       "      <td>0.0</td>\n",
       "      <td>0.0</td>\n",
       "      <td>0.0</td>\n",
       "      <td>0.0</td>\n",
       "      <td>1.0</td>\n",
       "      <td>2.0</td>\n",
       "      <td>9.0</td>\n",
       "      <td>14.0</td>\n",
       "      <td>1.0</td>\n",
       "      <td>1.0</td>\n",
       "      <td>...</td>\n",
       "      <td>R9</td>\n",
       "      <td>0</td>\n",
       "      <td>B</td>\n",
       "      <td>Mayor a 10 años</td>\n",
       "      <td>37.0</td>\n",
       "      <td>5.0</td>\n",
       "      <td>D</td>\n",
       "      <td>E</td>\n",
       "      <td>P164</td>\n",
       "      <td>D-E C-D E-E B-B</td>\n",
       "    </tr>\n",
       "    <tr>\n",
       "      <th>2</th>\n",
       "      <td>0.0</td>\n",
       "      <td>0.0</td>\n",
       "      <td>0.0</td>\n",
       "      <td>0.0</td>\n",
       "      <td>1.0</td>\n",
       "      <td>2.0</td>\n",
       "      <td>2.0</td>\n",
       "      <td>5.0</td>\n",
       "      <td>0.0</td>\n",
       "      <td>0.0</td>\n",
       "      <td>...</td>\n",
       "      <td>R9</td>\n",
       "      <td>1</td>\n",
       "      <td>B</td>\n",
       "      <td>Mayor a 10 años</td>\n",
       "      <td>19.0</td>\n",
       "      <td>4.0</td>\n",
       "      <td>B</td>\n",
       "      <td>D</td>\n",
       "      <td>P114</td>\n",
       "      <td>E-E A-A B-B</td>\n",
       "    </tr>\n",
       "    <tr>\n",
       "      <th>3</th>\n",
       "      <td>0.0</td>\n",
       "      <td>0.0</td>\n",
       "      <td>0.0</td>\n",
       "      <td>0.0</td>\n",
       "      <td>1.0</td>\n",
       "      <td>6.0</td>\n",
       "      <td>6.0</td>\n",
       "      <td>8.0</td>\n",
       "      <td>0.0</td>\n",
       "      <td>1.0</td>\n",
       "      <td>...</td>\n",
       "      <td>R4</td>\n",
       "      <td>0</td>\n",
       "      <td>A</td>\n",
       "      <td>Mayor a 10 años</td>\n",
       "      <td>91.0</td>\n",
       "      <td>13.0</td>\n",
       "      <td>D</td>\n",
       "      <td>B</td>\n",
       "      <td>P85</td>\n",
       "      <td>E-E B-B D-E</td>\n",
       "    </tr>\n",
       "    <tr>\n",
       "      <th>4</th>\n",
       "      <td>0.0</td>\n",
       "      <td>0.0</td>\n",
       "      <td>0.0</td>\n",
       "      <td>0.0</td>\n",
       "      <td>1.0</td>\n",
       "      <td>2.0</td>\n",
       "      <td>3.0</td>\n",
       "      <td>1.0</td>\n",
       "      <td>0.0</td>\n",
       "      <td>0.0</td>\n",
       "      <td>...</td>\n",
       "      <td>R5</td>\n",
       "      <td>0</td>\n",
       "      <td>A</td>\n",
       "      <td>Mayor a 10 años</td>\n",
       "      <td>34.0</td>\n",
       "      <td>5.0</td>\n",
       "      <td>B</td>\n",
       "      <td>C</td>\n",
       "      <td>P143</td>\n",
       "      <td>D-E A-A</td>\n",
       "    </tr>\n",
       "  </tbody>\n",
       "</table>\n",
       "<p>5 rows × 44 columns</p>\n",
       "</div>"
      ],
      "text/plain": [
       "   pref_B-B  pref_D-E  pref_C-D  pref_A-A  Duracion_Campaña    B    C  \\\n",
       "0       0.0       0.0       0.0       0.0               1.0  4.0  5.0   \n",
       "1       0.0       0.0       0.0       0.0               1.0  2.0  9.0   \n",
       "2       0.0       0.0       0.0       0.0               1.0  2.0  2.0   \n",
       "3       0.0       0.0       0.0       0.0               1.0  6.0  6.0   \n",
       "4       0.0       0.0       0.0       0.0               1.0  2.0  3.0   \n",
       "\n",
       "   lec_B-B  lec_E-E  lec_D-E  ...  Renta  Recibe_sueldo_en_cuenta  \\\n",
       "0      5.0      0.0      0.0  ...     R1                        0   \n",
       "1     14.0      1.0      1.0  ...     R9                        0   \n",
       "2      5.0      0.0      0.0  ...     R9                        1   \n",
       "3      8.0      0.0      1.0  ...     R4                        0   \n",
       "4      1.0      0.0      0.0  ...     R5                        0   \n",
       "\n",
       "   Segmento_consumidor  Meses_antiguedad  Comuna  Ciudad  Estado_civil  \\\n",
       "0                    A   Mayor a 10 años   331.0    13.0             D   \n",
       "1                    B   Mayor a 10 años    37.0     5.0             D   \n",
       "2                    B   Mayor a 10 años    19.0     4.0             B   \n",
       "3                    A   Mayor a 10 años    91.0    13.0             D   \n",
       "4                    A   Mayor a 10 años    34.0     5.0             B   \n",
       "\n",
       "   Principalidad  Profesion           Target  \n",
       "0              B       P164                   \n",
       "1              E       P164  D-E C-D E-E B-B  \n",
       "2              D       P114      E-E A-A B-B  \n",
       "3              B        P85      E-E B-B D-E  \n",
       "4              C       P143          D-E A-A  \n",
       "\n",
       "[5 rows x 44 columns]"
      ]
     },
     "execution_count": 33,
     "metadata": {},
     "output_type": "execute_result"
    }
   ],
   "source": [
    "Data=pd.read_csv(\"cleaned_01June2022.csv\").drop(columns=[\"Unnamed: 0\"]).fillna(\"\")\n",
    "Data.head()"
   ]
  },
  {
   "cell_type": "code",
   "execution_count": 34,
   "metadata": {},
   "outputs": [],
   "source": [
    "# datos númericos\n",
    "numerical=list(Data.select_dtypes(exclude=[\"category\",\"object\"]).columns)\n",
    "numerical.remove(\"Sexo\")\n",
    "numerical.remove('Recibe_sueldo_en_cuenta')\n",
    "\n",
    "\n",
    "# datos categorical\n",
    "categorical=list(Data.select_dtypes(include=[\"category\",\"object\"]).columns)+['Sexo','Recibe_sueldo_en_cuenta']\n",
    "categorical.remove(\"Target\")"
   ]
  },
  {
   "cell_type": "code",
   "execution_count": 35,
   "metadata": {},
   "outputs": [],
   "source": [
    "for i in categorical:\n",
    "    Data[i]=Data[i].astype(str)"
   ]
  },
  {
   "cell_type": "code",
   "execution_count": 36,
   "metadata": {},
   "outputs": [],
   "source": [
    "# Select 1 - Only Gini, corte visual\n",
    "select_variables_1=['E-F',\n",
    " 'C-C',\n",
    " 'D-F',\n",
    " 'A-K',\n",
    " 'num_comunicaciones',\n",
    " 'Length',\n",
    " 'pref_A-A',\n",
    " 'Positivo',\n",
    " 'Recency',\n",
    " 'A-G',\n",
    " 'Monto',\n",
    " 'Periodicity',\n",
    " 'Frequency',\n",
    " 'lec_B-B',\n",
    " 'G-K']"
   ]
  },
  {
   "cell_type": "code",
   "execution_count": 37,
   "metadata": {},
   "outputs": [],
   "source": [
    "# Select 2 - Criterio Corr Kill\n",
    "select_variables_2=['E-F',\n",
    " 'C-C',\n",
    " 'D-F',\n",
    " 'A-K',\n",
    " 'pref_A-A',\n",
    " 'num_comunicaciones',\n",
    " 'Length',\n",
    " 'Sin Info',\n",
    " 'F-I',\n",
    " 'Monto',\n",
    " 'B',\n",
    " 'lec_B-B',\n",
    " 'Comuna',\n",
    " 'Edad',\n",
    " 'Ciudad',\n",
    " 'Profesion',\n",
    " 'Renta',\n",
    " 'F-H',\n",
    " 'lec_A-A',\n",
    " 'Principalidad',\n",
    " 'A-L',\n",
    " 'lec_C-D',\n",
    " 'Estado_civil']"
   ]
  },
  {
   "cell_type": "markdown",
   "metadata": {},
   "source": [
    "# Train, Test Split"
   ]
  },
  {
   "cell_type": "code",
   "execution_count": 38,
   "metadata": {},
   "outputs": [
    {
     "data": {
      "text/html": [
       "<div>\n",
       "<style scoped>\n",
       "    .dataframe tbody tr th:only-of-type {\n",
       "        vertical-align: middle;\n",
       "    }\n",
       "\n",
       "    .dataframe tbody tr th {\n",
       "        vertical-align: top;\n",
       "    }\n",
       "\n",
       "    .dataframe thead th {\n",
       "        text-align: right;\n",
       "    }\n",
       "</style>\n",
       "<table border=\"1\" class=\"dataframe\">\n",
       "  <thead>\n",
       "    <tr style=\"text-align: right;\">\n",
       "      <th></th>\n",
       "      <th>pref_B-B</th>\n",
       "      <th>pref_D-E</th>\n",
       "      <th>pref_C-D</th>\n",
       "      <th>pref_A-A</th>\n",
       "      <th>Duracion_Campaña</th>\n",
       "      <th>B</th>\n",
       "      <th>C</th>\n",
       "      <th>lec_B-B</th>\n",
       "      <th>lec_E-E</th>\n",
       "      <th>lec_D-E</th>\n",
       "      <th>...</th>\n",
       "      <th>Sexo</th>\n",
       "      <th>Renta</th>\n",
       "      <th>Recibe_sueldo_en_cuenta</th>\n",
       "      <th>Segmento_consumidor</th>\n",
       "      <th>Meses_antiguedad</th>\n",
       "      <th>Comuna</th>\n",
       "      <th>Ciudad</th>\n",
       "      <th>Estado_civil</th>\n",
       "      <th>Principalidad</th>\n",
       "      <th>Profesion</th>\n",
       "    </tr>\n",
       "  </thead>\n",
       "  <tbody>\n",
       "    <tr>\n",
       "      <th>0</th>\n",
       "      <td>0.0</td>\n",
       "      <td>0.0</td>\n",
       "      <td>0.0</td>\n",
       "      <td>0.0</td>\n",
       "      <td>1.0</td>\n",
       "      <td>4.0</td>\n",
       "      <td>5.0</td>\n",
       "      <td>5.0</td>\n",
       "      <td>0.0</td>\n",
       "      <td>0.0</td>\n",
       "      <td>...</td>\n",
       "      <td>1</td>\n",
       "      <td>R1</td>\n",
       "      <td>0</td>\n",
       "      <td>A</td>\n",
       "      <td>Mayor a 10 años</td>\n",
       "      <td>331.0</td>\n",
       "      <td>13.0</td>\n",
       "      <td>D</td>\n",
       "      <td>B</td>\n",
       "      <td>P164</td>\n",
       "    </tr>\n",
       "    <tr>\n",
       "      <th>1</th>\n",
       "      <td>0.0</td>\n",
       "      <td>0.0</td>\n",
       "      <td>0.0</td>\n",
       "      <td>0.0</td>\n",
       "      <td>1.0</td>\n",
       "      <td>2.0</td>\n",
       "      <td>9.0</td>\n",
       "      <td>14.0</td>\n",
       "      <td>1.0</td>\n",
       "      <td>1.0</td>\n",
       "      <td>...</td>\n",
       "      <td>1</td>\n",
       "      <td>R9</td>\n",
       "      <td>0</td>\n",
       "      <td>B</td>\n",
       "      <td>Mayor a 10 años</td>\n",
       "      <td>37.0</td>\n",
       "      <td>5.0</td>\n",
       "      <td>D</td>\n",
       "      <td>E</td>\n",
       "      <td>P164</td>\n",
       "    </tr>\n",
       "    <tr>\n",
       "      <th>2</th>\n",
       "      <td>0.0</td>\n",
       "      <td>0.0</td>\n",
       "      <td>0.0</td>\n",
       "      <td>0.0</td>\n",
       "      <td>1.0</td>\n",
       "      <td>2.0</td>\n",
       "      <td>2.0</td>\n",
       "      <td>5.0</td>\n",
       "      <td>0.0</td>\n",
       "      <td>0.0</td>\n",
       "      <td>...</td>\n",
       "      <td>1</td>\n",
       "      <td>R9</td>\n",
       "      <td>1</td>\n",
       "      <td>B</td>\n",
       "      <td>Mayor a 10 años</td>\n",
       "      <td>19.0</td>\n",
       "      <td>4.0</td>\n",
       "      <td>B</td>\n",
       "      <td>D</td>\n",
       "      <td>P114</td>\n",
       "    </tr>\n",
       "    <tr>\n",
       "      <th>3</th>\n",
       "      <td>0.0</td>\n",
       "      <td>0.0</td>\n",
       "      <td>0.0</td>\n",
       "      <td>0.0</td>\n",
       "      <td>1.0</td>\n",
       "      <td>6.0</td>\n",
       "      <td>6.0</td>\n",
       "      <td>8.0</td>\n",
       "      <td>0.0</td>\n",
       "      <td>1.0</td>\n",
       "      <td>...</td>\n",
       "      <td>1</td>\n",
       "      <td>R4</td>\n",
       "      <td>0</td>\n",
       "      <td>A</td>\n",
       "      <td>Mayor a 10 años</td>\n",
       "      <td>91.0</td>\n",
       "      <td>13.0</td>\n",
       "      <td>D</td>\n",
       "      <td>B</td>\n",
       "      <td>P85</td>\n",
       "    </tr>\n",
       "    <tr>\n",
       "      <th>4</th>\n",
       "      <td>0.0</td>\n",
       "      <td>0.0</td>\n",
       "      <td>0.0</td>\n",
       "      <td>0.0</td>\n",
       "      <td>1.0</td>\n",
       "      <td>2.0</td>\n",
       "      <td>3.0</td>\n",
       "      <td>1.0</td>\n",
       "      <td>0.0</td>\n",
       "      <td>0.0</td>\n",
       "      <td>...</td>\n",
       "      <td>1</td>\n",
       "      <td>R5</td>\n",
       "      <td>0</td>\n",
       "      <td>A</td>\n",
       "      <td>Mayor a 10 años</td>\n",
       "      <td>34.0</td>\n",
       "      <td>5.0</td>\n",
       "      <td>B</td>\n",
       "      <td>C</td>\n",
       "      <td>P143</td>\n",
       "    </tr>\n",
       "  </tbody>\n",
       "</table>\n",
       "<p>5 rows × 43 columns</p>\n",
       "</div>"
      ],
      "text/plain": [
       "   pref_B-B  pref_D-E  pref_C-D  pref_A-A  Duracion_Campaña    B    C  \\\n",
       "0       0.0       0.0       0.0       0.0               1.0  4.0  5.0   \n",
       "1       0.0       0.0       0.0       0.0               1.0  2.0  9.0   \n",
       "2       0.0       0.0       0.0       0.0               1.0  2.0  2.0   \n",
       "3       0.0       0.0       0.0       0.0               1.0  6.0  6.0   \n",
       "4       0.0       0.0       0.0       0.0               1.0  2.0  3.0   \n",
       "\n",
       "   lec_B-B  lec_E-E  lec_D-E  ...  Sexo  Renta  Recibe_sueldo_en_cuenta  \\\n",
       "0      5.0      0.0      0.0  ...     1     R1                        0   \n",
       "1     14.0      1.0      1.0  ...     1     R9                        0   \n",
       "2      5.0      0.0      0.0  ...     1     R9                        1   \n",
       "3      8.0      0.0      1.0  ...     1     R4                        0   \n",
       "4      1.0      0.0      0.0  ...     1     R5                        0   \n",
       "\n",
       "   Segmento_consumidor  Meses_antiguedad  Comuna  Ciudad  Estado_civil  \\\n",
       "0                    A   Mayor a 10 años   331.0    13.0             D   \n",
       "1                    B   Mayor a 10 años    37.0     5.0             D   \n",
       "2                    B   Mayor a 10 años    19.0     4.0             B   \n",
       "3                    A   Mayor a 10 años    91.0    13.0             D   \n",
       "4                    A   Mayor a 10 años    34.0     5.0             B   \n",
       "\n",
       "   Principalidad  Profesion  \n",
       "0              B       P164  \n",
       "1              E       P164  \n",
       "2              D       P114  \n",
       "3              B        P85  \n",
       "4              C       P143  \n",
       "\n",
       "[5 rows x 43 columns]"
      ]
     },
     "execution_count": 38,
     "metadata": {},
     "output_type": "execute_result"
    }
   ],
   "source": [
    "X=Data.drop(columns=[\"Target\"]).copy()\n",
    "X.head()"
   ]
  },
  {
   "cell_type": "code",
   "execution_count": 39,
   "metadata": {},
   "outputs": [
    {
     "data": {
      "text/plain": [
       "0                   \n",
       "1    D-E C-D E-E B-B\n",
       "2        E-E A-A B-B\n",
       "3        E-E B-B D-E\n",
       "4            D-E A-A\n",
       "Name: Target, dtype: object"
      ]
     },
     "execution_count": 39,
     "metadata": {},
     "output_type": "execute_result"
    }
   ],
   "source": [
    "Y=Data[\"Target\"]\n",
    "Y.head()"
   ]
  },
  {
   "cell_type": "markdown",
   "metadata": {},
   "source": [
    "-----------"
   ]
  },
  {
   "cell_type": "markdown",
   "metadata": {},
   "source": [
    "dic_target={'': 0,\n",
    " 'A-A': 36,\n",
    " 'A-A B-B': 15,\n",
    " 'A-A B-B D-E': 43,\n",
    " 'A-A C-D': 73,\n",
    " 'A-A D-E': 44,\n",
    " 'A-A D-E B-B': 50,\n",
    " 'A-A E-E': 39,\n",
    " 'B-B': 18,\n",
    " 'B-B A-A': 35,\n",
    " 'B-B A-A D-E': 42,\n",
    " 'B-B C-D': 59,\n",
    " 'B-B C-D D-E': 37,\n",
    " 'B-B C-D D-E E-E': 64,\n",
    " 'B-B C-D E-E': 62,\n",
    " 'B-B D-E': 13,\n",
    " 'B-B D-E A-A': 71,\n",
    " 'B-B D-E C-D': 60,\n",
    " 'B-B D-E E-E': 29,\n",
    " 'B-B E-E': 9,\n",
    " 'B-B E-E C-D': 65,\n",
    " 'B-B E-E D-E': 34,\n",
    " 'C-D': 21,\n",
    " 'C-D A-A': 54,\n",
    " 'C-D A-A B-B': 25,\n",
    " 'C-D B-B': 20,\n",
    " 'C-D B-B A-A': 61,\n",
    " 'C-D B-B D-E': 16,\n",
    " 'C-D B-B D-E E-E': 68,\n",
    " 'C-D B-B E-E': 12,\n",
    " 'C-D B-B E-E D-E': 14,\n",
    " 'C-D D-E': 31,\n",
    " 'C-D D-E B-B': 24,\n",
    " 'C-D D-E B-B E-E': 56,\n",
    " 'C-D D-E E-E': 23,\n",
    " 'C-D D-E E-E B-B': 70,\n",
    " 'C-D E-E': 19,\n",
    " 'C-D E-E B-B': 32,\n",
    " 'C-D E-E B-B D-E': 38,\n",
    " 'C-D E-E D-E': 28,\n",
    " 'C-D E-E D-E B-B': 33,\n",
    " 'D-E': 6,\n",
    " 'D-E A-A': 4,\n",
    " 'D-E A-A B-B': 41,\n",
    " 'D-E B-B': 7,\n",
    " 'D-E B-B A-A': 8,\n",
    " 'D-E B-B C-D': 63,\n",
    " 'D-E B-B E-E': 46,\n",
    " 'D-E C-D': 45,\n",
    " 'D-E C-D B-B': 40,\n",
    " 'D-E C-D B-B E-E': 66,\n",
    " 'D-E C-D E-E': 67,\n",
    " 'D-E C-D E-E B-B': 1,\n",
    " 'D-E E-E': 22,\n",
    " 'D-E E-E A-A': 72,\n",
    " 'D-E E-E B-B': 10,\n",
    " 'D-E E-E C-D': 11,\n",
    " 'E-E': 5,\n",
    " 'E-E A-A': 57,\n",
    " 'E-E A-A B-B': 2,\n",
    " 'E-E A-A D-E': 48,\n",
    " 'E-E B-B': 17,\n",
    " 'E-E B-B A-A': 69,\n",
    " 'E-E B-B C-D': 55,\n",
    " 'E-E B-B D-E': 3,\n",
    " 'E-E C-D': 49,\n",
    " 'E-E C-D B-B': 52,\n",
    " 'E-E C-D B-B D-E': 58,\n",
    " 'E-E C-D D-E': 53,\n",
    " 'E-E C-D D-E B-B': 47,\n",
    " 'E-E D-E': 26,\n",
    " 'E-E D-E A-A': 51,\n",
    " 'E-E D-E B-B': 30,\n",
    " 'E-E D-E C-D': 27}"
   ]
  },
  {
   "cell_type": "code",
   "execution_count": 40,
   "metadata": {},
   "outputs": [],
   "source": [
    "\n",
    "#tf = open(\"myDictionary.json\", \"w\")\n",
    "#json.dump(dic_target,tf)\n",
    "#tf.close()"
   ]
  },
  {
   "cell_type": "code",
   "execution_count": 41,
   "metadata": {},
   "outputs": [],
   "source": [
    "tf = open(\"myDictionary.json\", \"r\")\n",
    "dic_target = json.load(tf)"
   ]
  },
  {
   "cell_type": "code",
   "execution_count": 42,
   "metadata": {},
   "outputs": [],
   "source": [
    "# Replace solo para experimentos con XGboost\n",
    "Y.replace(dic_target,inplace=True)"
   ]
  },
  {
   "cell_type": "markdown",
   "metadata": {},
   "source": [
    "-----------------"
   ]
  },
  {
   "cell_type": "code",
   "execution_count": 43,
   "metadata": {},
   "outputs": [],
   "source": [
    "# Generación de conjuntos de train y test\n",
    "Xtrain, Xtest, Ytrain, Ytest = train_test_split(\n",
    "    X, Y, test_size=0.33, \n",
    "    shuffle=True,\n",
    "    \n",
    ") "
   ]
  },
  {
   "cell_type": "code",
   "execution_count": 44,
   "metadata": {},
   "outputs": [],
   "source": [
    "# Sobremuestreo: Aumentar numero de datos de la clase minoritaria\n",
    "# ROS(Duplica clases):\n",
    "ros=RandomOverSampler(random_state=0) # Random_state=0"
   ]
  },
  {
   "cell_type": "code",
   "execution_count": 45,
   "metadata": {},
   "outputs": [],
   "source": [
    "# ROS:\n",
    "Xtrain, Ytrain=ros.fit_resample(Xtrain,Ytrain)"
   ]
  },
  {
   "cell_type": "code",
   "execution_count": 46,
   "metadata": {},
   "outputs": [
    {
     "data": {
      "text/plain": [
       "(613608, 43)"
      ]
     },
     "execution_count": 46,
     "metadata": {},
     "output_type": "execute_result"
    }
   ],
   "source": [
    "Xtrain.shape"
   ]
  },
  {
   "cell_type": "code",
   "execution_count": 47,
   "metadata": {},
   "outputs": [],
   "source": [
    "numerical1=list(filter(lambda x:x  in numerical,select_variables_1))\n",
    "categorical1=list(filter(lambda x:x  in categorical,select_variables_1))"
   ]
  },
  {
   "cell_type": "code",
   "execution_count": 48,
   "metadata": {},
   "outputs": [],
   "source": [
    "numerical2=list(filter(lambda x:x  in numerical,select_variables_2))\n",
    "categorical2=list(filter(lambda x:x  in categorical,select_variables_2))"
   ]
  },
  {
   "cell_type": "code",
   "execution_count": 49,
   "metadata": {},
   "outputs": [],
   "source": [
    "# Preprocesamiento de datos\n",
    "preprocessing_transformer1 = ColumnTransformer(\n",
    "    transformers=[('OneHotEncoder', OneHotEncoder(handle_unknown=\"ignore\"),categorical1 ),\n",
    "        ('MinMax', MinMaxScaler(),numerical1),\n",
    "    ])"
   ]
  },
  {
   "cell_type": "code",
   "execution_count": 50,
   "metadata": {},
   "outputs": [],
   "source": [
    "# Preprocesamiento de datos\n",
    "preprocessing_transformer2 = ColumnTransformer(\n",
    "    transformers=[('OneHotEncoder', OneHotEncoder(handle_unknown=\"ignore\"),categorical2 ),\n",
    "        ('MinMax', MinMaxScaler(),numerical2),\n",
    "    ])"
   ]
  },
  {
   "cell_type": "markdown",
   "metadata": {},
   "source": [
    "# Exp 1"
   ]
  },
  {
   "cell_type": "code",
   "execution_count": 107,
   "metadata": {},
   "outputs": [],
   "source": [
    "pipe_naive1 = Pipeline(\n",
    "    [\n",
    "        (\"preprocesamiento\", preprocessing_transformer1), \n",
    "     (\"clf\",MultinomialNB())\n",
    "    ]\n",
    ")"
   ]
  },
  {
   "cell_type": "code",
   "execution_count": 108,
   "metadata": {},
   "outputs": [
    {
     "data": {
      "text/plain": [
       "Pipeline(steps=[('preprocesamiento',\n",
       "                 ColumnTransformer(transformers=[('OneHotEncoder',\n",
       "                                                  OneHotEncoder(handle_unknown='ignore'),\n",
       "                                                  []),\n",
       "                                                 ('MinMax', MinMaxScaler(),\n",
       "                                                  ['E-F', 'C-C', 'D-F', 'A-K',\n",
       "                                                   'num_comunicaciones',\n",
       "                                                   'Length', 'pref_A-A',\n",
       "                                                   'Positivo', 'Recency', 'A-G',\n",
       "                                                   'Monto', 'Periodicity',\n",
       "                                                   'Frequency', 'lec_B-B',\n",
       "                                                   'G-K'])])),\n",
       "                ('clf', MultinomialNB())])"
      ]
     },
     "execution_count": 108,
     "metadata": {},
     "output_type": "execute_result"
    }
   ],
   "source": [
    "# Fit\n",
    "pipe_naive1.fit(Xtrain, Ytrain)"
   ]
  },
  {
   "cell_type": "code",
   "execution_count": 21,
   "metadata": {},
   "outputs": [],
   "source": [
    "# Generación de predicciones\n",
    "Ypred = pipe_naive1.predict(Xtest)"
   ]
  },
  {
   "cell_type": "code",
   "execution_count": 22,
   "metadata": {},
   "outputs": [
    {
     "data": {
      "text/plain": [
       "0.32540593734623585"
      ]
     },
     "execution_count": 22,
     "metadata": {},
     "output_type": "execute_result"
    }
   ],
   "source": [
    "accuracy_score(Ypred, Ytest)"
   ]
  },
  {
   "cell_type": "code",
   "execution_count": 23,
   "metadata": {},
   "outputs": [
    {
     "data": {
      "text/plain": [
       "0.7002533121936106"
      ]
     },
     "execution_count": 23,
     "metadata": {},
     "output_type": "execute_result"
    }
   ],
   "source": [
    "Ypred_map=pd.Series(Ypred).apply( lambda x: x.split(\" \"))\n",
    "Ytest_map=pd.Series(Ytest).apply( lambda x: x.split(\" \"))\n",
    "ml_metrics.mapk(Ytest_map, Ypred_map, 5)"
   ]
  },
  {
   "cell_type": "code",
   "execution_count": 112,
   "metadata": {},
   "outputs": [],
   "source": [
    "# Guardar modelo:\n",
    "pickle.dump(pipe_naive1, open('pipe_naive1.pkl', \"wb\"))"
   ]
  },
  {
   "cell_type": "code",
   "execution_count": 17,
   "metadata": {},
   "outputs": [],
   "source": [
    "# Leer modelo:\n",
    "pipe_naive1= pickle.load(open('pipe_naive1.pkl', 'rb'))"
   ]
  },
  {
   "cell_type": "markdown",
   "metadata": {},
   "source": [
    "# Exp 2"
   ]
  },
  {
   "cell_type": "code",
   "execution_count": 113,
   "metadata": {},
   "outputs": [],
   "source": [
    "pipe_naive2 = Pipeline(\n",
    "    [\n",
    "        (\"preprocesamiento\", preprocessing_transformer2), \n",
    "     (\"clf\",MultinomialNB())\n",
    "    ]\n",
    ")"
   ]
  },
  {
   "cell_type": "code",
   "execution_count": 114,
   "metadata": {},
   "outputs": [
    {
     "data": {
      "text/plain": [
       "Pipeline(steps=[('preprocesamiento',\n",
       "                 ColumnTransformer(transformers=[('OneHotEncoder',\n",
       "                                                  OneHotEncoder(handle_unknown='ignore'),\n",
       "                                                  ['Comuna', 'Edad', 'Ciudad',\n",
       "                                                   'Profesion', 'Renta',\n",
       "                                                   'Principalidad',\n",
       "                                                   'Estado_civil']),\n",
       "                                                 ('MinMax', MinMaxScaler(),\n",
       "                                                  ['E-F', 'C-C', 'D-F', 'A-K',\n",
       "                                                   'pref_A-A',\n",
       "                                                   'num_comunicaciones',\n",
       "                                                   'Length', 'Sin Info', 'F-I',\n",
       "                                                   'Monto', 'B', 'lec_B-B',\n",
       "                                                   'F-H', 'lec_A-A', 'A-L',\n",
       "                                                   'lec_C-D'])])),\n",
       "                ('clf', MultinomialNB())])"
      ]
     },
     "execution_count": 114,
     "metadata": {},
     "output_type": "execute_result"
    }
   ],
   "source": [
    "# Fit\n",
    "pipe_naive2.fit(Xtrain, Ytrain)"
   ]
  },
  {
   "cell_type": "code",
   "execution_count": 115,
   "metadata": {},
   "outputs": [],
   "source": [
    "# Generación de predicciones\n",
    "Ypred = pipe_naive2.predict(Xtest)"
   ]
  },
  {
   "cell_type": "code",
   "execution_count": 116,
   "metadata": {},
   "outputs": [
    {
     "data": {
      "text/plain": [
       "0.07831720518287683"
      ]
     },
     "execution_count": 116,
     "metadata": {},
     "output_type": "execute_result"
    }
   ],
   "source": [
    "accuracy_score(Ypred, Ytest)"
   ]
  },
  {
   "cell_type": "code",
   "execution_count": 117,
   "metadata": {},
   "outputs": [
    {
     "data": {
      "text/plain": [
       "0.5296001676598691"
      ]
     },
     "execution_count": 117,
     "metadata": {},
     "output_type": "execute_result"
    }
   ],
   "source": [
    "Ypred_map=pd.Series(Ypred).apply( lambda x: x.split(\" \"))\n",
    "Ytest_map=pd.Series(Ytest).apply( lambda x: x.split(\" \"))\n",
    "ml_metrics.mapk(Ytest_map, Ypred_map, 5)"
   ]
  },
  {
   "cell_type": "markdown",
   "metadata": {},
   "source": [
    "**Modelo descartado**"
   ]
  },
  {
   "cell_type": "markdown",
   "metadata": {},
   "source": [
    "# Exp 3"
   ]
  },
  {
   "cell_type": "code",
   "execution_count": 20,
   "metadata": {},
   "outputs": [],
   "source": [
    "pipe_random_forest1= Pipeline(\n",
    "    [\n",
    "        (\"preprocesamiento\", preprocessing_transformer1), \n",
    "     (\"clf\",RandomForestClassifier(random_state=1,n_estimators=100))\n",
    "    ]\n",
    ")"
   ]
  },
  {
   "cell_type": "code",
   "execution_count": 21,
   "metadata": {},
   "outputs": [
    {
     "data": {
      "text/plain": [
       "Pipeline(steps=[('preprocesamiento',\n",
       "                 ColumnTransformer(transformers=[('OneHotEncoder',\n",
       "                                                  OneHotEncoder(handle_unknown='ignore'),\n",
       "                                                  []),\n",
       "                                                 ('MinMax', MinMaxScaler(),\n",
       "                                                  ['E-F', 'C-C', 'D-F', 'A-K',\n",
       "                                                   'num_comunicaciones',\n",
       "                                                   'Length', 'pref_A-A',\n",
       "                                                   'Positivo', 'Recency', 'A-G',\n",
       "                                                   'Monto', 'Periodicity',\n",
       "                                                   'Frequency', 'lec_B-B',\n",
       "                                                   'G-K'])])),\n",
       "                ('clf', RandomForestClassifier(random_state=1))])"
      ]
     },
     "execution_count": 21,
     "metadata": {},
     "output_type": "execute_result"
    }
   ],
   "source": [
    "# Fit\n",
    "pipe_random_forest1.fit(Xtrain, Ytrain)"
   ]
  },
  {
   "cell_type": "code",
   "execution_count": 25,
   "metadata": {},
   "outputs": [],
   "source": [
    "# Generación de predicciones\n",
    "Ypred = pipe_random_forest1.predict(Xtest)"
   ]
  },
  {
   "cell_type": "code",
   "execution_count": 26,
   "metadata": {},
   "outputs": [
    {
     "data": {
      "text/plain": [
       "0.8009266852550435"
      ]
     },
     "execution_count": 26,
     "metadata": {},
     "output_type": "execute_result"
    }
   ],
   "source": [
    "accuracy_score(Ypred, Ytest)"
   ]
  },
  {
   "cell_type": "code",
   "execution_count": 27,
   "metadata": {},
   "outputs": [
    {
     "data": {
      "text/plain": [
       "0.908326954968746"
      ]
     },
     "execution_count": 27,
     "metadata": {},
     "output_type": "execute_result"
    }
   ],
   "source": [
    "Ypred_map=pd.Series(Ypred).apply( lambda x: x.split(\" \"))\n",
    "Ytest_map=pd.Series(Ytest).apply( lambda x: x.split(\" \"))\n",
    "ml_metrics.mapk(Ytest_map, Ypred_map, 5)"
   ]
  },
  {
   "cell_type": "code",
   "execution_count": 36,
   "metadata": {},
   "outputs": [],
   "source": [
    "# Guardar modelo:\n",
    "pickle.dump(pipe_random_forest1, open('pipe_random_forest1.pkl', \"wb\"))"
   ]
  },
  {
   "cell_type": "code",
   "execution_count": 24,
   "metadata": {},
   "outputs": [],
   "source": [
    "# Leer modelo:\n",
    "pipe_random_forest1= pickle.load(open('pipe_random_forest1.pkl', 'rb'))"
   ]
  },
  {
   "cell_type": "markdown",
   "metadata": {},
   "source": [
    "# Exp 4"
   ]
  },
  {
   "cell_type": "code",
   "execution_count": 37,
   "metadata": {},
   "outputs": [],
   "source": [
    "pipe_random_forest2 = Pipeline(\n",
    "    [\n",
    "        (\"preprocesamiento\", preprocessing_transformer2), \n",
    "     (\"clf\",RandomForestClassifier(random_state=1,n_estimators=100))\n",
    "    ]\n",
    ")"
   ]
  },
  {
   "cell_type": "code",
   "execution_count": 38,
   "metadata": {},
   "outputs": [
    {
     "data": {
      "text/plain": [
       "Pipeline(steps=[('preprocesamiento',\n",
       "                 ColumnTransformer(transformers=[('OneHotEncoder',\n",
       "                                                  OneHotEncoder(handle_unknown='ignore'),\n",
       "                                                  ['Comuna', 'Edad', 'Ciudad',\n",
       "                                                   'Profesion', 'Renta',\n",
       "                                                   'Principalidad',\n",
       "                                                   'Estado_civil']),\n",
       "                                                 ('MinMax', MinMaxScaler(),\n",
       "                                                  ['E-F', 'C-C', 'D-F', 'A-K',\n",
       "                                                   'pref_A-A',\n",
       "                                                   'num_comunicaciones',\n",
       "                                                   'Length', 'Sin Info', 'F-I',\n",
       "                                                   'Monto', 'B', 'lec_B-B',\n",
       "                                                   'F-H', 'lec_A-A', 'A-L',\n",
       "                                                   'lec_C-D'])])),\n",
       "                ('clf', RandomForestClassifier(random_state=1))])"
      ]
     },
     "execution_count": 38,
     "metadata": {},
     "output_type": "execute_result"
    }
   ],
   "source": [
    "# Fit\n",
    "pipe_random_forest2.fit(Xtrain, Ytrain)"
   ]
  },
  {
   "cell_type": "code",
   "execution_count": 29,
   "metadata": {},
   "outputs": [],
   "source": [
    "# Generación de predicciones\n",
    "Ypred = pipe_random_forest2.predict(Xtest)"
   ]
  },
  {
   "cell_type": "code",
   "execution_count": 30,
   "metadata": {},
   "outputs": [
    {
     "data": {
      "text/plain": [
       "0.7951041495817616"
      ]
     },
     "execution_count": 30,
     "metadata": {},
     "output_type": "execute_result"
    }
   ],
   "source": [
    "accuracy_score(Ypred, Ytest)"
   ]
  },
  {
   "cell_type": "code",
   "execution_count": 31,
   "metadata": {},
   "outputs": [
    {
     "data": {
      "text/plain": [
       "0.896110108796676"
      ]
     },
     "execution_count": 31,
     "metadata": {},
     "output_type": "execute_result"
    }
   ],
   "source": [
    "Ypred_map=pd.Series(Ypred).apply( lambda x: x.split(\" \"))\n",
    "Ytest_map=pd.Series(Ytest).apply( lambda x: x.split(\" \"))\n",
    "ml_metrics.mapk(Ytest_map, Ypred_map, 5)"
   ]
  },
  {
   "cell_type": "code",
   "execution_count": 42,
   "metadata": {},
   "outputs": [],
   "source": [
    "# Guardar modelo:\n",
    "pickle.dump(pipe_random_forest2, open('pipe_random_forest2.pkl', \"wb\"))"
   ]
  },
  {
   "cell_type": "code",
   "execution_count": 28,
   "metadata": {},
   "outputs": [],
   "source": [
    "# Leer modelo:\n",
    "pipe_random_forest2= pickle.load(open('pipe_random_forest2.pkl', 'rb'))"
   ]
  },
  {
   "cell_type": "markdown",
   "metadata": {},
   "source": [
    "# Modelos 5 fue entrenado en GPU de la nube de google"
   ]
  },
  {
   "cell_type": "markdown",
   "metadata": {},
   "source": [
    "# Exp 5"
   ]
  },
  {
   "cell_type": "code",
   "execution_count": null,
   "metadata": {},
   "outputs": [],
   "source": [
    "# save to BIN\n",
    "#model_xgb1.save_model(\"./pipe_xgb1.bin\")"
   ]
  },
  {
   "cell_type": "code",
   "execution_count": 105,
   "metadata": {},
   "outputs": [
    {
     "name": "stdout",
     "output_type": "stream",
     "text": [
      "[18:51:32] WARNING: ..\\src\\learner.cc:854: Loading model from XGBoost < 1.0.0, consider saving it again for improved compatibility\n"
     ]
    },
    {
     "name": "stderr",
     "output_type": "stream",
     "text": [
      "c:\\Users\\Jose Luis\\anaconda3\\envs\\Programacion_Cientifica\\lib\\site-packages\\xgboost\\sklearn.py:604: UserWarning: Loading a native XGBoost model with Scikit-Learn interface.\n",
      "  warnings.warn(\n"
     ]
    }
   ],
   "source": [
    "# Load\n",
    "model_xgb1 = xgb.XGBClassifier()\n",
    "model_xgb1.load_model(\"model_xgb1.bin\")"
   ]
  },
  {
   "cell_type": "code",
   "execution_count": 106,
   "metadata": {},
   "outputs": [],
   "source": [
    "# Leer pipeline:\n",
    "pipe_xgb1= pickle.load(open('pipe_xgb1.pkl', 'rb'))"
   ]
  },
  {
   "cell_type": "markdown",
   "metadata": {},
   "source": [
    "-----------"
   ]
  },
  {
   "cell_type": "code",
   "execution_count": 42,
   "metadata": {},
   "outputs": [],
   "source": [
    "pipe_xgb1 = Pipeline(\n",
    "    [(\"preprocesamiento\", preprocessing_transformer1)]\n",
    ")\n"
   ]
  },
  {
   "cell_type": "code",
   "execution_count": null,
   "metadata": {},
   "outputs": [],
   "source": [
    "# Fit\n",
    "pipe_xgb1.fit(Xtrain)"
   ]
  },
  {
   "cell_type": "markdown",
   "metadata": {},
   "source": [
    "--------------"
   ]
  },
  {
   "cell_type": "code",
   "execution_count": 107,
   "metadata": {},
   "outputs": [],
   "source": [
    "inv_map = {v: k for k, v in dic_target.items()}"
   ]
  },
  {
   "cell_type": "code",
   "execution_count": 108,
   "metadata": {},
   "outputs": [
    {
     "data": {
      "text/plain": [
       "0        B-B D-E A-A\n",
       "1        E-E B-B D-E\n",
       "2            D-E B-B\n",
       "3                A-A\n",
       "4            A-A D-E\n",
       "            ...     \n",
       "24383    D-E E-E C-D\n",
       "24384    B-B A-A D-E\n",
       "24385        A-A E-E\n",
       "24386    E-E B-B A-A\n",
       "24387        D-E C-D\n",
       "Name: 0, Length: 24388, dtype: object"
      ]
     },
     "execution_count": 108,
     "metadata": {},
     "output_type": "execute_result"
    }
   ],
   "source": [
    "Ypred=pd.DataFrame(model_xgb1.predict(pipe_xgb1.transform(Xtest))).replace(inv_map)[0]\n",
    "Ypred"
   ]
  },
  {
   "cell_type": "code",
   "execution_count": 109,
   "metadata": {},
   "outputs": [
    {
     "data": {
      "text/plain": [
       "57554        D-E A-A\n",
       "3375     B-B D-E E-E\n",
       "26533        D-E B-B\n",
       "42946            A-A\n",
       "9048         B-B D-E\n",
       "            ...     \n",
       "5253     D-E E-E C-D\n",
       "46082    A-A B-B D-E\n",
       "58864        A-A E-E\n",
       "28277    E-E A-A B-B\n",
       "22994    C-D B-B D-E\n",
       "Name: Target, Length: 24388, dtype: object"
      ]
     },
     "execution_count": 109,
     "metadata": {},
     "output_type": "execute_result"
    }
   ],
   "source": [
    "Ytest.replace(inv_map,inplace=True)\n",
    "Ytest"
   ]
  },
  {
   "cell_type": "code",
   "execution_count": 110,
   "metadata": {},
   "outputs": [
    {
     "data": {
      "text/plain": [
       "0.3574298835492865"
      ]
     },
     "execution_count": 110,
     "metadata": {},
     "output_type": "execute_result"
    }
   ],
   "source": [
    "accuracy_score(Ypred, Ytest)"
   ]
  },
  {
   "cell_type": "code",
   "execution_count": 111,
   "metadata": {},
   "outputs": [
    {
     "data": {
      "text/plain": [
       "0.7315238140797842"
      ]
     },
     "execution_count": 111,
     "metadata": {},
     "output_type": "execute_result"
    }
   ],
   "source": [
    "Ypred_map=pd.Series(Ypred).apply( lambda x: x.split(\" \"))\n",
    "Ytest_map=pd.Series(Ytest).apply( lambda x: x.split(\" \"))\n",
    "ml_metrics.mapk(Ytest_map, Ypred_map, 5)"
   ]
  },
  {
   "cell_type": "code",
   "execution_count": 52,
   "metadata": {},
   "outputs": [],
   "source": [
    "# Guardar pipeline pre-process:\n",
    "#pickle.dump(pipe_xgb1, open('pipe_xgb1.pkl', \"wb\"))"
   ]
  }
 ],
 "metadata": {
  "interpreter": {
   "hash": "65e97ffa20fbdd895c76c3a1d2c2ade704754874d6e45df701862667e65d73d7"
  },
  "kernelspec": {
   "display_name": "Python 3.9.6 ('Programacion_Cientifica')",
   "language": "python",
   "name": "python3"
  },
  "language_info": {
   "codemirror_mode": {
    "name": "ipython",
    "version": 3
   },
   "file_extension": ".py",
   "mimetype": "text/x-python",
   "name": "python",
   "nbconvert_exporter": "python",
   "pygments_lexer": "ipython3",
   "version": "3.9.6"
  },
  "orig_nbformat": 4
 },
 "nbformat": 4,
 "nbformat_minor": 2
}
