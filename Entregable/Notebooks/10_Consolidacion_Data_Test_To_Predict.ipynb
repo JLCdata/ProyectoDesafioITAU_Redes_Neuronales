{
 "cells": [
  {
   "cell_type": "markdown",
   "metadata": {},
   "source": [
    "# Consolidación data test"
   ]
  },
  {
   "cell_type": "markdown",
   "metadata": {},
   "source": [
    "#### Import librerias"
   ]
  },
  {
   "cell_type": "code",
   "execution_count": 1,
   "metadata": {},
   "outputs": [],
   "source": [
    "import pandas as pd\n",
    "import numpy as np\n",
    "import missingno as msno\n",
    "import matplotlib.pyplot as plt\n",
    "import plotly.express as px\n",
    "\n",
    "from sklearn.ensemble import RandomForestClassifier\n",
    "from sklearn.metrics import classification_report\n",
    "from sklearn.model_selection import train_test_split \n",
    "from sklearn.decomposition import PCA\n",
    "from sklearn.pipeline import Pipeline\n",
    "from sklearn.decomposition import TruncatedSVD\n",
    "\n",
    "from sklearn.compose import ColumnTransformer\n",
    "from sklearn.preprocessing import MinMaxScaler\n",
    "from sklearn.preprocessing import OneHotEncoder\n",
    "import datetime\n",
    "from dateutil.parser import parse"
   ]
  },
  {
   "cell_type": "markdown",
   "metadata": {},
   "source": [
    "**Productos target**"
   ]
  },
  {
   "cell_type": "code",
   "execution_count": 2,
   "metadata": {},
   "outputs": [
    {
     "data": {
      "text/plain": [
       "['A-A', 'B-B', 'C-D', 'D-E', 'E-E']"
      ]
     },
     "execution_count": 2,
     "metadata": {},
     "output_type": "execute_result"
    }
   ],
   "source": [
    "Productos_interes=[\"A-A\", \"B-B\", \"C-D\", \"D-E\", \"E-E\"]\n",
    "Productos_interes"
   ]
  },
  {
   "cell_type": "markdown",
   "metadata": {},
   "source": [
    "#### Campañas"
   ]
  },
  {
   "cell_type": "code",
   "execution_count": 3,
   "metadata": {},
   "outputs": [
    {
     "data": {
      "text/html": [
       "<div>\n",
       "<style scoped>\n",
       "    .dataframe tbody tr th:only-of-type {\n",
       "        vertical-align: middle;\n",
       "    }\n",
       "\n",
       "    .dataframe tbody tr th {\n",
       "        vertical-align: top;\n",
       "    }\n",
       "\n",
       "    .dataframe thead th {\n",
       "        text-align: right;\n",
       "    }\n",
       "</style>\n",
       "<table border=\"1\" class=\"dataframe\">\n",
       "  <thead>\n",
       "    <tr style=\"text-align: right;\">\n",
       "      <th></th>\n",
       "      <th>id</th>\n",
       "      <th>Producto-Tipo</th>\n",
       "      <th>Fecha_Campaña</th>\n",
       "      <th>Periodo</th>\n",
       "      <th>Canal</th>\n",
       "      <th>Duracion_Campaña</th>\n",
       "    </tr>\n",
       "  </thead>\n",
       "  <tbody>\n",
       "    <tr>\n",
       "      <th>0</th>\n",
       "      <td>1</td>\n",
       "      <td>A-A</td>\n",
       "      <td>2020-09-03</td>\n",
       "      <td>202009</td>\n",
       "      <td>B</td>\n",
       "      <td>1</td>\n",
       "    </tr>\n",
       "    <tr>\n",
       "      <th>1</th>\n",
       "      <td>1</td>\n",
       "      <td>D-E</td>\n",
       "      <td>2020-10-23</td>\n",
       "      <td>202010</td>\n",
       "      <td>C</td>\n",
       "      <td>1</td>\n",
       "    </tr>\n",
       "    <tr>\n",
       "      <th>2</th>\n",
       "      <td>1</td>\n",
       "      <td>B-B</td>\n",
       "      <td>2020-08-27</td>\n",
       "      <td>202008</td>\n",
       "      <td>C</td>\n",
       "      <td>1</td>\n",
       "    </tr>\n",
       "    <tr>\n",
       "      <th>3</th>\n",
       "      <td>2</td>\n",
       "      <td>A-A</td>\n",
       "      <td>2020-09-03</td>\n",
       "      <td>202009</td>\n",
       "      <td>B</td>\n",
       "      <td>1</td>\n",
       "    </tr>\n",
       "    <tr>\n",
       "      <th>4</th>\n",
       "      <td>2</td>\n",
       "      <td>C-D</td>\n",
       "      <td>2020-09-02</td>\n",
       "      <td>202009</td>\n",
       "      <td>C</td>\n",
       "      <td>1</td>\n",
       "    </tr>\n",
       "    <tr>\n",
       "      <th>...</th>\n",
       "      <td>...</td>\n",
       "      <td>...</td>\n",
       "      <td>...</td>\n",
       "      <td>...</td>\n",
       "      <td>...</td>\n",
       "      <td>...</td>\n",
       "    </tr>\n",
       "    <tr>\n",
       "      <th>225993</th>\n",
       "      <td>79538</td>\n",
       "      <td>A-A</td>\n",
       "      <td>2020-10-02</td>\n",
       "      <td>202010</td>\n",
       "      <td>B</td>\n",
       "      <td>1</td>\n",
       "    </tr>\n",
       "    <tr>\n",
       "      <th>225994</th>\n",
       "      <td>79539</td>\n",
       "      <td>C-D</td>\n",
       "      <td>2020-10-26</td>\n",
       "      <td>202010</td>\n",
       "      <td>C</td>\n",
       "      <td>2</td>\n",
       "    </tr>\n",
       "    <tr>\n",
       "      <th>225995</th>\n",
       "      <td>79539</td>\n",
       "      <td>A-A</td>\n",
       "      <td>2020-10-02</td>\n",
       "      <td>202010</td>\n",
       "      <td>B</td>\n",
       "      <td>1</td>\n",
       "    </tr>\n",
       "    <tr>\n",
       "      <th>225996</th>\n",
       "      <td>79539</td>\n",
       "      <td>D-E</td>\n",
       "      <td>2020-10-23</td>\n",
       "      <td>202010</td>\n",
       "      <td>C</td>\n",
       "      <td>1</td>\n",
       "    </tr>\n",
       "    <tr>\n",
       "      <th>225997</th>\n",
       "      <td>79539</td>\n",
       "      <td>A-A</td>\n",
       "      <td>2020-09-03</td>\n",
       "      <td>202009</td>\n",
       "      <td>B</td>\n",
       "      <td>1</td>\n",
       "    </tr>\n",
       "  </tbody>\n",
       "</table>\n",
       "<p>225998 rows × 6 columns</p>\n",
       "</div>"
      ],
      "text/plain": [
       "           id Producto-Tipo Fecha_Campaña  Periodo Canal  Duracion_Campaña\n",
       "0           1           A-A    2020-09-03   202009     B                 1\n",
       "1           1           D-E    2020-10-23   202010     C                 1\n",
       "2           1           B-B    2020-08-27   202008     C                 1\n",
       "3           2           A-A    2020-09-03   202009     B                 1\n",
       "4           2           C-D    2020-09-02   202009     C                 1\n",
       "...       ...           ...           ...      ...   ...               ...\n",
       "225993  79538           A-A    2020-10-02   202010     B                 1\n",
       "225994  79539           C-D    2020-10-26   202010     C                 2\n",
       "225995  79539           A-A    2020-10-02   202010     B                 1\n",
       "225996  79539           D-E    2020-10-23   202010     C                 1\n",
       "225997  79539           A-A    2020-09-03   202009     B                 1\n",
       "\n",
       "[225998 rows x 6 columns]"
      ]
     },
     "execution_count": 3,
     "metadata": {},
     "output_type": "execute_result"
    }
   ],
   "source": [
    "Campanas_test=pd.read_csv(\"../Datos/campanas_test.csv\").drop(columns=[\"Unnamed: 0\",\"Id_Producto\",\t\"Tipo\"])\n",
    "Campanas_test"
   ]
  },
  {
   "cell_type": "code",
   "execution_count": 4,
   "metadata": {},
   "outputs": [],
   "source": [
    "# Se utiliza columna Periodo para caracterizar clientes debido a que es una columna sin valores faltantes\n",
    "Campanas_test[\"Periodo\"]=Campanas_test[\"Periodo\"].astype(str)\n",
    "Campanas_test[\"date\"]=Campanas_test[\"Periodo\"].apply(lambda x: x[4:6]+'-'+'01'+'-'+x[0:4])\n",
    "Campanas_test[\"date\"]=pd.to_datetime(Campanas_test[\"date\"],format=\"%d-%m-%Y\") "
   ]
  },
  {
   "cell_type": "markdown",
   "metadata": {},
   "source": [
    "**Duración promedio de campaña**"
   ]
  },
  {
   "cell_type": "code",
   "execution_count": 5,
   "metadata": {},
   "outputs": [
    {
     "data": {
      "text/html": [
       "<div>\n",
       "<style scoped>\n",
       "    .dataframe tbody tr th:only-of-type {\n",
       "        vertical-align: middle;\n",
       "    }\n",
       "\n",
       "    .dataframe tbody tr th {\n",
       "        vertical-align: top;\n",
       "    }\n",
       "\n",
       "    .dataframe thead th {\n",
       "        text-align: right;\n",
       "    }\n",
       "</style>\n",
       "<table border=\"1\" class=\"dataframe\">\n",
       "  <thead>\n",
       "    <tr style=\"text-align: right;\">\n",
       "      <th></th>\n",
       "      <th>Duracion_Campaña</th>\n",
       "    </tr>\n",
       "    <tr>\n",
       "      <th>id</th>\n",
       "      <th></th>\n",
       "    </tr>\n",
       "  </thead>\n",
       "  <tbody>\n",
       "    <tr>\n",
       "      <th>1</th>\n",
       "      <td>1.000000</td>\n",
       "    </tr>\n",
       "    <tr>\n",
       "      <th>2</th>\n",
       "      <td>1.166667</td>\n",
       "    </tr>\n",
       "    <tr>\n",
       "      <th>3</th>\n",
       "      <td>1.000000</td>\n",
       "    </tr>\n",
       "    <tr>\n",
       "      <th>4</th>\n",
       "      <td>1.333333</td>\n",
       "    </tr>\n",
       "    <tr>\n",
       "      <th>5</th>\n",
       "      <td>1.000000</td>\n",
       "    </tr>\n",
       "    <tr>\n",
       "      <th>...</th>\n",
       "      <td>...</td>\n",
       "    </tr>\n",
       "    <tr>\n",
       "      <th>79535</th>\n",
       "      <td>1.500000</td>\n",
       "    </tr>\n",
       "    <tr>\n",
       "      <th>79536</th>\n",
       "      <td>1.000000</td>\n",
       "    </tr>\n",
       "    <tr>\n",
       "      <th>79537</th>\n",
       "      <td>1.250000</td>\n",
       "    </tr>\n",
       "    <tr>\n",
       "      <th>79538</th>\n",
       "      <td>1.000000</td>\n",
       "    </tr>\n",
       "    <tr>\n",
       "      <th>79539</th>\n",
       "      <td>1.250000</td>\n",
       "    </tr>\n",
       "  </tbody>\n",
       "</table>\n",
       "<p>63725 rows × 1 columns</p>\n",
       "</div>"
      ],
      "text/plain": [
       "       Duracion_Campaña\n",
       "id                     \n",
       "1              1.000000\n",
       "2              1.166667\n",
       "3              1.000000\n",
       "4              1.333333\n",
       "5              1.000000\n",
       "...                 ...\n",
       "79535          1.500000\n",
       "79536          1.000000\n",
       "79537          1.250000\n",
       "79538          1.000000\n",
       "79539          1.250000\n",
       "\n",
       "[63725 rows x 1 columns]"
      ]
     },
     "execution_count": 5,
     "metadata": {},
     "output_type": "execute_result"
    }
   ],
   "source": [
    "cam_dur_camp=Campanas_test[[\"id\",\"Duracion_Campaña\"]].groupby(\"id\").mean()\n",
    "cam_dur_camp"
   ]
  },
  {
   "cell_type": "code",
   "execution_count": 6,
   "metadata": {},
   "outputs": [
    {
     "data": {
      "text/plain": [
       "Duracion_Campaña    0\n",
       "dtype: int64"
      ]
     },
     "execution_count": 6,
     "metadata": {},
     "output_type": "execute_result"
    }
   ],
   "source": [
    "# Missings\n",
    "cam_dur_camp.isnull().sum()"
   ]
  },
  {
   "cell_type": "markdown",
   "metadata": {},
   "source": [
    "**Cantidad de contactos por canal**"
   ]
  },
  {
   "cell_type": "code",
   "execution_count": 7,
   "metadata": {},
   "outputs": [],
   "source": [
    "def count_product(u):\n",
    "    dic_product={'B':0,'C':0}\n",
    "    counts=u[\"Canal\"].value_counts()\n",
    "    for i in dic_product.keys():\n",
    "        try:\n",
    "            dic_product[i]=counts[i]\n",
    "        except:\n",
    "            1*1\n",
    "    return dic_product"
   ]
  },
  {
   "cell_type": "code",
   "execution_count": 8,
   "metadata": {},
   "outputs": [],
   "source": [
    "df_count_product=Campanas_test.groupby(\"id\").apply(count_product)"
   ]
  },
  {
   "cell_type": "code",
   "execution_count": 9,
   "metadata": {},
   "outputs": [
    {
     "data": {
      "text/html": [
       "<div>\n",
       "<style scoped>\n",
       "    .dataframe tbody tr th:only-of-type {\n",
       "        vertical-align: middle;\n",
       "    }\n",
       "\n",
       "    .dataframe tbody tr th {\n",
       "        vertical-align: top;\n",
       "    }\n",
       "\n",
       "    .dataframe thead th {\n",
       "        text-align: right;\n",
       "    }\n",
       "</style>\n",
       "<table border=\"1\" class=\"dataframe\">\n",
       "  <thead>\n",
       "    <tr style=\"text-align: right;\">\n",
       "      <th></th>\n",
       "      <th>B</th>\n",
       "      <th>C</th>\n",
       "    </tr>\n",
       "  </thead>\n",
       "  <tbody>\n",
       "    <tr>\n",
       "      <th>1</th>\n",
       "      <td>1</td>\n",
       "      <td>2</td>\n",
       "    </tr>\n",
       "    <tr>\n",
       "      <th>2</th>\n",
       "      <td>2</td>\n",
       "      <td>4</td>\n",
       "    </tr>\n",
       "    <tr>\n",
       "      <th>3</th>\n",
       "      <td>2</td>\n",
       "      <td>0</td>\n",
       "    </tr>\n",
       "    <tr>\n",
       "      <th>4</th>\n",
       "      <td>1</td>\n",
       "      <td>2</td>\n",
       "    </tr>\n",
       "    <tr>\n",
       "      <th>5</th>\n",
       "      <td>1</td>\n",
       "      <td>1</td>\n",
       "    </tr>\n",
       "    <tr>\n",
       "      <th>...</th>\n",
       "      <td>...</td>\n",
       "      <td>...</td>\n",
       "    </tr>\n",
       "    <tr>\n",
       "      <th>79535</th>\n",
       "      <td>1</td>\n",
       "      <td>1</td>\n",
       "    </tr>\n",
       "    <tr>\n",
       "      <th>79536</th>\n",
       "      <td>1</td>\n",
       "      <td>0</td>\n",
       "    </tr>\n",
       "    <tr>\n",
       "      <th>79537</th>\n",
       "      <td>3</td>\n",
       "      <td>1</td>\n",
       "    </tr>\n",
       "    <tr>\n",
       "      <th>79538</th>\n",
       "      <td>3</td>\n",
       "      <td>0</td>\n",
       "    </tr>\n",
       "    <tr>\n",
       "      <th>79539</th>\n",
       "      <td>2</td>\n",
       "      <td>2</td>\n",
       "    </tr>\n",
       "  </tbody>\n",
       "</table>\n",
       "<p>63725 rows × 2 columns</p>\n",
       "</div>"
      ],
      "text/plain": [
       "       B  C\n",
       "1      1  2\n",
       "2      2  4\n",
       "3      2  0\n",
       "4      1  2\n",
       "5      1  1\n",
       "...   .. ..\n",
       "79535  1  1\n",
       "79536  1  0\n",
       "79537  3  1\n",
       "79538  3  0\n",
       "79539  2  2\n",
       "\n",
       "[63725 rows x 2 columns]"
      ]
     },
     "execution_count": 9,
     "metadata": {},
     "output_type": "execute_result"
    }
   ],
   "source": [
    "cam_cont_canal = pd.concat({k: pd.Series(v) for k, v in df_count_product.items()},axis=1).T\n",
    "cam_cont_canal"
   ]
  },
  {
   "cell_type": "code",
   "execution_count": 10,
   "metadata": {},
   "outputs": [
    {
     "data": {
      "text/plain": [
       "Duracion_Campaña    0\n",
       "dtype: int64"
      ]
     },
     "execution_count": 10,
     "metadata": {},
     "output_type": "execute_result"
    }
   ],
   "source": [
    "cam_dur_camp.isnull().sum()"
   ]
  },
  {
   "cell_type": "markdown",
   "metadata": {},
   "source": [
    "#### Comunicaciones"
   ]
  },
  {
   "cell_type": "code",
   "execution_count": 4,
   "metadata": {},
   "outputs": [
    {
     "data": {
      "text/html": [
       "<div>\n",
       "<style scoped>\n",
       "    .dataframe tbody tr th:only-of-type {\n",
       "        vertical-align: middle;\n",
       "    }\n",
       "\n",
       "    .dataframe tbody tr th {\n",
       "        vertical-align: top;\n",
       "    }\n",
       "\n",
       "    .dataframe thead th {\n",
       "        text-align: right;\n",
       "    }\n",
       "</style>\n",
       "<table border=\"1\" class=\"dataframe\">\n",
       "  <thead>\n",
       "    <tr style=\"text-align: right;\">\n",
       "      <th></th>\n",
       "      <th>id</th>\n",
       "      <th>Producto-Tipo</th>\n",
       "      <th>Fecha</th>\n",
       "      <th>Periodo</th>\n",
       "      <th>Lectura</th>\n",
       "    </tr>\n",
       "  </thead>\n",
       "  <tbody>\n",
       "    <tr>\n",
       "      <th>0</th>\n",
       "      <td>1</td>\n",
       "      <td>B-B</td>\n",
       "      <td>2020-08-07</td>\n",
       "      <td>202008</td>\n",
       "      <td>1</td>\n",
       "    </tr>\n",
       "    <tr>\n",
       "      <th>1</th>\n",
       "      <td>1</td>\n",
       "      <td>B-B</td>\n",
       "      <td>2020-08-27</td>\n",
       "      <td>202008</td>\n",
       "      <td>1</td>\n",
       "    </tr>\n",
       "    <tr>\n",
       "      <th>2</th>\n",
       "      <td>1</td>\n",
       "      <td>B-B</td>\n",
       "      <td>2020-09-30</td>\n",
       "      <td>202009</td>\n",
       "      <td>0</td>\n",
       "    </tr>\n",
       "    <tr>\n",
       "      <th>3</th>\n",
       "      <td>1</td>\n",
       "      <td>B-B</td>\n",
       "      <td>2020-10-28</td>\n",
       "      <td>202010</td>\n",
       "      <td>1</td>\n",
       "    </tr>\n",
       "    <tr>\n",
       "      <th>4</th>\n",
       "      <td>1</td>\n",
       "      <td>B-B</td>\n",
       "      <td>2020-10-15</td>\n",
       "      <td>202010</td>\n",
       "      <td>0</td>\n",
       "    </tr>\n",
       "  </tbody>\n",
       "</table>\n",
       "</div>"
      ],
      "text/plain": [
       "   id Producto-Tipo       Fecha  Periodo  Lectura\n",
       "0   1           B-B  2020-08-07   202008        1\n",
       "1   1           B-B  2020-08-27   202008        1\n",
       "2   1           B-B  2020-09-30   202009        0\n",
       "3   1           B-B  2020-10-28   202010        1\n",
       "4   1           B-B  2020-10-15   202010        0"
      ]
     },
     "execution_count": 4,
     "metadata": {},
     "output_type": "execute_result"
    }
   ],
   "source": [
    "Comunicaciones_test=pd.read_csv(\"../Datos/Comunicaciones_test.csv\").drop(columns=[\"Unnamed: 0\",\"Id_Producto\",\t\"Tipo\",\"Tipo_comunicacion\"])\n",
    "Comunicaciones_test.head()"
   ]
  },
  {
   "cell_type": "markdown",
   "metadata": {},
   "source": [
    "**Cantidad de lecturas por tipo de pruducto**"
   ]
  },
  {
   "cell_type": "code",
   "execution_count": 12,
   "metadata": {},
   "outputs": [],
   "source": [
    "def count_lect(u):\n",
    "    dic_product={'lec_B-B':0, 'lec_E-E':0, 'lec_D-E':0, 'lec_C-D':0, 'lec_A-A':0}\n",
    "    u=u[u[\"Lectura\"]==1]\n",
    "    counts=u[\"Producto-Tipo\"].value_counts()\n",
    "    for i in dic_product.keys():\n",
    "        try:\n",
    "            dic_product[i]=counts[i[4:]]\n",
    "        except:\n",
    "            1*1\n",
    "    return dic_product"
   ]
  },
  {
   "cell_type": "code",
   "execution_count": 13,
   "metadata": {},
   "outputs": [],
   "source": [
    "df_count_lect=Comunicaciones_test.groupby(\"id\").apply(count_lect)"
   ]
  },
  {
   "cell_type": "code",
   "execution_count": 14,
   "metadata": {},
   "outputs": [
    {
     "data": {
      "text/html": [
       "<div>\n",
       "<style scoped>\n",
       "    .dataframe tbody tr th:only-of-type {\n",
       "        vertical-align: middle;\n",
       "    }\n",
       "\n",
       "    .dataframe tbody tr th {\n",
       "        vertical-align: top;\n",
       "    }\n",
       "\n",
       "    .dataframe thead th {\n",
       "        text-align: right;\n",
       "    }\n",
       "</style>\n",
       "<table border=\"1\" class=\"dataframe\">\n",
       "  <thead>\n",
       "    <tr style=\"text-align: right;\">\n",
       "      <th></th>\n",
       "      <th>lec_B-B</th>\n",
       "      <th>lec_E-E</th>\n",
       "      <th>lec_D-E</th>\n",
       "      <th>lec_C-D</th>\n",
       "      <th>lec_A-A</th>\n",
       "    </tr>\n",
       "  </thead>\n",
       "  <tbody>\n",
       "    <tr>\n",
       "      <th>1</th>\n",
       "      <td>3</td>\n",
       "      <td>0</td>\n",
       "      <td>0</td>\n",
       "      <td>0</td>\n",
       "      <td>0</td>\n",
       "    </tr>\n",
       "    <tr>\n",
       "      <th>2</th>\n",
       "      <td>2</td>\n",
       "      <td>0</td>\n",
       "      <td>0</td>\n",
       "      <td>2</td>\n",
       "      <td>0</td>\n",
       "    </tr>\n",
       "    <tr>\n",
       "      <th>3</th>\n",
       "      <td>1</td>\n",
       "      <td>0</td>\n",
       "      <td>0</td>\n",
       "      <td>0</td>\n",
       "      <td>0</td>\n",
       "    </tr>\n",
       "    <tr>\n",
       "      <th>4</th>\n",
       "      <td>0</td>\n",
       "      <td>0</td>\n",
       "      <td>0</td>\n",
       "      <td>1</td>\n",
       "      <td>0</td>\n",
       "    </tr>\n",
       "    <tr>\n",
       "      <th>5</th>\n",
       "      <td>3</td>\n",
       "      <td>0</td>\n",
       "      <td>0</td>\n",
       "      <td>0</td>\n",
       "      <td>0</td>\n",
       "    </tr>\n",
       "    <tr>\n",
       "      <th>...</th>\n",
       "      <td>...</td>\n",
       "      <td>...</td>\n",
       "      <td>...</td>\n",
       "      <td>...</td>\n",
       "      <td>...</td>\n",
       "    </tr>\n",
       "    <tr>\n",
       "      <th>79535</th>\n",
       "      <td>1</td>\n",
       "      <td>0</td>\n",
       "      <td>0</td>\n",
       "      <td>0</td>\n",
       "      <td>0</td>\n",
       "    </tr>\n",
       "    <tr>\n",
       "      <th>79536</th>\n",
       "      <td>0</td>\n",
       "      <td>0</td>\n",
       "      <td>0</td>\n",
       "      <td>0</td>\n",
       "      <td>0</td>\n",
       "    </tr>\n",
       "    <tr>\n",
       "      <th>79537</th>\n",
       "      <td>0</td>\n",
       "      <td>0</td>\n",
       "      <td>0</td>\n",
       "      <td>0</td>\n",
       "      <td>0</td>\n",
       "    </tr>\n",
       "    <tr>\n",
       "      <th>79538</th>\n",
       "      <td>1</td>\n",
       "      <td>0</td>\n",
       "      <td>0</td>\n",
       "      <td>0</td>\n",
       "      <td>0</td>\n",
       "    </tr>\n",
       "    <tr>\n",
       "      <th>79539</th>\n",
       "      <td>1</td>\n",
       "      <td>0</td>\n",
       "      <td>0</td>\n",
       "      <td>0</td>\n",
       "      <td>0</td>\n",
       "    </tr>\n",
       "  </tbody>\n",
       "</table>\n",
       "<p>64306 rows × 5 columns</p>\n",
       "</div>"
      ],
      "text/plain": [
       "       lec_B-B  lec_E-E  lec_D-E  lec_C-D  lec_A-A\n",
       "1            3        0        0        0        0\n",
       "2            2        0        0        2        0\n",
       "3            1        0        0        0        0\n",
       "4            0        0        0        1        0\n",
       "5            3        0        0        0        0\n",
       "...        ...      ...      ...      ...      ...\n",
       "79535        1        0        0        0        0\n",
       "79536        0        0        0        0        0\n",
       "79537        0        0        0        0        0\n",
       "79538        1        0        0        0        0\n",
       "79539        1        0        0        0        0\n",
       "\n",
       "[64306 rows x 5 columns]"
      ]
     },
     "execution_count": 14,
     "metadata": {},
     "output_type": "execute_result"
    }
   ],
   "source": [
    "com_num_lect = pd.concat({k: pd.Series(v) for k, v in df_count_lect.items()},axis=1).T\n",
    "com_num_lect"
   ]
  },
  {
   "cell_type": "code",
   "execution_count": 15,
   "metadata": {},
   "outputs": [
    {
     "data": {
      "text/plain": [
       "lec_B-B    0\n",
       "lec_E-E    0\n",
       "lec_D-E    0\n",
       "lec_C-D    0\n",
       "lec_A-A    0\n",
       "dtype: int64"
      ]
     },
     "execution_count": 15,
     "metadata": {},
     "output_type": "execute_result"
    }
   ],
   "source": [
    "com_num_lect.isnull().sum()"
   ]
  },
  {
   "cell_type": "markdown",
   "metadata": {},
   "source": [
    "**Número de comunicaciones**"
   ]
  },
  {
   "cell_type": "code",
   "execution_count": 16,
   "metadata": {},
   "outputs": [
    {
     "data": {
      "text/html": [
       "<div>\n",
       "<style scoped>\n",
       "    .dataframe tbody tr th:only-of-type {\n",
       "        vertical-align: middle;\n",
       "    }\n",
       "\n",
       "    .dataframe tbody tr th {\n",
       "        vertical-align: top;\n",
       "    }\n",
       "\n",
       "    .dataframe thead th {\n",
       "        text-align: right;\n",
       "    }\n",
       "</style>\n",
       "<table border=\"1\" class=\"dataframe\">\n",
       "  <thead>\n",
       "    <tr style=\"text-align: right;\">\n",
       "      <th></th>\n",
       "      <th>num_comunicaciones</th>\n",
       "    </tr>\n",
       "    <tr>\n",
       "      <th>id</th>\n",
       "      <th></th>\n",
       "    </tr>\n",
       "  </thead>\n",
       "  <tbody>\n",
       "    <tr>\n",
       "      <th>1</th>\n",
       "      <td>5</td>\n",
       "    </tr>\n",
       "    <tr>\n",
       "      <th>2</th>\n",
       "      <td>4</td>\n",
       "    </tr>\n",
       "    <tr>\n",
       "      <th>3</th>\n",
       "      <td>2</td>\n",
       "    </tr>\n",
       "    <tr>\n",
       "      <th>4</th>\n",
       "      <td>2</td>\n",
       "    </tr>\n",
       "    <tr>\n",
       "      <th>5</th>\n",
       "      <td>3</td>\n",
       "    </tr>\n",
       "    <tr>\n",
       "      <th>...</th>\n",
       "      <td>...</td>\n",
       "    </tr>\n",
       "    <tr>\n",
       "      <th>79535</th>\n",
       "      <td>1</td>\n",
       "    </tr>\n",
       "    <tr>\n",
       "      <th>79536</th>\n",
       "      <td>2</td>\n",
       "    </tr>\n",
       "    <tr>\n",
       "      <th>79537</th>\n",
       "      <td>3</td>\n",
       "    </tr>\n",
       "    <tr>\n",
       "      <th>79538</th>\n",
       "      <td>1</td>\n",
       "    </tr>\n",
       "    <tr>\n",
       "      <th>79539</th>\n",
       "      <td>3</td>\n",
       "    </tr>\n",
       "  </tbody>\n",
       "</table>\n",
       "<p>64306 rows × 1 columns</p>\n",
       "</div>"
      ],
      "text/plain": [
       "       num_comunicaciones\n",
       "id                       \n",
       "1                       5\n",
       "2                       4\n",
       "3                       2\n",
       "4                       2\n",
       "5                       3\n",
       "...                   ...\n",
       "79535                   1\n",
       "79536                   2\n",
       "79537                   3\n",
       "79538                   1\n",
       "79539                   3\n",
       "\n",
       "[64306 rows x 1 columns]"
      ]
     },
     "execution_count": 16,
     "metadata": {},
     "output_type": "execute_result"
    }
   ],
   "source": [
    "# Num comunicaciones\n",
    "com_num_comunicaciones=pd.DataFrame(Comunicaciones_test.groupby(\"id\").size(),columns=[\"num_comunicaciones\"])\n",
    "com_num_comunicaciones"
   ]
  },
  {
   "cell_type": "code",
   "execution_count": 17,
   "metadata": {},
   "outputs": [
    {
     "data": {
      "text/plain": [
       "num_comunicaciones    0\n",
       "dtype: int64"
      ]
     },
     "execution_count": 17,
     "metadata": {},
     "output_type": "execute_result"
    }
   ],
   "source": [
    "com_num_comunicaciones.isnull().sum()"
   ]
  },
  {
   "cell_type": "markdown",
   "metadata": {},
   "source": [
    "#### Transacciones"
   ]
  },
  {
   "cell_type": "code",
   "execution_count": 5,
   "metadata": {},
   "outputs": [
    {
     "data": {
      "text/html": [
       "<div>\n",
       "<style scoped>\n",
       "    .dataframe tbody tr th:only-of-type {\n",
       "        vertical-align: middle;\n",
       "    }\n",
       "\n",
       "    .dataframe tbody tr th {\n",
       "        vertical-align: top;\n",
       "    }\n",
       "\n",
       "    .dataframe thead th {\n",
       "        text-align: right;\n",
       "    }\n",
       "</style>\n",
       "<table border=\"1\" class=\"dataframe\">\n",
       "  <thead>\n",
       "    <tr style=\"text-align: right;\">\n",
       "      <th></th>\n",
       "      <th>id</th>\n",
       "      <th>Id_Producto</th>\n",
       "      <th>Tipo</th>\n",
       "      <th>Producto-Tipo</th>\n",
       "      <th>Signo</th>\n",
       "      <th>Monto</th>\n",
       "      <th>Periodo</th>\n",
       "    </tr>\n",
       "  </thead>\n",
       "  <tbody>\n",
       "    <tr>\n",
       "      <th>0</th>\n",
       "      <td>1</td>\n",
       "      <td>F</td>\n",
       "      <td>D</td>\n",
       "      <td>F-D</td>\n",
       "      <td>Positivo</td>\n",
       "      <td>405714.281250</td>\n",
       "      <td>202008</td>\n",
       "    </tr>\n",
       "    <tr>\n",
       "      <th>1</th>\n",
       "      <td>1</td>\n",
       "      <td>F</td>\n",
       "      <td>D</td>\n",
       "      <td>F-D</td>\n",
       "      <td>Positivo</td>\n",
       "      <td>591428.562500</td>\n",
       "      <td>202009</td>\n",
       "    </tr>\n",
       "    <tr>\n",
       "      <th>2</th>\n",
       "      <td>1</td>\n",
       "      <td>F</td>\n",
       "      <td>D</td>\n",
       "      <td>F-D</td>\n",
       "      <td>Positivo</td>\n",
       "      <td>405714.281250</td>\n",
       "      <td>202010</td>\n",
       "    </tr>\n",
       "    <tr>\n",
       "      <th>3</th>\n",
       "      <td>1</td>\n",
       "      <td>F</td>\n",
       "      <td>H</td>\n",
       "      <td>F-H</td>\n",
       "      <td>Negativo</td>\n",
       "      <td>405714.281250</td>\n",
       "      <td>202008</td>\n",
       "    </tr>\n",
       "    <tr>\n",
       "      <th>4</th>\n",
       "      <td>1</td>\n",
       "      <td>F</td>\n",
       "      <td>H</td>\n",
       "      <td>F-H</td>\n",
       "      <td>Negativo</td>\n",
       "      <td>591428.562500</td>\n",
       "      <td>202009</td>\n",
       "    </tr>\n",
       "    <tr>\n",
       "      <th>...</th>\n",
       "      <td>...</td>\n",
       "      <td>...</td>\n",
       "      <td>...</td>\n",
       "      <td>...</td>\n",
       "      <td>...</td>\n",
       "      <td>...</td>\n",
       "      <td>...</td>\n",
       "    </tr>\n",
       "    <tr>\n",
       "      <th>3743640</th>\n",
       "      <td>79539</td>\n",
       "      <td>G</td>\n",
       "      <td>K</td>\n",
       "      <td>G-K</td>\n",
       "      <td>Negativo</td>\n",
       "      <td>123282.859375</td>\n",
       "      <td>202010</td>\n",
       "    </tr>\n",
       "    <tr>\n",
       "      <th>3743641</th>\n",
       "      <td>79539</td>\n",
       "      <td>G</td>\n",
       "      <td>K</td>\n",
       "      <td>G-K</td>\n",
       "      <td>Negativo</td>\n",
       "      <td>122348.570312</td>\n",
       "      <td>202010</td>\n",
       "    </tr>\n",
       "    <tr>\n",
       "      <th>3743642</th>\n",
       "      <td>79539</td>\n",
       "      <td>G</td>\n",
       "      <td>K</td>\n",
       "      <td>G-K</td>\n",
       "      <td>Negativo</td>\n",
       "      <td>165910.421875</td>\n",
       "      <td>202010</td>\n",
       "    </tr>\n",
       "    <tr>\n",
       "      <th>3743643</th>\n",
       "      <td>79539</td>\n",
       "      <td>G</td>\n",
       "      <td>K</td>\n",
       "      <td>G-K</td>\n",
       "      <td>Negativo</td>\n",
       "      <td>121699.429688</td>\n",
       "      <td>202010</td>\n",
       "    </tr>\n",
       "    <tr>\n",
       "      <th>3743644</th>\n",
       "      <td>79539</td>\n",
       "      <td>G</td>\n",
       "      <td>K</td>\n",
       "      <td>G-K</td>\n",
       "      <td>Negativo</td>\n",
       "      <td>124347.140625</td>\n",
       "      <td>202010</td>\n",
       "    </tr>\n",
       "  </tbody>\n",
       "</table>\n",
       "<p>3743645 rows × 7 columns</p>\n",
       "</div>"
      ],
      "text/plain": [
       "            id Id_Producto Tipo Producto-Tipo     Signo          Monto  \\\n",
       "0            1           F    D           F-D  Positivo  405714.281250   \n",
       "1            1           F    D           F-D  Positivo  591428.562500   \n",
       "2            1           F    D           F-D  Positivo  405714.281250   \n",
       "3            1           F    H           F-H  Negativo  405714.281250   \n",
       "4            1           F    H           F-H  Negativo  591428.562500   \n",
       "...        ...         ...  ...           ...       ...            ...   \n",
       "3743640  79539           G    K           G-K  Negativo  123282.859375   \n",
       "3743641  79539           G    K           G-K  Negativo  122348.570312   \n",
       "3743642  79539           G    K           G-K  Negativo  165910.421875   \n",
       "3743643  79539           G    K           G-K  Negativo  121699.429688   \n",
       "3743644  79539           G    K           G-K  Negativo  124347.140625   \n",
       "\n",
       "         Periodo  \n",
       "0         202008  \n",
       "1         202009  \n",
       "2         202010  \n",
       "3         202008  \n",
       "4         202009  \n",
       "...          ...  \n",
       "3743640   202010  \n",
       "3743641   202010  \n",
       "3743642   202010  \n",
       "3743643   202010  \n",
       "3743644   202010  \n",
       "\n",
       "[3743645 rows x 7 columns]"
      ]
     },
     "execution_count": 5,
     "metadata": {},
     "output_type": "execute_result"
    }
   ],
   "source": [
    "Transaccion_test=pd.read_csv(\"../Datos/Transaccion_test.csv\").drop(columns=[\"Unnamed: 0\",\"Fecha\"])\n",
    "Transaccion_test"
   ]
  },
  {
   "cell_type": "code",
   "execution_count": 19,
   "metadata": {},
   "outputs": [],
   "source": [
    "# Tratamiento valores faltantes\n",
    "Transaccion_test.fillna('Sin Info',inplace=True)"
   ]
  },
  {
   "cell_type": "code",
   "execution_count": 20,
   "metadata": {},
   "outputs": [],
   "source": [
    "# Se utiliza columna Periodo para caracterizar clientes debido a que es una columna sin valores faltantes\n",
    "Transaccion_test[\"Periodo\"]=Transaccion_test[\"Periodo\"].astype(str)\n",
    "Transaccion_test[\"date\"]=Transaccion_test[\"Periodo\"].apply(lambda x: x[4:6]+'-'+'01'+'-'+x[0:4])\n",
    "Transaccion_test[\"date\"]=pd.to_datetime(Transaccion_test[\"date\"],format=\"%d-%m-%Y\") "
   ]
  },
  {
   "cell_type": "markdown",
   "metadata": {},
   "source": [
    "**Length**: Intervalo de tiempo, en días, entre la primera y la última visita del cliente. Mientras mas grande sea el valor, más fiel es el cliente."
   ]
  },
  {
   "cell_type": "code",
   "execution_count": 21,
   "metadata": {},
   "outputs": [
    {
     "data": {
      "text/html": [
       "<div>\n",
       "<style scoped>\n",
       "    .dataframe tbody tr th:only-of-type {\n",
       "        vertical-align: middle;\n",
       "    }\n",
       "\n",
       "    .dataframe tbody tr th {\n",
       "        vertical-align: top;\n",
       "    }\n",
       "\n",
       "    .dataframe thead th {\n",
       "        text-align: right;\n",
       "    }\n",
       "</style>\n",
       "<table border=\"1\" class=\"dataframe\">\n",
       "  <thead>\n",
       "    <tr style=\"text-align: right;\">\n",
       "      <th></th>\n",
       "      <th>Length</th>\n",
       "    </tr>\n",
       "    <tr>\n",
       "      <th>id</th>\n",
       "      <th></th>\n",
       "    </tr>\n",
       "  </thead>\n",
       "  <tbody>\n",
       "    <tr>\n",
       "      <th>1</th>\n",
       "      <td>2</td>\n",
       "    </tr>\n",
       "    <tr>\n",
       "      <th>2</th>\n",
       "      <td>2</td>\n",
       "    </tr>\n",
       "    <tr>\n",
       "      <th>3</th>\n",
       "      <td>2</td>\n",
       "    </tr>\n",
       "    <tr>\n",
       "      <th>4</th>\n",
       "      <td>2</td>\n",
       "    </tr>\n",
       "    <tr>\n",
       "      <th>5</th>\n",
       "      <td>2</td>\n",
       "    </tr>\n",
       "    <tr>\n",
       "      <th>...</th>\n",
       "      <td>...</td>\n",
       "    </tr>\n",
       "    <tr>\n",
       "      <th>79535</th>\n",
       "      <td>2</td>\n",
       "    </tr>\n",
       "    <tr>\n",
       "      <th>79536</th>\n",
       "      <td>2</td>\n",
       "    </tr>\n",
       "    <tr>\n",
       "      <th>79537</th>\n",
       "      <td>2</td>\n",
       "    </tr>\n",
       "    <tr>\n",
       "      <th>79538</th>\n",
       "      <td>2</td>\n",
       "    </tr>\n",
       "    <tr>\n",
       "      <th>79539</th>\n",
       "      <td>2</td>\n",
       "    </tr>\n",
       "  </tbody>\n",
       "</table>\n",
       "<p>79539 rows × 1 columns</p>\n",
       "</div>"
      ],
      "text/plain": [
       "       Length\n",
       "id           \n",
       "1           2\n",
       "2           2\n",
       "3           2\n",
       "4           2\n",
       "5           2\n",
       "...       ...\n",
       "79535       2\n",
       "79536       2\n",
       "79537       2\n",
       "79538       2\n",
       "79539       2\n",
       "\n",
       "[79539 rows x 1 columns]"
      ]
     },
     "execution_count": 21,
     "metadata": {},
     "output_type": "execute_result"
    }
   ],
   "source": [
    "length=pd.DataFrame((Transaccion_test.groupby(\"id\").max()[\"date\"]-Transaccion_test.groupby(\"id\").min()[\"date\"]).apply(lambda x: x.days)\n",
    ").rename(columns={\"date\":\"Length\"})\n",
    "length"
   ]
  },
  {
   "cell_type": "code",
   "execution_count": 22,
   "metadata": {},
   "outputs": [
    {
     "data": {
      "text/plain": [
       "Length    0\n",
       "dtype: int64"
      ]
     },
     "execution_count": 22,
     "metadata": {},
     "output_type": "execute_result"
    }
   ],
   "source": [
    "length.isnull().sum()"
   ]
  },
  {
   "cell_type": "markdown",
   "metadata": {},
   "source": [
    "**Monetary**: Cantidad media de dinero gastado."
   ]
  },
  {
   "cell_type": "code",
   "execution_count": 23,
   "metadata": {},
   "outputs": [
    {
     "data": {
      "text/html": [
       "<div>\n",
       "<style scoped>\n",
       "    .dataframe tbody tr th:only-of-type {\n",
       "        vertical-align: middle;\n",
       "    }\n",
       "\n",
       "    .dataframe tbody tr th {\n",
       "        vertical-align: top;\n",
       "    }\n",
       "\n",
       "    .dataframe thead th {\n",
       "        text-align: right;\n",
       "    }\n",
       "</style>\n",
       "<table border=\"1\" class=\"dataframe\">\n",
       "  <thead>\n",
       "    <tr style=\"text-align: right;\">\n",
       "      <th></th>\n",
       "      <th>Monto</th>\n",
       "    </tr>\n",
       "    <tr>\n",
       "      <th>id</th>\n",
       "      <th></th>\n",
       "    </tr>\n",
       "  </thead>\n",
       "  <tbody>\n",
       "    <tr>\n",
       "      <th>1</th>\n",
       "      <td>191352.675000</td>\n",
       "    </tr>\n",
       "    <tr>\n",
       "      <th>2</th>\n",
       "      <td>183329.537834</td>\n",
       "    </tr>\n",
       "    <tr>\n",
       "      <th>3</th>\n",
       "      <td>159854.317708</td>\n",
       "    </tr>\n",
       "    <tr>\n",
       "      <th>4</th>\n",
       "      <td>153835.401042</td>\n",
       "    </tr>\n",
       "    <tr>\n",
       "      <th>5</th>\n",
       "      <td>126172.644034</td>\n",
       "    </tr>\n",
       "    <tr>\n",
       "      <th>...</th>\n",
       "      <td>...</td>\n",
       "    </tr>\n",
       "    <tr>\n",
       "      <th>79535</th>\n",
       "      <td>129092.072129</td>\n",
       "    </tr>\n",
       "    <tr>\n",
       "      <th>79536</th>\n",
       "      <td>128603.985156</td>\n",
       "    </tr>\n",
       "    <tr>\n",
       "      <th>79537</th>\n",
       "      <td>251367.111178</td>\n",
       "    </tr>\n",
       "    <tr>\n",
       "      <th>79538</th>\n",
       "      <td>130808.276752</td>\n",
       "    </tr>\n",
       "    <tr>\n",
       "      <th>79539</th>\n",
       "      <td>193726.208333</td>\n",
       "    </tr>\n",
       "  </tbody>\n",
       "</table>\n",
       "<p>79539 rows × 1 columns</p>\n",
       "</div>"
      ],
      "text/plain": [
       "               Monto\n",
       "id                  \n",
       "1      191352.675000\n",
       "2      183329.537834\n",
       "3      159854.317708\n",
       "4      153835.401042\n",
       "5      126172.644034\n",
       "...              ...\n",
       "79535  129092.072129\n",
       "79536  128603.985156\n",
       "79537  251367.111178\n",
       "79538  130808.276752\n",
       "79539  193726.208333\n",
       "\n",
       "[79539 rows x 1 columns]"
      ]
     },
     "execution_count": 23,
     "metadata": {},
     "output_type": "execute_result"
    }
   ],
   "source": [
    "Monetary=Transaccion_test.groupby(\"id\").mean()\n",
    "Monetary"
   ]
  },
  {
   "cell_type": "code",
   "execution_count": 24,
   "metadata": {},
   "outputs": [
    {
     "data": {
      "text/plain": [
       "Monto    0\n",
       "dtype: int64"
      ]
     },
     "execution_count": 24,
     "metadata": {},
     "output_type": "execute_result"
    }
   ],
   "source": [
    "Monetary.isnull().sum()"
   ]
  },
  {
   "cell_type": "markdown",
   "metadata": {},
   "source": [
    "**Frequency**: Cantidad de transacciones."
   ]
  },
  {
   "cell_type": "code",
   "execution_count": 25,
   "metadata": {},
   "outputs": [
    {
     "data": {
      "text/html": [
       "<div>\n",
       "<style scoped>\n",
       "    .dataframe tbody tr th:only-of-type {\n",
       "        vertical-align: middle;\n",
       "    }\n",
       "\n",
       "    .dataframe tbody tr th {\n",
       "        vertical-align: top;\n",
       "    }\n",
       "\n",
       "    .dataframe thead th {\n",
       "        text-align: right;\n",
       "    }\n",
       "</style>\n",
       "<table border=\"1\" class=\"dataframe\">\n",
       "  <thead>\n",
       "    <tr style=\"text-align: right;\">\n",
       "      <th></th>\n",
       "      <th>Frequency</th>\n",
       "    </tr>\n",
       "    <tr>\n",
       "      <th>id</th>\n",
       "      <th></th>\n",
       "    </tr>\n",
       "  </thead>\n",
       "  <tbody>\n",
       "    <tr>\n",
       "      <th>1</th>\n",
       "      <td>75</td>\n",
       "    </tr>\n",
       "    <tr>\n",
       "      <th>2</th>\n",
       "      <td>89</td>\n",
       "    </tr>\n",
       "    <tr>\n",
       "      <th>3</th>\n",
       "      <td>57</td>\n",
       "    </tr>\n",
       "    <tr>\n",
       "      <th>4</th>\n",
       "      <td>42</td>\n",
       "    </tr>\n",
       "    <tr>\n",
       "      <th>5</th>\n",
       "      <td>55</td>\n",
       "    </tr>\n",
       "    <tr>\n",
       "      <th>...</th>\n",
       "      <td>...</td>\n",
       "    </tr>\n",
       "    <tr>\n",
       "      <th>79535</th>\n",
       "      <td>86</td>\n",
       "    </tr>\n",
       "    <tr>\n",
       "      <th>79536</th>\n",
       "      <td>60</td>\n",
       "    </tr>\n",
       "    <tr>\n",
       "      <th>79537</th>\n",
       "      <td>13</td>\n",
       "    </tr>\n",
       "    <tr>\n",
       "      <th>79538</th>\n",
       "      <td>33</td>\n",
       "    </tr>\n",
       "    <tr>\n",
       "      <th>79539</th>\n",
       "      <td>27</td>\n",
       "    </tr>\n",
       "  </tbody>\n",
       "</table>\n",
       "<p>79539 rows × 1 columns</p>\n",
       "</div>"
      ],
      "text/plain": [
       "       Frequency\n",
       "id              \n",
       "1             75\n",
       "2             89\n",
       "3             57\n",
       "4             42\n",
       "5             55\n",
       "...          ...\n",
       "79535         86\n",
       "79536         60\n",
       "79537         13\n",
       "79538         33\n",
       "79539         27\n",
       "\n",
       "[79539 rows x 1 columns]"
      ]
     },
     "execution_count": 25,
     "metadata": {},
     "output_type": "execute_result"
    }
   ],
   "source": [
    "# Generacion Frequency\n",
    "Frequency=pd.DataFrame(Transaccion_test.groupby(\"id\").size(),columns=[\"Frequency\"])\n",
    "Frequency"
   ]
  },
  {
   "cell_type": "code",
   "execution_count": 26,
   "metadata": {},
   "outputs": [
    {
     "data": {
      "text/plain": [
       "Frequency    0\n",
       "dtype: int64"
      ]
     },
     "execution_count": 26,
     "metadata": {},
     "output_type": "execute_result"
    }
   ],
   "source": [
    "Frequency.isnull().sum()"
   ]
  },
  {
   "cell_type": "markdown",
   "metadata": {},
   "source": [
    "**Periodicity**: Representa si los clientes visitan las tiendas con regularidad."
   ]
  },
  {
   "cell_type": "code",
   "execution_count": 27,
   "metadata": {},
   "outputs": [],
   "source": [
    "def Perio(x):\n",
    "    x=x[\"date\"]\n",
    "    xf=x\n",
    "    xi=x.shift(1)\n",
    "    deltas=xf-xi\n",
    "    deltas.dropna(inplace=True)\n",
    "    std=deltas.std()\n",
    "    return std"
   ]
  },
  {
   "cell_type": "code",
   "execution_count": 28,
   "metadata": {},
   "outputs": [
    {
     "data": {
      "text/html": [
       "<div>\n",
       "<style scoped>\n",
       "    .dataframe tbody tr th:only-of-type {\n",
       "        vertical-align: middle;\n",
       "    }\n",
       "\n",
       "    .dataframe tbody tr th {\n",
       "        vertical-align: top;\n",
       "    }\n",
       "\n",
       "    .dataframe thead th {\n",
       "        text-align: right;\n",
       "    }\n",
       "</style>\n",
       "<table border=\"1\" class=\"dataframe\">\n",
       "  <thead>\n",
       "    <tr style=\"text-align: right;\">\n",
       "      <th></th>\n",
       "      <th>Periodicity</th>\n",
       "    </tr>\n",
       "    <tr>\n",
       "      <th>id</th>\n",
       "      <th></th>\n",
       "    </tr>\n",
       "  </thead>\n",
       "  <tbody>\n",
       "    <tr>\n",
       "      <th>1</th>\n",
       "      <td>0.0</td>\n",
       "    </tr>\n",
       "    <tr>\n",
       "      <th>2</th>\n",
       "      <td>0.0</td>\n",
       "    </tr>\n",
       "    <tr>\n",
       "      <th>3</th>\n",
       "      <td>0.0</td>\n",
       "    </tr>\n",
       "    <tr>\n",
       "      <th>4</th>\n",
       "      <td>0.0</td>\n",
       "    </tr>\n",
       "    <tr>\n",
       "      <th>5</th>\n",
       "      <td>0.0</td>\n",
       "    </tr>\n",
       "    <tr>\n",
       "      <th>...</th>\n",
       "      <td>...</td>\n",
       "    </tr>\n",
       "    <tr>\n",
       "      <th>79535</th>\n",
       "      <td>0.0</td>\n",
       "    </tr>\n",
       "    <tr>\n",
       "      <th>79536</th>\n",
       "      <td>0.0</td>\n",
       "    </tr>\n",
       "    <tr>\n",
       "      <th>79537</th>\n",
       "      <td>1.0</td>\n",
       "    </tr>\n",
       "    <tr>\n",
       "      <th>79538</th>\n",
       "      <td>0.0</td>\n",
       "    </tr>\n",
       "    <tr>\n",
       "      <th>79539</th>\n",
       "      <td>0.0</td>\n",
       "    </tr>\n",
       "  </tbody>\n",
       "</table>\n",
       "<p>79539 rows × 1 columns</p>\n",
       "</div>"
      ],
      "text/plain": [
       "       Periodicity\n",
       "id                \n",
       "1              0.0\n",
       "2              0.0\n",
       "3              0.0\n",
       "4              0.0\n",
       "5              0.0\n",
       "...            ...\n",
       "79535          0.0\n",
       "79536          0.0\n",
       "79537          1.0\n",
       "79538          0.0\n",
       "79539          0.0\n",
       "\n",
       "[79539 rows x 1 columns]"
      ]
     },
     "execution_count": 28,
     "metadata": {},
     "output_type": "execute_result"
    }
   ],
   "source": [
    "Periodicity=pd.DataFrame(Transaccion_test.groupby(\"id\").apply(lambda x: Perio(x)),columns=[\"Periodicity\"])\n",
    "Periodicity[\"Periodicity\"]=Periodicity[\"Periodicity\"].apply(lambda x: x.days)\n",
    "Periodicity"
   ]
  },
  {
   "cell_type": "code",
   "execution_count": 29,
   "metadata": {},
   "outputs": [],
   "source": [
    "Periodicity.fillna(max(Periodicity[\"Periodicity\"]),inplace=True)"
   ]
  },
  {
   "cell_type": "code",
   "execution_count": 30,
   "metadata": {},
   "outputs": [
    {
     "data": {
      "text/plain": [
       "Periodicity    0\n",
       "dtype: int64"
      ]
     },
     "execution_count": 30,
     "metadata": {},
     "output_type": "execute_result"
    }
   ],
   "source": [
    "Periodicity.isnull().sum()"
   ]
  },
  {
   "cell_type": "markdown",
   "metadata": {},
   "source": [
    "**Recency**: Indica la actualidad de la interacción de un cliente con la empresa, y da información sobre la tendencia a repetir la compra."
   ]
  },
  {
   "cell_type": "code",
   "execution_count": 31,
   "metadata": {},
   "outputs": [
    {
     "data": {
      "text/plain": [
       "datetime.datetime(2021, 1, 11, 0, 0)"
      ]
     },
     "execution_count": 31,
     "metadata": {},
     "output_type": "execute_result"
    }
   ],
   "source": [
    "# Fecha final del registro + 1 día\n",
    "t_fecha_final=parse('01-10-2021')+datetime.timedelta(days=1)\n",
    "t_fecha_final"
   ]
  },
  {
   "cell_type": "code",
   "execution_count": 32,
   "metadata": {},
   "outputs": [
    {
     "data": {
      "text/html": [
       "<div>\n",
       "<style scoped>\n",
       "    .dataframe tbody tr th:only-of-type {\n",
       "        vertical-align: middle;\n",
       "    }\n",
       "\n",
       "    .dataframe tbody tr th {\n",
       "        vertical-align: top;\n",
       "    }\n",
       "\n",
       "    .dataframe thead th {\n",
       "        text-align: right;\n",
       "    }\n",
       "</style>\n",
       "<table border=\"1\" class=\"dataframe\">\n",
       "  <thead>\n",
       "    <tr style=\"text-align: right;\">\n",
       "      <th></th>\n",
       "      <th>Recency</th>\n",
       "    </tr>\n",
       "    <tr>\n",
       "      <th>id</th>\n",
       "      <th></th>\n",
       "    </tr>\n",
       "  </thead>\n",
       "  <tbody>\n",
       "    <tr>\n",
       "      <th>1</th>\n",
       "      <td>367.986667</td>\n",
       "    </tr>\n",
       "    <tr>\n",
       "      <th>2</th>\n",
       "      <td>367.943820</td>\n",
       "    </tr>\n",
       "    <tr>\n",
       "      <th>3</th>\n",
       "      <td>367.912281</td>\n",
       "    </tr>\n",
       "    <tr>\n",
       "      <th>4</th>\n",
       "      <td>368.047619</td>\n",
       "    </tr>\n",
       "    <tr>\n",
       "      <th>5</th>\n",
       "      <td>367.836364</td>\n",
       "    </tr>\n",
       "    <tr>\n",
       "      <th>...</th>\n",
       "      <td>...</td>\n",
       "    </tr>\n",
       "    <tr>\n",
       "      <th>79535</th>\n",
       "      <td>368.011628</td>\n",
       "    </tr>\n",
       "    <tr>\n",
       "      <th>79536</th>\n",
       "      <td>367.750000</td>\n",
       "    </tr>\n",
       "    <tr>\n",
       "      <th>79537</th>\n",
       "      <td>368.076923</td>\n",
       "    </tr>\n",
       "    <tr>\n",
       "      <th>79538</th>\n",
       "      <td>368.181818</td>\n",
       "    </tr>\n",
       "    <tr>\n",
       "      <th>79539</th>\n",
       "      <td>367.925926</td>\n",
       "    </tr>\n",
       "  </tbody>\n",
       "</table>\n",
       "<p>79539 rows × 1 columns</p>\n",
       "</div>"
      ],
      "text/plain": [
       "          Recency\n",
       "id               \n",
       "1      367.986667\n",
       "2      367.943820\n",
       "3      367.912281\n",
       "4      368.047619\n",
       "5      367.836364\n",
       "...           ...\n",
       "79535  368.011628\n",
       "79536  367.750000\n",
       "79537  368.076923\n",
       "79538  368.181818\n",
       "79539  367.925926\n",
       "\n",
       "[79539 rows x 1 columns]"
      ]
     },
     "execution_count": 32,
     "metadata": {},
     "output_type": "execute_result"
    }
   ],
   "source": [
    "# Generación de Recency\n",
    "auxiliar=Transaccion_test[[\"id\",\"date\"]].copy()\n",
    "auxiliar[\"sum_diff\"]=(t_fecha_final-auxiliar[\"date\"]).apply(lambda x: x.days)\n",
    "Recency=pd.DataFrame(auxiliar.groupby(\"id\").sum()[\"sum_diff\"]/auxiliar.groupby(\"id\").size()).rename(columns={0:\"Recency\"})\n",
    "Recency"
   ]
  },
  {
   "cell_type": "code",
   "execution_count": 33,
   "metadata": {},
   "outputs": [
    {
     "data": {
      "text/plain": [
       "Recency    0\n",
       "dtype: int64"
      ]
     },
     "execution_count": 33,
     "metadata": {},
     "output_type": "execute_result"
    }
   ],
   "source": [
    "Recency.isnull().sum()"
   ]
  },
  {
   "cell_type": "markdown",
   "metadata": {},
   "source": [
    "**Count others products**: Cantidad de compras de otros productos (no target)"
   ]
  },
  {
   "cell_type": "code",
   "execution_count": 34,
   "metadata": {},
   "outputs": [
    {
     "data": {
      "text/plain": [
       "['F-D', 'F-H', 'F-I', 'F-J', 'G-K', 'A-G', 'A-K', 'C-C', 'D-F', 'E-F', 'A-L']"
      ]
     },
     "execution_count": 34,
     "metadata": {},
     "output_type": "execute_result"
    }
   ],
   "source": [
    "productos_auxiliar=list(filter(lambda x:x not in Productos_interes,Transaccion_test[\"Producto-Tipo\"].unique()))\n",
    "productos_auxiliar"
   ]
  },
  {
   "cell_type": "code",
   "execution_count": 35,
   "metadata": {},
   "outputs": [],
   "source": [
    "def count_product_int(u):\n",
    "    dic_product={'F-D':0, 'F-H':0, 'F-I':0, 'F-J':0, 'G-K':0, 'A-G':0, 'A-K':0, 'C-C':0, 'D-F':0, 'E-F':0, 'A-L':0}\n",
    "    counts=u[\"Producto-Tipo\"].value_counts()\n",
    "    for i in dic_product.keys():\n",
    "        try:\n",
    "            dic_product[i]=counts[i]\n",
    "        except:\n",
    "            1*1\n",
    "    return dic_product\n",
    "            "
   ]
  },
  {
   "cell_type": "code",
   "execution_count": 36,
   "metadata": {},
   "outputs": [],
   "source": [
    "df_count_product_int=Transaccion_test.groupby(\"id\").apply(count_product_int)"
   ]
  },
  {
   "cell_type": "code",
   "execution_count": 37,
   "metadata": {},
   "outputs": [
    {
     "data": {
      "text/html": [
       "<div>\n",
       "<style scoped>\n",
       "    .dataframe tbody tr th:only-of-type {\n",
       "        vertical-align: middle;\n",
       "    }\n",
       "\n",
       "    .dataframe tbody tr th {\n",
       "        vertical-align: top;\n",
       "    }\n",
       "\n",
       "    .dataframe thead th {\n",
       "        text-align: right;\n",
       "    }\n",
       "</style>\n",
       "<table border=\"1\" class=\"dataframe\">\n",
       "  <thead>\n",
       "    <tr style=\"text-align: right;\">\n",
       "      <th></th>\n",
       "      <th>F-D</th>\n",
       "      <th>F-H</th>\n",
       "      <th>F-I</th>\n",
       "      <th>F-J</th>\n",
       "      <th>G-K</th>\n",
       "      <th>A-G</th>\n",
       "      <th>A-K</th>\n",
       "      <th>C-C</th>\n",
       "      <th>D-F</th>\n",
       "      <th>E-F</th>\n",
       "      <th>A-L</th>\n",
       "    </tr>\n",
       "  </thead>\n",
       "  <tbody>\n",
       "    <tr>\n",
       "      <th>1</th>\n",
       "      <td>3</td>\n",
       "      <td>3</td>\n",
       "      <td>3</td>\n",
       "      <td>3</td>\n",
       "      <td>22</td>\n",
       "      <td>4</td>\n",
       "      <td>37</td>\n",
       "      <td>0</td>\n",
       "      <td>0</td>\n",
       "      <td>0</td>\n",
       "      <td>0</td>\n",
       "    </tr>\n",
       "    <tr>\n",
       "      <th>2</th>\n",
       "      <td>0</td>\n",
       "      <td>3</td>\n",
       "      <td>0</td>\n",
       "      <td>3</td>\n",
       "      <td>57</td>\n",
       "      <td>4</td>\n",
       "      <td>20</td>\n",
       "      <td>1</td>\n",
       "      <td>1</td>\n",
       "      <td>0</td>\n",
       "      <td>0</td>\n",
       "    </tr>\n",
       "    <tr>\n",
       "      <th>3</th>\n",
       "      <td>1</td>\n",
       "      <td>3</td>\n",
       "      <td>0</td>\n",
       "      <td>3</td>\n",
       "      <td>5</td>\n",
       "      <td>8</td>\n",
       "      <td>36</td>\n",
       "      <td>0</td>\n",
       "      <td>0</td>\n",
       "      <td>1</td>\n",
       "      <td>0</td>\n",
       "    </tr>\n",
       "    <tr>\n",
       "      <th>4</th>\n",
       "      <td>0</td>\n",
       "      <td>1</td>\n",
       "      <td>2</td>\n",
       "      <td>3</td>\n",
       "      <td>23</td>\n",
       "      <td>4</td>\n",
       "      <td>7</td>\n",
       "      <td>0</td>\n",
       "      <td>0</td>\n",
       "      <td>1</td>\n",
       "      <td>1</td>\n",
       "    </tr>\n",
       "    <tr>\n",
       "      <th>5</th>\n",
       "      <td>0</td>\n",
       "      <td>3</td>\n",
       "      <td>1</td>\n",
       "      <td>3</td>\n",
       "      <td>39</td>\n",
       "      <td>4</td>\n",
       "      <td>5</td>\n",
       "      <td>0</td>\n",
       "      <td>0</td>\n",
       "      <td>0</td>\n",
       "      <td>0</td>\n",
       "    </tr>\n",
       "    <tr>\n",
       "      <th>...</th>\n",
       "      <td>...</td>\n",
       "      <td>...</td>\n",
       "      <td>...</td>\n",
       "      <td>...</td>\n",
       "      <td>...</td>\n",
       "      <td>...</td>\n",
       "      <td>...</td>\n",
       "      <td>...</td>\n",
       "      <td>...</td>\n",
       "      <td>...</td>\n",
       "      <td>...</td>\n",
       "    </tr>\n",
       "    <tr>\n",
       "      <th>79535</th>\n",
       "      <td>0</td>\n",
       "      <td>2</td>\n",
       "      <td>3</td>\n",
       "      <td>3</td>\n",
       "      <td>61</td>\n",
       "      <td>4</td>\n",
       "      <td>9</td>\n",
       "      <td>3</td>\n",
       "      <td>1</td>\n",
       "      <td>0</td>\n",
       "      <td>0</td>\n",
       "    </tr>\n",
       "    <tr>\n",
       "      <th>79536</th>\n",
       "      <td>1</td>\n",
       "      <td>1</td>\n",
       "      <td>2</td>\n",
       "      <td>2</td>\n",
       "      <td>47</td>\n",
       "      <td>4</td>\n",
       "      <td>3</td>\n",
       "      <td>0</td>\n",
       "      <td>0</td>\n",
       "      <td>0</td>\n",
       "      <td>0</td>\n",
       "    </tr>\n",
       "    <tr>\n",
       "      <th>79537</th>\n",
       "      <td>2</td>\n",
       "      <td>1</td>\n",
       "      <td>0</td>\n",
       "      <td>3</td>\n",
       "      <td>0</td>\n",
       "      <td>4</td>\n",
       "      <td>2</td>\n",
       "      <td>0</td>\n",
       "      <td>0</td>\n",
       "      <td>1</td>\n",
       "      <td>0</td>\n",
       "    </tr>\n",
       "    <tr>\n",
       "      <th>79538</th>\n",
       "      <td>0</td>\n",
       "      <td>3</td>\n",
       "      <td>3</td>\n",
       "      <td>3</td>\n",
       "      <td>2</td>\n",
       "      <td>4</td>\n",
       "      <td>18</td>\n",
       "      <td>0</td>\n",
       "      <td>0</td>\n",
       "      <td>0</td>\n",
       "      <td>0</td>\n",
       "    </tr>\n",
       "    <tr>\n",
       "      <th>79539</th>\n",
       "      <td>0</td>\n",
       "      <td>2</td>\n",
       "      <td>0</td>\n",
       "      <td>3</td>\n",
       "      <td>18</td>\n",
       "      <td>0</td>\n",
       "      <td>0</td>\n",
       "      <td>3</td>\n",
       "      <td>0</td>\n",
       "      <td>1</td>\n",
       "      <td>0</td>\n",
       "    </tr>\n",
       "  </tbody>\n",
       "</table>\n",
       "<p>79539 rows × 11 columns</p>\n",
       "</div>"
      ],
      "text/plain": [
       "       F-D  F-H  F-I  F-J  G-K  A-G  A-K  C-C  D-F  E-F  A-L\n",
       "1        3    3    3    3   22    4   37    0    0    0    0\n",
       "2        0    3    0    3   57    4   20    1    1    0    0\n",
       "3        1    3    0    3    5    8   36    0    0    1    0\n",
       "4        0    1    2    3   23    4    7    0    0    1    1\n",
       "5        0    3    1    3   39    4    5    0    0    0    0\n",
       "...    ...  ...  ...  ...  ...  ...  ...  ...  ...  ...  ...\n",
       "79535    0    2    3    3   61    4    9    3    1    0    0\n",
       "79536    1    1    2    2   47    4    3    0    0    0    0\n",
       "79537    2    1    0    3    0    4    2    0    0    1    0\n",
       "79538    0    3    3    3    2    4   18    0    0    0    0\n",
       "79539    0    2    0    3   18    0    0    3    0    1    0\n",
       "\n",
       "[79539 rows x 11 columns]"
      ]
     },
     "execution_count": 37,
     "metadata": {},
     "output_type": "execute_result"
    }
   ],
   "source": [
    "tran_count_product_int = pd.concat({k: pd.Series(v) for k, v in df_count_product_int.items()},axis=1).T\n",
    "tran_count_product_int"
   ]
  },
  {
   "cell_type": "code",
   "execution_count": 38,
   "metadata": {},
   "outputs": [
    {
     "data": {
      "text/plain": [
       "F-D    0\n",
       "F-H    0\n",
       "F-I    0\n",
       "F-J    0\n",
       "G-K    0\n",
       "A-G    0\n",
       "A-K    0\n",
       "C-C    0\n",
       "D-F    0\n",
       "E-F    0\n",
       "A-L    0\n",
       "dtype: int64"
      ]
     },
     "execution_count": 38,
     "metadata": {},
     "output_type": "execute_result"
    }
   ],
   "source": [
    "tran_count_product_int.isnull().sum()"
   ]
  },
  {
   "cell_type": "markdown",
   "metadata": {},
   "source": [
    "**Count Signo Negativo, positivo, sin info**"
   ]
  },
  {
   "cell_type": "code",
   "execution_count": 39,
   "metadata": {},
   "outputs": [],
   "source": [
    "def count_sign(u):\n",
    "    dic_sign={'Positivo':0, 'Negativo':0, 'Sin Info':0}\n",
    "    counts=u[\"Signo\"].value_counts()\n",
    "    for i in dic_sign.keys():\n",
    "        try:\n",
    "            dic_sign[i]=counts[i]\n",
    "        except:\n",
    "            1*1\n",
    "    return dic_sign"
   ]
  },
  {
   "cell_type": "code",
   "execution_count": 40,
   "metadata": {},
   "outputs": [],
   "source": [
    "df_count_sign=Transaccion_test.groupby(\"id\").apply(count_sign)"
   ]
  },
  {
   "cell_type": "code",
   "execution_count": 41,
   "metadata": {},
   "outputs": [
    {
     "data": {
      "text/html": [
       "<div>\n",
       "<style scoped>\n",
       "    .dataframe tbody tr th:only-of-type {\n",
       "        vertical-align: middle;\n",
       "    }\n",
       "\n",
       "    .dataframe tbody tr th {\n",
       "        vertical-align: top;\n",
       "    }\n",
       "\n",
       "    .dataframe thead th {\n",
       "        text-align: right;\n",
       "    }\n",
       "</style>\n",
       "<table border=\"1\" class=\"dataframe\">\n",
       "  <thead>\n",
       "    <tr style=\"text-align: right;\">\n",
       "      <th></th>\n",
       "      <th>Positivo</th>\n",
       "      <th>Negativo</th>\n",
       "      <th>Sin Info</th>\n",
       "    </tr>\n",
       "  </thead>\n",
       "  <tbody>\n",
       "    <tr>\n",
       "      <th>1</th>\n",
       "      <td>6</td>\n",
       "      <td>65</td>\n",
       "      <td>4</td>\n",
       "    </tr>\n",
       "    <tr>\n",
       "      <th>2</th>\n",
       "      <td>3</td>\n",
       "      <td>82</td>\n",
       "      <td>4</td>\n",
       "    </tr>\n",
       "    <tr>\n",
       "      <th>3</th>\n",
       "      <td>4</td>\n",
       "      <td>45</td>\n",
       "      <td>8</td>\n",
       "    </tr>\n",
       "    <tr>\n",
       "      <th>4</th>\n",
       "      <td>4</td>\n",
       "      <td>34</td>\n",
       "      <td>4</td>\n",
       "    </tr>\n",
       "    <tr>\n",
       "      <th>5</th>\n",
       "      <td>3</td>\n",
       "      <td>48</td>\n",
       "      <td>4</td>\n",
       "    </tr>\n",
       "    <tr>\n",
       "      <th>...</th>\n",
       "      <td>...</td>\n",
       "      <td>...</td>\n",
       "      <td>...</td>\n",
       "    </tr>\n",
       "    <tr>\n",
       "      <th>79535</th>\n",
       "      <td>3</td>\n",
       "      <td>79</td>\n",
       "      <td>4</td>\n",
       "    </tr>\n",
       "    <tr>\n",
       "      <th>79536</th>\n",
       "      <td>3</td>\n",
       "      <td>53</td>\n",
       "      <td>4</td>\n",
       "    </tr>\n",
       "    <tr>\n",
       "      <th>79537</th>\n",
       "      <td>5</td>\n",
       "      <td>4</td>\n",
       "      <td>4</td>\n",
       "    </tr>\n",
       "    <tr>\n",
       "      <th>79538</th>\n",
       "      <td>3</td>\n",
       "      <td>26</td>\n",
       "      <td>4</td>\n",
       "    </tr>\n",
       "    <tr>\n",
       "      <th>79539</th>\n",
       "      <td>3</td>\n",
       "      <td>24</td>\n",
       "      <td>0</td>\n",
       "    </tr>\n",
       "  </tbody>\n",
       "</table>\n",
       "<p>79539 rows × 3 columns</p>\n",
       "</div>"
      ],
      "text/plain": [
       "       Positivo  Negativo  Sin Info\n",
       "1             6        65         4\n",
       "2             3        82         4\n",
       "3             4        45         8\n",
       "4             4        34         4\n",
       "5             3        48         4\n",
       "...         ...       ...       ...\n",
       "79535         3        79         4\n",
       "79536         3        53         4\n",
       "79537         5         4         4\n",
       "79538         3        26         4\n",
       "79539         3        24         0\n",
       "\n",
       "[79539 rows x 3 columns]"
      ]
     },
     "execution_count": 41,
     "metadata": {},
     "output_type": "execute_result"
    }
   ],
   "source": [
    "tran_count_sign = pd.concat({k: pd.Series(v) for k, v in df_count_sign.items()},axis=1).T\n",
    "tran_count_sign"
   ]
  },
  {
   "cell_type": "code",
   "execution_count": 42,
   "metadata": {},
   "outputs": [
    {
     "data": {
      "text/plain": [
       "Positivo    0\n",
       "Negativo    0\n",
       "Sin Info    0\n",
       "dtype: int64"
      ]
     },
     "execution_count": 42,
     "metadata": {},
     "output_type": "execute_result"
    }
   ],
   "source": [
    "tran_count_sign.isnull().sum()"
   ]
  },
  {
   "cell_type": "markdown",
   "metadata": {},
   "source": [
    "#### Consumidores"
   ]
  },
  {
   "cell_type": "code",
   "execution_count": 6,
   "metadata": {},
   "outputs": [
    {
     "data": {
      "text/html": [
       "<div>\n",
       "<style scoped>\n",
       "    .dataframe tbody tr th:only-of-type {\n",
       "        vertical-align: middle;\n",
       "    }\n",
       "\n",
       "    .dataframe tbody tr th {\n",
       "        vertical-align: top;\n",
       "    }\n",
       "\n",
       "    .dataframe thead th {\n",
       "        text-align: right;\n",
       "    }\n",
       "</style>\n",
       "<table border=\"1\" class=\"dataframe\">\n",
       "  <thead>\n",
       "    <tr style=\"text-align: right;\">\n",
       "      <th></th>\n",
       "      <th>Edad</th>\n",
       "      <th>Sexo</th>\n",
       "      <th>Renta</th>\n",
       "      <th>Recibe_sueldo_en_cuenta</th>\n",
       "      <th>Segmento_consumidor</th>\n",
       "      <th>Meses_antiguedad</th>\n",
       "      <th>Comuna</th>\n",
       "      <th>Ciudad</th>\n",
       "      <th>Estado_civil</th>\n",
       "      <th>Principalidad</th>\n",
       "      <th>Profesion</th>\n",
       "      <th>id</th>\n",
       "    </tr>\n",
       "  </thead>\n",
       "  <tbody>\n",
       "    <tr>\n",
       "      <th>0</th>\n",
       "      <td>Mayor a 70</td>\n",
       "      <td>1</td>\n",
       "      <td>R1</td>\n",
       "      <td>0</td>\n",
       "      <td>A</td>\n",
       "      <td>Mayor a 10 años</td>\n",
       "      <td>331.0</td>\n",
       "      <td>13.0</td>\n",
       "      <td>D</td>\n",
       "      <td>B</td>\n",
       "      <td>P164</td>\n",
       "      <td>1</td>\n",
       "    </tr>\n",
       "    <tr>\n",
       "      <th>1</th>\n",
       "      <td>Mayor a 70</td>\n",
       "      <td>1</td>\n",
       "      <td>R9</td>\n",
       "      <td>0</td>\n",
       "      <td>B</td>\n",
       "      <td>Mayor a 10 años</td>\n",
       "      <td>37.0</td>\n",
       "      <td>5.0</td>\n",
       "      <td>D</td>\n",
       "      <td>E</td>\n",
       "      <td>P164</td>\n",
       "      <td>2</td>\n",
       "    </tr>\n",
       "    <tr>\n",
       "      <th>2</th>\n",
       "      <td>Mayor a 70</td>\n",
       "      <td>1</td>\n",
       "      <td>R9</td>\n",
       "      <td>1</td>\n",
       "      <td>B</td>\n",
       "      <td>Mayor a 10 años</td>\n",
       "      <td>19.0</td>\n",
       "      <td>4.0</td>\n",
       "      <td>B</td>\n",
       "      <td>D</td>\n",
       "      <td>P114</td>\n",
       "      <td>3</td>\n",
       "    </tr>\n",
       "    <tr>\n",
       "      <th>3</th>\n",
       "      <td>Mayor a 70</td>\n",
       "      <td>1</td>\n",
       "      <td>R10</td>\n",
       "      <td>0</td>\n",
       "      <td>B</td>\n",
       "      <td>Mayor a 10 años</td>\n",
       "      <td>37.0</td>\n",
       "      <td>5.0</td>\n",
       "      <td>B</td>\n",
       "      <td>C</td>\n",
       "      <td>P164</td>\n",
       "      <td>4</td>\n",
       "    </tr>\n",
       "    <tr>\n",
       "      <th>4</th>\n",
       "      <td>Mayor a 70</td>\n",
       "      <td>1</td>\n",
       "      <td>R4</td>\n",
       "      <td>0</td>\n",
       "      <td>A</td>\n",
       "      <td>Mayor a 10 años</td>\n",
       "      <td>91.0</td>\n",
       "      <td>13.0</td>\n",
       "      <td>D</td>\n",
       "      <td>B</td>\n",
       "      <td>P85</td>\n",
       "      <td>5</td>\n",
       "    </tr>\n",
       "    <tr>\n",
       "      <th>...</th>\n",
       "      <td>...</td>\n",
       "      <td>...</td>\n",
       "      <td>...</td>\n",
       "      <td>...</td>\n",
       "      <td>...</td>\n",
       "      <td>...</td>\n",
       "      <td>...</td>\n",
       "      <td>...</td>\n",
       "      <td>...</td>\n",
       "      <td>...</td>\n",
       "      <td>...</td>\n",
       "      <td>...</td>\n",
       "    </tr>\n",
       "    <tr>\n",
       "      <th>79534</th>\n",
       "      <td>Entre 30 y 35</td>\n",
       "      <td>0</td>\n",
       "      <td>R2</td>\n",
       "      <td>0</td>\n",
       "      <td>A</td>\n",
       "      <td>Menos de 1 año</td>\n",
       "      <td>189.0</td>\n",
       "      <td>8.0</td>\n",
       "      <td>A</td>\n",
       "      <td>NaN</td>\n",
       "      <td>NaN</td>\n",
       "      <td>79535</td>\n",
       "    </tr>\n",
       "    <tr>\n",
       "      <th>79535</th>\n",
       "      <td>Entre 35 y 40</td>\n",
       "      <td>0</td>\n",
       "      <td>R1</td>\n",
       "      <td>0</td>\n",
       "      <td>A</td>\n",
       "      <td>Menos de 1 año</td>\n",
       "      <td>72.0</td>\n",
       "      <td>13.0</td>\n",
       "      <td>B</td>\n",
       "      <td>NaN</td>\n",
       "      <td>NaN</td>\n",
       "      <td>79536</td>\n",
       "    </tr>\n",
       "    <tr>\n",
       "      <th>79536</th>\n",
       "      <td>Entre 50 y 55</td>\n",
       "      <td>1</td>\n",
       "      <td>R1</td>\n",
       "      <td>0</td>\n",
       "      <td>A</td>\n",
       "      <td>Menos de 1 año</td>\n",
       "      <td>342.0</td>\n",
       "      <td>8.0</td>\n",
       "      <td>B</td>\n",
       "      <td>NaN</td>\n",
       "      <td>NaN</td>\n",
       "      <td>79537</td>\n",
       "    </tr>\n",
       "    <tr>\n",
       "      <th>79537</th>\n",
       "      <td>Entre 45 y 50</td>\n",
       "      <td>0</td>\n",
       "      <td>R2</td>\n",
       "      <td>0</td>\n",
       "      <td>A</td>\n",
       "      <td>Menos de 1 año</td>\n",
       "      <td>71.0</td>\n",
       "      <td>13.0</td>\n",
       "      <td>A</td>\n",
       "      <td>NaN</td>\n",
       "      <td>NaN</td>\n",
       "      <td>79538</td>\n",
       "    </tr>\n",
       "    <tr>\n",
       "      <th>79538</th>\n",
       "      <td>Entre 50 y 55</td>\n",
       "      <td>0</td>\n",
       "      <td>R2</td>\n",
       "      <td>0</td>\n",
       "      <td>A</td>\n",
       "      <td>Menos de 1 año</td>\n",
       "      <td>34.0</td>\n",
       "      <td>5.0</td>\n",
       "      <td>D</td>\n",
       "      <td>NaN</td>\n",
       "      <td>NaN</td>\n",
       "      <td>79539</td>\n",
       "    </tr>\n",
       "  </tbody>\n",
       "</table>\n",
       "<p>79539 rows × 12 columns</p>\n",
       "</div>"
      ],
      "text/plain": [
       "                Edad  Sexo Renta  Recibe_sueldo_en_cuenta Segmento_consumidor  \\\n",
       "0         Mayor a 70     1    R1                        0                   A   \n",
       "1         Mayor a 70     1    R9                        0                   B   \n",
       "2         Mayor a 70     1    R9                        1                   B   \n",
       "3         Mayor a 70     1   R10                        0                   B   \n",
       "4         Mayor a 70     1    R4                        0                   A   \n",
       "...              ...   ...   ...                      ...                 ...   \n",
       "79534  Entre 30 y 35     0    R2                        0                   A   \n",
       "79535  Entre 35 y 40     0    R1                        0                   A   \n",
       "79536  Entre 50 y 55     1    R1                        0                   A   \n",
       "79537  Entre 45 y 50     0    R2                        0                   A   \n",
       "79538  Entre 50 y 55     0    R2                        0                   A   \n",
       "\n",
       "      Meses_antiguedad  Comuna  Ciudad Estado_civil Principalidad Profesion  \\\n",
       "0      Mayor a 10 años   331.0    13.0            D             B      P164   \n",
       "1      Mayor a 10 años    37.0     5.0            D             E      P164   \n",
       "2      Mayor a 10 años    19.0     4.0            B             D      P114   \n",
       "3      Mayor a 10 años    37.0     5.0            B             C      P164   \n",
       "4      Mayor a 10 años    91.0    13.0            D             B       P85   \n",
       "...                ...     ...     ...          ...           ...       ...   \n",
       "79534   Menos de 1 año   189.0     8.0            A           NaN       NaN   \n",
       "79535   Menos de 1 año    72.0    13.0            B           NaN       NaN   \n",
       "79536   Menos de 1 año   342.0     8.0            B           NaN       NaN   \n",
       "79537   Menos de 1 año    71.0    13.0            A           NaN       NaN   \n",
       "79538   Menos de 1 año    34.0     5.0            D           NaN       NaN   \n",
       "\n",
       "          id  \n",
       "0          1  \n",
       "1          2  \n",
       "2          3  \n",
       "3          4  \n",
       "4          5  \n",
       "...      ...  \n",
       "79534  79535  \n",
       "79535  79536  \n",
       "79536  79537  \n",
       "79537  79538  \n",
       "79538  79539  \n",
       "\n",
       "[79539 rows x 12 columns]"
      ]
     },
     "execution_count": 6,
     "metadata": {},
     "output_type": "execute_result"
    }
   ],
   "source": [
    "Consumidores=pd.read_csv(\"../Datos/Consumidores.csv\",sep=',').drop(columns=[\"Unnamed: 0\"])\n",
    "Consumidores"
   ]
  },
  {
   "cell_type": "code",
   "execution_count": 44,
   "metadata": {},
   "outputs": [],
   "source": [
    "# Tratamiento de valores faltantes\n",
    "Consumidores.fillna('Sin Info',inplace=True)"
   ]
  },
  {
   "cell_type": "code",
   "execution_count": 45,
   "metadata": {},
   "outputs": [],
   "source": [
    "# Set index para merge\n",
    "Consumidores.set_index(\"id\",inplace=True)"
   ]
  },
  {
   "cell_type": "code",
   "execution_count": 46,
   "metadata": {},
   "outputs": [],
   "source": [
    "# Merges 1\n",
    "Data=cam_dur_camp.merge(cam_cont_canal,how=\"outer\",left_index=True,right_index=True)\n",
    "\n",
    "# Merges 2\n",
    "Data=Data.merge(com_num_lect,how=\"outer\",left_index=True,right_index=True)\n",
    "\n",
    "# Merges 3\n",
    "Data=Data.merge(com_num_comunicaciones,how=\"outer\",left_index=True,right_index=True)\n",
    "\n",
    "# Merges 4\n",
    "Data=Data.merge(length,how=\"outer\",left_index=True,right_index=True)\n",
    "\n",
    "\n",
    "# Merges 5\n",
    "Data=Data.merge(Monetary,how=\"outer\",left_index=True,right_index=True)\n",
    "\n",
    "# Merges 6\n",
    "Data=Data.merge(Frequency,how=\"outer\",left_index=True,right_index=True)\n",
    "\n",
    "# Merges 7\n",
    "Data=Data.merge(Periodicity,how=\"outer\",left_index=True,right_index=True)\n",
    "\n",
    "# Merges 8\n",
    "Data=Data.merge(Recency,how=\"outer\",left_index=True,right_index=True)\n",
    "\n",
    "# Merges 9\n",
    "Data=Data.merge(tran_count_product_int,how=\"outer\",left_index=True,right_index=True)\n",
    "\n",
    "# Merges 10\n",
    "Data=Data.merge(tran_count_sign,how=\"outer\",left_index=True,right_index=True)\n",
    "\n",
    "# Merge 11\n",
    "Data=Data.merge(Consumidores,how=\"outer\",left_index=True,right_index=True)\n",
    "\n"
   ]
  },
  {
   "cell_type": "code",
   "execution_count": 47,
   "metadata": {},
   "outputs": [
    {
     "data": {
      "text/plain": [
       "<AxesSubplot:>"
      ]
     },
     "execution_count": 47,
     "metadata": {},
     "output_type": "execute_result"
    },
    {
     "data": {
      "image/png": "[encoded data removed]",
      "text/plain": [
       "<Figure size 1800x720 with 2 Axes>"
      ]
     },
     "metadata": {
      "needs_background": "light"
     },
     "output_type": "display_data"
    }
   ],
   "source": [
    "# Missings\n",
    "msno.matrix(Data)"
   ]
  },
  {
   "cell_type": "code",
   "execution_count": 48,
   "metadata": {},
   "outputs": [
    {
     "data": {
      "text/plain": [
       "Index(['Duracion_Campaña', 'B', 'C', 'lec_B-B', 'lec_E-E', 'lec_D-E',\n",
       "       'lec_C-D', 'lec_A-A', 'num_comunicaciones'],\n",
       "      dtype='object')"
      ]
     },
     "execution_count": 48,
     "metadata": {},
     "output_type": "execute_result"
    }
   ],
   "source": [
    "# Columnas con al menos 1 nan\n",
    "Data.columns[Data.isnull().any(axis=0)]"
   ]
  },
  {
   "cell_type": "code",
   "execution_count": 49,
   "metadata": {},
   "outputs": [],
   "source": [
    "# Por el contexto del problema y al ser columnas númericas el tratamiento será reemplazar estos contadores por valor 0\n",
    "Data.fillna(0,inplace=True)\n"
   ]
  },
  {
   "cell_type": "code",
   "execution_count": 50,
   "metadata": {},
   "outputs": [
    {
     "data": {
      "text/plain": [
       "Index([], dtype='object')"
      ]
     },
     "execution_count": 50,
     "metadata": {},
     "output_type": "execute_result"
    }
   ],
   "source": [
    "# Columnas con al menos 1 nan\n",
    "Data.columns[Data.isnull().any(axis=0)]"
   ]
  },
  {
   "cell_type": "code",
   "execution_count": 51,
   "metadata": {},
   "outputs": [
    {
     "data": {
      "text/plain": [
       "<AxesSubplot:>"
      ]
     },
     "execution_count": 51,
     "metadata": {},
     "output_type": "execute_result"
    },
    {
     "data": {
      "image/png": "[encoded data removed]",
      "text/plain": [
       "<Figure size 1800x720 with 2 Axes>"
      ]
     },
     "metadata": {
      "needs_background": "light"
     },
     "output_type": "display_data"
    }
   ],
   "source": [
    "# Missings\n",
    "msno.matrix(Data)"
   ]
  },
  {
   "cell_type": "code",
   "execution_count": 52,
   "metadata": {},
   "outputs": [
    {
     "data": {
      "text/plain": [
       "(79539, 39)"
      ]
     },
     "execution_count": 52,
     "metadata": {},
     "output_type": "execute_result"
    }
   ],
   "source": [
    "Data.shape"
   ]
  },
  {
   "cell_type": "code",
   "execution_count": 53,
   "metadata": {},
   "outputs": [],
   "source": [
    "# Se guarda raw en csv\n",
    "Data.to_csv('../Datos/consolidation_data_test'+pd.to_datetime('today').strftime('%d%B%Y')+'.csv', index=True)"
   ]
  }
 ],
 "metadata": {
  "interpreter": {
   "hash": "65e97ffa20fbdd895c76c3a1d2c2ade704754874d6e45df701862667e65d73d7"
  },
  "kernelspec": {
   "display_name": "Python 3.9.6 ('Programacion_Cientifica')",
   "language": "python",
   "name": "python3"
  },
  "language_info": {
   "codemirror_mode": {
    "name": "ipython",
    "version": 3
   },
   "file_extension": ".py",
   "mimetype": "text/x-python",
   "name": "python",
   "nbconvert_exporter": "python",
   "pygments_lexer": "ipython3",
   "version": "3.9.6"
  },
  "orig_nbformat": 4
 },
 "nbformat": 4,
 "nbformat_minor": 2
}
