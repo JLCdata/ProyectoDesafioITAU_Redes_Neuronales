{
 "cells": [
  {
   "cell_type": "markdown",
   "metadata": {},
   "source": [
    "# Selección de variables\n"
   ]
  },
  {
   "cell_type": "code",
   "execution_count": 1,
   "metadata": {},
   "outputs": [],
   "source": [
    "import pandas as pd\n",
    "import numpy as np\n",
    "\n",
    "import missingno as msno\n",
    "import matplotlib.pyplot as plt\n",
    "import plotly.express as px\n",
    "\n",
    "from sklearn.ensemble import RandomForestClassifier\n",
    "from sklearn.metrics import classification_report\n",
    "from sklearn.model_selection import train_test_split \n",
    "from sklearn.decomposition import PCA\n",
    "from sklearn.pipeline import Pipeline\n",
    "from sklearn.decomposition import TruncatedSVD\n",
    "\n",
    "from sklearn.compose import ColumnTransformer\n",
    "from sklearn.preprocessing import MinMaxScaler\n",
    "from sklearn.preprocessing import OneHotEncoder\n",
    "import datetime\n",
    "from dateutil.parser import parse\n",
    "from sklearn.tree import  DecisionTreeClassifier\n",
    "import plotly.graph_objects as go\n",
    "import umap\n",
    "from imblearn.over_sampling import RandomOverSampler"
   ]
  },
  {
   "cell_type": "code",
   "execution_count": 70,
   "metadata": {},
   "outputs": [],
   "source": [
    "# Seteo jupyter notebook\n",
    "pd.set_option('display.max_columns', None)"
   ]
  },
  {
   "cell_type": "code",
   "execution_count": 2,
   "metadata": {},
   "outputs": [
    {
     "name": "stderr",
     "output_type": "stream",
     "text": [
      "c:\\Users\\Jose Luis\\anaconda3\\envs\\Programacion_Cientifica\\lib\\site-packages\\IPython\\core\\interactiveshell.py:3441: DtypeWarning: Columns (36) have mixed types.Specify dtype option on import or set low_memory=False.\n",
      "  exec(code_obj, self.user_global_ns, self.user_ns)\n"
     ]
    }
   ],
   "source": [
    "Data=pd.read_csv(\"../Datos/cleaned_05June2022.csv\").drop(columns=[\"Unnamed: 0\"]).fillna(\"\")\n"
   ]
  },
  {
   "cell_type": "code",
   "execution_count": 4,
   "metadata": {},
   "outputs": [],
   "source": [
    "# datos categorical\n",
    "categorical=list(Data.select_dtypes(include=[\"category\",\"object\"]).columns)"
   ]
  },
  {
   "cell_type": "code",
   "execution_count": 5,
   "metadata": {},
   "outputs": [],
   "source": [
    "# Replace valores categoricos por númericos\n",
    "for i in categorical:\n",
    "    dic={}\n",
    "    k=0\n",
    "    for j in Data[i].unique():\n",
    "        k=k+1\n",
    "        dic[j]=k\n",
    "    Data[i].replace(dic,inplace=True)"
   ]
  },
  {
   "cell_type": "code",
   "execution_count": 6,
   "metadata": {},
   "outputs": [],
   "source": [
    "# Features - labels\n",
    "\n",
    "features = Data.drop(columns=[\"Target\"]).copy() \n",
    "labels = Data.loc[:,\"Target\"].copy()\n",
    "\n",
    "# Generación de conjuntos de train y test\n",
    "X_train, X_test, y_train, y_test = train_test_split(\n",
    "    features, labels, test_size=0.33,random_state=50)\n"
   ]
  },
  {
   "cell_type": "markdown",
   "metadata": {},
   "source": [
    "**Normalización de variables**"
   ]
  },
  {
   "cell_type": "code",
   "execution_count": 7,
   "metadata": {},
   "outputs": [],
   "source": [
    "# Columns transformer\n",
    "preprocessing_transformer = ColumnTransformer(\n",
    "    transformers=[\n",
    "        ('MinMaxScaler',MinMaxScaler(),\n",
    "         features.columns),\n",
    "    ])\n",
    "\n",
    "pipe = Pipeline(\n",
    "    [(\"preprocesamiento\", preprocessing_transformer)]\n",
    ")"
   ]
  },
  {
   "cell_type": "code",
   "execution_count": 8,
   "metadata": {},
   "outputs": [],
   "source": [
    "# Entrenamiento de pípeline\n",
    "X_train=pd.DataFrame(pipe.fit_transform(X_train),columns=features.columns)"
   ]
  },
  {
   "cell_type": "code",
   "execution_count": 9,
   "metadata": {},
   "outputs": [],
   "source": [
    "# Sobremuestreo: Aumentar numero de datos de la clase minoritaria\n",
    "# ROS(Duplica clases):\n",
    "ros=RandomOverSampler(random_state=0) # Random_state=0"
   ]
  },
  {
   "cell_type": "code",
   "execution_count": 10,
   "metadata": {},
   "outputs": [],
   "source": [
    "# ROS:\n",
    "X_train, y_train=ros.fit_resample(X_train,y_train)"
   ]
  },
  {
   "cell_type": "code",
   "execution_count": 11,
   "metadata": {},
   "outputs": [
    {
     "data": {
      "text/plain": [
       "DecisionTreeClassifier(max_depth=10, random_state=1)"
      ]
     },
     "execution_count": 11,
     "metadata": {},
     "output_type": "execute_result"
    }
   ],
   "source": [
    "# Según el aporte de información con el criterio gini de un arbol de decisión\n",
    "fs = DecisionTreeClassifier(criterion='gini', max_depth=10, random_state=1)\n",
    "fs.fit(X_train, y_train.astype(int))"
   ]
  },
  {
   "cell_type": "code",
   "execution_count": 12,
   "metadata": {},
   "outputs": [],
   "source": [
    "var_num = 30\n",
    "table = pd.DataFrame({'Tags': features.columns, 'Value': fs.feature_importances_})\n",
    "table['Abs_Value'] = table['Value'].abs()\n",
    "table = table[table['Abs_Value']>0].sort_values(by='Abs_Value', ascending=False, ignore_index=True)\n",
    "tree_fs = table.loc[:var_num, 'Tags'].to_list()"
   ]
  },
  {
   "cell_type": "code",
   "execution_count": 13,
   "metadata": {},
   "outputs": [
    {
     "data": {
      "application/vnd.plotly.v1+json": {
       "config": {
        "plotlyServerURL": "https://plot.ly"
       },
       "data": [
        {
         "type": "bar",
         "x": [
          "E-F",
          "D-F",
          "C-C",
          "A-K",
          "A-G",
          "num_comunicaciones",
          "Recency",
          "Positivo",
          "B",
          "Monto",
          "Periodicity",
          "Profesion",
          "lec_B-B",
          "Negativo",
          "G-K",
          "Renta",
          "F-I",
          "Edad",
          "Frequency",
          "F-D",
          "lec_A-A",
          "Comuna",
          "Sin Info",
          "Length",
          "Ciudad",
          "F-J",
          "Duracion_Campaña",
          "Principalidad",
          "F-H",
          "lec_C-D",
          "C",
          "lec_D-E",
          "A-L",
          "Estado_civil",
          "Sexo",
          "Segmento_consumidor",
          "Recibe_sueldo_en_cuenta",
          "lec_E-E",
          "Meses_antiguedad"
         ],
         "y": [
          0.20381630306925602,
          0.170635117646531,
          0.16500059083201055,
          0.08491194794603041,
          0.03459714101643707,
          0.03104394013554979,
          0.024800374022072844,
          0.023237183459386777,
          0.018941836896003733,
          0.016715069392922725,
          0.01663808517094181,
          0.016322844246306305,
          0.012738579210573541,
          0.012447181265466884,
          0.011734047053752255,
          0.011504452466936349,
          0.011118215607170941,
          0.01097526443515045,
          0.010414991576711363,
          0.010355461718786343,
          0.009959216722785245,
          0.009378071291426107,
          0.00890348204250777,
          0.00889816037791252,
          0.008306831633338684,
          0.008187723987331029,
          0.007677367194799242,
          0.007289311772920867,
          0.006348640718360681,
          0.0055574736664913485,
          0.0053682439202584874,
          0.004782833940264972,
          0.004687978717529038,
          0.002713630326745628,
          0.0015426526447210524,
          0.0008470884917099188,
          0.0005877268085294807,
          0.0005196529304323506,
          0.000495285643938399
         ]
        }
       ],
       "layout": {
        "template": {
         "data": {
          "bar": [
           {
            "error_x": {
             "color": "#2a3f5f"
            },
            "error_y": {
             "color": "#2a3f5f"
            },
            "marker": {
             "line": {
              "color": "#E5ECF6",
              "width": 0.5
             },
             "pattern": {
              "fillmode": "overlay",
              "size": 10,
              "solidity": 0.2
             }
            },
            "type": "bar"
           }
          ],
          "barpolar": [
           {
            "marker": {
             "line": {
              "color": "#E5ECF6",
              "width": 0.5
             },
             "pattern": {
              "fillmode": "overlay",
              "size": 10,
              "solidity": 0.2
             }
            },
            "type": "barpolar"
           }
          ],
          "carpet": [
           {
            "aaxis": {
             "endlinecolor": "#2a3f5f",
             "gridcolor": "white",
             "linecolor": "white",
             "minorgridcolor": "white",
             "startlinecolor": "#2a3f5f"
            },
            "baxis": {
             "endlinecolor": "#2a3f5f",
             "gridcolor": "white",
             "linecolor": "white",
             "minorgridcolor": "white",
             "startlinecolor": "#2a3f5f"
            },
            "type": "carpet"
           }
          ],
          "choropleth": [
           {
            "colorbar": {
             "outlinewidth": 0,
             "ticks": ""
            },
            "type": "choropleth"
           }
          ],
          "contour": [
           {
            "colorbar": {
             "outlinewidth": 0,
             "ticks": ""
            },
            "colorscale": [
             [
              0,
              "#0d0887"
             ],
             [
              0.1111111111111111,
              "#46039f"
             ],
             [
              0.2222222222222222,
              "#7201a8"
             ],
             [
              0.3333333333333333,
              "#9c179e"
             ],
             [
              0.4444444444444444,
              "#bd3786"
             ],
             [
              0.5555555555555556,
              "#d8576b"
             ],
             [
              0.6666666666666666,
              "#ed7953"
             ],
             [
              0.7777777777777778,
              "#fb9f3a"
             ],
             [
              0.8888888888888888,
              "#fdca26"
             ],
             [
              1,
              "#f0f921"
             ]
            ],
            "type": "contour"
           }
          ],
          "contourcarpet": [
           {
            "colorbar": {
             "outlinewidth": 0,
             "ticks": ""
            },
            "type": "contourcarpet"
           }
          ],
          "heatmap": [
           {
            "colorbar": {
             "outlinewidth": 0,
             "ticks": ""
            },
            "colorscale": [
             [
              0,
              "#0d0887"
             ],
             [
              0.1111111111111111,
              "#46039f"
             ],
             [
              0.2222222222222222,
              "#7201a8"
             ],
             [
              0.3333333333333333,
              "#9c179e"
             ],
             [
              0.4444444444444444,
              "#bd3786"
             ],
             [
              0.5555555555555556,
              "#d8576b"
             ],
             [
              0.6666666666666666,
              "#ed7953"
             ],
             [
              0.7777777777777778,
              "#fb9f3a"
             ],
             [
              0.8888888888888888,
              "#fdca26"
             ],
             [
              1,
              "#f0f921"
             ]
            ],
            "type": "heatmap"
           }
          ],
          "heatmapgl": [
           {
            "colorbar": {
             "outlinewidth": 0,
             "ticks": ""
            },
            "colorscale": [
             [
              0,
              "#0d0887"
             ],
             [
              0.1111111111111111,
              "#46039f"
             ],
             [
              0.2222222222222222,
              "#7201a8"
             ],
             [
              0.3333333333333333,
              "#9c179e"
             ],
             [
              0.4444444444444444,
              "#bd3786"
             ],
             [
              0.5555555555555556,
              "#d8576b"
             ],
             [
              0.6666666666666666,
              "#ed7953"
             ],
             [
              0.7777777777777778,
              "#fb9f3a"
             ],
             [
              0.8888888888888888,
              "#fdca26"
             ],
             [
              1,
              "#f0f921"
             ]
            ],
            "type": "heatmapgl"
           }
          ],
          "histogram": [
           {
            "marker": {
             "pattern": {
              "fillmode": "overlay",
              "size": 10,
              "solidity": 0.2
             }
            },
            "type": "histogram"
           }
          ],
          "histogram2d": [
           {
            "colorbar": {
             "outlinewidth": 0,
             "ticks": ""
            },
            "colorscale": [
             [
              0,
              "#0d0887"
             ],
             [
              0.1111111111111111,
              "#46039f"
             ],
             [
              0.2222222222222222,
              "#7201a8"
             ],
             [
              0.3333333333333333,
              "#9c179e"
             ],
             [
              0.4444444444444444,
              "#bd3786"
             ],
             [
              0.5555555555555556,
              "#d8576b"
             ],
             [
              0.6666666666666666,
              "#ed7953"
             ],
             [
              0.7777777777777778,
              "#fb9f3a"
             ],
             [
              0.8888888888888888,
              "#fdca26"
             ],
             [
              1,
              "#f0f921"
             ]
            ],
            "type": "histogram2d"
           }
          ],
          "histogram2dcontour": [
           {
            "colorbar": {
             "outlinewidth": 0,
             "ticks": ""
            },
            "colorscale": [
             [
              0,
              "#0d0887"
             ],
             [
              0.1111111111111111,
              "#46039f"
             ],
             [
              0.2222222222222222,
              "#7201a8"
             ],
             [
              0.3333333333333333,
              "#9c179e"
             ],
             [
              0.4444444444444444,
              "#bd3786"
             ],
             [
              0.5555555555555556,
              "#d8576b"
             ],
             [
              0.6666666666666666,
              "#ed7953"
             ],
             [
              0.7777777777777778,
              "#fb9f3a"
             ],
             [
              0.8888888888888888,
              "#fdca26"
             ],
             [
              1,
              "#f0f921"
             ]
            ],
            "type": "histogram2dcontour"
           }
          ],
          "mesh3d": [
           {
            "colorbar": {
             "outlinewidth": 0,
             "ticks": ""
            },
            "type": "mesh3d"
           }
          ],
          "parcoords": [
           {
            "line": {
             "colorbar": {
              "outlinewidth": 0,
              "ticks": ""
             }
            },
            "type": "parcoords"
           }
          ],
          "pie": [
           {
            "automargin": true,
            "type": "pie"
           }
          ],
          "scatter": [
           {
            "marker": {
             "colorbar": {
              "outlinewidth": 0,
              "ticks": ""
             }
            },
            "type": "scatter"
           }
          ],
          "scatter3d": [
           {
            "line": {
             "colorbar": {
              "outlinewidth": 0,
              "ticks": ""
             }
            },
            "marker": {
             "colorbar": {
              "outlinewidth": 0,
              "ticks": ""
             }
            },
            "type": "scatter3d"
           }
          ],
          "scattercarpet": [
           {
            "marker": {
             "colorbar": {
              "outlinewidth": 0,
              "ticks": ""
             }
            },
            "type": "scattercarpet"
           }
          ],
          "scattergeo": [
           {
            "marker": {
             "colorbar": {
              "outlinewidth": 0,
              "ticks": ""
             }
            },
            "type": "scattergeo"
           }
          ],
          "scattergl": [
           {
            "marker": {
             "colorbar": {
              "outlinewidth": 0,
              "ticks": ""
             }
            },
            "type": "scattergl"
           }
          ],
          "scattermapbox": [
           {
            "marker": {
             "colorbar": {
              "outlinewidth": 0,
              "ticks": ""
             }
            },
            "type": "scattermapbox"
           }
          ],
          "scatterpolar": [
           {
            "marker": {
             "colorbar": {
              "outlinewidth": 0,
              "ticks": ""
             }
            },
            "type": "scatterpolar"
           }
          ],
          "scatterpolargl": [
           {
            "marker": {
             "colorbar": {
              "outlinewidth": 0,
              "ticks": ""
             }
            },
            "type": "scatterpolargl"
           }
          ],
          "scatterternary": [
           {
            "marker": {
             "colorbar": {
              "outlinewidth": 0,
              "ticks": ""
             }
            },
            "type": "scatterternary"
           }
          ],
          "surface": [
           {
            "colorbar": {
             "outlinewidth": 0,
             "ticks": ""
            },
            "colorscale": [
             [
              0,
              "#0d0887"
             ],
             [
              0.1111111111111111,
              "#46039f"
             ],
             [
              0.2222222222222222,
              "#7201a8"
             ],
             [
              0.3333333333333333,
              "#9c179e"
             ],
             [
              0.4444444444444444,
              "#bd3786"
             ],
             [
              0.5555555555555556,
              "#d8576b"
             ],
             [
              0.6666666666666666,
              "#ed7953"
             ],
             [
              0.7777777777777778,
              "#fb9f3a"
             ],
             [
              0.8888888888888888,
              "#fdca26"
             ],
             [
              1,
              "#f0f921"
             ]
            ],
            "type": "surface"
           }
          ],
          "table": [
           {
            "cells": {
             "fill": {
              "color": "#EBF0F8"
             },
             "line": {
              "color": "white"
             }
            },
            "header": {
             "fill": {
              "color": "#C8D4E3"
             },
             "line": {
              "color": "white"
             }
            },
            "type": "table"
           }
          ]
         },
         "layout": {
          "annotationdefaults": {
           "arrowcolor": "#2a3f5f",
           "arrowhead": 0,
           "arrowwidth": 1
          },
          "autotypenumbers": "strict",
          "coloraxis": {
           "colorbar": {
            "outlinewidth": 0,
            "ticks": ""
           }
          },
          "colorscale": {
           "diverging": [
            [
             0,
             "#8e0152"
            ],
            [
             0.1,
             "#c51b7d"
            ],
            [
             0.2,
             "#de77ae"
            ],
            [
             0.3,
             "#f1b6da"
            ],
            [
             0.4,
             "#fde0ef"
            ],
            [
             0.5,
             "#f7f7f7"
            ],
            [
             0.6,
             "#e6f5d0"
            ],
            [
             0.7,
             "#b8e186"
            ],
            [
             0.8,
             "#7fbc41"
            ],
            [
             0.9,
             "#4d9221"
            ],
            [
             1,
             "#276419"
            ]
           ],
           "sequential": [
            [
             0,
             "#0d0887"
            ],
            [
             0.1111111111111111,
             "#46039f"
            ],
            [
             0.2222222222222222,
             "#7201a8"
            ],
            [
             0.3333333333333333,
             "#9c179e"
            ],
            [
             0.4444444444444444,
             "#bd3786"
            ],
            [
             0.5555555555555556,
             "#d8576b"
            ],
            [
             0.6666666666666666,
             "#ed7953"
            ],
            [
             0.7777777777777778,
             "#fb9f3a"
            ],
            [
             0.8888888888888888,
             "#fdca26"
            ],
            [
             1,
             "#f0f921"
            ]
           ],
           "sequentialminus": [
            [
             0,
             "#0d0887"
            ],
            [
             0.1111111111111111,
             "#46039f"
            ],
            [
             0.2222222222222222,
             "#7201a8"
            ],
            [
             0.3333333333333333,
             "#9c179e"
            ],
            [
             0.4444444444444444,
             "#bd3786"
            ],
            [
             0.5555555555555556,
             "#d8576b"
            ],
            [
             0.6666666666666666,
             "#ed7953"
            ],
            [
             0.7777777777777778,
             "#fb9f3a"
            ],
            [
             0.8888888888888888,
             "#fdca26"
            ],
            [
             1,
             "#f0f921"
            ]
           ]
          },
          "colorway": [
           "#636efa",
           "#EF553B",
           "#00cc96",
           "#ab63fa",
           "#FFA15A",
           "#19d3f3",
           "#FF6692",
           "#B6E880",
           "#FF97FF",
           "#FECB52"
          ],
          "font": {
           "color": "#2a3f5f"
          },
          "geo": {
           "bgcolor": "white",
           "lakecolor": "white",
           "landcolor": "#E5ECF6",
           "showlakes": true,
           "showland": true,
           "subunitcolor": "white"
          },
          "hoverlabel": {
           "align": "left"
          },
          "hovermode": "closest",
          "mapbox": {
           "style": "light"
          },
          "paper_bgcolor": "white",
          "plot_bgcolor": "#E5ECF6",
          "polar": {
           "angularaxis": {
            "gridcolor": "white",
            "linecolor": "white",
            "ticks": ""
           },
           "bgcolor": "#E5ECF6",
           "radialaxis": {
            "gridcolor": "white",
            "linecolor": "white",
            "ticks": ""
           }
          },
          "scene": {
           "xaxis": {
            "backgroundcolor": "#E5ECF6",
            "gridcolor": "white",
            "gridwidth": 2,
            "linecolor": "white",
            "showbackground": true,
            "ticks": "",
            "zerolinecolor": "white"
           },
           "yaxis": {
            "backgroundcolor": "#E5ECF6",
            "gridcolor": "white",
            "gridwidth": 2,
            "linecolor": "white",
            "showbackground": true,
            "ticks": "",
            "zerolinecolor": "white"
           },
           "zaxis": {
            "backgroundcolor": "#E5ECF6",
            "gridcolor": "white",
            "gridwidth": 2,
            "linecolor": "white",
            "showbackground": true,
            "ticks": "",
            "zerolinecolor": "white"
           }
          },
          "shapedefaults": {
           "line": {
            "color": "#2a3f5f"
           }
          },
          "ternary": {
           "aaxis": {
            "gridcolor": "white",
            "linecolor": "white",
            "ticks": ""
           },
           "baxis": {
            "gridcolor": "white",
            "linecolor": "white",
            "ticks": ""
           },
           "bgcolor": "#E5ECF6",
           "caxis": {
            "gridcolor": "white",
            "linecolor": "white",
            "ticks": ""
           }
          },
          "title": {
           "x": 0.05
          },
          "xaxis": {
           "automargin": true,
           "gridcolor": "white",
           "linecolor": "white",
           "ticks": "",
           "title": {
            "standoff": 15
           },
           "zerolinecolor": "white",
           "zerolinewidth": 2
          },
          "yaxis": {
           "automargin": true,
           "gridcolor": "white",
           "linecolor": "white",
           "ticks": "",
           "title": {
            "standoff": 15
           },
           "zerolinecolor": "white",
           "zerolinewidth": 2
          }
         }
        },
        "title": {
         "text": "Importancia de variables"
        }
       }
      }
     },
     "metadata": {},
     "output_type": "display_data"
    }
   ],
   "source": [
    "# Plot\n",
    "fig = go.Figure([go.Bar(x=table[\"Tags\"], y=table[\"Abs_Value\"])])\n",
    "\n",
    "fig.update_layout(\n",
    "    title_text=\"Importancia de variables\",\n",
    ")\n",
    "\n",
    "fig.show()"
   ]
  },
  {
   "cell_type": "markdown",
   "metadata": {},
   "source": [
    " **Matriz de correlación**"
   ]
  },
  {
   "cell_type": "code",
   "execution_count": 14,
   "metadata": {},
   "outputs": [],
   "source": [
    "correlation=(X_train.join(y_train)).corr()"
   ]
  },
  {
   "cell_type": "code",
   "execution_count": 15,
   "metadata": {},
   "outputs": [],
   "source": [
    "aux_corr=pd.DataFrame(correlation[\"Target\"].sort_values(ascending=False)).query(\"index!='Target'\")"
   ]
  },
  {
   "cell_type": "code",
   "execution_count": 16,
   "metadata": {},
   "outputs": [
    {
     "data": {
      "text/html": [
       "<div>\n",
       "<style scoped>\n",
       "    .dataframe tbody tr th:only-of-type {\n",
       "        vertical-align: middle;\n",
       "    }\n",
       "\n",
       "    .dataframe tbody tr th {\n",
       "        vertical-align: top;\n",
       "    }\n",
       "\n",
       "    .dataframe thead th {\n",
       "        text-align: right;\n",
       "    }\n",
       "</style>\n",
       "<table border=\"1\" class=\"dataframe\">\n",
       "  <thead>\n",
       "    <tr style=\"text-align: right;\">\n",
       "      <th></th>\n",
       "      <th>Target</th>\n",
       "    </tr>\n",
       "  </thead>\n",
       "  <tbody>\n",
       "    <tr>\n",
       "      <th>C-C</th>\n",
       "      <td>0.176361</td>\n",
       "    </tr>\n",
       "    <tr>\n",
       "      <th>Positivo</th>\n",
       "      <td>0.158486</td>\n",
       "    </tr>\n",
       "    <tr>\n",
       "      <th>D-F</th>\n",
       "      <td>0.149808</td>\n",
       "    </tr>\n",
       "    <tr>\n",
       "      <th>Principalidad</th>\n",
       "      <td>0.122645</td>\n",
       "    </tr>\n",
       "    <tr>\n",
       "      <th>Ciudad</th>\n",
       "      <td>0.115978</td>\n",
       "    </tr>\n",
       "    <tr>\n",
       "      <th>A-K</th>\n",
       "      <td>0.110405</td>\n",
       "    </tr>\n",
       "    <tr>\n",
       "      <th>lec_C-D</th>\n",
       "      <td>0.103330</td>\n",
       "    </tr>\n",
       "    <tr>\n",
       "      <th>num_comunicaciones</th>\n",
       "      <td>0.093075</td>\n",
       "    </tr>\n",
       "    <tr>\n",
       "      <th>B</th>\n",
       "      <td>0.087074</td>\n",
       "    </tr>\n",
       "    <tr>\n",
       "      <th>Frequency</th>\n",
       "      <td>0.081547</td>\n",
       "    </tr>\n",
       "    <tr>\n",
       "      <th>Length</th>\n",
       "      <td>0.077838</td>\n",
       "    </tr>\n",
       "    <tr>\n",
       "      <th>C</th>\n",
       "      <td>0.077183</td>\n",
       "    </tr>\n",
       "    <tr>\n",
       "      <th>A-G</th>\n",
       "      <td>0.070749</td>\n",
       "    </tr>\n",
       "    <tr>\n",
       "      <th>Sin Info</th>\n",
       "      <td>0.070749</td>\n",
       "    </tr>\n",
       "    <tr>\n",
       "      <th>Negativo</th>\n",
       "      <td>0.070552</td>\n",
       "    </tr>\n",
       "    <tr>\n",
       "      <th>F-I</th>\n",
       "      <td>0.065279</td>\n",
       "    </tr>\n",
       "    <tr>\n",
       "      <th>Recency</th>\n",
       "      <td>0.061060</td>\n",
       "    </tr>\n",
       "    <tr>\n",
       "      <th>F-J</th>\n",
       "      <td>0.060730</td>\n",
       "    </tr>\n",
       "    <tr>\n",
       "      <th>lec_B-B</th>\n",
       "      <td>0.058799</td>\n",
       "    </tr>\n",
       "    <tr>\n",
       "      <th>Monto</th>\n",
       "      <td>0.055914</td>\n",
       "    </tr>\n",
       "    <tr>\n",
       "      <th>Duracion_Campaña</th>\n",
       "      <td>0.055758</td>\n",
       "    </tr>\n",
       "    <tr>\n",
       "      <th>Segmento_consumidor</th>\n",
       "      <td>0.038488</td>\n",
       "    </tr>\n",
       "    <tr>\n",
       "      <th>F-D</th>\n",
       "      <td>0.023566</td>\n",
       "    </tr>\n",
       "    <tr>\n",
       "      <th>lec_A-A</th>\n",
       "      <td>0.023492</td>\n",
       "    </tr>\n",
       "    <tr>\n",
       "      <th>lec_E-E</th>\n",
       "      <td>0.021818</td>\n",
       "    </tr>\n",
       "    <tr>\n",
       "      <th>F-H</th>\n",
       "      <td>0.017866</td>\n",
       "    </tr>\n",
       "    <tr>\n",
       "      <th>lec_D-E</th>\n",
       "      <td>0.011746</td>\n",
       "    </tr>\n",
       "    <tr>\n",
       "      <th>Recibe_sueldo_en_cuenta</th>\n",
       "      <td>0.009194</td>\n",
       "    </tr>\n",
       "    <tr>\n",
       "      <th>Renta</th>\n",
       "      <td>0.004422</td>\n",
       "    </tr>\n",
       "    <tr>\n",
       "      <th>Meses_antiguedad</th>\n",
       "      <td>-0.013229</td>\n",
       "    </tr>\n",
       "    <tr>\n",
       "      <th>Estado_civil</th>\n",
       "      <td>-0.013562</td>\n",
       "    </tr>\n",
       "    <tr>\n",
       "      <th>Periodicity</th>\n",
       "      <td>-0.015383</td>\n",
       "    </tr>\n",
       "    <tr>\n",
       "      <th>Sexo</th>\n",
       "      <td>-0.017573</td>\n",
       "    </tr>\n",
       "    <tr>\n",
       "      <th>Edad</th>\n",
       "      <td>-0.022887</td>\n",
       "    </tr>\n",
       "    <tr>\n",
       "      <th>Profesion</th>\n",
       "      <td>-0.023690</td>\n",
       "    </tr>\n",
       "    <tr>\n",
       "      <th>A-L</th>\n",
       "      <td>-0.024553</td>\n",
       "    </tr>\n",
       "    <tr>\n",
       "      <th>Comuna</th>\n",
       "      <td>-0.027572</td>\n",
       "    </tr>\n",
       "    <tr>\n",
       "      <th>G-K</th>\n",
       "      <td>-0.032447</td>\n",
       "    </tr>\n",
       "    <tr>\n",
       "      <th>E-F</th>\n",
       "      <td>-0.082940</td>\n",
       "    </tr>\n",
       "  </tbody>\n",
       "</table>\n",
       "</div>"
      ],
      "text/plain": [
       "                           Target\n",
       "C-C                      0.176361\n",
       "Positivo                 0.158486\n",
       "D-F                      0.149808\n",
       "Principalidad            0.122645\n",
       "Ciudad                   0.115978\n",
       "A-K                      0.110405\n",
       "lec_C-D                  0.103330\n",
       "num_comunicaciones       0.093075\n",
       "B                        0.087074\n",
       "Frequency                0.081547\n",
       "Length                   0.077838\n",
       "C                        0.077183\n",
       "A-G                      0.070749\n",
       "Sin Info                 0.070749\n",
       "Negativo                 0.070552\n",
       "F-I                      0.065279\n",
       "Recency                  0.061060\n",
       "F-J                      0.060730\n",
       "lec_B-B                  0.058799\n",
       "Monto                    0.055914\n",
       "Duracion_Campaña         0.055758\n",
       "Segmento_consumidor      0.038488\n",
       "F-D                      0.023566\n",
       "lec_A-A                  0.023492\n",
       "lec_E-E                  0.021818\n",
       "F-H                      0.017866\n",
       "lec_D-E                  0.011746\n",
       "Recibe_sueldo_en_cuenta  0.009194\n",
       "Renta                    0.004422\n",
       "Meses_antiguedad        -0.013229\n",
       "Estado_civil            -0.013562\n",
       "Periodicity             -0.015383\n",
       "Sexo                    -0.017573\n",
       "Edad                    -0.022887\n",
       "Profesion               -0.023690\n",
       "A-L                     -0.024553\n",
       "Comuna                  -0.027572\n",
       "G-K                     -0.032447\n",
       "E-F                     -0.082940"
      ]
     },
     "execution_count": 16,
     "metadata": {},
     "output_type": "execute_result"
    }
   ],
   "source": [
    "aux_corr"
   ]
  },
  {
   "cell_type": "code",
   "execution_count": 17,
   "metadata": {},
   "outputs": [
    {
     "data": {
      "text/plain": [
       "Index(['C-C', 'Positivo', 'D-F', 'Principalidad', 'Ciudad', 'A-K', 'lec_C-D'], dtype='object')"
      ]
     },
     "execution_count": 17,
     "metadata": {},
     "output_type": "execute_result"
    }
   ],
   "source": [
    "aux_corr.query(\"Target>0.1 and index!='Target'\").index"
   ]
  },
  {
   "cell_type": "code",
   "execution_count": 18,
   "metadata": {},
   "outputs": [
    {
     "data": {
      "application/vnd.plotly.v1+json": {
       "config": {
        "plotlyServerURL": "https://plot.ly"
       },
       "data": [
        {
         "coloraxis": "coloraxis",
         "hovertemplate": "x: %{x}<br>y: %{y}<br>Correlation: %{z}<extra></extra>",
         "name": "0",
         "type": "heatmap",
         "x": [
          "Duracion_Campaña",
          "B",
          "C",
          "lec_B-B",
          "lec_E-E",
          "lec_D-E",
          "lec_C-D",
          "lec_A-A",
          "num_comunicaciones",
          "Length",
          "Monto",
          "Frequency",
          "Periodicity",
          "Recency",
          "F-D",
          "F-H",
          "F-I",
          "F-J",
          "G-K",
          "A-G",
          "A-K",
          "C-C",
          "D-F",
          "E-F",
          "A-L",
          "Positivo",
          "Negativo",
          "Sin Info",
          "Edad",
          "Sexo",
          "Renta",
          "Recibe_sueldo_en_cuenta",
          "Segmento_consumidor",
          "Meses_antiguedad",
          "Comuna",
          "Ciudad",
          "Estado_civil",
          "Principalidad",
          "Profesion"
         ],
         "xaxis": "x",
         "y": [
          "Duracion_Campaña",
          "B",
          "C",
          "lec_B-B",
          "lec_E-E",
          "lec_D-E",
          "lec_C-D",
          "lec_A-A",
          "num_comunicaciones",
          "Length",
          "Monto",
          "Frequency",
          "Periodicity",
          "Recency",
          "F-D",
          "F-H",
          "F-I",
          "F-J",
          "G-K",
          "A-G",
          "A-K",
          "C-C",
          "D-F",
          "E-F",
          "A-L",
          "Positivo",
          "Negativo",
          "Sin Info",
          "Edad",
          "Sexo",
          "Renta",
          "Recibe_sueldo_en_cuenta",
          "Segmento_consumidor",
          "Meses_antiguedad",
          "Comuna",
          "Ciudad",
          "Estado_civil",
          "Principalidad",
          "Profesion"
         ],
         "yaxis": "y",
         "z": [
          [
           1,
           0.40119517953270595,
           0.1820062660732244,
           0.13959956377826815,
           0.0944022226013553,
           0.0999266609385733,
           0.11435707606397205,
           0.16869136924041941,
           0.27816392757773867,
           0.04330198349147039,
           0.018636579490637635,
           0.023076188871145986,
           0.009252437518306065,
           0.019956826886679303,
           -0.012405158359351718,
           0.028138309172226126,
           0.032416589381911415,
           0.04571854246491521,
           -0.011956026218664765,
           -0.010949798648699086,
           0.034633492231886956,
           0.09087206706339061,
           0.016546874348648117,
           -0.012923148502661234,
           -0.13064115235592433,
           0.026769629176596952,
           0.023058290004363147,
           -0.010949798648699086,
           -0.008631706246837175,
           0.017194515412358183,
           0.018666684454328623,
           0.048094045236881246,
           0.017206286406872783,
           -0.001292446917540122,
           -0.040287593892613556,
           0.02131921087814185,
           -0.0070665059524065415,
           0.012800053356484343,
           -0.011031858806242245
          ],
          [
           0.40119517953270595,
           1,
           0.13736693823022275,
           0.11928319635263096,
           0.06560799643878999,
           0.07955094033519386,
           0.12684612251421679,
           0.3201553802360364,
           0.419330904281945,
           0.09069674078118407,
           0.07586904902091522,
           0.04538958299683091,
           0.0132019834332614,
           0.07573020011845805,
           -0.027122920186191946,
           0.04354415030221711,
           0.06504451953710975,
           0.10427363720391737,
           -0.0021216921754763224,
           -0.04361976007019705,
           0.04187078691921932,
           0.24463302649242988,
           0.011924000758447682,
           -0.0013529713047396425,
           -0.2228964176910657,
           0.10013247446311906,
           0.043428794677718985,
           -0.04361976007019705,
           0.002980514556944552,
           -0.017873511563101293,
           0.019542891412438774,
           0.08385506610512294,
           -0.041830243804020124,
           -0.011025041955285019,
           -0.06701218232574485,
           0.030480773544617513,
           0.003476753776825871,
           -0.0032369124048504875,
           -0.0363129042777857
          ],
          [
           0.1820062660732244,
           0.13736693823022275,
           1,
           0.8279842948157065,
           0.5617102634711488,
           0.5702448903358258,
           0.5635511505185913,
           0.19304516523923063,
           0.3290737907064097,
           0.055525257365548225,
           0.025831147805027117,
           0.09996715273086823,
           -0.06095060022935918,
           0.06824792838295002,
           0.05872113394434611,
           0.04181299453361949,
           0.09054044469160635,
           0.06905595301339146,
           -0.03659846461374818,
           0.08569333306072212,
           0.14323071264291445,
           0.09830151393740465,
           0.09839815548715623,
           0.0008524747544884112,
           -0.051088718603976346,
           0.12010590579304666,
           0.09162685237414721,
           0.08569333306072212,
           -0.0767569199635559,
           0.04457921519074265,
           0.033244568041062,
           -0.0008468570108632388,
           0.08122849302545544,
           -0.027500091053648885,
           -0.0578387774745071,
           0.008373203328335344,
           -0.03669992934733365,
           0.0454209805251521,
           -0.041528953463461964
          ],
          [
           0.13959956377826815,
           0.11928319635263096,
           0.8279842948157065,
           1,
           0.45388924753441556,
           0.44321370397196846,
           0.40388472888112026,
           0.18636167554983002,
           0.37655154631814003,
           0.09604293341371463,
           0.005600703988264713,
           0.11571088719323906,
           -0.055997167107485805,
           0.1354150427001756,
           0.05036084312280631,
           0.05185732137226947,
           0.1253893357304268,
           0.09318802524354189,
           -0.03813877117486133,
           0.13135980172772463,
           0.16369685006285922,
           0.03910334726175075,
           0.11333882972606224,
           0.001796407159478623,
           -0.013317197367458239,
           0.1095752281608969,
           0.10614394603197189,
           0.13135980172772463,
           -0.07024341618582891,
           0.051511351840796304,
           0.03900392415086045,
           -0.004951042479805696,
           0.07852868766457896,
           -0.024222807749680355,
           -0.05725852430848871,
           -0.022432138227812672,
           -0.03625186776874155,
           0.018579125321943186,
           -0.052833250451913276
          ],
          [
           0.0944022226013553,
           0.06560799643878999,
           0.5617102634711488,
           0.45388924753441556,
           1,
           0.8957407455634449,
           0.24327980144940706,
           0.12032428789306422,
           0.09826413160330853,
           0.00019107069721584685,
           -0.000883654625398654,
           -0.027427993778303607,
           0.018192173745473304,
           -0.01594485475140868,
           0.0059792213311329915,
           -0.00013439165820194876,
           0.03087524839985453,
           -0.005291188898120463,
           -0.05086766676343882,
           -0.0062911413165169325,
           0.010925348122386727,
           0.014893647101120207,
           -0.005308516645343229,
           -0.007146185438915081,
           -0.02893383847166188,
           -0.0012753663245686675,
           -0.02833972611102999,
           -0.0062911413165169325,
           -0.008644004443285743,
           0.02564678053785227,
           -0.01251899762322564,
           -0.016728329597078016,
           0.013327685273120811,
           -0.009858283853206192,
           -0.0156728586519959,
           0.02147911108782601,
           -0.017779352563234544,
           0.03285854769870059,
           -0.002564560558823789
          ],
          [
           0.0999266609385733,
           0.07955094033519386,
           0.5702448903358258,
           0.44321370397196846,
           0.8957407455634449,
           1,
           0.23190583822390926,
           0.12829930994948527,
           0.11948096225751823,
           0.011322007618980704,
           -0.016016509103929207,
           0.017090595356820792,
           0.014646296847355274,
           0.0030360747136353302,
           0.0056534023675236115,
           0.026126557517464552,
           0.042844922736353666,
           0.02530551214606728,
           0.037806525833252114,
           0.004502955007699384,
           -0.018848583207477437,
           -0.0029463456956285612,
           -0.009024321532754736,
           -0.0009091769482343731,
           -0.03426406992851523,
           0.0010772008980877372,
           0.017604431282313912,
           0.004502955007699384,
           0.00936224707336467,
           0.019196604085978623,
           -0.015495559329502471,
           -0.005827690622685391,
           0.00894500294844507,
           -0.003887543807024883,
           -0.014583242910523278,
           0.012629619421586634,
           -0.0045525846908184495,
           0.022581969179305137,
           -0.0008735721398748118
          ],
          [
           0.11435707606397205,
           0.12684612251421679,
           0.5635511505185913,
           0.40388472888112026,
           0.24327980144940706,
           0.23190583822390926,
           1,
           0.17983483100087813,
           0.2771473198656538,
           0.0262652833839627,
           0.1041912155575169,
           0.07215811642250844,
           -0.032395774028612184,
           0.07898408041129158,
           0.08198787158257692,
           0.07172837332963325,
           0.011364494789026063,
           0.10097543139749884,
           -0.022395836083350766,
           0.006910811082391051,
           0.07525403239865404,
           0.3623520509783921,
           0.0661676493629211,
           0.03220132957075838,
           -0.10757680076702929,
           0.2525623411904935,
           0.05808009267233772,
           0.006910811082391051,
           -0.09208317004286873,
           0.009098744740935487,
           -0.00033770644037766604,
           0.03875099537136261,
           0.04062308402130075,
           -0.034362718689189144,
           -0.047535377582545585,
           0.06249481395709828,
           -0.036358711324470466,
           0.07945524507672724,
           -0.02187195297461646
          ],
          [
           0.16869136924041941,
           0.3201553802360364,
           0.19304516523923063,
           0.18636167554983002,
           0.12032428789306422,
           0.12829930994948527,
           0.17983483100087813,
           1,
           0.32347673078874073,
           0.03645870364217329,
           0.0013648679064009763,
           0.025419538190590223,
           0.0067551067361895974,
           0.02457620555155642,
           -0.05190740761413385,
           0.041204429016114166,
           0.023108621618672637,
           0.05375975457500894,
           0.021663439497930283,
           -0.045983372333077276,
           0.008409788030315515,
           0.08546911282966735,
           -0.013540959753304991,
           -0.0032844727838201074,
           -0.09050065482582005,
           0.016624636033694757,
           0.028313344243361085,
           -0.045983372333077276,
           0.04475472407151752,
           0.021296579399185098,
           0.05039202815568875,
           0.09676438468739831,
           0.02753835639403831,
           -0.005788810791611521,
           -0.02645934603259467,
           0.02636940427349967,
           -0.006804755253214137,
           0.01761688149055857,
           -0.01717372695642862
          ],
          [
           0.27816392757773867,
           0.419330904281945,
           0.3290737907064097,
           0.37655154631814003,
           0.09826413160330853,
           0.11948096225751823,
           0.2771473198656538,
           0.32347673078874073,
           1,
           0.17534469923075754,
           0.04592269727556652,
           0.17608753617420678,
           -0.027615394180370907,
           0.25708172951908626,
           0.05036223395998864,
           0.12227468550070268,
           0.0874329581590846,
           0.23064167032315921,
           0.07322854359633031,
           0.13297305139076318,
           0.11214204373127419,
           0.25637348180540454,
           0.0964937689385612,
           0.04961996546697354,
           -0.1220789196274635,
           0.24749860329147527,
           0.16001430589166063,
           0.13297305139076318,
           -0.029525285065119186,
           -0.024347820630746267,
           0.018359818704708947,
           0.10708797566111404,
           0.027963574536084307,
           -0.013063434784598614,
           -0.07374639122684211,
           0.010475497987723204,
           -0.02825609499904377,
           0.017560586298941302,
           -0.04345737651062879
          ],
          [
           0.04330198349147039,
           0.09069674078118407,
           0.055525257365548225,
           0.09604293341371463,
           0.00019107069721584685,
           0.011322007618980704,
           0.0262652833839627,
           0.03645870364217329,
           0.17534469923075754,
           1,
           0.013559653760922325,
           0.1812157068118237,
           0.46244893345343163,
           0.5616852261507831,
           0.09103985209965545,
           0.1331371726308446,
           0.12000797870823096,
           0.30148346352330313,
           0.10434444804016361,
           0.1848429703259387,
           0.09077954570239956,
           0.04990236761950719,
           0.08662188581055122,
           0.07317842476205343,
           0.04437800014056165,
           0.23425513809822368,
           0.1631970630845529,
           0.1848429703259387,
           -0.04764223514003798,
           0.02592097059197025,
           0.011075502942241716,
           0.037539817826875495,
           0.03658965288960606,
           -0.01495015161308992,
           -0.03259435232571993,
           -0.020729897290124418,
           -0.0403091096858803,
           0.007656507463723349,
           -0.05520555654993033
          ],
          [
           0.018636579490637635,
           0.07586904902091522,
           0.025831147805027117,
           0.005600703988264713,
           -0.000883654625398654,
           -0.016016509103929207,
           0.1041912155575169,
           0.0013648679064009763,
           0.04592269727556652,
           0.013559653760922325,
           1,
           -0.09319753422257027,
           0.06691295015209049,
           -0.005552396151125957,
           0.18314229457952047,
           -0.02043917111821059,
           -0.09689746809671139,
           -0.01649518516144639,
           -0.12223032310962832,
           -0.042690949065668525,
           -0.02716545590956893,
           0.253844017878768,
           -0.0017138064115583761,
           0.04061768590857189,
           -0.03299324315824017,
           0.20129425116116717,
           -0.10909005829531154,
           -0.042690949065668525,
           -0.1753655504787509,
           0.028589984556005345,
           0.05766936388025778,
           -0.05284058187509278,
           0.09015234231025065,
           -0.05134463525199224,
           -0.02170465477466597,
           0.015225580310607957,
           -0.04411681712807388,
           0.060306508720813896,
           -0.022757035208509878
          ],
          [
           0.023076188871145986,
           0.04538958299683091,
           0.09996715273086823,
           0.11571088719323906,
           -0.027427993778303607,
           0.017090595356820792,
           0.07215811642250844,
           0.025419538190590223,
           0.17608753617420678,
           0.1812157068118237,
           -0.09319753422257027,
           1,
           -0.5547915981683024,
           0.41172188284271793,
           0.1824051398235619,
           0.29371713200431454,
           0.2547726596577242,
           0.4333720843455282,
           0.6217697783643423,
           0.4200810362412266,
           0.6504277104923232,
           0.02522780086709909,
           0.3795135774678794,
           0.08570663413587666,
           0.1147336595445231,
           0.4211108640093603,
           0.9961734262799232,
           0.4200810362412266,
           0.0007434793971048039,
           0.06651382317233338,
           0.15918695244250658,
           0.13406490407141602,
           0.25613267535193013,
           -0.0474935456994681,
           -0.11903674932160858,
           -0.025965090111207123,
           -0.05336610270959029,
           0.08929277808724363,
           -0.09706181772809423
          ],
          [
           0.009252437518306065,
           0.0132019834332614,
           -0.06095060022935918,
           -0.055997167107485805,
           0.018192173745473304,
           0.014646296847355274,
           -0.032395774028612184,
           0.0067551067361895974,
           -0.027615394180370907,
           0.46244893345343163,
           0.06691295015209049,
           -0.5547915981683024,
           1,
           0.043019769811810854,
           -0.040959176296289944,
           -0.04610270320642302,
           -0.10762406325290522,
           -0.0830653490498415,
           -0.1702987707832428,
           -0.20872119463495317,
           -0.5588211494135956,
           0.030549761718146898,
           -0.26708173306435795,
           -0.01302735214566748,
           -0.04116063716278317,
           -0.12322684329256078,
           -0.561682663453645,
           -0.20872119463495317,
           -0.02066171524941728,
           -0.048175754169818244,
           -0.12058008178733255,
           -0.05648598026838715,
           -0.16650841192020327,
           0.03427998582674701,
           0.08838299522699018,
           0.011859821631675068,
           0.016605396144487056,
           -0.04694206785480079,
           0.04539607343184013
          ],
          [
           0.019956826886679303,
           0.07573020011845805,
           0.06824792838295002,
           0.1354150427001756,
           -0.01594485475140868,
           0.0030360747136353302,
           0.07898408041129158,
           0.02457620555155642,
           0.25708172951908626,
           0.5616852261507831,
           -0.005552396151125957,
           0.41172188284271793,
           0.043019769811810854,
           1,
           0.15061911141083062,
           0.23633497788535685,
           0.18699682751261648,
           0.48646197339072644,
           0.24086204103745745,
           0.3294206860992201,
           0.23471147015373858,
           0.0661142971057079,
           0.1908612872651133,
           0.1376188460073754,
           0.07700875074599646,
           0.3811527790472371,
           0.3865492949918544,
           0.3294206860992201,
           -0.08746610272034809,
           0.013026744419794513,
           0.03896335511150546,
           0.05409596862056064,
           0.06922152367528966,
           -0.036026163711238984,
           -0.10224649853164264,
           -0.07040186592867337,
           -0.06263333468979394,
           -0.011578073385523148,
           -0.11228237982500523
          ],
          [
           -0.012405158359351718,
           -0.027122920186191946,
           0.05872113394434611,
           0.05036084312280631,
           0.0059792213311329915,
           0.0056534023675236115,
           0.08198787158257692,
           -0.05190740761413385,
           0.05036223395998864,
           0.09103985209965545,
           0.18314229457952047,
           0.1824051398235619,
           -0.040959176296289944,
           0.15061911141083062,
           1,
           0.11557831357712524,
           -0.039943509545349073,
           0.18113298740135547,
           0.06779831533524665,
           0.12786602871446406,
           0.10638034029103628,
           0.06277031711121422,
           0.10006095361275348,
           0.13059189636835575,
           0.04977121260731512,
           0.6310287081126212,
           0.1407081695182578,
           0.12786602871446406,
           -0.22924147015224183,
           0.031030719359538127,
           0.0448328927946455,
           -0.09333367868977695,
           0.12319426236849451,
           -0.042143914446419364,
           -0.03663986335237809,
           -0.0021394233163766806,
           -0.07137674533479066,
           0.0715078982390573,
           -0.06498650740827178
          ],
          [
           0.028138309172226126,
           0.04354415030221711,
           0.04181299453361949,
           0.05185732137226947,
           -0.00013439165820194876,
           0.026126557517464552,
           0.07172837332963325,
           0.041204429016114166,
           0.12227468550070268,
           0.1331371726308446,
           -0.02043917111821059,
           0.29371713200431454,
           -0.04610270320642302,
           0.23633497788535685,
           0.11557831357712524,
           1,
           0.1562496319876302,
           0.41772743247072036,
           0.2907201905275919,
           0.12749564061519297,
           0.012234569298094028,
           0.01845443234460865,
           0.06456806006964014,
           0.07986741549396596,
           0.03248201478534834,
           0.2673530730191092,
           0.2825150874349809,
           0.12749564061519297,
           0.009805620194343353,
           -0.02845414173387691,
           0.02095815991711295,
           0.1072036158457934,
           0.07060704161324245,
           -0.019200937093971845,
           -0.03504015361887373,
           -0.007275704155591951,
           -0.01517892127165256,
           0.07759583243788128,
           -0.045883126033550825
          ],
          [
           0.032416589381911415,
           0.06504451953710975,
           0.09054044469160635,
           0.1253893357304268,
           0.03087524839985453,
           0.042844922736353666,
           0.011364494789026063,
           0.023108621618672637,
           0.0874329581590846,
           0.12000797870823096,
           -0.09689746809671139,
           0.2547726596577242,
           -0.10762406325290522,
           0.18699682751261648,
           -0.039943509545349073,
           0.1562496319876302,
           1,
           0.2303720520481384,
           0.011782198479749073,
           0.20152307662115318,
           0.2527823704964244,
           -0.029693653826644413,
           0.1047993961496691,
           -0.10851536807427689,
           0.09038300628994361,
           0.10132370854043612,
           0.24854180769812295,
           0.20152307662115318,
           0.1562126344069459,
           0.0021416809213788504,
           -0.013270571019924562,
           0.01493183252883306,
           -0.03458032203677342,
           0.018133627209962554,
           -0.03905020161074328,
           -0.00435903845610849,
           0.04776812972326871,
           0.020002850039929496,
           -0.005108111668223854
          ],
          [
           0.04571854246491521,
           0.10427363720391737,
           0.06905595301339146,
           0.09318802524354189,
           -0.005291188898120463,
           0.02530551214606728,
           0.10097543139749884,
           0.05375975457500894,
           0.23064167032315921,
           0.30148346352330313,
           -0.01649518516144639,
           0.4333720843455282,
           -0.0830653490498415,
           0.48646197339072644,
           0.18113298740135547,
           0.41772743247072036,
           0.2303720520481384,
           1,
           0.2963666105271314,
           0.2414545130687863,
           0.18722877352526668,
           0.05320972872903575,
           0.1544472643257024,
           0.08589067202942229,
           0.06565215031944469,
           0.5858128244255941,
           0.40055241618288384,
           0.2414545130687863,
           0.04613383168142346,
           0.0054242337762851695,
           0.026791686068995065,
           0.18817912758620267,
           0.10206227508578034,
           -0.008758042541533164,
           -0.0698816806248442,
           0.009138840047761103,
           -0.009320566785359906,
           0.07313760405417526,
           -0.0744412901527251
          ],
          [
           -0.011956026218664765,
           -0.0021216921754763224,
           -0.03659846461374818,
           -0.03813877117486133,
           -0.05086766676343882,
           0.037806525833252114,
           -0.022395836083350766,
           0.021663439497930283,
           0.07322854359633031,
           0.10434444804016361,
           -0.12223032310962832,
           0.6217697783643423,
           -0.1702987707832428,
           0.24086204103745745,
           0.06779831533524665,
           0.2907201905275919,
           0.011782198479749073,
           0.2963666105271314,
           1,
           0.08258095888996289,
           -0.1755391372790784,
           -0.08066943850121654,
           -0.010774070778909448,
           0.10403362272805507,
           0.041421369587224734,
           0.13678981187708356,
           0.638653715302969,
           0.08258095888996289,
           0.07185337855450537,
           0.001638538114972147,
           0.026986824650141558,
           0.13553042649446215,
           0.10246314269950543,
           0.003034007194797744,
           -0.030135761002157112,
           -0.0225554843659348,
           0.010056433474082626,
           0.026674790127700698,
           -0.023192083185442136
          ],
          [
           -0.010949798648699086,
           -0.04361976007019705,
           0.08569333306072212,
           0.13135980172772463,
           -0.0062911413165169325,
           0.004502955007699384,
           0.006910811082391051,
           -0.045983372333077276,
           0.13297305139076318,
           0.1848429703259387,
           -0.042690949065668525,
           0.4200810362412266,
           -0.20872119463495317,
           0.3294206860992201,
           0.12786602871446406,
           0.12749564061519297,
           0.20152307662115318,
           0.2414545130687863,
           0.08258095888996289,
           1,
           0.36995769928049355,
           -0.04436579367623365,
           0.3279756986729544,
           0.048164982145675196,
           0.20489260745015106,
           0.2777125943895981,
           0.36221311651160676,
           1,
           -0.08101280581046795,
           0.05547960836505533,
           0.10898147130607617,
           0.03250588019755846,
           0.17689479723332843,
           -0.017944496427363243,
           -0.06665506705222819,
           -0.05914115215635342,
           -0.07145240527414408,
           0.0016616389568944062,
           -0.09711133137056986
          ],
          [
           0.034633492231886956,
           0.04187078691921932,
           0.14323071264291445,
           0.16369685006285922,
           0.010925348122386727,
           -0.018848583207477437,
           0.07525403239865404,
           0.008409788030315515,
           0.11214204373127419,
           0.09077954570239956,
           -0.02716545590956893,
           0.6504277104923232,
           -0.5588211494135956,
           0.23471147015373858,
           0.10638034029103628,
           0.012234569298094028,
           0.2527823704964244,
           0.18722877352526668,
           -0.1755391372790784,
           0.36995769928049355,
           1,
           0.028148715400645584,
           0.4444219490514834,
           -0.02071643437588498,
           0.07703351382805831,
           0.27806215427449255,
           0.6418565248990287,
           0.36995769928049355,
           -0.04209784806243533,
           0.0891264635290108,
           0.1767097547397101,
           0.030419822695215523,
           0.2143583208881176,
           -0.059190308081869196,
           -0.11337328055813103,
           -0.020126274588653736,
           -0.0680937372679499,
           0.06562545872974568,
           -0.0882756246821449
          ],
          [
           0.09087206706339061,
           0.24463302649242988,
           0.09830151393740465,
           0.03910334726175075,
           0.014893647101120207,
           -0.0029463456956285612,
           0.3623520509783921,
           0.08546911282966735,
           0.25637348180540454,
           0.04990236761950719,
           0.253844017878768,
           0.02522780086709909,
           0.030549761718146898,
           0.0661142971057079,
           0.06277031711121422,
           0.01845443234460865,
           -0.029693653826644413,
           0.05320972872903575,
           -0.08066943850121654,
           -0.04436579367623365,
           0.028148715400645584,
           1,
           0.000992854809418113,
           -0.004256376964005557,
           -0.15047381839856375,
           0.5117821787910364,
           -0.005870980415797436,
           -0.044365793676233646,
           -0.15323514163661137,
           -0.07837639781666941,
           -0.05709261564429902,
           0.045234062202239564,
           -0.010475384046299269,
           -0.02588710886355138,
           -0.041907082224027316,
           0.19335948187975543,
           -0.03738957517783913,
           0.20501162467418868,
           -0.01495882982458426
          ],
          [
           0.016546874348648117,
           0.011924000758447682,
           0.09839815548715623,
           0.11333882972606224,
           -0.005308516645343229,
           -0.009024321532754736,
           0.0661676493629211,
           -0.013540959753304991,
           0.0964937689385612,
           0.08662188581055122,
           -0.0017138064115583761,
           0.3795135774678794,
           -0.26708173306435795,
           0.1908612872651133,
           0.10006095361275348,
           0.06456806006964014,
           0.1047993961496691,
           0.1544472643257024,
           -0.010774070778909448,
           0.3279756986729544,
           0.4444219490514834,
           0.000992854809418113,
           1,
           -0.045044546577024204,
           0.048590634391988186,
           0.37771698801002934,
           0.3530467997352058,
           0.32797569867295434,
           -0.12012449153890177,
           0.07265972110830239,
           0.14190525058289902,
           0.029591063116794363,
           0.18248649121208896,
           -0.05533337722051897,
           -0.08155388918136082,
           -0.06114993280766957,
           -0.07945975454749474,
           0.031013476152827298,
           -0.07257115069438858
          ],
          [
           -0.012923148502661234,
           -0.0013529713047396425,
           0.0008524747544884112,
           0.001796407159478623,
           -0.007146185438915081,
           -0.0009091769482343731,
           0.03220132957075838,
           -0.0032844727838201074,
           0.04961996546697354,
           0.07317842476205343,
           0.04061768590857189,
           0.08570663413587666,
           -0.01302735214566748,
           0.1376188460073754,
           0.13059189636835575,
           0.07986741549396596,
           -0.10851536807427689,
           0.08589067202942229,
           0.10403362272805507,
           0.048164982145675196,
           -0.02071643437588498,
           -0.004256376964005557,
           -0.045044546577024204,
           1,
           -0.007977726516590724,
           0.20927205382484643,
           0.07279819788621095,
           0.0481649821456752,
           -0.18958406550234622,
           -0.014527016815637608,
           0.04894512842165247,
           0.05170662727287785,
           0.09711636834806418,
           -0.06533128468102124,
           -0.0455744669231202,
           -0.06459417734668851,
           -0.06378824366808482,
           -0.013148573977364585,
           -0.04862937005148765
          ],
          [
           -0.13064115235592433,
           -0.2228964176910657,
           -0.051088718603976346,
           -0.013317197367458239,
           -0.02893383847166188,
           -0.03426406992851523,
           -0.10757680076702929,
           -0.09050065482582005,
           -0.1220789196274635,
           0.04437800014056165,
           -0.03299324315824017,
           0.1147336595445231,
           -0.04116063716278317,
           0.07700875074599646,
           0.04977121260731512,
           0.03248201478534834,
           0.09038300628994361,
           0.06565215031944469,
           0.041421369587224734,
           0.20489260745015106,
           0.07703351382805831,
           -0.15047381839856375,
           0.048590634391988186,
           -0.007977726516590724,
           1,
           0.25740546228134387,
           0.0905934975137243,
           0.20489260745015103,
           -0.008809308405189193,
           0.054129306015635065,
           0.0728525086686801,
           -0.006501558373752799,
           0.11084944308510049,
           0.011270936106147982,
           0.030797941959105575,
           -0.05369374557679323,
           -0.014722415172162866,
           0.01035232472343746,
           -0.02654108245677334
          ],
          [
           0.026769629176596952,
           0.10013247446311906,
           0.12010590579304666,
           0.1095752281608969,
           -0.0012753663245686675,
           0.0010772008980877372,
           0.2525623411904935,
           0.016624636033694757,
           0.24749860329147527,
           0.23425513809822368,
           0.20129425116116717,
           0.4211108640093603,
           -0.12322684329256078,
           0.3811527790472371,
           0.6310287081126212,
           0.2673530730191092,
           0.10132370854043612,
           0.5858128244255941,
           0.13678981187708356,
           0.2777125943895981,
           0.27806215427449255,
           0.5117821787910364,
           0.37771698801002934,
           0.20927205382484643,
           0.25740546228134387,
           1,
           0.3571579546173626,
           0.2777125943895981,
           -0.21484175497016456,
           0.007645970602998466,
           0.07142930808338872,
           0.07059278307320728,
           0.18625672184978936,
           -0.05399589451904446,
           -0.08469338251019627,
           0.06446805139494834,
           -0.0822749252522222,
           0.1771941514561679,
           -0.0994704291513404
          ],
          [
           0.023058290004363147,
           0.043428794677718985,
           0.09162685237414721,
           0.10614394603197189,
           -0.02833972611102999,
           0.017604431282313912,
           0.05808009267233772,
           0.028313344243361085,
           0.16001430589166063,
           0.1631970630845529,
           -0.10909005829531154,
           0.9961734262799232,
           -0.561682663453645,
           0.3865492949918544,
           0.1407081695182578,
           0.2825150874349809,
           0.24854180769812295,
           0.40055241618288384,
           0.638653715302969,
           0.36221311651160676,
           0.6418565248990287,
           -0.005870980415797436,
           0.3530467997352058,
           0.07279819788621095,
           0.0905934975137243,
           0.3571579546173626,
           1,
           0.3622131165116068,
           0.020339234741304547,
           0.06600227490439976,
           0.15575309218259326,
           0.1340117337359303,
           0.24563386859084893,
           -0.04510558428049959,
           -0.11521777040275624,
           -0.028134805973934023,
           -0.04613031154545644,
           0.08154685636402034,
           -0.08930355865377584
          ],
          [
           -0.010949798648699086,
           -0.04361976007019705,
           0.08569333306072212,
           0.13135980172772463,
           -0.0062911413165169325,
           0.004502955007699384,
           0.006910811082391051,
           -0.045983372333077276,
           0.13297305139076318,
           0.1848429703259387,
           -0.042690949065668525,
           0.4200810362412266,
           -0.20872119463495317,
           0.3294206860992201,
           0.12786602871446406,
           0.12749564061519297,
           0.20152307662115318,
           0.2414545130687863,
           0.08258095888996289,
           1,
           0.36995769928049355,
           -0.044365793676233646,
           0.32797569867295434,
           0.0481649821456752,
           0.20489260745015103,
           0.2777125943895981,
           0.3622131165116068,
           1,
           -0.08101280581046795,
           0.05547960836505533,
           0.10898147130607617,
           0.03250588019755846,
           0.17689479723332843,
           -0.017944496427363243,
           -0.06665506705222819,
           -0.05914115215635342,
           -0.07145240527414408,
           0.0016616389568944062,
           -0.09711133137056986
          ],
          [
           -0.008631706246837175,
           0.002980514556944552,
           -0.0767569199635559,
           -0.07024341618582891,
           -0.008644004443285743,
           0.00936224707336467,
           -0.09208317004286873,
           0.04475472407151752,
           -0.029525285065119186,
           -0.04764223514003798,
           -0.1753655504787509,
           0.0007434793971048039,
           -0.02066171524941728,
           -0.08746610272034809,
           -0.22924147015224183,
           0.009805620194343353,
           0.1562126344069459,
           0.04613383168142346,
           0.07185337855450537,
           -0.08101280581046795,
           -0.04209784806243533,
           -0.15323514163661137,
           -0.12012449153890177,
           -0.18958406550234622,
           -0.008809308405189193,
           -0.21484175497016456,
           0.020339234741304547,
           -0.08101280581046795,
           1,
           -0.027362925275590283,
           -0.08106220835353281,
           0.045540624547269995,
           -0.13811011801692807,
           0.1467777541324176,
           0.07296874869799112,
           0.08564989529116354,
           0.25517355792757557,
           -0.00927674998994057,
           0.057715280434884504
          ],
          [
           0.017194515412358183,
           -0.017873511563101293,
           0.04457921519074265,
           0.051511351840796304,
           0.02564678053785227,
           0.019196604085978623,
           0.009098744740935487,
           0.021296579399185098,
           -0.024347820630746267,
           0.02592097059197025,
           0.028589984556005345,
           0.06651382317233338,
           -0.048175754169818244,
           0.013026744419794513,
           0.031030719359538127,
           -0.02845414173387691,
           0.0021416809213788504,
           0.0054242337762851695,
           0.001638538114972147,
           0.05547960836505533,
           0.0891264635290108,
           -0.07837639781666941,
           0.07265972110830239,
           -0.014527016815637608,
           0.054129306015635065,
           0.007645970602998466,
           0.06600227490439976,
           0.05547960836505533,
           -0.027362925275590283,
           1,
           0.130080693277223,
           -0.003762779271680796,
           0.11182940866166172,
           -0.06256050899939311,
           0.016723966938698553,
           -0.05413536802801733,
           -0.11943074674140416,
           -0.021946106786755085,
           -0.06219633998336539
          ],
          [
           0.018666684454328623,
           0.019542891412438774,
           0.033244568041062,
           0.03900392415086045,
           -0.01251899762322564,
           -0.015495559329502471,
           -0.00033770644037766604,
           0.05039202815568875,
           0.018359818704708947,
           0.011075502942241716,
           0.05766936388025778,
           0.15918695244250658,
           -0.12058008178733255,
           0.03896335511150546,
           0.0448328927946455,
           0.02095815991711295,
           -0.013270571019924562,
           0.026791686068995065,
           0.026986824650141558,
           0.10898147130607617,
           0.1767097547397101,
           -0.05709261564429902,
           0.14190525058289902,
           0.04894512842165247,
           0.0728525086686801,
           0.07142930808338872,
           0.15575309218259326,
           0.10898147130607617,
           -0.08106220835353281,
           0.130080693277223,
           1,
           -0.013988444306241084,
           0.3446772300401899,
           -0.04864989001746545,
           -0.03917675788363712,
           -0.08008068407001041,
           -0.07361702421803319,
           -0.01928867854049546,
           -0.06531189779300121
          ],
          [
           0.048094045236881246,
           0.08385506610512294,
           -0.0008468570108632388,
           -0.004951042479805696,
           -0.016728329597078016,
           -0.005827690622685391,
           0.03875099537136261,
           0.09676438468739831,
           0.10708797566111404,
           0.037539817826875495,
           -0.05284058187509278,
           0.13406490407141602,
           -0.05648598026838715,
           0.05409596862056064,
           -0.09333367868977695,
           0.1072036158457934,
           0.01493183252883306,
           0.18817912758620267,
           0.13553042649446215,
           0.03250588019755846,
           0.030419822695215523,
           0.045234062202239564,
           0.029591063116794363,
           0.05170662727287785,
           -0.006501558373752799,
           0.07059278307320728,
           0.1340117337359303,
           0.03250588019755846,
           0.045540624547269995,
           -0.003762779271680796,
           -0.013988444306241084,
           1,
           0.033414284337358914,
           -0.016116397642085202,
           -0.004520612507660095,
           0.034984035325280896,
           0.0004902403481690996,
           -0.0015287328239071785,
           0.00848123663321006
          ],
          [
           0.017206286406872783,
           -0.041830243804020124,
           0.08122849302545544,
           0.07852868766457896,
           0.013327685273120811,
           0.00894500294844507,
           0.04062308402130075,
           0.02753835639403831,
           0.027963574536084307,
           0.03658965288960606,
           0.09015234231025065,
           0.25613267535193013,
           -0.16650841192020327,
           0.06922152367528966,
           0.12319426236849451,
           0.07060704161324245,
           -0.03458032203677342,
           0.10206227508578034,
           0.10246314269950543,
           0.17689479723332843,
           0.2143583208881176,
           -0.010475384046299269,
           0.18248649121208896,
           0.09711636834806418,
           0.11084944308510049,
           0.18625672184978936,
           0.24563386859084893,
           0.17689479723332843,
           -0.13811011801692807,
           0.11182940866166172,
           0.3446772300401899,
           0.033414284337358914,
           1,
           -0.036922951785015666,
           -0.07793436109083436,
           -0.034765291467911304,
           -0.10170526469113018,
           0.17737357297867515,
           -0.08883841205001608
          ],
          [
           -0.001292446917540122,
           -0.011025041955285019,
           -0.027500091053648885,
           -0.024222807749680355,
           -0.009858283853206192,
           -0.003887543807024883,
           -0.034362718689189144,
           -0.005788810791611521,
           -0.013063434784598614,
           -0.01495015161308992,
           -0.05134463525199224,
           -0.0474935456994681,
           0.03427998582674701,
           -0.036026163711238984,
           -0.042143914446419364,
           -0.019200937093971845,
           0.018133627209962554,
           -0.008758042541533164,
           0.003034007194797744,
           -0.017944496427363243,
           -0.059190308081869196,
           -0.02588710886355138,
           -0.05533337722051897,
           -0.06533128468102124,
           0.011270936106147982,
           -0.05399589451904446,
           -0.04510558428049959,
           -0.017944496427363243,
           0.1467777541324176,
           -0.06256050899939311,
           -0.04864989001746545,
           -0.016116397642085202,
           -0.036922951785015666,
           1,
           0.021514361512804957,
           0.011015538665552736,
           0.11273981532525752,
           -0.006598505119213407,
           0.015596230837535521
          ],
          [
           -0.040287593892613556,
           -0.06701218232574485,
           -0.0578387774745071,
           -0.05725852430848871,
           -0.0156728586519959,
           -0.014583242910523278,
           -0.047535377582545585,
           -0.02645934603259467,
           -0.07374639122684211,
           -0.03259435232571993,
           -0.02170465477466597,
           -0.11903674932160858,
           0.08838299522699018,
           -0.10224649853164264,
           -0.03663986335237809,
           -0.03504015361887373,
           -0.03905020161074328,
           -0.0698816806248442,
           -0.030135761002157112,
           -0.06665506705222819,
           -0.11337328055813103,
           -0.041907082224027316,
           -0.08155388918136082,
           -0.0455744669231202,
           0.030797941959105575,
           -0.08469338251019627,
           -0.11521777040275624,
           -0.06665506705222819,
           0.07296874869799112,
           0.016723966938698553,
           -0.03917675788363712,
           -0.004520612507660095,
           -0.07793436109083436,
           0.021514361512804957,
           1,
           0.1048134515582354,
           0.008607061204640028,
           -0.009103753909209627,
           0.031149349034198782
          ],
          [
           0.02131921087814185,
           0.030480773544617513,
           0.008373203328335344,
           -0.022432138227812672,
           0.02147911108782601,
           0.012629619421586634,
           0.06249481395709828,
           0.02636940427349967,
           0.010475497987723204,
           -0.020729897290124418,
           0.015225580310607957,
           -0.025965090111207123,
           0.011859821631675068,
           -0.07040186592867337,
           -0.0021394233163766806,
           -0.007275704155591951,
           -0.00435903845610849,
           0.009138840047761103,
           -0.0225554843659348,
           -0.05914115215635342,
           -0.020126274588653736,
           0.19335948187975543,
           -0.06114993280766957,
           -0.06459417734668851,
           -0.05369374557679323,
           0.06446805139494834,
           -0.028134805973934023,
           -0.05914115215635342,
           0.08564989529116354,
           -0.05413536802801733,
           -0.08008068407001041,
           0.034984035325280896,
           -0.034765291467911304,
           0.011015538665552736,
           0.1048134515582354,
           1,
           0.030382262322919944,
           0.47900282912183223,
           0.05620237403941183
          ],
          [
           -0.0070665059524065415,
           0.003476753776825871,
           -0.03669992934733365,
           -0.03625186776874155,
           -0.017779352563234544,
           -0.0045525846908184495,
           -0.036358711324470466,
           -0.006804755253214137,
           -0.02825609499904377,
           -0.0403091096858803,
           -0.04411681712807388,
           -0.05336610270959029,
           0.016605396144487056,
           -0.06263333468979394,
           -0.07137674533479066,
           -0.01517892127165256,
           0.04776812972326871,
           -0.009320566785359906,
           0.010056433474082626,
           -0.07145240527414408,
           -0.0680937372679499,
           -0.03738957517783913,
           -0.07945975454749474,
           -0.06378824366808482,
           -0.014722415172162866,
           -0.0822749252522222,
           -0.04613031154545644,
           -0.07145240527414408,
           0.25517355792757557,
           -0.11943074674140416,
           -0.07361702421803319,
           0.0004902403481690996,
           -0.10170526469113018,
           0.11273981532525752,
           0.008607061204640028,
           0.030382262322919944,
           1,
           -0.02721967693072524,
           0.040691396947038896
          ],
          [
           0.012800053356484343,
           -0.0032369124048504875,
           0.0454209805251521,
           0.018579125321943186,
           0.03285854769870059,
           0.022581969179305137,
           0.07945524507672724,
           0.01761688149055857,
           0.017560586298941302,
           0.007656507463723349,
           0.060306508720813896,
           0.08929277808724363,
           -0.04694206785480079,
           -0.011578073385523148,
           0.0715078982390573,
           0.07759583243788128,
           0.020002850039929496,
           0.07313760405417526,
           0.026674790127700698,
           0.0016616389568944062,
           0.06562545872974568,
           0.20501162467418868,
           0.031013476152827298,
           -0.013148573977364585,
           0.01035232472343746,
           0.1771941514561679,
           0.08154685636402034,
           0.0016616389568944062,
           -0.00927674998994057,
           -0.021946106786755085,
           -0.01928867854049546,
           -0.0015287328239071785,
           0.17737357297867515,
           -0.006598505119213407,
           -0.009103753909209627,
           0.47900282912183223,
           -0.02721967693072524,
           1,
           -0.023891874400622935
          ],
          [
           -0.011031858806242245,
           -0.0363129042777857,
           -0.041528953463461964,
           -0.052833250451913276,
           -0.002564560558823789,
           -0.0008735721398748118,
           -0.02187195297461646,
           -0.01717372695642862,
           -0.04345737651062879,
           -0.05520555654993033,
           -0.022757035208509878,
           -0.09706181772809423,
           0.04539607343184013,
           -0.11228237982500523,
           -0.06498650740827178,
           -0.045883126033550825,
           -0.005108111668223854,
           -0.0744412901527251,
           -0.023192083185442136,
           -0.09711133137056986,
           -0.0882756246821449,
           -0.01495882982458426,
           -0.07257115069438858,
           -0.04862937005148765,
           -0.02654108245677334,
           -0.0994704291513404,
           -0.08930355865377584,
           -0.09711133137056986,
           0.057715280434884504,
           -0.06219633998336539,
           -0.06531189779300121,
           0.00848123663321006,
           -0.08883841205001608,
           0.015596230837535521,
           0.031149349034198782,
           0.05620237403941183,
           0.040691396947038896,
           -0.023891874400622935,
           1
          ]
         ]
        }
       ],
       "layout": {
        "coloraxis": {
         "cmax": 1,
         "cmin": -1,
         "colorbar": {
          "title": {
           "text": "Correlation"
          }
         },
         "colorscale": [
          [
           0,
           "#000004"
          ],
          [
           0.1111111111111111,
           "#1b0c41"
          ],
          [
           0.2222222222222222,
           "#4a0c6b"
          ],
          [
           0.3333333333333333,
           "#781c6d"
          ],
          [
           0.4444444444444444,
           "#a52c60"
          ],
          [
           0.5555555555555556,
           "#cf4446"
          ],
          [
           0.6666666666666666,
           "#ed6925"
          ],
          [
           0.7777777777777778,
           "#fb9b06"
          ],
          [
           0.8888888888888888,
           "#f7d13d"
          ],
          [
           1,
           "#fcffa4"
          ]
         ]
        },
        "height": 1000,
        "margin": {
         "t": 60
        },
        "template": {
         "data": {
          "bar": [
           {
            "error_x": {
             "color": "#2a3f5f"
            },
            "error_y": {
             "color": "#2a3f5f"
            },
            "marker": {
             "line": {
              "color": "#E5ECF6",
              "width": 0.5
             },
             "pattern": {
              "fillmode": "overlay",
              "size": 10,
              "solidity": 0.2
             }
            },
            "type": "bar"
           }
          ],
          "barpolar": [
           {
            "marker": {
             "line": {
              "color": "#E5ECF6",
              "width": 0.5
             },
             "pattern": {
              "fillmode": "overlay",
              "size": 10,
              "solidity": 0.2
             }
            },
            "type": "barpolar"
           }
          ],
          "carpet": [
           {
            "aaxis": {
             "endlinecolor": "#2a3f5f",
             "gridcolor": "white",
             "linecolor": "white",
             "minorgridcolor": "white",
             "startlinecolor": "#2a3f5f"
            },
            "baxis": {
             "endlinecolor": "#2a3f5f",
             "gridcolor": "white",
             "linecolor": "white",
             "minorgridcolor": "white",
             "startlinecolor": "#2a3f5f"
            },
            "type": "carpet"
           }
          ],
          "choropleth": [
           {
            "colorbar": {
             "outlinewidth": 0,
             "ticks": ""
            },
            "type": "choropleth"
           }
          ],
          "contour": [
           {
            "colorbar": {
             "outlinewidth": 0,
             "ticks": ""
            },
            "colorscale": [
             [
              0,
              "#0d0887"
             ],
             [
              0.1111111111111111,
              "#46039f"
             ],
             [
              0.2222222222222222,
              "#7201a8"
             ],
             [
              0.3333333333333333,
              "#9c179e"
             ],
             [
              0.4444444444444444,
              "#bd3786"
             ],
             [
              0.5555555555555556,
              "#d8576b"
             ],
             [
              0.6666666666666666,
              "#ed7953"
             ],
             [
              0.7777777777777778,
              "#fb9f3a"
             ],
             [
              0.8888888888888888,
              "#fdca26"
             ],
             [
              1,
              "#f0f921"
             ]
            ],
            "type": "contour"
           }
          ],
          "contourcarpet": [
           {
            "colorbar": {
             "outlinewidth": 0,
             "ticks": ""
            },
            "type": "contourcarpet"
           }
          ],
          "heatmap": [
           {
            "colorbar": {
             "outlinewidth": 0,
             "ticks": ""
            },
            "colorscale": [
             [
              0,
              "#0d0887"
             ],
             [
              0.1111111111111111,
              "#46039f"
             ],
             [
              0.2222222222222222,
              "#7201a8"
             ],
             [
              0.3333333333333333,
              "#9c179e"
             ],
             [
              0.4444444444444444,
              "#bd3786"
             ],
             [
              0.5555555555555556,
              "#d8576b"
             ],
             [
              0.6666666666666666,
              "#ed7953"
             ],
             [
              0.7777777777777778,
              "#fb9f3a"
             ],
             [
              0.8888888888888888,
              "#fdca26"
             ],
             [
              1,
              "#f0f921"
             ]
            ],
            "type": "heatmap"
           }
          ],
          "heatmapgl": [
           {
            "colorbar": {
             "outlinewidth": 0,
             "ticks": ""
            },
            "colorscale": [
             [
              0,
              "#0d0887"
             ],
             [
              0.1111111111111111,
              "#46039f"
             ],
             [
              0.2222222222222222,
              "#7201a8"
             ],
             [
              0.3333333333333333,
              "#9c179e"
             ],
             [
              0.4444444444444444,
              "#bd3786"
             ],
             [
              0.5555555555555556,
              "#d8576b"
             ],
             [
              0.6666666666666666,
              "#ed7953"
             ],
             [
              0.7777777777777778,
              "#fb9f3a"
             ],
             [
              0.8888888888888888,
              "#fdca26"
             ],
             [
              1,
              "#f0f921"
             ]
            ],
            "type": "heatmapgl"
           }
          ],
          "histogram": [
           {
            "marker": {
             "pattern": {
              "fillmode": "overlay",
              "size": 10,
              "solidity": 0.2
             }
            },
            "type": "histogram"
           }
          ],
          "histogram2d": [
           {
            "colorbar": {
             "outlinewidth": 0,
             "ticks": ""
            },
            "colorscale": [
             [
              0,
              "#0d0887"
             ],
             [
              0.1111111111111111,
              "#46039f"
             ],
             [
              0.2222222222222222,
              "#7201a8"
             ],
             [
              0.3333333333333333,
              "#9c179e"
             ],
             [
              0.4444444444444444,
              "#bd3786"
             ],
             [
              0.5555555555555556,
              "#d8576b"
             ],
             [
              0.6666666666666666,
              "#ed7953"
             ],
             [
              0.7777777777777778,
              "#fb9f3a"
             ],
             [
              0.8888888888888888,
              "#fdca26"
             ],
             [
              1,
              "#f0f921"
             ]
            ],
            "type": "histogram2d"
           }
          ],
          "histogram2dcontour": [
           {
            "colorbar": {
             "outlinewidth": 0,
             "ticks": ""
            },
            "colorscale": [
             [
              0,
              "#0d0887"
             ],
             [
              0.1111111111111111,
              "#46039f"
             ],
             [
              0.2222222222222222,
              "#7201a8"
             ],
             [
              0.3333333333333333,
              "#9c179e"
             ],
             [
              0.4444444444444444,
              "#bd3786"
             ],
             [
              0.5555555555555556,
              "#d8576b"
             ],
             [
              0.6666666666666666,
              "#ed7953"
             ],
             [
              0.7777777777777778,
              "#fb9f3a"
             ],
             [
              0.8888888888888888,
              "#fdca26"
             ],
             [
              1,
              "#f0f921"
             ]
            ],
            "type": "histogram2dcontour"
           }
          ],
          "mesh3d": [
           {
            "colorbar": {
             "outlinewidth": 0,
             "ticks": ""
            },
            "type": "mesh3d"
           }
          ],
          "parcoords": [
           {
            "line": {
             "colorbar": {
              "outlinewidth": 0,
              "ticks": ""
             }
            },
            "type": "parcoords"
           }
          ],
          "pie": [
           {
            "automargin": true,
            "type": "pie"
           }
          ],
          "scatter": [
           {
            "marker": {
             "colorbar": {
              "outlinewidth": 0,
              "ticks": ""
             }
            },
            "type": "scatter"
           }
          ],
          "scatter3d": [
           {
            "line": {
             "colorbar": {
              "outlinewidth": 0,
              "ticks": ""
             }
            },
            "marker": {
             "colorbar": {
              "outlinewidth": 0,
              "ticks": ""
             }
            },
            "type": "scatter3d"
           }
          ],
          "scattercarpet": [
           {
            "marker": {
             "colorbar": {
              "outlinewidth": 0,
              "ticks": ""
             }
            },
            "type": "scattercarpet"
           }
          ],
          "scattergeo": [
           {
            "marker": {
             "colorbar": {
              "outlinewidth": 0,
              "ticks": ""
             }
            },
            "type": "scattergeo"
           }
          ],
          "scattergl": [
           {
            "marker": {
             "colorbar": {
              "outlinewidth": 0,
              "ticks": ""
             }
            },
            "type": "scattergl"
           }
          ],
          "scattermapbox": [
           {
            "marker": {
             "colorbar": {
              "outlinewidth": 0,
              "ticks": ""
             }
            },
            "type": "scattermapbox"
           }
          ],
          "scatterpolar": [
           {
            "marker": {
             "colorbar": {
              "outlinewidth": 0,
              "ticks": ""
             }
            },
            "type": "scatterpolar"
           }
          ],
          "scatterpolargl": [
           {
            "marker": {
             "colorbar": {
              "outlinewidth": 0,
              "ticks": ""
             }
            },
            "type": "scatterpolargl"
           }
          ],
          "scatterternary": [
           {
            "marker": {
             "colorbar": {
              "outlinewidth": 0,
              "ticks": ""
             }
            },
            "type": "scatterternary"
           }
          ],
          "surface": [
           {
            "colorbar": {
             "outlinewidth": 0,
             "ticks": ""
            },
            "colorscale": [
             [
              0,
              "#0d0887"
             ],
             [
              0.1111111111111111,
              "#46039f"
             ],
             [
              0.2222222222222222,
              "#7201a8"
             ],
             [
              0.3333333333333333,
              "#9c179e"
             ],
             [
              0.4444444444444444,
              "#bd3786"
             ],
             [
              0.5555555555555556,
              "#d8576b"
             ],
             [
              0.6666666666666666,
              "#ed7953"
             ],
             [
              0.7777777777777778,
              "#fb9f3a"
             ],
             [
              0.8888888888888888,
              "#fdca26"
             ],
             [
              1,
              "#f0f921"
             ]
            ],
            "type": "surface"
           }
          ],
          "table": [
           {
            "cells": {
             "fill": {
              "color": "#EBF0F8"
             },
             "line": {
              "color": "white"
             }
            },
            "header": {
             "fill": {
              "color": "#C8D4E3"
             },
             "line": {
              "color": "white"
             }
            },
            "type": "table"
           }
          ]
         },
         "layout": {
          "annotationdefaults": {
           "arrowcolor": "#2a3f5f",
           "arrowhead": 0,
           "arrowwidth": 1
          },
          "autotypenumbers": "strict",
          "coloraxis": {
           "colorbar": {
            "outlinewidth": 0,
            "ticks": ""
           }
          },
          "colorscale": {
           "diverging": [
            [
             0,
             "#8e0152"
            ],
            [
             0.1,
             "#c51b7d"
            ],
            [
             0.2,
             "#de77ae"
            ],
            [
             0.3,
             "#f1b6da"
            ],
            [
             0.4,
             "#fde0ef"
            ],
            [
             0.5,
             "#f7f7f7"
            ],
            [
             0.6,
             "#e6f5d0"
            ],
            [
             0.7,
             "#b8e186"
            ],
            [
             0.8,
             "#7fbc41"
            ],
            [
             0.9,
             "#4d9221"
            ],
            [
             1,
             "#276419"
            ]
           ],
           "sequential": [
            [
             0,
             "#0d0887"
            ],
            [
             0.1111111111111111,
             "#46039f"
            ],
            [
             0.2222222222222222,
             "#7201a8"
            ],
            [
             0.3333333333333333,
             "#9c179e"
            ],
            [
             0.4444444444444444,
             "#bd3786"
            ],
            [
             0.5555555555555556,
             "#d8576b"
            ],
            [
             0.6666666666666666,
             "#ed7953"
            ],
            [
             0.7777777777777778,
             "#fb9f3a"
            ],
            [
             0.8888888888888888,
             "#fdca26"
            ],
            [
             1,
             "#f0f921"
            ]
           ],
           "sequentialminus": [
            [
             0,
             "#0d0887"
            ],
            [
             0.1111111111111111,
             "#46039f"
            ],
            [
             0.2222222222222222,
             "#7201a8"
            ],
            [
             0.3333333333333333,
             "#9c179e"
            ],
            [
             0.4444444444444444,
             "#bd3786"
            ],
            [
             0.5555555555555556,
             "#d8576b"
            ],
            [
             0.6666666666666666,
             "#ed7953"
            ],
            [
             0.7777777777777778,
             "#fb9f3a"
            ],
            [
             0.8888888888888888,
             "#fdca26"
            ],
            [
             1,
             "#f0f921"
            ]
           ]
          },
          "colorway": [
           "#636efa",
           "#EF553B",
           "#00cc96",
           "#ab63fa",
           "#FFA15A",
           "#19d3f3",
           "#FF6692",
           "#B6E880",
           "#FF97FF",
           "#FECB52"
          ],
          "font": {
           "color": "#2a3f5f"
          },
          "geo": {
           "bgcolor": "white",
           "lakecolor": "white",
           "landcolor": "#E5ECF6",
           "showlakes": true,
           "showland": true,
           "subunitcolor": "white"
          },
          "hoverlabel": {
           "align": "left"
          },
          "hovermode": "closest",
          "mapbox": {
           "style": "light"
          },
          "paper_bgcolor": "white",
          "plot_bgcolor": "#E5ECF6",
          "polar": {
           "angularaxis": {
            "gridcolor": "white",
            "linecolor": "white",
            "ticks": ""
           },
           "bgcolor": "#E5ECF6",
           "radialaxis": {
            "gridcolor": "white",
            "linecolor": "white",
            "ticks": ""
           }
          },
          "scene": {
           "xaxis": {
            "backgroundcolor": "#E5ECF6",
            "gridcolor": "white",
            "gridwidth": 2,
            "linecolor": "white",
            "showbackground": true,
            "ticks": "",
            "zerolinecolor": "white"
           },
           "yaxis": {
            "backgroundcolor": "#E5ECF6",
            "gridcolor": "white",
            "gridwidth": 2,
            "linecolor": "white",
            "showbackground": true,
            "ticks": "",
            "zerolinecolor": "white"
           },
           "zaxis": {
            "backgroundcolor": "#E5ECF6",
            "gridcolor": "white",
            "gridwidth": 2,
            "linecolor": "white",
            "showbackground": true,
            "ticks": "",
            "zerolinecolor": "white"
           }
          },
          "shapedefaults": {
           "line": {
            "color": "#2a3f5f"
           }
          },
          "ternary": {
           "aaxis": {
            "gridcolor": "white",
            "linecolor": "white",
            "ticks": ""
           },
           "baxis": {
            "gridcolor": "white",
            "linecolor": "white",
            "ticks": ""
           },
           "bgcolor": "#E5ECF6",
           "caxis": {
            "gridcolor": "white",
            "linecolor": "white",
            "ticks": ""
           }
          },
          "title": {
           "x": 0.05
          },
          "xaxis": {
           "automargin": true,
           "gridcolor": "white",
           "linecolor": "white",
           "ticks": "",
           "title": {
            "standoff": 15
           },
           "zerolinecolor": "white",
           "zerolinewidth": 2
          },
          "yaxis": {
           "automargin": true,
           "gridcolor": "white",
           "linecolor": "white",
           "ticks": "",
           "title": {
            "standoff": 15
           },
           "zerolinecolor": "white",
           "zerolinewidth": 2
          }
         }
        },
        "width": 1000,
        "xaxis": {
         "anchor": "y",
         "constrain": "domain",
         "domain": [
          0,
          1
         ],
         "scaleanchor": "y"
        },
        "yaxis": {
         "anchor": "x",
         "autorange": "reversed",
         "constrain": "domain",
         "domain": [
          0,
          1
         ]
        }
       }
      }
     },
     "metadata": {},
     "output_type": "display_data"
    }
   ],
   "source": [
    "# Corr\n",
    "correlations = X_train.corr()\n",
    "\n",
    "fig=px.imshow(correlations,\n",
    "          labels=dict(x=\"\", y=\"\", color=\"Correlation\"),\n",
    "          x=X_train.columns,\n",
    "          y=X_train.columns,\n",
    "          zmin=-1,\n",
    "          zmax=1,\n",
    "          color_continuous_scale=\"Inferno\")\n",
    "\n",
    "fig.layout.height = 1000\n",
    "fig.layout.width = 1000\n",
    "\n",
    "fig.show()"
   ]
  },
  {
   "cell_type": "code",
   "execution_count": 19,
   "metadata": {},
   "outputs": [],
   "source": [
    "def corrkill(dataframe, features, corr_cut=0.6):\n",
    "\n",
    "    df = dataframe[features]\n",
    "    dfcorr = pd.DataFrame(np.triu(df.corr()), columns=df.columns, index=df.columns)\n",
    "    dfcorr = dfcorr.stack().reset_index()\n",
    "    dfcorr.columns = ['Feat1','Feat2','Val']\n",
    "    dfcorr = dfcorr[~dfcorr['Val'].isin([0,1])]\n",
    "    dfcorr = dfcorr[dfcorr['Val'].abs()>corr_cut]\n",
    "    \n",
    "    return list(dfcorr['Feat2']), dfcorr"
   ]
  },
  {
   "cell_type": "code",
   "execution_count": 20,
   "metadata": {},
   "outputs": [],
   "source": [
    "a,b=corrkill(X_train,X_train.columns,corr_cut=0.5)"
   ]
  },
  {
   "cell_type": "code",
   "execution_count": 21,
   "metadata": {},
   "outputs": [
    {
     "data": {
      "text/html": [
       "<div>\n",
       "<style scoped>\n",
       "    .dataframe tbody tr th:only-of-type {\n",
       "        vertical-align: middle;\n",
       "    }\n",
       "\n",
       "    .dataframe tbody tr th {\n",
       "        vertical-align: top;\n",
       "    }\n",
       "\n",
       "    .dataframe thead th {\n",
       "        text-align: right;\n",
       "    }\n",
       "</style>\n",
       "<table border=\"1\" class=\"dataframe\">\n",
       "  <thead>\n",
       "    <tr style=\"text-align: right;\">\n",
       "      <th></th>\n",
       "      <th>Feat1</th>\n",
       "      <th>Feat2</th>\n",
       "      <th>Val</th>\n",
       "    </tr>\n",
       "  </thead>\n",
       "  <tbody>\n",
       "    <tr>\n",
       "      <th>455</th>\n",
       "      <td>Frequency</td>\n",
       "      <td>Negativo</td>\n",
       "      <td>0.996173</td>\n",
       "    </tr>\n",
       "    <tr>\n",
       "      <th>161</th>\n",
       "      <td>lec_E-E</td>\n",
       "      <td>lec_D-E</td>\n",
       "      <td>0.895741</td>\n",
       "    </tr>\n",
       "    <tr>\n",
       "      <th>81</th>\n",
       "      <td>C</td>\n",
       "      <td>lec_B-B</td>\n",
       "      <td>0.827984</td>\n",
       "    </tr>\n",
       "    <tr>\n",
       "      <th>449</th>\n",
       "      <td>Frequency</td>\n",
       "      <td>A-K</td>\n",
       "      <td>0.650428</td>\n",
       "    </tr>\n",
       "    <tr>\n",
       "      <th>806</th>\n",
       "      <td>A-K</td>\n",
       "      <td>Negativo</td>\n",
       "      <td>0.641857</td>\n",
       "    </tr>\n",
       "    <tr>\n",
       "      <th>728</th>\n",
       "      <td>G-K</td>\n",
       "      <td>Negativo</td>\n",
       "      <td>0.638654</td>\n",
       "    </tr>\n",
       "    <tr>\n",
       "      <th>571</th>\n",
       "      <td>F-D</td>\n",
       "      <td>Positivo</td>\n",
       "      <td>0.631029</td>\n",
       "    </tr>\n",
       "    <tr>\n",
       "      <th>447</th>\n",
       "      <td>Frequency</td>\n",
       "      <td>G-K</td>\n",
       "      <td>0.621770</td>\n",
       "    </tr>\n",
       "    <tr>\n",
       "      <th>688</th>\n",
       "      <td>F-J</td>\n",
       "      <td>Positivo</td>\n",
       "      <td>0.585813</td>\n",
       "    </tr>\n",
       "    <tr>\n",
       "      <th>83</th>\n",
       "      <td>C</td>\n",
       "      <td>lec_D-E</td>\n",
       "      <td>0.570245</td>\n",
       "    </tr>\n",
       "    <tr>\n",
       "      <th>84</th>\n",
       "      <td>C</td>\n",
       "      <td>lec_C-D</td>\n",
       "      <td>0.563551</td>\n",
       "    </tr>\n",
       "    <tr>\n",
       "      <th>82</th>\n",
       "      <td>C</td>\n",
       "      <td>lec_E-E</td>\n",
       "      <td>0.561710</td>\n",
       "    </tr>\n",
       "    <tr>\n",
       "      <th>364</th>\n",
       "      <td>Length</td>\n",
       "      <td>Recency</td>\n",
       "      <td>0.561685</td>\n",
       "    </tr>\n",
       "    <tr>\n",
       "      <th>844</th>\n",
       "      <td>C-C</td>\n",
       "      <td>Positivo</td>\n",
       "      <td>0.511782</td>\n",
       "    </tr>\n",
       "    <tr>\n",
       "      <th>441</th>\n",
       "      <td>Frequency</td>\n",
       "      <td>Periodicity</td>\n",
       "      <td>-0.554792</td>\n",
       "    </tr>\n",
       "    <tr>\n",
       "      <th>488</th>\n",
       "      <td>Periodicity</td>\n",
       "      <td>A-K</td>\n",
       "      <td>-0.558821</td>\n",
       "    </tr>\n",
       "    <tr>\n",
       "      <th>494</th>\n",
       "      <td>Periodicity</td>\n",
       "      <td>Negativo</td>\n",
       "      <td>-0.561683</td>\n",
       "    </tr>\n",
       "  </tbody>\n",
       "</table>\n",
       "</div>"
      ],
      "text/plain": [
       "           Feat1        Feat2       Val\n",
       "455    Frequency     Negativo  0.996173\n",
       "161      lec_E-E      lec_D-E  0.895741\n",
       "81             C      lec_B-B  0.827984\n",
       "449    Frequency          A-K  0.650428\n",
       "806          A-K     Negativo  0.641857\n",
       "728          G-K     Negativo  0.638654\n",
       "571          F-D     Positivo  0.631029\n",
       "447    Frequency          G-K  0.621770\n",
       "688          F-J     Positivo  0.585813\n",
       "83             C      lec_D-E  0.570245\n",
       "84             C      lec_C-D  0.563551\n",
       "82             C      lec_E-E  0.561710\n",
       "364       Length      Recency  0.561685\n",
       "844          C-C     Positivo  0.511782\n",
       "441    Frequency  Periodicity -0.554792\n",
       "488  Periodicity          A-K -0.558821\n",
       "494  Periodicity     Negativo -0.561683"
      ]
     },
     "execution_count": 21,
     "metadata": {},
     "output_type": "execute_result"
    }
   ],
   "source": [
    "b.sort_values('Val',ascending=False)"
   ]
  },
  {
   "cell_type": "code",
   "execution_count": 22,
   "metadata": {},
   "outputs": [],
   "source": [
    "collinearity, table_cor=corrkill(features, tree_fs)\n",
    "tag_select = [i for i in tree_fs if i not in collinearity]\n",
    "tags_view_corr = features[tag_select].copy().reset_index(drop=True)"
   ]
  },
  {
   "cell_type": "code",
   "execution_count": 23,
   "metadata": {},
   "outputs": [
    {
     "data": {
      "text/plain": [
       "['E-F',\n",
       " 'D-F',\n",
       " 'C-C',\n",
       " 'A-K',\n",
       " 'A-G',\n",
       " 'num_comunicaciones',\n",
       " 'Recency',\n",
       " 'Positivo',\n",
       " 'B',\n",
       " 'Monto',\n",
       " 'Periodicity',\n",
       " 'Profesion',\n",
       " 'lec_B-B',\n",
       " 'Renta',\n",
       " 'F-I',\n",
       " 'Edad',\n",
       " 'lec_A-A',\n",
       " 'Comuna',\n",
       " 'Sin Info',\n",
       " 'Ciudad',\n",
       " 'Duracion_Campaña',\n",
       " 'Principalidad',\n",
       " 'F-H',\n",
       " 'lec_C-D']"
      ]
     },
     "execution_count": 23,
     "metadata": {},
     "output_type": "execute_result"
    }
   ],
   "source": [
    "tag_select"
   ]
  },
  {
   "cell_type": "code",
   "execution_count": 24,
   "metadata": {},
   "outputs": [
    {
     "data": {
      "application/vnd.plotly.v1+json": {
       "config": {
        "plotlyServerURL": "https://plot.ly"
       },
       "data": [
        {
         "coloraxis": "coloraxis",
         "hovertemplate": "x: %{x}<br>y: %{y}<br>Correlation: %{z}<extra></extra>",
         "name": "0",
         "type": "heatmap",
         "x": [
          "E-F",
          "D-F",
          "C-C",
          "A-K",
          "A-G",
          "num_comunicaciones",
          "Recency",
          "Positivo",
          "B",
          "Monto",
          "Periodicity",
          "Profesion",
          "lec_B-B",
          "Renta",
          "F-I",
          "Edad",
          "lec_A-A",
          "Comuna",
          "Sin Info",
          "Ciudad",
          "Duracion_Campaña",
          "Principalidad",
          "F-H",
          "lec_C-D"
         ],
         "xaxis": "x",
         "y": [
          "E-F",
          "D-F",
          "C-C",
          "A-K",
          "A-G",
          "num_comunicaciones",
          "Recency",
          "Positivo",
          "B",
          "Monto",
          "Periodicity",
          "Profesion",
          "lec_B-B",
          "Renta",
          "F-I",
          "Edad",
          "lec_A-A",
          "Comuna",
          "Sin Info",
          "Ciudad",
          "Duracion_Campaña",
          "Principalidad",
          "F-H",
          "lec_C-D"
         ],
         "yaxis": "y",
         "z": [
          [
           1,
           0.007228908131357365,
           0.023828953617206605,
           0.03477292379157958,
           0.10703908362893352,
           0.11281358807544425,
           0.18683735021748393,
           0.25699683074133617,
           0.06658062034513591,
           0.014962298913074337,
           0.023665311343833293,
           -0.0573677658048419,
           0.04562643569087215,
           0.06237225158358475,
           -0.05356102666175578,
           -0.18291432695403795,
           0.021350935231508467,
           -0.0661460330761871,
           0.10703908362893352,
           -0.047004085993341105,
           0.03901572060699703,
           0.011468124384070216,
           0.11592861359320566,
           0.05682905910183555
          ],
          [
           0.007228908131357365,
           1,
           0.012144264551779945,
           0.4551646791587358,
           0.36196441834472365,
           0.15908341554026534,
           0.2319028161251863,
           0.40077650637061696,
           0.05000652097282506,
           0.008256422515395975,
           -0.1319719462811482,
           -0.07937669260639929,
           0.1567330768191321,
           0.1456552031786069,
           0.14800130003766188,
           -0.14114153342017094,
           -0.0011778216162260848,
           -0.08726112017794302,
           0.36196441834472365,
           -0.06200520092160498,
           0.04401629297608044,
           0.04007276041152349,
           0.11062585608862224,
           0.06870021942079899
          ],
          [
           0.023828953617206605,
           0.012144264551779945,
           1,
           0.04356586794991556,
           -0.014440056316206292,
           0.23921462027082127,
           0.10408901220837506,
           0.45822476305837107,
           0.2387584184212706,
           0.09458662870678529,
           0.051497246370716905,
           -0.021178470411265922,
           0.06051770193267558,
           -0.02870941791249373,
           0.0071993581186082425,
           -0.12778762358303328,
           0.09890047881481527,
           -0.05490608368657922,
           -0.014440056316206292,
           0.17742337749835382,
           0.09228070648182701,
           0.19251563658458024,
           0.05819938050030806,
           0.35925053847165345
          ],
          [
           0.03477292379157958,
           0.4551646791587358,
           0.04356586794991556,
           1,
           0.4163954640857036,
           0.18320326087639915,
           0.26983685750188385,
           0.3216359533296131,
           0.08104779861014622,
           -0.004691427335039738,
           -0.33583404468862355,
           -0.0973205000113871,
           0.21370685186293292,
           0.17114947326732613,
           0.3042669884958339,
           -0.07511221151400746,
           0.01237934885437274,
           -0.1284327937205507,
           0.4163954640857036,
           -0.036417488928094925,
           0.060216515119199225,
           0.06425024737799044,
           0.06675949867435438,
           0.08741409359805737
          ],
          [
           0.10703908362893352,
           0.36196441834472365,
           -0.014440056316206292,
           0.4163954640857036,
           1,
           0.2559024753773675,
           0.43548664064537096,
           0.3846447193756709,
           0.03320961152174739,
           -0.0016506003955154725,
           -0.020575630105031387,
           -0.11655949383959151,
           0.2080346426569086,
           0.09867240440447556,
           0.29616057292421966,
           -0.12227181420366864,
           -0.036868201903857624,
           -0.09433197684214083,
           1,
           -0.06768060290748264,
           0.02826758611602029,
           0.021197978931955876,
           0.19391090217497742,
           0.0246072575774825
          ],
          [
           0.11281358807544425,
           0.15908341554026534,
           0.23921462027082127,
           0.18320326087639915,
           0.2559024753773675,
           1,
           0.39333252500865995,
           0.34693466215824426,
           0.4658438945595699,
           0.02617229929544439,
           0.08938983897138057,
           -0.07487001758391283,
           0.41739027371256865,
           0.031661296164225895,
           0.17589408888828434,
           -0.06580850745979128,
           0.3150892934015291,
           -0.1019522523887497,
           0.2559024753773674,
           -0.0003945271279653242,
           0.3038264617786064,
           0.029781383487040156,
           0.20007827944682322,
           0.26388403763806234
          ],
          [
           0.18683735021748393,
           0.2319028161251863,
           0.10408901220837506,
           0.26983685750188385,
           0.43548664064537096,
           0.39333252500865995,
           1,
           0.5193970176214795,
           0.17265202290086934,
           0.011968788932523443,
           0.3532086877576561,
           -0.1370830519731634,
           0.2178330098350732,
           0.03663255773621177,
           0.2724362310591163,
           -0.1347582332853842,
           0.06099942400228687,
           -0.11807270444037096,
           0.43548664064537107,
           -0.0554974345747666,
           0.0707362070992728,
           0.029521284632475484,
           0.3271404239982994,
           0.0793256628927762
          ],
          [
           0.25699683074133617,
           0.40077650637061696,
           0.45822476305837107,
           0.3216359533296131,
           0.3846447193756709,
           0.34693466215824426,
           0.5193970176214795,
           1,
           0.15816457877522982,
           0.08129065156120655,
           0.06166057776241707,
           -0.1243348213443995,
           0.1875452874139058,
           0.08601754551373511,
           0.2061374825120856,
           -0.21407852405752292,
           0.05200226787540131,
           -0.11232954136944284,
           0.38464471937567096,
           0.04113051004641699,
           0.07626246274205496,
           0.1763439690983478,
           0.3692689786005373,
           0.24173943507741025
          ],
          [
           0.06658062034513591,
           0.05000652097282506,
           0.2387584184212706,
           0.08104779861014622,
           0.03320961152174739,
           0.4658438945595699,
           0.17265202290086934,
           0.15816457877522982,
           1,
           0.032411837623147574,
           0.07919458264950135,
           -0.04487808489473723,
           0.15562816752164277,
           0.02711827150580479,
           0.10552341631993807,
           -0.02628750510610378,
           0.3306765292612152,
           -0.0918249752365462,
           0.03320961152174739,
           0.021938685731186392,
           0.43800699685231276,
           0.006967189310987051,
           0.10357081946747837,
           0.13713406439603204
          ],
          [
           0.014962298913074337,
           0.008256422515395975,
           0.09458662870678529,
           -0.004691427335039738,
           -0.0016506003955154725,
           0.02617229929544439,
           0.011968788932523443,
           0.08129065156120655,
           0.032411837623147574,
           1,
           0.02264425341069609,
           -0.01297925307848924,
           0.005859392730719564,
           0.02807655320121905,
           -0.020525386661155737,
           -0.05167474742928755,
           0.005953578586211494,
           0.011279717574111633,
           -0.0016506003955154736,
           0.007448088741554248,
           0.009815736863247201,
           0.02404535842426798,
           0.005985811406975137,
           0.0401317624413512
          ],
          [
           0.023665311343833293,
           -0.1319719462811482,
           0.051497246370716905,
           -0.33583404468862355,
           -0.020575630105031387,
           0.08938983897138057,
           0.3532086877576561,
           0.06166057776241707,
           0.07919458264950135,
           0.02264425341069609,
           1,
           -0.00971822121754566,
           0.02186847051686954,
           -0.07243047535502677,
           0.007096588263918215,
           -0.05320622907385252,
           0.03546256181621871,
           0.03938101064716577,
           -0.020575630105031384,
           0.014644955591202562,
           0.022087887746425974,
           -0.010391884792196292,
           0.05108166273900015,
           -0.03677367014030206
          ],
          [
           -0.0573677658048419,
           -0.07937669260639929,
           -0.021178470411265922,
           -0.0973205000113871,
           -0.11655949383959151,
           -0.07487001758391283,
           -0.1370830519731634,
           -0.1243348213443995,
           -0.04487808489473723,
           -0.01297925307848924,
           -0.00971822121754566,
           1,
           -0.057889812335437114,
           -0.05759103048084634,
           -0.02494862943876625,
           0.06295006352513959,
           -0.0262885269777617,
           0.03844970074449828,
           -0.1165594938395915,
           0.07690880928444715,
           -0.011981943341294552,
           -0.03184165661008703,
           -0.06079413374938144,
           -0.020638281451335526
          ],
          [
           0.04562643569087215,
           0.1567330768191321,
           0.06051770193267558,
           0.21370685186293292,
           0.2080346426569086,
           0.41739027371256865,
           0.2178330098350732,
           0.1875452874139058,
           0.15562816752164277,
           0.005859392730719564,
           0.02186847051686954,
           -0.057889812335437114,
           1,
           0.04538064978028971,
           0.16845810262585267,
           -0.10489300181018453,
           0.17674270347006704,
           -0.0753528165462376,
           0.2080346426569086,
           -0.02311630097117762,
           0.179393726388555,
           0.025507090775519,
           0.10075424203374814,
           0.3752478349876285
          ],
          [
           0.06237225158358475,
           0.1456552031786069,
           -0.02870941791249373,
           0.17114947326732613,
           0.09867240440447556,
           0.031661296164225895,
           0.03663255773621177,
           0.08601754551373511,
           0.02711827150580479,
           0.02807655320121905,
           -0.07243047535502677,
           -0.05759103048084634,
           0.04538064978028971,
           1,
           -0.00631184107856242,
           -0.08946313843993338,
           0.04542617922422049,
           -0.043708812043633166,
           0.09867240440447561,
           -0.06371065937405201,
           0.023543202020462218,
           -0.001368335308108894,
           0.01916292051630671,
           0.0066312500458608975
          ],
          [
           -0.05356102666175578,
           0.14800130003766188,
           0.0071993581186082425,
           0.3042669884958339,
           0.29616057292421966,
           0.17589408888828434,
           0.2724362310591163,
           0.2061374825120856,
           0.10552341631993807,
           -0.020525386661155737,
           0.007096588263918215,
           -0.02494862943876625,
           0.16845810262585267,
           -0.00631184107856242,
           1,
           0.12162612501063845,
           0.01720453628469107,
           -0.057719364682567366,
           0.2961605729242197,
           -0.0043091926226851915,
           0.05621828920963759,
           0.016645568437541367,
           0.20006170335453635,
           0.027355816464876892
          ],
          [
           -0.18291432695403795,
           -0.14114153342017094,
           -0.12778762358303328,
           -0.07511221151400746,
           -0.12227181420366864,
           -0.06580850745979128,
           -0.1347582332853842,
           -0.21407852405752292,
           -0.02628750510610378,
           -0.05167474742928755,
           -0.05320622907385252,
           0.06295006352513959,
           -0.10489300181018453,
           -0.08946313843993338,
           0.12162612501063845,
           1,
           0.027138989919807118,
           0.0798806856117941,
           -0.12227181420366864,
           0.07327493348197042,
           -0.019303500796953747,
           -0.026139629784497628,
           -0.021926770457852154,
           -0.07458156517852119
          ],
          [
           0.021350935231508467,
           -0.0011778216162260848,
           0.09890047881481527,
           0.01237934885437274,
           -0.036868201903857624,
           0.3150892934015291,
           0.06099942400228687,
           0.05200226787540131,
           0.3306765292612152,
           0.005953578586211494,
           0.03546256181621871,
           -0.0262885269777617,
           0.17674270347006704,
           0.04542617922422049,
           0.01720453628469107,
           0.027138989919807118,
           1,
           -0.033540767618127146,
           -0.03686820190385764,
           0.024670649141239634,
           0.16833119880973615,
           0.024193617296600783,
           0.06219785484202466,
           0.17781645366617754
          ],
          [
           -0.0661460330761871,
           -0.08726112017794302,
           -0.05490608368657922,
           -0.1284327937205507,
           -0.09433197684214083,
           -0.1019522523887497,
           -0.11807270444037096,
           -0.11232954136944284,
           -0.0918249752365462,
           0.011279717574111633,
           0.03938101064716577,
           0.03844970074449828,
           -0.0753528165462376,
           -0.043708812043633166,
           -0.057719364682567366,
           0.0798806856117941,
           -0.033540767618127146,
           1,
           -0.09433197684214079,
           0.1098409788310203,
           -0.049189602179222754,
           -0.012264670573450879,
           -0.04753779398521552,
           -0.05209450015109334
          ],
          [
           0.10703908362893352,
           0.36196441834472365,
           -0.014440056316206292,
           0.4163954640857036,
           1,
           0.2559024753773674,
           0.43548664064537107,
           0.38464471937567096,
           0.03320961152174739,
           -0.0016506003955154736,
           -0.020575630105031384,
           -0.1165594938395915,
           0.2080346426569086,
           0.09867240440447561,
           0.2961605729242197,
           -0.12227181420366864,
           -0.03686820190385764,
           -0.09433197684214079,
           1,
           -0.06768060290748264,
           0.02826758611602029,
           0.021197978931955876,
           0.19391090217497742,
           0.0246072575774825
          ],
          [
           -0.047004085993341105,
           -0.06200520092160498,
           0.17742337749835382,
           -0.036417488928094925,
           -0.06768060290748264,
           -0.0003945271279653242,
           -0.0554974345747666,
           0.04113051004641699,
           0.021938685731186392,
           0.007448088741554248,
           0.014644955591202562,
           0.07690880928444715,
           -0.02311630097117762,
           -0.06371065937405201,
           -0.0043091926226851915,
           0.07327493348197042,
           0.024670649141239634,
           0.1098409788310203,
           -0.06768060290748264,
           1,
           0.01603673030001752,
           0.36173607412834397,
           -0.011898590036129782,
           0.056528647184283645
          ],
          [
           0.03901572060699703,
           0.04401629297608044,
           0.09228070648182701,
           0.060216515119199225,
           0.02826758611602029,
           0.3038264617786064,
           0.0707362070992728,
           0.07626246274205496,
           0.43800699685231276,
           0.009815736863247201,
           0.022087887746425974,
           -0.011981943341294552,
           0.179393726388555,
           0.023543202020462218,
           0.05621828920963759,
           -0.019303500796953747,
           0.16833119880973615,
           -0.049189602179222754,
           0.02826758611602029,
           0.01603673030001752,
           1,
           0.014709187239007788,
           0.06381782887919371,
           0.1436681723102224
          ],
          [
           0.011468124384070216,
           0.04007276041152349,
           0.19251563658458024,
           0.06425024737799044,
           0.021197978931955876,
           0.029781383487040156,
           0.029521284632475484,
           0.1763439690983478,
           0.006967189310987051,
           0.02404535842426798,
           -0.010391884792196292,
           -0.03184165661008703,
           0.025507090775519,
           -0.001368335308108894,
           0.016645568437541367,
           -0.026139629784497628,
           0.024193617296600783,
           -0.012264670573450879,
           0.021197978931955876,
           0.36173607412834397,
           0.014709187239007788,
           1,
           0.08792383163757199,
           0.07883904612036531
          ],
          [
           0.11592861359320566,
           0.11062585608862224,
           0.05819938050030806,
           0.06675949867435438,
           0.19391090217497742,
           0.20007827944682322,
           0.3271404239982994,
           0.3692689786005373,
           0.10357081946747837,
           0.005985811406975137,
           0.05108166273900015,
           -0.06079413374938144,
           0.10075424203374814,
           0.01916292051630671,
           0.20006170335453635,
           -0.021926770457852154,
           0.06219785484202466,
           -0.04753779398521552,
           0.19391090217497742,
           -0.011898590036129782,
           0.06381782887919371,
           0.08792383163757199,
           1,
           0.09190472159509652
          ],
          [
           0.05682905910183555,
           0.06870021942079899,
           0.35925053847165345,
           0.08741409359805737,
           0.0246072575774825,
           0.26388403763806234,
           0.0793256628927762,
           0.24173943507741025,
           0.13713406439603204,
           0.0401317624413512,
           -0.03677367014030206,
           -0.020638281451335526,
           0.3752478349876285,
           0.0066312500458608975,
           0.027355816464876892,
           -0.07458156517852119,
           0.17781645366617754,
           -0.05209450015109334,
           0.0246072575774825,
           0.056528647184283645,
           0.1436681723102224,
           0.07883904612036531,
           0.09190472159509652,
           1
          ]
         ]
        }
       ],
       "layout": {
        "coloraxis": {
         "cmax": 1,
         "cmin": -1,
         "colorbar": {
          "title": {
           "text": "Correlation"
          }
         },
         "colorscale": [
          [
           0,
           "#000004"
          ],
          [
           0.1111111111111111,
           "#1b0c41"
          ],
          [
           0.2222222222222222,
           "#4a0c6b"
          ],
          [
           0.3333333333333333,
           "#781c6d"
          ],
          [
           0.4444444444444444,
           "#a52c60"
          ],
          [
           0.5555555555555556,
           "#cf4446"
          ],
          [
           0.6666666666666666,
           "#ed6925"
          ],
          [
           0.7777777777777778,
           "#fb9b06"
          ],
          [
           0.8888888888888888,
           "#f7d13d"
          ],
          [
           1,
           "#fcffa4"
          ]
         ]
        },
        "height": 700,
        "margin": {
         "t": 60
        },
        "template": {
         "data": {
          "bar": [
           {
            "error_x": {
             "color": "#2a3f5f"
            },
            "error_y": {
             "color": "#2a3f5f"
            },
            "marker": {
             "line": {
              "color": "#E5ECF6",
              "width": 0.5
             },
             "pattern": {
              "fillmode": "overlay",
              "size": 10,
              "solidity": 0.2
             }
            },
            "type": "bar"
           }
          ],
          "barpolar": [
           {
            "marker": {
             "line": {
              "color": "#E5ECF6",
              "width": 0.5
             },
             "pattern": {
              "fillmode": "overlay",
              "size": 10,
              "solidity": 0.2
             }
            },
            "type": "barpolar"
           }
          ],
          "carpet": [
           {
            "aaxis": {
             "endlinecolor": "#2a3f5f",
             "gridcolor": "white",
             "linecolor": "white",
             "minorgridcolor": "white",
             "startlinecolor": "#2a3f5f"
            },
            "baxis": {
             "endlinecolor": "#2a3f5f",
             "gridcolor": "white",
             "linecolor": "white",
             "minorgridcolor": "white",
             "startlinecolor": "#2a3f5f"
            },
            "type": "carpet"
           }
          ],
          "choropleth": [
           {
            "colorbar": {
             "outlinewidth": 0,
             "ticks": ""
            },
            "type": "choropleth"
           }
          ],
          "contour": [
           {
            "colorbar": {
             "outlinewidth": 0,
             "ticks": ""
            },
            "colorscale": [
             [
              0,
              "#0d0887"
             ],
             [
              0.1111111111111111,
              "#46039f"
             ],
             [
              0.2222222222222222,
              "#7201a8"
             ],
             [
              0.3333333333333333,
              "#9c179e"
             ],
             [
              0.4444444444444444,
              "#bd3786"
             ],
             [
              0.5555555555555556,
              "#d8576b"
             ],
             [
              0.6666666666666666,
              "#ed7953"
             ],
             [
              0.7777777777777778,
              "#fb9f3a"
             ],
             [
              0.8888888888888888,
              "#fdca26"
             ],
             [
              1,
              "#f0f921"
             ]
            ],
            "type": "contour"
           }
          ],
          "contourcarpet": [
           {
            "colorbar": {
             "outlinewidth": 0,
             "ticks": ""
            },
            "type": "contourcarpet"
           }
          ],
          "heatmap": [
           {
            "colorbar": {
             "outlinewidth": 0,
             "ticks": ""
            },
            "colorscale": [
             [
              0,
              "#0d0887"
             ],
             [
              0.1111111111111111,
              "#46039f"
             ],
             [
              0.2222222222222222,
              "#7201a8"
             ],
             [
              0.3333333333333333,
              "#9c179e"
             ],
             [
              0.4444444444444444,
              "#bd3786"
             ],
             [
              0.5555555555555556,
              "#d8576b"
             ],
             [
              0.6666666666666666,
              "#ed7953"
             ],
             [
              0.7777777777777778,
              "#fb9f3a"
             ],
             [
              0.8888888888888888,
              "#fdca26"
             ],
             [
              1,
              "#f0f921"
             ]
            ],
            "type": "heatmap"
           }
          ],
          "heatmapgl": [
           {
            "colorbar": {
             "outlinewidth": 0,
             "ticks": ""
            },
            "colorscale": [
             [
              0,
              "#0d0887"
             ],
             [
              0.1111111111111111,
              "#46039f"
             ],
             [
              0.2222222222222222,
              "#7201a8"
             ],
             [
              0.3333333333333333,
              "#9c179e"
             ],
             [
              0.4444444444444444,
              "#bd3786"
             ],
             [
              0.5555555555555556,
              "#d8576b"
             ],
             [
              0.6666666666666666,
              "#ed7953"
             ],
             [
              0.7777777777777778,
              "#fb9f3a"
             ],
             [
              0.8888888888888888,
              "#fdca26"
             ],
             [
              1,
              "#f0f921"
             ]
            ],
            "type": "heatmapgl"
           }
          ],
          "histogram": [
           {
            "marker": {
             "pattern": {
              "fillmode": "overlay",
              "size": 10,
              "solidity": 0.2
             }
            },
            "type": "histogram"
           }
          ],
          "histogram2d": [
           {
            "colorbar": {
             "outlinewidth": 0,
             "ticks": ""
            },
            "colorscale": [
             [
              0,
              "#0d0887"
             ],
             [
              0.1111111111111111,
              "#46039f"
             ],
             [
              0.2222222222222222,
              "#7201a8"
             ],
             [
              0.3333333333333333,
              "#9c179e"
             ],
             [
              0.4444444444444444,
              "#bd3786"
             ],
             [
              0.5555555555555556,
              "#d8576b"
             ],
             [
              0.6666666666666666,
              "#ed7953"
             ],
             [
              0.7777777777777778,
              "#fb9f3a"
             ],
             [
              0.8888888888888888,
              "#fdca26"
             ],
             [
              1,
              "#f0f921"
             ]
            ],
            "type": "histogram2d"
           }
          ],
          "histogram2dcontour": [
           {
            "colorbar": {
             "outlinewidth": 0,
             "ticks": ""
            },
            "colorscale": [
             [
              0,
              "#0d0887"
             ],
             [
              0.1111111111111111,
              "#46039f"
             ],
             [
              0.2222222222222222,
              "#7201a8"
             ],
             [
              0.3333333333333333,
              "#9c179e"
             ],
             [
              0.4444444444444444,
              "#bd3786"
             ],
             [
              0.5555555555555556,
              "#d8576b"
             ],
             [
              0.6666666666666666,
              "#ed7953"
             ],
             [
              0.7777777777777778,
              "#fb9f3a"
             ],
             [
              0.8888888888888888,
              "#fdca26"
             ],
             [
              1,
              "#f0f921"
             ]
            ],
            "type": "histogram2dcontour"
           }
          ],
          "mesh3d": [
           {
            "colorbar": {
             "outlinewidth": 0,
             "ticks": ""
            },
            "type": "mesh3d"
           }
          ],
          "parcoords": [
           {
            "line": {
             "colorbar": {
              "outlinewidth": 0,
              "ticks": ""
             }
            },
            "type": "parcoords"
           }
          ],
          "pie": [
           {
            "automargin": true,
            "type": "pie"
           }
          ],
          "scatter": [
           {
            "marker": {
             "colorbar": {
              "outlinewidth": 0,
              "ticks": ""
             }
            },
            "type": "scatter"
           }
          ],
          "scatter3d": [
           {
            "line": {
             "colorbar": {
              "outlinewidth": 0,
              "ticks": ""
             }
            },
            "marker": {
             "colorbar": {
              "outlinewidth": 0,
              "ticks": ""
             }
            },
            "type": "scatter3d"
           }
          ],
          "scattercarpet": [
           {
            "marker": {
             "colorbar": {
              "outlinewidth": 0,
              "ticks": ""
             }
            },
            "type": "scattercarpet"
           }
          ],
          "scattergeo": [
           {
            "marker": {
             "colorbar": {
              "outlinewidth": 0,
              "ticks": ""
             }
            },
            "type": "scattergeo"
           }
          ],
          "scattergl": [
           {
            "marker": {
             "colorbar": {
              "outlinewidth": 0,
              "ticks": ""
             }
            },
            "type": "scattergl"
           }
          ],
          "scattermapbox": [
           {
            "marker": {
             "colorbar": {
              "outlinewidth": 0,
              "ticks": ""
             }
            },
            "type": "scattermapbox"
           }
          ],
          "scatterpolar": [
           {
            "marker": {
             "colorbar": {
              "outlinewidth": 0,
              "ticks": ""
             }
            },
            "type": "scatterpolar"
           }
          ],
          "scatterpolargl": [
           {
            "marker": {
             "colorbar": {
              "outlinewidth": 0,
              "ticks": ""
             }
            },
            "type": "scatterpolargl"
           }
          ],
          "scatterternary": [
           {
            "marker": {
             "colorbar": {
              "outlinewidth": 0,
              "ticks": ""
             }
            },
            "type": "scatterternary"
           }
          ],
          "surface": [
           {
            "colorbar": {
             "outlinewidth": 0,
             "ticks": ""
            },
            "colorscale": [
             [
              0,
              "#0d0887"
             ],
             [
              0.1111111111111111,
              "#46039f"
             ],
             [
              0.2222222222222222,
              "#7201a8"
             ],
             [
              0.3333333333333333,
              "#9c179e"
             ],
             [
              0.4444444444444444,
              "#bd3786"
             ],
             [
              0.5555555555555556,
              "#d8576b"
             ],
             [
              0.6666666666666666,
              "#ed7953"
             ],
             [
              0.7777777777777778,
              "#fb9f3a"
             ],
             [
              0.8888888888888888,
              "#fdca26"
             ],
             [
              1,
              "#f0f921"
             ]
            ],
            "type": "surface"
           }
          ],
          "table": [
           {
            "cells": {
             "fill": {
              "color": "#EBF0F8"
             },
             "line": {
              "color": "white"
             }
            },
            "header": {
             "fill": {
              "color": "#C8D4E3"
             },
             "line": {
              "color": "white"
             }
            },
            "type": "table"
           }
          ]
         },
         "layout": {
          "annotationdefaults": {
           "arrowcolor": "#2a3f5f",
           "arrowhead": 0,
           "arrowwidth": 1
          },
          "autotypenumbers": "strict",
          "coloraxis": {
           "colorbar": {
            "outlinewidth": 0,
            "ticks": ""
           }
          },
          "colorscale": {
           "diverging": [
            [
             0,
             "#8e0152"
            ],
            [
             0.1,
             "#c51b7d"
            ],
            [
             0.2,
             "#de77ae"
            ],
            [
             0.3,
             "#f1b6da"
            ],
            [
             0.4,
             "#fde0ef"
            ],
            [
             0.5,
             "#f7f7f7"
            ],
            [
             0.6,
             "#e6f5d0"
            ],
            [
             0.7,
             "#b8e186"
            ],
            [
             0.8,
             "#7fbc41"
            ],
            [
             0.9,
             "#4d9221"
            ],
            [
             1,
             "#276419"
            ]
           ],
           "sequential": [
            [
             0,
             "#0d0887"
            ],
            [
             0.1111111111111111,
             "#46039f"
            ],
            [
             0.2222222222222222,
             "#7201a8"
            ],
            [
             0.3333333333333333,
             "#9c179e"
            ],
            [
             0.4444444444444444,
             "#bd3786"
            ],
            [
             0.5555555555555556,
             "#d8576b"
            ],
            [
             0.6666666666666666,
             "#ed7953"
            ],
            [
             0.7777777777777778,
             "#fb9f3a"
            ],
            [
             0.8888888888888888,
             "#fdca26"
            ],
            [
             1,
             "#f0f921"
            ]
           ],
           "sequentialminus": [
            [
             0,
             "#0d0887"
            ],
            [
             0.1111111111111111,
             "#46039f"
            ],
            [
             0.2222222222222222,
             "#7201a8"
            ],
            [
             0.3333333333333333,
             "#9c179e"
            ],
            [
             0.4444444444444444,
             "#bd3786"
            ],
            [
             0.5555555555555556,
             "#d8576b"
            ],
            [
             0.6666666666666666,
             "#ed7953"
            ],
            [
             0.7777777777777778,
             "#fb9f3a"
            ],
            [
             0.8888888888888888,
             "#fdca26"
            ],
            [
             1,
             "#f0f921"
            ]
           ]
          },
          "colorway": [
           "#636efa",
           "#EF553B",
           "#00cc96",
           "#ab63fa",
           "#FFA15A",
           "#19d3f3",
           "#FF6692",
           "#B6E880",
           "#FF97FF",
           "#FECB52"
          ],
          "font": {
           "color": "#2a3f5f"
          },
          "geo": {
           "bgcolor": "white",
           "lakecolor": "white",
           "landcolor": "#E5ECF6",
           "showlakes": true,
           "showland": true,
           "subunitcolor": "white"
          },
          "hoverlabel": {
           "align": "left"
          },
          "hovermode": "closest",
          "mapbox": {
           "style": "light"
          },
          "paper_bgcolor": "white",
          "plot_bgcolor": "#E5ECF6",
          "polar": {
           "angularaxis": {
            "gridcolor": "white",
            "linecolor": "white",
            "ticks": ""
           },
           "bgcolor": "#E5ECF6",
           "radialaxis": {
            "gridcolor": "white",
            "linecolor": "white",
            "ticks": ""
           }
          },
          "scene": {
           "xaxis": {
            "backgroundcolor": "#E5ECF6",
            "gridcolor": "white",
            "gridwidth": 2,
            "linecolor": "white",
            "showbackground": true,
            "ticks": "",
            "zerolinecolor": "white"
           },
           "yaxis": {
            "backgroundcolor": "#E5ECF6",
            "gridcolor": "white",
            "gridwidth": 2,
            "linecolor": "white",
            "showbackground": true,
            "ticks": "",
            "zerolinecolor": "white"
           },
           "zaxis": {
            "backgroundcolor": "#E5ECF6",
            "gridcolor": "white",
            "gridwidth": 2,
            "linecolor": "white",
            "showbackground": true,
            "ticks": "",
            "zerolinecolor": "white"
           }
          },
          "shapedefaults": {
           "line": {
            "color": "#2a3f5f"
           }
          },
          "ternary": {
           "aaxis": {
            "gridcolor": "white",
            "linecolor": "white",
            "ticks": ""
           },
           "baxis": {
            "gridcolor": "white",
            "linecolor": "white",
            "ticks": ""
           },
           "bgcolor": "#E5ECF6",
           "caxis": {
            "gridcolor": "white",
            "linecolor": "white",
            "ticks": ""
           }
          },
          "title": {
           "x": 0.05
          },
          "xaxis": {
           "automargin": true,
           "gridcolor": "white",
           "linecolor": "white",
           "ticks": "",
           "title": {
            "standoff": 15
           },
           "zerolinecolor": "white",
           "zerolinewidth": 2
          },
          "yaxis": {
           "automargin": true,
           "gridcolor": "white",
           "linecolor": "white",
           "ticks": "",
           "title": {
            "standoff": 15
           },
           "zerolinecolor": "white",
           "zerolinewidth": 2
          }
         }
        },
        "width": 700,
        "xaxis": {
         "anchor": "y",
         "constrain": "domain",
         "domain": [
          0,
          1
         ],
         "scaleanchor": "y",
         "tickangle": 45
        },
        "yaxis": {
         "anchor": "x",
         "autorange": "reversed",
         "constrain": "domain",
         "domain": [
          0,
          1
         ]
        }
       }
      }
     },
     "metadata": {},
     "output_type": "display_data"
    }
   ],
   "source": [
    "# Corr\n",
    "correlations = tags_view_corr.corr()\n",
    "\n",
    "fig=px.imshow(correlations,\n",
    "          labels=dict(x=\"\", y=\"\", color=\"Correlation\"),\n",
    "          x=tag_select,\n",
    "          y=tag_select,\n",
    "          zmin=-1,\n",
    "          zmax=1,\n",
    "          color_continuous_scale=\"Inferno\")\n",
    "\n",
    "fig.layout.height = 700\n",
    "fig.layout.width = 700\n",
    "fig.update_xaxes(\n",
    "        tickangle = 45)\n",
    "\n",
    "fig.show()"
   ]
  }
 ],
 "metadata": {
  "interpreter": {
   "hash": "65e97ffa20fbdd895c76c3a1d2c2ade704754874d6e45df701862667e65d73d7"
  },
  "kernelspec": {
   "display_name": "Python 3.9.6 ('Programacion_Cientifica')",
   "language": "python",
   "name": "python3"
  },
  "language_info": {
   "codemirror_mode": {
    "name": "ipython",
    "version": 3
   },
   "file_extension": ".py",
   "mimetype": "text/x-python",
   "name": "python",
   "nbconvert_exporter": "python",
   "pygments_lexer": "ipython3",
   "version": "3.9.6"
  },
  "orig_nbformat": 4
 },
 "nbformat": 4,
 "nbformat_minor": 2
}
