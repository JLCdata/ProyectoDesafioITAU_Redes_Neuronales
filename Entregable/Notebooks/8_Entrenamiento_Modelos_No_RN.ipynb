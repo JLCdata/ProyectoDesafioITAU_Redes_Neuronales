{
 "cells": [
  {
   "cell_type": "markdown",
   "metadata": {},
   "source": [
    "# Experimentos Finales Modelos no RN"
   ]
  },
  {
   "cell_type": "code",
   "execution_count": 3,
   "metadata": {},
   "outputs": [],
   "source": [
    "import pandas as pd\n",
    "import numpy as np\n",
    "\n",
    "import missingno as msno\n",
    "import matplotlib.pyplot as plt\n",
    "import plotly.express as px\n",
    "\n",
    "from sklearn.ensemble import RandomForestClassifier\n",
    "from sklearn.metrics import classification_report\n",
    "from sklearn.model_selection import train_test_split \n",
    "from sklearn.decomposition import PCA\n",
    "from sklearn.pipeline import Pipeline\n",
    "from sklearn.decomposition import TruncatedSVD\n",
    "\n",
    "from sklearn.compose import ColumnTransformer\n",
    "from sklearn.preprocessing import MinMaxScaler\n",
    "from sklearn.preprocessing import OneHotEncoder\n",
    "import datetime\n",
    "from dateutil.parser import parse\n",
    "from sklearn.tree import  DecisionTreeClassifier\n",
    "import plotly.graph_objects as go\n",
    "import umap\n",
    "from imblearn.under_sampling import RandomUnderSampler\n",
    "from imblearn.over_sampling import RandomOverSampler\n",
    "import xgboost as xgb\n",
    "from sklearn.naive_bayes import MultinomialNB\n",
    "from sklearn.model_selection import GridSearchCV\n",
    "import ml_metrics\n",
    "import pickle\n",
    "from sklearn.metrics import accuracy_score\n",
    "import json\n",
    "import warnings\n",
    "warnings.filterwarnings(\"ignore\")\n"
   ]
  },
  {
   "cell_type": "code",
   "execution_count": 4,
   "metadata": {},
   "outputs": [
    {
     "data": {
      "text/html": [
       "<div>\n",
       "<style scoped>\n",
       "    .dataframe tbody tr th:only-of-type {\n",
       "        vertical-align: middle;\n",
       "    }\n",
       "\n",
       "    .dataframe tbody tr th {\n",
       "        vertical-align: top;\n",
       "    }\n",
       "\n",
       "    .dataframe thead th {\n",
       "        text-align: right;\n",
       "    }\n",
       "</style>\n",
       "<table border=\"1\" class=\"dataframe\">\n",
       "  <thead>\n",
       "    <tr style=\"text-align: right;\">\n",
       "      <th></th>\n",
       "      <th>Duracion_Campaña</th>\n",
       "      <th>B</th>\n",
       "      <th>C</th>\n",
       "      <th>lec_B-B</th>\n",
       "      <th>lec_E-E</th>\n",
       "      <th>lec_D-E</th>\n",
       "      <th>lec_C-D</th>\n",
       "      <th>lec_A-A</th>\n",
       "      <th>num_comunicaciones</th>\n",
       "      <th>Length</th>\n",
       "      <th>...</th>\n",
       "      <th>Renta</th>\n",
       "      <th>Recibe_sueldo_en_cuenta</th>\n",
       "      <th>Segmento_consumidor</th>\n",
       "      <th>Meses_antiguedad</th>\n",
       "      <th>Comuna</th>\n",
       "      <th>Ciudad</th>\n",
       "      <th>Estado_civil</th>\n",
       "      <th>Principalidad</th>\n",
       "      <th>Profesion</th>\n",
       "      <th>Target</th>\n",
       "    </tr>\n",
       "  </thead>\n",
       "  <tbody>\n",
       "    <tr>\n",
       "      <th>0</th>\n",
       "      <td>1.0</td>\n",
       "      <td>4.0</td>\n",
       "      <td>5.0</td>\n",
       "      <td>5.0</td>\n",
       "      <td>0.0</td>\n",
       "      <td>0.0</td>\n",
       "      <td>0.0</td>\n",
       "      <td>0.0</td>\n",
       "      <td>22.0</td>\n",
       "      <td>371</td>\n",
       "      <td>...</td>\n",
       "      <td>R1</td>\n",
       "      <td>0</td>\n",
       "      <td>A</td>\n",
       "      <td>Mayor a 10 años</td>\n",
       "      <td>331.0</td>\n",
       "      <td>13.0</td>\n",
       "      <td>D</td>\n",
       "      <td>B</td>\n",
       "      <td>P164</td>\n",
       "      <td></td>\n",
       "    </tr>\n",
       "    <tr>\n",
       "      <th>1</th>\n",
       "      <td>1.0</td>\n",
       "      <td>6.0</td>\n",
       "      <td>6.0</td>\n",
       "      <td>8.0</td>\n",
       "      <td>0.0</td>\n",
       "      <td>1.0</td>\n",
       "      <td>1.0</td>\n",
       "      <td>0.0</td>\n",
       "      <td>15.0</td>\n",
       "      <td>371</td>\n",
       "      <td>...</td>\n",
       "      <td>R4</td>\n",
       "      <td>0</td>\n",
       "      <td>A</td>\n",
       "      <td>Mayor a 10 años</td>\n",
       "      <td>91.0</td>\n",
       "      <td>13.0</td>\n",
       "      <td>D</td>\n",
       "      <td>B</td>\n",
       "      <td>P85</td>\n",
       "      <td>E-E B-B D-E</td>\n",
       "    </tr>\n",
       "    <tr>\n",
       "      <th>2</th>\n",
       "      <td>1.0</td>\n",
       "      <td>2.0</td>\n",
       "      <td>3.0</td>\n",
       "      <td>1.0</td>\n",
       "      <td>0.0</td>\n",
       "      <td>0.0</td>\n",
       "      <td>1.0</td>\n",
       "      <td>0.0</td>\n",
       "      <td>26.0</td>\n",
       "      <td>371</td>\n",
       "      <td>...</td>\n",
       "      <td>R5</td>\n",
       "      <td>0</td>\n",
       "      <td>A</td>\n",
       "      <td>Mayor a 10 años</td>\n",
       "      <td>34.0</td>\n",
       "      <td>5.0</td>\n",
       "      <td>B</td>\n",
       "      <td>C</td>\n",
       "      <td>P143</td>\n",
       "      <td>D-E A-A</td>\n",
       "    </tr>\n",
       "    <tr>\n",
       "      <th>3</th>\n",
       "      <td>1.2</td>\n",
       "      <td>7.0</td>\n",
       "      <td>3.0</td>\n",
       "      <td>5.0</td>\n",
       "      <td>0.0</td>\n",
       "      <td>0.0</td>\n",
       "      <td>2.0</td>\n",
       "      <td>2.0</td>\n",
       "      <td>34.0</td>\n",
       "      <td>371</td>\n",
       "      <td>...</td>\n",
       "      <td>R9</td>\n",
       "      <td>0</td>\n",
       "      <td>A</td>\n",
       "      <td>Mayor a 10 años</td>\n",
       "      <td>331.0</td>\n",
       "      <td>13.0</td>\n",
       "      <td>B</td>\n",
       "      <td>C</td>\n",
       "      <td>P1</td>\n",
       "      <td>E-E</td>\n",
       "    </tr>\n",
       "    <tr>\n",
       "      <th>4</th>\n",
       "      <td>1.0</td>\n",
       "      <td>4.0</td>\n",
       "      <td>1.0</td>\n",
       "      <td>1.0</td>\n",
       "      <td>0.0</td>\n",
       "      <td>0.0</td>\n",
       "      <td>0.0</td>\n",
       "      <td>0.0</td>\n",
       "      <td>24.0</td>\n",
       "      <td>371</td>\n",
       "      <td>...</td>\n",
       "      <td>R2</td>\n",
       "      <td>0</td>\n",
       "      <td>B</td>\n",
       "      <td>Mayor a 10 años</td>\n",
       "      <td>37.0</td>\n",
       "      <td>5.0</td>\n",
       "      <td>D</td>\n",
       "      <td>F</td>\n",
       "      <td>P210</td>\n",
       "      <td>D-E</td>\n",
       "    </tr>\n",
       "  </tbody>\n",
       "</table>\n",
       "<p>5 rows × 40 columns</p>\n",
       "</div>"
      ],
      "text/plain": [
       "   Duracion_Campaña    B    C  lec_B-B  lec_E-E  lec_D-E  lec_C-D  lec_A-A  \\\n",
       "0               1.0  4.0  5.0      5.0      0.0      0.0      0.0      0.0   \n",
       "1               1.0  6.0  6.0      8.0      0.0      1.0      1.0      0.0   \n",
       "2               1.0  2.0  3.0      1.0      0.0      0.0      1.0      0.0   \n",
       "3               1.2  7.0  3.0      5.0      0.0      0.0      2.0      2.0   \n",
       "4               1.0  4.0  1.0      1.0      0.0      0.0      0.0      0.0   \n",
       "\n",
       "   num_comunicaciones  Length  ...  Renta  Recibe_sueldo_en_cuenta  \\\n",
       "0                22.0     371  ...     R1                        0   \n",
       "1                15.0     371  ...     R4                        0   \n",
       "2                26.0     371  ...     R5                        0   \n",
       "3                34.0     371  ...     R9                        0   \n",
       "4                24.0     371  ...     R2                        0   \n",
       "\n",
       "   Segmento_consumidor  Meses_antiguedad  Comuna  Ciudad  Estado_civil  \\\n",
       "0                    A   Mayor a 10 años   331.0    13.0             D   \n",
       "1                    A   Mayor a 10 años    91.0    13.0             D   \n",
       "2                    A   Mayor a 10 años    34.0     5.0             B   \n",
       "3                    A   Mayor a 10 años   331.0    13.0             B   \n",
       "4                    B   Mayor a 10 años    37.0     5.0             D   \n",
       "\n",
       "   Principalidad  Profesion       Target  \n",
       "0              B       P164               \n",
       "1              B        P85  E-E B-B D-E  \n",
       "2              C       P143      D-E A-A  \n",
       "3              C         P1          E-E  \n",
       "4              F       P210          D-E  \n",
       "\n",
       "[5 rows x 40 columns]"
      ]
     },
     "execution_count": 4,
     "metadata": {},
     "output_type": "execute_result"
    }
   ],
   "source": [
    "Data=pd.read_csv(\"../Datos/cleaned_05June2022.csv\").drop(columns=[\"Unnamed: 0\"]).fillna(\"\")\n",
    "Data.head()"
   ]
  },
  {
   "cell_type": "code",
   "execution_count": 5,
   "metadata": {},
   "outputs": [],
   "source": [
    "# datos númericos\n",
    "numerical=list(Data.select_dtypes(exclude=[\"category\",\"object\"]).columns)\n",
    "numerical.remove(\"Sexo\")\n",
    "numerical.remove('Recibe_sueldo_en_cuenta')\n",
    "\n",
    "\n",
    "# datos categorical\n",
    "categorical=list(Data.select_dtypes(include=[\"category\",\"object\"]).columns)+['Sexo','Recibe_sueldo_en_cuenta']\n",
    "categorical.remove(\"Target\")"
   ]
  },
  {
   "cell_type": "code",
   "execution_count": 6,
   "metadata": {},
   "outputs": [],
   "source": [
    "for i in categorical:\n",
    "    Data[i]=Data[i].astype(str)"
   ]
  },
  {
   "cell_type": "code",
   "execution_count": 7,
   "metadata": {},
   "outputs": [],
   "source": [
    "# Select \n",
    "select_variables_1=['E-F',\n",
    " 'D-F',\n",
    " 'C-C',\n",
    " 'A-K',\n",
    " 'A-G',\n",
    " 'num_comunicaciones',\n",
    " 'Recency',\n",
    " 'Positivo',\n",
    " 'B',\n",
    " 'Monto',\n",
    " 'Periodicity',\n",
    " 'Profesion',\n",
    " 'lec_B-B',\n",
    " 'Renta',\n",
    " 'F-I',\n",
    " 'Edad',\n",
    " 'lec_A-A',\n",
    " 'Comuna',\n",
    " 'Sin Info',\n",
    " 'Ciudad',\n",
    " 'Duracion_Campaña',\n",
    " 'Principalidad']"
   ]
  },
  {
   "cell_type": "markdown",
   "metadata": {},
   "source": [
    "# Train, Test Split"
   ]
  },
  {
   "cell_type": "code",
   "execution_count": 8,
   "metadata": {},
   "outputs": [
    {
     "data": {
      "text/html": [
       "<div>\n",
       "<style scoped>\n",
       "    .dataframe tbody tr th:only-of-type {\n",
       "        vertical-align: middle;\n",
       "    }\n",
       "\n",
       "    .dataframe tbody tr th {\n",
       "        vertical-align: top;\n",
       "    }\n",
       "\n",
       "    .dataframe thead th {\n",
       "        text-align: right;\n",
       "    }\n",
       "</style>\n",
       "<table border=\"1\" class=\"dataframe\">\n",
       "  <thead>\n",
       "    <tr style=\"text-align: right;\">\n",
       "      <th></th>\n",
       "      <th>Duracion_Campaña</th>\n",
       "      <th>B</th>\n",
       "      <th>C</th>\n",
       "      <th>lec_B-B</th>\n",
       "      <th>lec_E-E</th>\n",
       "      <th>lec_D-E</th>\n",
       "      <th>lec_C-D</th>\n",
       "      <th>lec_A-A</th>\n",
       "      <th>num_comunicaciones</th>\n",
       "      <th>Length</th>\n",
       "      <th>...</th>\n",
       "      <th>Sexo</th>\n",
       "      <th>Renta</th>\n",
       "      <th>Recibe_sueldo_en_cuenta</th>\n",
       "      <th>Segmento_consumidor</th>\n",
       "      <th>Meses_antiguedad</th>\n",
       "      <th>Comuna</th>\n",
       "      <th>Ciudad</th>\n",
       "      <th>Estado_civil</th>\n",
       "      <th>Principalidad</th>\n",
       "      <th>Profesion</th>\n",
       "    </tr>\n",
       "  </thead>\n",
       "  <tbody>\n",
       "    <tr>\n",
       "      <th>0</th>\n",
       "      <td>1.0</td>\n",
       "      <td>4.0</td>\n",
       "      <td>5.0</td>\n",
       "      <td>5.0</td>\n",
       "      <td>0.0</td>\n",
       "      <td>0.0</td>\n",
       "      <td>0.0</td>\n",
       "      <td>0.0</td>\n",
       "      <td>22.0</td>\n",
       "      <td>371</td>\n",
       "      <td>...</td>\n",
       "      <td>1</td>\n",
       "      <td>R1</td>\n",
       "      <td>0</td>\n",
       "      <td>A</td>\n",
       "      <td>Mayor a 10 años</td>\n",
       "      <td>331.0</td>\n",
       "      <td>13.0</td>\n",
       "      <td>D</td>\n",
       "      <td>B</td>\n",
       "      <td>P164</td>\n",
       "    </tr>\n",
       "    <tr>\n",
       "      <th>1</th>\n",
       "      <td>1.0</td>\n",
       "      <td>6.0</td>\n",
       "      <td>6.0</td>\n",
       "      <td>8.0</td>\n",
       "      <td>0.0</td>\n",
       "      <td>1.0</td>\n",
       "      <td>1.0</td>\n",
       "      <td>0.0</td>\n",
       "      <td>15.0</td>\n",
       "      <td>371</td>\n",
       "      <td>...</td>\n",
       "      <td>1</td>\n",
       "      <td>R4</td>\n",
       "      <td>0</td>\n",
       "      <td>A</td>\n",
       "      <td>Mayor a 10 años</td>\n",
       "      <td>91.0</td>\n",
       "      <td>13.0</td>\n",
       "      <td>D</td>\n",
       "      <td>B</td>\n",
       "      <td>P85</td>\n",
       "    </tr>\n",
       "    <tr>\n",
       "      <th>2</th>\n",
       "      <td>1.0</td>\n",
       "      <td>2.0</td>\n",
       "      <td>3.0</td>\n",
       "      <td>1.0</td>\n",
       "      <td>0.0</td>\n",
       "      <td>0.0</td>\n",
       "      <td>1.0</td>\n",
       "      <td>0.0</td>\n",
       "      <td>26.0</td>\n",
       "      <td>371</td>\n",
       "      <td>...</td>\n",
       "      <td>1</td>\n",
       "      <td>R5</td>\n",
       "      <td>0</td>\n",
       "      <td>A</td>\n",
       "      <td>Mayor a 10 años</td>\n",
       "      <td>34.0</td>\n",
       "      <td>5.0</td>\n",
       "      <td>B</td>\n",
       "      <td>C</td>\n",
       "      <td>P143</td>\n",
       "    </tr>\n",
       "    <tr>\n",
       "      <th>3</th>\n",
       "      <td>1.2</td>\n",
       "      <td>7.0</td>\n",
       "      <td>3.0</td>\n",
       "      <td>5.0</td>\n",
       "      <td>0.0</td>\n",
       "      <td>0.0</td>\n",
       "      <td>2.0</td>\n",
       "      <td>2.0</td>\n",
       "      <td>34.0</td>\n",
       "      <td>371</td>\n",
       "      <td>...</td>\n",
       "      <td>1</td>\n",
       "      <td>R9</td>\n",
       "      <td>0</td>\n",
       "      <td>A</td>\n",
       "      <td>Mayor a 10 años</td>\n",
       "      <td>331.0</td>\n",
       "      <td>13.0</td>\n",
       "      <td>B</td>\n",
       "      <td>C</td>\n",
       "      <td>P1</td>\n",
       "    </tr>\n",
       "    <tr>\n",
       "      <th>4</th>\n",
       "      <td>1.0</td>\n",
       "      <td>4.0</td>\n",
       "      <td>1.0</td>\n",
       "      <td>1.0</td>\n",
       "      <td>0.0</td>\n",
       "      <td>0.0</td>\n",
       "      <td>0.0</td>\n",
       "      <td>0.0</td>\n",
       "      <td>24.0</td>\n",
       "      <td>371</td>\n",
       "      <td>...</td>\n",
       "      <td>0</td>\n",
       "      <td>R2</td>\n",
       "      <td>0</td>\n",
       "      <td>B</td>\n",
       "      <td>Mayor a 10 años</td>\n",
       "      <td>37.0</td>\n",
       "      <td>5.0</td>\n",
       "      <td>D</td>\n",
       "      <td>F</td>\n",
       "      <td>P210</td>\n",
       "    </tr>\n",
       "  </tbody>\n",
       "</table>\n",
       "<p>5 rows × 39 columns</p>\n",
       "</div>"
      ],
      "text/plain": [
       "   Duracion_Campaña    B    C  lec_B-B  lec_E-E  lec_D-E  lec_C-D  lec_A-A  \\\n",
       "0               1.0  4.0  5.0      5.0      0.0      0.0      0.0      0.0   \n",
       "1               1.0  6.0  6.0      8.0      0.0      1.0      1.0      0.0   \n",
       "2               1.0  2.0  3.0      1.0      0.0      0.0      1.0      0.0   \n",
       "3               1.2  7.0  3.0      5.0      0.0      0.0      2.0      2.0   \n",
       "4               1.0  4.0  1.0      1.0      0.0      0.0      0.0      0.0   \n",
       "\n",
       "   num_comunicaciones  Length  ...  Sexo  Renta  Recibe_sueldo_en_cuenta  \\\n",
       "0                22.0     371  ...     1     R1                        0   \n",
       "1                15.0     371  ...     1     R4                        0   \n",
       "2                26.0     371  ...     1     R5                        0   \n",
       "3                34.0     371  ...     1     R9                        0   \n",
       "4                24.0     371  ...     0     R2                        0   \n",
       "\n",
       "   Segmento_consumidor  Meses_antiguedad  Comuna  Ciudad  Estado_civil  \\\n",
       "0                    A   Mayor a 10 años   331.0    13.0             D   \n",
       "1                    A   Mayor a 10 años    91.0    13.0             D   \n",
       "2                    A   Mayor a 10 años    34.0     5.0             B   \n",
       "3                    A   Mayor a 10 años   331.0    13.0             B   \n",
       "4                    B   Mayor a 10 años    37.0     5.0             D   \n",
       "\n",
       "   Principalidad  Profesion  \n",
       "0              B       P164  \n",
       "1              B        P85  \n",
       "2              C       P143  \n",
       "3              C         P1  \n",
       "4              F       P210  \n",
       "\n",
       "[5 rows x 39 columns]"
      ]
     },
     "execution_count": 8,
     "metadata": {},
     "output_type": "execute_result"
    }
   ],
   "source": [
    "X=Data.drop(columns=[\"Target\"]).copy()\n",
    "X.head()"
   ]
  },
  {
   "cell_type": "code",
   "execution_count": 9,
   "metadata": {},
   "outputs": [
    {
     "data": {
      "text/plain": [
       "0               \n",
       "1    E-E B-B D-E\n",
       "2        D-E A-A\n",
       "3            E-E\n",
       "4            D-E\n",
       "Name: Target, dtype: object"
      ]
     },
     "execution_count": 9,
     "metadata": {},
     "output_type": "execute_result"
    }
   ],
   "source": [
    "Y=Data[\"Target\"]\n",
    "Y.head()"
   ]
  },
  {
   "cell_type": "code",
   "execution_count": 10,
   "metadata": {},
   "outputs": [],
   "source": [
    "# Generación de conjuntos de train y test\n",
    "Xtrain, Xtest, Ytrain, Ytest = train_test_split(\n",
    "    X, Y, test_size=0.33, \n",
    "    shuffle=True,\n",
    "    \n",
    ") "
   ]
  },
  {
   "cell_type": "code",
   "execution_count": 11,
   "metadata": {},
   "outputs": [],
   "source": [
    "# Sobremuestreo: Aumentar numero de datos de la clase minoritaria\n",
    "# ROS(Duplica clases):\n",
    "ros=RandomOverSampler(random_state=0) # Random_state=0"
   ]
  },
  {
   "cell_type": "code",
   "execution_count": 12,
   "metadata": {},
   "outputs": [],
   "source": [
    "# ROS:\n",
    "Xtrain, Ytrain=ros.fit_resample(Xtrain,Ytrain)"
   ]
  },
  {
   "cell_type": "code",
   "execution_count": 13,
   "metadata": {},
   "outputs": [
    {
     "data": {
      "text/plain": [
       "(281330, 39)"
      ]
     },
     "execution_count": 13,
     "metadata": {},
     "output_type": "execute_result"
    }
   ],
   "source": [
    "Xtrain.shape"
   ]
  },
  {
   "cell_type": "code",
   "execution_count": 12,
   "metadata": {},
   "outputs": [],
   "source": [
    "numerical1=list(filter(lambda x:x  in numerical,select_variables_1))\n",
    "categorical1=list(filter(lambda x:x  in categorical,select_variables_1))"
   ]
  },
  {
   "cell_type": "code",
   "execution_count": 13,
   "metadata": {},
   "outputs": [],
   "source": [
    "# Preprocesamiento de datos\n",
    "preprocessing_transformer1 = ColumnTransformer(\n",
    "    transformers=[('OneHotEncoder', OneHotEncoder(handle_unknown=\"ignore\"),categorical1 ),\n",
    "        ('MinMax', MinMaxScaler(),numerical1),\n",
    "    ])"
   ]
  },
  {
   "cell_type": "markdown",
   "metadata": {},
   "source": [
    "# Model 0"
   ]
  },
  {
   "cell_type": "code",
   "execution_count": 14,
   "metadata": {},
   "outputs": [],
   "source": [
    "tags_to_naive=['E-F',\n",
    " 'D-F',\n",
    " 'C-C',\n",
    " 'A-K',\n",
    " 'A-G',\n",
    " 'num_comunicaciones',\n",
    " 'Recency',\n",
    " 'Positivo',\n",
    " 'B',\n",
    " 'Monto',\n",
    " 'Periodicity',\n",
    " 'lec_B-B',\n",
    " 'F-I',\n",
    " 'lec_A-A',\n",
    " 'Sin Info',\n",
    " 'Duracion_Campaña',\n",
    " ]"
   ]
  },
  {
   "cell_type": "code",
   "execution_count": 15,
   "metadata": {},
   "outputs": [],
   "source": [
    "# Preprocesamiento de datos\n",
    "preprocessing_transformer2 = ColumnTransformer(\n",
    "    transformers=[\n",
    "        ('MinMax', MinMaxScaler(),tags_to_naive),\n",
    "    ])"
   ]
  },
  {
   "cell_type": "code",
   "execution_count": 16,
   "metadata": {},
   "outputs": [],
   "source": [
    "pipe_naive = Pipeline(\n",
    "    [\n",
    "        (\"preprocesamiento\", preprocessing_transformer2), \n",
    "     (\"clf\",MultinomialNB())\n",
    "    ]\n",
    ")"
   ]
  },
  {
   "cell_type": "code",
   "execution_count": 17,
   "metadata": {},
   "outputs": [
    {
     "data": {
      "text/plain": [
       "Pipeline(steps=[('preprocesamiento',\n",
       "                 ColumnTransformer(transformers=[('MinMax', MinMaxScaler(),\n",
       "                                                  ['E-F', 'D-F', 'C-C', 'A-K',\n",
       "                                                   'A-G', 'num_comunicaciones',\n",
       "                                                   'Recency', 'Positivo', 'B',\n",
       "                                                   'Monto', 'Periodicity',\n",
       "                                                   'lec_B-B', 'F-I', 'lec_A-A',\n",
       "                                                   'Sin Info',\n",
       "                                                   'Duracion_Campaña'])])),\n",
       "                ('clf', MultinomialNB())])"
      ]
     },
     "execution_count": 17,
     "metadata": {},
     "output_type": "execute_result"
    }
   ],
   "source": [
    "# Fit\n",
    "pipe_naive.fit(Xtrain, Ytrain)"
   ]
  },
  {
   "cell_type": "code",
   "execution_count": 18,
   "metadata": {},
   "outputs": [],
   "source": [
    "# Generación de predicciones\n",
    "Ypred = pipe_naive.predict(Xtest)"
   ]
  },
  {
   "cell_type": "code",
   "execution_count": 19,
   "metadata": {},
   "outputs": [
    {
     "data": {
      "text/plain": [
       "0.2863466915191053"
      ]
     },
     "execution_count": 19,
     "metadata": {},
     "output_type": "execute_result"
    }
   ],
   "source": [
    "accuracy_score(Ypred, Ytest)"
   ]
  },
  {
   "cell_type": "code",
   "execution_count": 20,
   "metadata": {},
   "outputs": [
    {
     "data": {
      "text/plain": [
       "0.6473128300714509"
      ]
     },
     "execution_count": 20,
     "metadata": {},
     "output_type": "execute_result"
    }
   ],
   "source": [
    "Ypred_map=pd.Series(Ypred).apply( lambda x: x.split(\" \"))\n",
    "Ytest_map=pd.Series(Ytest).apply( lambda x: x.split(\" \"))\n",
    "ml_metrics.mapk(Ytest_map, Ypred_map, 5)"
   ]
  },
  {
   "cell_type": "code",
   "execution_count": 21,
   "metadata": {},
   "outputs": [],
   "source": [
    "# Guardar modelo:\n",
    "pickle.dump(pipe_naive, open('../Modelos/pipe_naive.pkl', \"wb\"))"
   ]
  },
  {
   "cell_type": "code",
   "execution_count": null,
   "metadata": {},
   "outputs": [],
   "source": [
    "# Leer modelo:\n",
    "pipe_naive= pickle.load(open('../Modelos/pipe_naive.pkl', 'rb'))"
   ]
  },
  {
   "cell_type": "markdown",
   "metadata": {},
   "source": [
    "# Model 1"
   ]
  },
  {
   "cell_type": "code",
   "execution_count": 22,
   "metadata": {},
   "outputs": [],
   "source": [
    "pipe_tree = Pipeline(\n",
    "    [\n",
    "        (\"preprocesamiento\", preprocessing_transformer1), \n",
    "     (\"clf\",DecisionTreeClassifier(random_state=0))\n",
    "    ]\n",
    ")"
   ]
  },
  {
   "cell_type": "code",
   "execution_count": 23,
   "metadata": {},
   "outputs": [
    {
     "data": {
      "text/plain": [
       "Pipeline(steps=[('preprocesamiento',\n",
       "                 ColumnTransformer(transformers=[('OneHotEncoder',\n",
       "                                                  OneHotEncoder(handle_unknown='ignore'),\n",
       "                                                  ['Profesion', 'Renta', 'Edad',\n",
       "                                                   'Comuna', 'Ciudad',\n",
       "                                                   'Principalidad']),\n",
       "                                                 ('MinMax', MinMaxScaler(),\n",
       "                                                  ['E-F', 'D-F', 'C-C', 'A-K',\n",
       "                                                   'A-G', 'num_comunicaciones',\n",
       "                                                   'Recency', 'Positivo', 'B',\n",
       "                                                   'Monto', 'Periodicity',\n",
       "                                                   'lec_B-B', 'F-I', 'lec_A-A',\n",
       "                                                   'Sin Info',\n",
       "                                                   'Duracion_Campaña'])])),\n",
       "                ('clf', DecisionTreeClassifier(random_state=0))])"
      ]
     },
     "execution_count": 23,
     "metadata": {},
     "output_type": "execute_result"
    }
   ],
   "source": [
    "# Fit\n",
    "pipe_tree.fit(Xtrain, Ytrain)"
   ]
  },
  {
   "cell_type": "code",
   "execution_count": 24,
   "metadata": {},
   "outputs": [],
   "source": [
    "# Generación de predicciones\n",
    "Ypred = pipe_tree.predict(Xtest)"
   ]
  },
  {
   "cell_type": "code",
   "execution_count": 25,
   "metadata": {},
   "outputs": [
    {
     "data": {
      "text/plain": [
       "0.31183597390493945"
      ]
     },
     "execution_count": 25,
     "metadata": {},
     "output_type": "execute_result"
    }
   ],
   "source": [
    "accuracy_score(Ypred, Ytest)"
   ]
  },
  {
   "cell_type": "code",
   "execution_count": 26,
   "metadata": {},
   "outputs": [
    {
     "data": {
      "text/plain": [
       "0.6510523454488971"
      ]
     },
     "execution_count": 26,
     "metadata": {},
     "output_type": "execute_result"
    }
   ],
   "source": [
    "Ypred_map=pd.Series(Ypred).apply( lambda x: x.split(\" \"))\n",
    "Ytest_map=pd.Series(Ytest).apply( lambda x: x.split(\" \"))\n",
    "ml_metrics.mapk(Ytest_map, Ypred_map, 5)"
   ]
  },
  {
   "cell_type": "code",
   "execution_count": 27,
   "metadata": {},
   "outputs": [],
   "source": [
    "# Guardar modelo:\n",
    "pickle.dump(pipe_tree, open('../Modelos/pipe_tree.pkl', \"wb\"))"
   ]
  },
  {
   "cell_type": "code",
   "execution_count": 17,
   "metadata": {},
   "outputs": [],
   "source": [
    "# Leer modelo:\n",
    "pipe_tree= pickle.load(open('../Modelos/pipe_tree.pkl', 'rb'))"
   ]
  },
  {
   "cell_type": "markdown",
   "metadata": {},
   "source": [
    "# Model 2"
   ]
  },
  {
   "cell_type": "code",
   "execution_count": 28,
   "metadata": {},
   "outputs": [],
   "source": [
    "pipe_random_forest1= Pipeline(\n",
    "    [\n",
    "        (\"preprocesamiento\", preprocessing_transformer1), \n",
    "     (\"clf\",RandomForestClassifier(random_state=1,n_estimators=100))\n",
    "    ]\n",
    ")"
   ]
  },
  {
   "cell_type": "code",
   "execution_count": 29,
   "metadata": {},
   "outputs": [
    {
     "data": {
      "text/plain": [
       "Pipeline(steps=[('preprocesamiento',\n",
       "                 ColumnTransformer(transformers=[('OneHotEncoder',\n",
       "                                                  OneHotEncoder(handle_unknown='ignore'),\n",
       "                                                  ['Profesion', 'Renta', 'Edad',\n",
       "                                                   'Comuna', 'Ciudad',\n",
       "                                                   'Principalidad']),\n",
       "                                                 ('MinMax', MinMaxScaler(),\n",
       "                                                  ['E-F', 'D-F', 'C-C', 'A-K',\n",
       "                                                   'A-G', 'num_comunicaciones',\n",
       "                                                   'Recency', 'Positivo', 'B',\n",
       "                                                   'Monto', 'Periodicity',\n",
       "                                                   'lec_B-B', 'F-I', 'lec_A-A',\n",
       "                                                   'Sin Info',\n",
       "                                                   'Duracion_Campaña'])])),\n",
       "                ('clf', RandomForestClassifier(random_state=1))])"
      ]
     },
     "execution_count": 29,
     "metadata": {},
     "output_type": "execute_result"
    }
   ],
   "source": [
    "# Fit\n",
    "pipe_random_forest1.fit(Xtrain, Ytrain)"
   ]
  },
  {
   "cell_type": "code",
   "execution_count": 30,
   "metadata": {},
   "outputs": [],
   "source": [
    "# Generación de predicciones\n",
    "Ypred = pipe_random_forest1.predict(Xtest)"
   ]
  },
  {
   "cell_type": "code",
   "execution_count": 31,
   "metadata": {},
   "outputs": [
    {
     "data": {
      "text/plain": [
       "0.4391891891891892"
      ]
     },
     "execution_count": 31,
     "metadata": {},
     "output_type": "execute_result"
    }
   ],
   "source": [
    "accuracy_score(Ypred, Ytest)"
   ]
  },
  {
   "cell_type": "code",
   "execution_count": 32,
   "metadata": {},
   "outputs": [
    {
     "data": {
      "text/plain": [
       "0.6990292016154085"
      ]
     },
     "execution_count": 32,
     "metadata": {},
     "output_type": "execute_result"
    }
   ],
   "source": [
    "Ypred_map=pd.Series(Ypred).apply( lambda x: x.split(\" \"))\n",
    "Ytest_map=pd.Series(Ytest).apply( lambda x: x.split(\" \"))\n",
    "ml_metrics.mapk(Ytest_map, Ypred_map, 5)"
   ]
  },
  {
   "cell_type": "code",
   "execution_count": 33,
   "metadata": {},
   "outputs": [],
   "source": [
    "# Guardar modelo:\n",
    "pickle.dump(pipe_random_forest1, open('../Modelos/pipe_random_forest1.pkl', \"wb\"))"
   ]
  },
  {
   "cell_type": "code",
   "execution_count": 24,
   "metadata": {},
   "outputs": [],
   "source": [
    "# Leer modelo:\n",
    "pipe_random_forest1= pickle.load(open('../Modelos/pipe_random_forest1.pkl', 'rb'))"
   ]
  },
  {
   "cell_type": "markdown",
   "metadata": {},
   "source": [
    "# Model 3: Fue entrenado en GPU de la nube de google"
   ]
  },
  {
   "cell_type": "code",
   "execution_count": null,
   "metadata": {},
   "outputs": [],
   "source": [
    "# save to BIN\n",
    "#model_xgb1.save_model(\"./pipe_xgb1.bin\")"
   ]
  },
  {
   "cell_type": "code",
   "execution_count": 14,
   "metadata": {},
   "outputs": [],
   "source": [
    "tf = open(\"../Modelos/myDictionary.json\", \"r\")\n",
    "dic_target = json.load(tf)"
   ]
  },
  {
   "cell_type": "code",
   "execution_count": 16,
   "metadata": {},
   "outputs": [],
   "source": [
    "# Load\n",
    "model_xgb1 = xgb.XGBClassifier()\n",
    "model_xgb1.load_model(\"../Modelos/model_xgb1.bin\")"
   ]
  },
  {
   "cell_type": "code",
   "execution_count": 17,
   "metadata": {},
   "outputs": [],
   "source": [
    "# Leer pipeline:\n",
    "pipe_xgb1= pickle.load(open('../Modelos/pipe_xgb1.pkl', 'rb'))"
   ]
  },
  {
   "cell_type": "code",
   "execution_count": 18,
   "metadata": {},
   "outputs": [
    {
     "data": {
      "text/plain": [
       "XGBClassifier(base_score=0.5, booster='gbtree', colsample_bylevel=1,\n",
       "              colsample_bynode=1, colsample_bytree=1, enable_categorical=False,\n",
       "              eval_metric='mlogloss', gamma=0, gpu_id=-1, importance_type=None,\n",
       "              interaction_constraints='', learning_rate=0.05, max_delta_step=0,\n",
       "              max_depth=6, min_child_weight=1, missing=nan,\n",
       "              monotone_constraints='()', n_estimators=500, n_jobs=8,\n",
       "              num_parallel_tree=1, objective='multi:softprob', predictor='auto',\n",
       "              random_state=0, reg_alpha=0, reg_lambda=1, scale_pos_weight=None,\n",
       "              seed=1, subsample=1, tree_method='auto', validate_parameters=1, ...)"
      ]
     },
     "execution_count": 18,
     "metadata": {},
     "output_type": "execute_result"
    }
   ],
   "source": [
    "model_xgb1"
   ]
  },
  {
   "cell_type": "markdown",
   "metadata": {},
   "source": [
    "-----------"
   ]
  },
  {
   "cell_type": "code",
   "execution_count": 19,
   "metadata": {},
   "outputs": [],
   "source": [
    "# Preprocesamiento\n",
    "Xtest1=pipe_xgb1.transform(Xtest)"
   ]
  },
  {
   "cell_type": "code",
   "execution_count": 20,
   "metadata": {},
   "outputs": [],
   "source": [
    "inv_map = {v: k for k, v in dic_target.items()}"
   ]
  },
  {
   "cell_type": "code",
   "execution_count": 25,
   "metadata": {},
   "outputs": [
    {
     "data": {
      "text/plain": [
       "0            D-E B-B\n",
       "1            B-B E-E\n",
       "2            B-B A-A\n",
       "3                D-E\n",
       "4        D-E B-B E-E\n",
       "            ...     \n",
       "21455            B-B\n",
       "21456        B-B D-E\n",
       "21457            E-E\n",
       "21458        D-E A-A\n",
       "21459            C-D\n",
       "Name: 0, Length: 21460, dtype: object"
      ]
     },
     "execution_count": 25,
     "metadata": {},
     "output_type": "execute_result"
    }
   ],
   "source": [
    "Ypred=pd.DataFrame(model_xgb1.predict(Xtest1)).replace(dic_target)[0]\n",
    "Ypred"
   ]
  },
  {
   "cell_type": "code",
   "execution_count": 26,
   "metadata": {},
   "outputs": [
    {
     "data": {
      "text/plain": [
       "30410        D-E B-B\n",
       "49736        E-E B-B\n",
       "34584        B-B A-A\n",
       "37201            D-E\n",
       "11055    D-E B-B E-E\n",
       "            ...     \n",
       "53153            B-B\n",
       "3884         B-B D-E\n",
       "38421            E-E\n",
       "30413            D-E\n",
       "62741            C-D\n",
       "Name: Target, Length: 21460, dtype: object"
      ]
     },
     "execution_count": 26,
     "metadata": {},
     "output_type": "execute_result"
    }
   ],
   "source": [
    "Ytest.replace(dic_target,inplace=True)\n",
    "Ytest"
   ]
  },
  {
   "cell_type": "code",
   "execution_count": 27,
   "metadata": {},
   "outputs": [
    {
     "data": {
      "text/plain": [
       "0.5970177073625349"
      ]
     },
     "execution_count": 27,
     "metadata": {},
     "output_type": "execute_result"
    }
   ],
   "source": [
    "accuracy_score(Ypred, Ytest)"
   ]
  },
  {
   "cell_type": "code",
   "execution_count": 28,
   "metadata": {},
   "outputs": [
    {
     "data": {
      "text/plain": [
       "0.7977335093714404"
      ]
     },
     "execution_count": 28,
     "metadata": {},
     "output_type": "execute_result"
    }
   ],
   "source": [
    "Ypred_map=pd.Series(Ypred).apply( lambda x: x.split(\" \"))\n",
    "Ytest_map=pd.Series(Ytest).apply( lambda x: x.split(\" \"))\n",
    "ml_metrics.mapk(Ytest_map, Ypred_map, 5)"
   ]
  },
  {
   "cell_type": "code",
   "execution_count": 52,
   "metadata": {},
   "outputs": [],
   "source": [
    "# Guardar pipeline pre-process:\n",
    "#pickle.dump(pipe_xgb1, open('pipe_xgb1.pkl', \"wb\"))"
   ]
  }
 ],
 "metadata": {
  "interpreter": {
   "hash": "65e97ffa20fbdd895c76c3a1d2c2ade704754874d6e45df701862667e65d73d7"
  },
  "kernelspec": {
   "display_name": "Python 3.9.6 ('Programacion_Cientifica')",
   "language": "python",
   "name": "python3"
  },
  "language_info": {
   "codemirror_mode": {
    "name": "ipython",
    "version": 3
   },
   "file_extension": ".py",
   "mimetype": "text/x-python",
   "name": "python",
   "nbconvert_exporter": "python",
   "pygments_lexer": "ipython3",
   "version": "3.9.6"
  },
  "orig_nbformat": 4
 },
 "nbformat": 4,
 "nbformat_minor": 2
}
