{
  "cells": [
    {
      "cell_type": "markdown",
      "metadata": {
        "id": "xrZF3PPzisDV"
      },
      "source": [
        "# Experimentos Finales Modelos no RN"
      ]
    },
    {
      "cell_type": "code",
      "execution_count": 38,
      "metadata": {
        "id": "VIJMMpWHisDb"
      },
      "outputs": [],
      "source": [
        "import pandas as pd\n",
        "import numpy as np\n",
        "\n",
        "import missingno as msno\n",
        "import matplotlib.pyplot as plt\n",
        "import plotly.express as px\n",
        "\n",
        "from sklearn.ensemble import RandomForestClassifier\n",
        "from sklearn.metrics import classification_report\n",
        "from sklearn.model_selection import train_test_split \n",
        "from sklearn.decomposition import PCA\n",
        "from sklearn.pipeline import Pipeline\n",
        "from sklearn.decomposition import TruncatedSVD\n",
        "\n",
        "from sklearn.compose import ColumnTransformer\n",
        "from sklearn.preprocessing import MinMaxScaler\n",
        "from sklearn.preprocessing import OneHotEncoder\n",
        "import datetime\n",
        "from dateutil.parser import parse\n",
        "from sklearn.tree import  DecisionTreeClassifier\n",
        "import plotly.graph_objects as go\n",
        "from imblearn.under_sampling import RandomUnderSampler\n",
        "from imblearn.over_sampling import RandomOverSampler\n",
        "import xgboost as xgb\n",
        "from sklearn.naive_bayes import MultinomialNB\n",
        "from sklearn.model_selection import GridSearchCV\n",
        "import ml_metrics\n",
        "import pickle\n",
        "from sklearn.metrics import accuracy_score\n",
        "import joblib\n",
        "import json\n"
      ]
    },
    {
      "cell_type": "code",
      "execution_count": 61,
      "metadata": {
        "colab": {
          "base_uri": "https://localhost:8080/",
          "height": 270
        },
        "id": "rapG9YQ5isDd",
        "outputId": "ff3a7d9d-f9be-42e3-94bd-f9fa171a6609"
      },
      "outputs": [
        {
          "name": "stderr",
          "output_type": "stream",
          "text": [
            "c:\\Users\\Jose Luis\\anaconda3\\envs\\Programacion_Cientifica\\lib\\site-packages\\IPython\\core\\interactiveshell.py:3441: DtypeWarning: Columns (36) have mixed types.Specify dtype option on import or set low_memory=False.\n",
            "  exec(code_obj, self.user_global_ns, self.user_ns)\n"
          ]
        },
        {
          "data": {
            "text/html": [
              "<div>\n",
              "<style scoped>\n",
              "    .dataframe tbody tr th:only-of-type {\n",
              "        vertical-align: middle;\n",
              "    }\n",
              "\n",
              "    .dataframe tbody tr th {\n",
              "        vertical-align: top;\n",
              "    }\n",
              "\n",
              "    .dataframe thead th {\n",
              "        text-align: right;\n",
              "    }\n",
              "</style>\n",
              "<table border=\"1\" class=\"dataframe\">\n",
              "  <thead>\n",
              "    <tr style=\"text-align: right;\">\n",
              "      <th></th>\n",
              "      <th>Duracion_Campaña</th>\n",
              "      <th>B</th>\n",
              "      <th>C</th>\n",
              "      <th>lec_B-B</th>\n",
              "      <th>lec_E-E</th>\n",
              "      <th>lec_D-E</th>\n",
              "      <th>lec_C-D</th>\n",
              "      <th>lec_A-A</th>\n",
              "      <th>num_comunicaciones</th>\n",
              "      <th>Length</th>\n",
              "      <th>...</th>\n",
              "      <th>Renta</th>\n",
              "      <th>Recibe_sueldo_en_cuenta</th>\n",
              "      <th>Segmento_consumidor</th>\n",
              "      <th>Meses_antiguedad</th>\n",
              "      <th>Comuna</th>\n",
              "      <th>Ciudad</th>\n",
              "      <th>Estado_civil</th>\n",
              "      <th>Principalidad</th>\n",
              "      <th>Profesion</th>\n",
              "      <th>Target</th>\n",
              "    </tr>\n",
              "  </thead>\n",
              "  <tbody>\n",
              "    <tr>\n",
              "      <th>0</th>\n",
              "      <td>1.0</td>\n",
              "      <td>4.0</td>\n",
              "      <td>5.0</td>\n",
              "      <td>5.0</td>\n",
              "      <td>0.0</td>\n",
              "      <td>0.0</td>\n",
              "      <td>0.0</td>\n",
              "      <td>0.0</td>\n",
              "      <td>22.0</td>\n",
              "      <td>371</td>\n",
              "      <td>...</td>\n",
              "      <td>R1</td>\n",
              "      <td>0</td>\n",
              "      <td>A</td>\n",
              "      <td>Mayor a 10 años</td>\n",
              "      <td>331.0</td>\n",
              "      <td>13.0</td>\n",
              "      <td>D</td>\n",
              "      <td>B</td>\n",
              "      <td>P164</td>\n",
              "      <td></td>\n",
              "    </tr>\n",
              "    <tr>\n",
              "      <th>1</th>\n",
              "      <td>1.0</td>\n",
              "      <td>6.0</td>\n",
              "      <td>6.0</td>\n",
              "      <td>8.0</td>\n",
              "      <td>0.0</td>\n",
              "      <td>1.0</td>\n",
              "      <td>1.0</td>\n",
              "      <td>0.0</td>\n",
              "      <td>15.0</td>\n",
              "      <td>371</td>\n",
              "      <td>...</td>\n",
              "      <td>R4</td>\n",
              "      <td>0</td>\n",
              "      <td>A</td>\n",
              "      <td>Mayor a 10 años</td>\n",
              "      <td>91.0</td>\n",
              "      <td>13.0</td>\n",
              "      <td>D</td>\n",
              "      <td>B</td>\n",
              "      <td>P85</td>\n",
              "      <td>E-E B-B D-E</td>\n",
              "    </tr>\n",
              "    <tr>\n",
              "      <th>2</th>\n",
              "      <td>1.0</td>\n",
              "      <td>2.0</td>\n",
              "      <td>3.0</td>\n",
              "      <td>1.0</td>\n",
              "      <td>0.0</td>\n",
              "      <td>0.0</td>\n",
              "      <td>1.0</td>\n",
              "      <td>0.0</td>\n",
              "      <td>26.0</td>\n",
              "      <td>371</td>\n",
              "      <td>...</td>\n",
              "      <td>R5</td>\n",
              "      <td>0</td>\n",
              "      <td>A</td>\n",
              "      <td>Mayor a 10 años</td>\n",
              "      <td>34.0</td>\n",
              "      <td>5.0</td>\n",
              "      <td>B</td>\n",
              "      <td>C</td>\n",
              "      <td>P143</td>\n",
              "      <td>D-E A-A</td>\n",
              "    </tr>\n",
              "    <tr>\n",
              "      <th>3</th>\n",
              "      <td>1.2</td>\n",
              "      <td>7.0</td>\n",
              "      <td>3.0</td>\n",
              "      <td>5.0</td>\n",
              "      <td>0.0</td>\n",
              "      <td>0.0</td>\n",
              "      <td>2.0</td>\n",
              "      <td>2.0</td>\n",
              "      <td>34.0</td>\n",
              "      <td>371</td>\n",
              "      <td>...</td>\n",
              "      <td>R9</td>\n",
              "      <td>0</td>\n",
              "      <td>A</td>\n",
              "      <td>Mayor a 10 años</td>\n",
              "      <td>331.0</td>\n",
              "      <td>13.0</td>\n",
              "      <td>B</td>\n",
              "      <td>C</td>\n",
              "      <td>P1</td>\n",
              "      <td>E-E</td>\n",
              "    </tr>\n",
              "    <tr>\n",
              "      <th>4</th>\n",
              "      <td>1.0</td>\n",
              "      <td>4.0</td>\n",
              "      <td>1.0</td>\n",
              "      <td>1.0</td>\n",
              "      <td>0.0</td>\n",
              "      <td>0.0</td>\n",
              "      <td>0.0</td>\n",
              "      <td>0.0</td>\n",
              "      <td>24.0</td>\n",
              "      <td>371</td>\n",
              "      <td>...</td>\n",
              "      <td>R2</td>\n",
              "      <td>0</td>\n",
              "      <td>B</td>\n",
              "      <td>Mayor a 10 años</td>\n",
              "      <td>37.0</td>\n",
              "      <td>5.0</td>\n",
              "      <td>D</td>\n",
              "      <td>F</td>\n",
              "      <td>P210</td>\n",
              "      <td>D-E</td>\n",
              "    </tr>\n",
              "  </tbody>\n",
              "</table>\n",
              "<p>5 rows × 40 columns</p>\n",
              "</div>"
            ],
            "text/plain": [
              "   Duracion_Campaña    B    C  lec_B-B  lec_E-E  lec_D-E  lec_C-D  lec_A-A  \\\n",
              "0               1.0  4.0  5.0      5.0      0.0      0.0      0.0      0.0   \n",
              "1               1.0  6.0  6.0      8.0      0.0      1.0      1.0      0.0   \n",
              "2               1.0  2.0  3.0      1.0      0.0      0.0      1.0      0.0   \n",
              "3               1.2  7.0  3.0      5.0      0.0      0.0      2.0      2.0   \n",
              "4               1.0  4.0  1.0      1.0      0.0      0.0      0.0      0.0   \n",
              "\n",
              "   num_comunicaciones  Length  ...  Renta  Recibe_sueldo_en_cuenta  \\\n",
              "0                22.0     371  ...     R1                        0   \n",
              "1                15.0     371  ...     R4                        0   \n",
              "2                26.0     371  ...     R5                        0   \n",
              "3                34.0     371  ...     R9                        0   \n",
              "4                24.0     371  ...     R2                        0   \n",
              "\n",
              "   Segmento_consumidor  Meses_antiguedad  Comuna  Ciudad  Estado_civil  \\\n",
              "0                    A   Mayor a 10 años   331.0    13.0             D   \n",
              "1                    A   Mayor a 10 años    91.0    13.0             D   \n",
              "2                    A   Mayor a 10 años    34.0     5.0             B   \n",
              "3                    A   Mayor a 10 años   331.0    13.0             B   \n",
              "4                    B   Mayor a 10 años    37.0     5.0             D   \n",
              "\n",
              "   Principalidad  Profesion       Target  \n",
              "0              B       P164               \n",
              "1              B        P85  E-E B-B D-E  \n",
              "2              C       P143      D-E A-A  \n",
              "3              C         P1          E-E  \n",
              "4              F       P210          D-E  \n",
              "\n",
              "[5 rows x 40 columns]"
            ]
          },
          "execution_count": 61,
          "metadata": {},
          "output_type": "execute_result"
        }
      ],
      "source": [
        "Data=pd.read_csv(\"cleaned_05June2022.csv\").drop(columns=[\"Unnamed: 0\"]).fillna(\"\")\n",
        "Data.head()"
      ]
    },
    {
      "cell_type": "code",
      "execution_count": 40,
      "metadata": {},
      "outputs": [],
      "source": [
        "#k=0\n",
        "#my_dic={}\n",
        "#for i in Data[\"Target\"].unique():\n",
        "#    my_dic[k]=i\n",
        "#    k=k+1"
      ]
    },
    {
      "cell_type": "code",
      "execution_count": 41,
      "metadata": {},
      "outputs": [],
      "source": [
        "#tf = open(\"myDictionary.json\", \"w\")\n",
        "#json.dump(my_dic,tf)\n",
        "#tf.close()"
      ]
    },
    {
      "cell_type": "code",
      "execution_count": 62,
      "metadata": {},
      "outputs": [
        {
          "name": "stdout",
          "output_type": "stream",
          "text": [
            "{'0': '', '1': 'E-E B-B D-E', '2': 'D-E A-A', '3': 'E-E', '4': 'D-E', '5': 'D-E B-B', '6': 'D-E B-B A-A', '7': 'B-B E-E', '8': 'D-E E-E B-B', '9': 'B-B D-E', '10': 'A-A B-B', '11': 'C-D B-B D-E', '12': 'E-E B-B', '13': 'B-B', '14': 'C-D E-E', '15': 'E-E C-D', '16': 'C-D B-B', '17': 'C-D', '18': 'D-E E-E', '19': 'C-D D-E B-B', '20': 'E-E D-E', '21': 'C-D E-E D-E', '22': 'B-B D-E E-E', '23': 'E-E D-E B-B', '24': 'C-D D-E', '25': 'B-B E-E D-E', '26': 'B-B A-A', '27': 'A-A', '28': 'D-E A-A B-B', '29': 'A-A D-E', '30': 'D-E C-D B-B', '31': 'D-E C-D', '32': 'D-E B-B E-E', '33': 'B-B C-D', '34': 'D-E B-B C-D'}\n"
          ]
        }
      ],
      "source": [
        "tf = open(\"myDictionary.json\", \"r\")\n",
        "dic_target = json.load(tf)\n",
        "print(dic_target)"
      ]
    },
    {
      "cell_type": "code",
      "execution_count": 63,
      "metadata": {},
      "outputs": [],
      "source": [
        "inv_map = {v: k for k, v in dic_target.items()}"
      ]
    },
    {
      "cell_type": "code",
      "execution_count": 64,
      "metadata": {
        "id": "tZywYKipisDe"
      },
      "outputs": [],
      "source": [
        "# datos númericos\n",
        "numerical=list(Data.select_dtypes(exclude=[\"category\",\"object\"]).columns)\n",
        "numerical.remove(\"Sexo\")\n",
        "numerical.remove('Recibe_sueldo_en_cuenta')\n",
        "\n",
        "\n",
        "# datos categorical\n",
        "categorical=list(Data.select_dtypes(include=[\"category\",\"object\"]).columns)+['Sexo','Recibe_sueldo_en_cuenta']\n",
        "categorical.remove(\"Target\")"
      ]
    },
    {
      "cell_type": "code",
      "execution_count": 65,
      "metadata": {
        "id": "_V6magoZisDf"
      },
      "outputs": [],
      "source": [
        "for i in categorical:\n",
        "    Data[i]=Data[i].astype(str)"
      ]
    },
    {
      "cell_type": "code",
      "execution_count": 66,
      "metadata": {
        "id": "GgNE_nb4isDf"
      },
      "outputs": [],
      "source": [
        "# Select 1 - Only Gini, corte visual\n",
        "select_variables_1=['E-F',\n",
        " 'D-F',\n",
        " 'C-C',\n",
        " 'A-K',\n",
        " 'A-G',\n",
        " 'num_comunicaciones',\n",
        " 'Recency',\n",
        " 'Positivo',\n",
        " 'B',\n",
        " 'Monto',\n",
        " 'Periodicity',\n",
        " 'lec_B-B',\n",
        " 'F-I',\n",
        " 'lec_A-A',\n",
        " 'Sin Info',\n",
        " 'Duracion_Campaña',\n",
        "]"
      ]
    },
    {
      "cell_type": "markdown",
      "metadata": {
        "id": "5wThX9EbisDg"
      },
      "source": [
        "# Train, Test Split"
      ]
    },
    {
      "cell_type": "code",
      "execution_count": 67,
      "metadata": {
        "colab": {
          "base_uri": "https://localhost:8080/",
          "height": 236
        },
        "id": "4TfmQ1MAisDh",
        "outputId": "63999ff3-bbe3-47af-f0d3-be0cd4457c9f"
      },
      "outputs": [
        {
          "data": {
            "text/html": [
              "<div>\n",
              "<style scoped>\n",
              "    .dataframe tbody tr th:only-of-type {\n",
              "        vertical-align: middle;\n",
              "    }\n",
              "\n",
              "    .dataframe tbody tr th {\n",
              "        vertical-align: top;\n",
              "    }\n",
              "\n",
              "    .dataframe thead th {\n",
              "        text-align: right;\n",
              "    }\n",
              "</style>\n",
              "<table border=\"1\" class=\"dataframe\">\n",
              "  <thead>\n",
              "    <tr style=\"text-align: right;\">\n",
              "      <th></th>\n",
              "      <th>Duracion_Campaña</th>\n",
              "      <th>B</th>\n",
              "      <th>C</th>\n",
              "      <th>lec_B-B</th>\n",
              "      <th>lec_E-E</th>\n",
              "      <th>lec_D-E</th>\n",
              "      <th>lec_C-D</th>\n",
              "      <th>lec_A-A</th>\n",
              "      <th>num_comunicaciones</th>\n",
              "      <th>Length</th>\n",
              "      <th>...</th>\n",
              "      <th>Sexo</th>\n",
              "      <th>Renta</th>\n",
              "      <th>Recibe_sueldo_en_cuenta</th>\n",
              "      <th>Segmento_consumidor</th>\n",
              "      <th>Meses_antiguedad</th>\n",
              "      <th>Comuna</th>\n",
              "      <th>Ciudad</th>\n",
              "      <th>Estado_civil</th>\n",
              "      <th>Principalidad</th>\n",
              "      <th>Profesion</th>\n",
              "    </tr>\n",
              "  </thead>\n",
              "  <tbody>\n",
              "    <tr>\n",
              "      <th>0</th>\n",
              "      <td>1.0</td>\n",
              "      <td>4.0</td>\n",
              "      <td>5.0</td>\n",
              "      <td>5.0</td>\n",
              "      <td>0.0</td>\n",
              "      <td>0.0</td>\n",
              "      <td>0.0</td>\n",
              "      <td>0.0</td>\n",
              "      <td>22.0</td>\n",
              "      <td>371</td>\n",
              "      <td>...</td>\n",
              "      <td>1</td>\n",
              "      <td>R1</td>\n",
              "      <td>0</td>\n",
              "      <td>A</td>\n",
              "      <td>Mayor a 10 años</td>\n",
              "      <td>331.0</td>\n",
              "      <td>13.0</td>\n",
              "      <td>D</td>\n",
              "      <td>B</td>\n",
              "      <td>P164</td>\n",
              "    </tr>\n",
              "    <tr>\n",
              "      <th>1</th>\n",
              "      <td>1.0</td>\n",
              "      <td>6.0</td>\n",
              "      <td>6.0</td>\n",
              "      <td>8.0</td>\n",
              "      <td>0.0</td>\n",
              "      <td>1.0</td>\n",
              "      <td>1.0</td>\n",
              "      <td>0.0</td>\n",
              "      <td>15.0</td>\n",
              "      <td>371</td>\n",
              "      <td>...</td>\n",
              "      <td>1</td>\n",
              "      <td>R4</td>\n",
              "      <td>0</td>\n",
              "      <td>A</td>\n",
              "      <td>Mayor a 10 años</td>\n",
              "      <td>91.0</td>\n",
              "      <td>13.0</td>\n",
              "      <td>D</td>\n",
              "      <td>B</td>\n",
              "      <td>P85</td>\n",
              "    </tr>\n",
              "    <tr>\n",
              "      <th>2</th>\n",
              "      <td>1.0</td>\n",
              "      <td>2.0</td>\n",
              "      <td>3.0</td>\n",
              "      <td>1.0</td>\n",
              "      <td>0.0</td>\n",
              "      <td>0.0</td>\n",
              "      <td>1.0</td>\n",
              "      <td>0.0</td>\n",
              "      <td>26.0</td>\n",
              "      <td>371</td>\n",
              "      <td>...</td>\n",
              "      <td>1</td>\n",
              "      <td>R5</td>\n",
              "      <td>0</td>\n",
              "      <td>A</td>\n",
              "      <td>Mayor a 10 años</td>\n",
              "      <td>34.0</td>\n",
              "      <td>5.0</td>\n",
              "      <td>B</td>\n",
              "      <td>C</td>\n",
              "      <td>P143</td>\n",
              "    </tr>\n",
              "    <tr>\n",
              "      <th>3</th>\n",
              "      <td>1.2</td>\n",
              "      <td>7.0</td>\n",
              "      <td>3.0</td>\n",
              "      <td>5.0</td>\n",
              "      <td>0.0</td>\n",
              "      <td>0.0</td>\n",
              "      <td>2.0</td>\n",
              "      <td>2.0</td>\n",
              "      <td>34.0</td>\n",
              "      <td>371</td>\n",
              "      <td>...</td>\n",
              "      <td>1</td>\n",
              "      <td>R9</td>\n",
              "      <td>0</td>\n",
              "      <td>A</td>\n",
              "      <td>Mayor a 10 años</td>\n",
              "      <td>331.0</td>\n",
              "      <td>13.0</td>\n",
              "      <td>B</td>\n",
              "      <td>C</td>\n",
              "      <td>P1</td>\n",
              "    </tr>\n",
              "    <tr>\n",
              "      <th>4</th>\n",
              "      <td>1.0</td>\n",
              "      <td>4.0</td>\n",
              "      <td>1.0</td>\n",
              "      <td>1.0</td>\n",
              "      <td>0.0</td>\n",
              "      <td>0.0</td>\n",
              "      <td>0.0</td>\n",
              "      <td>0.0</td>\n",
              "      <td>24.0</td>\n",
              "      <td>371</td>\n",
              "      <td>...</td>\n",
              "      <td>0</td>\n",
              "      <td>R2</td>\n",
              "      <td>0</td>\n",
              "      <td>B</td>\n",
              "      <td>Mayor a 10 años</td>\n",
              "      <td>37.0</td>\n",
              "      <td>5.0</td>\n",
              "      <td>D</td>\n",
              "      <td>F</td>\n",
              "      <td>P210</td>\n",
              "    </tr>\n",
              "  </tbody>\n",
              "</table>\n",
              "<p>5 rows × 39 columns</p>\n",
              "</div>"
            ],
            "text/plain": [
              "   Duracion_Campaña    B    C  lec_B-B  lec_E-E  lec_D-E  lec_C-D  lec_A-A  \\\n",
              "0               1.0  4.0  5.0      5.0      0.0      0.0      0.0      0.0   \n",
              "1               1.0  6.0  6.0      8.0      0.0      1.0      1.0      0.0   \n",
              "2               1.0  2.0  3.0      1.0      0.0      0.0      1.0      0.0   \n",
              "3               1.2  7.0  3.0      5.0      0.0      0.0      2.0      2.0   \n",
              "4               1.0  4.0  1.0      1.0      0.0      0.0      0.0      0.0   \n",
              "\n",
              "   num_comunicaciones  Length  ...  Sexo  Renta  Recibe_sueldo_en_cuenta  \\\n",
              "0                22.0     371  ...     1     R1                        0   \n",
              "1                15.0     371  ...     1     R4                        0   \n",
              "2                26.0     371  ...     1     R5                        0   \n",
              "3                34.0     371  ...     1     R9                        0   \n",
              "4                24.0     371  ...     0     R2                        0   \n",
              "\n",
              "   Segmento_consumidor  Meses_antiguedad  Comuna  Ciudad  Estado_civil  \\\n",
              "0                    A   Mayor a 10 años   331.0    13.0             D   \n",
              "1                    A   Mayor a 10 años    91.0    13.0             D   \n",
              "2                    A   Mayor a 10 años    34.0     5.0             B   \n",
              "3                    A   Mayor a 10 años   331.0    13.0             B   \n",
              "4                    B   Mayor a 10 años    37.0     5.0             D   \n",
              "\n",
              "   Principalidad  Profesion  \n",
              "0              B       P164  \n",
              "1              B        P85  \n",
              "2              C       P143  \n",
              "3              C         P1  \n",
              "4              F       P210  \n",
              "\n",
              "[5 rows x 39 columns]"
            ]
          },
          "execution_count": 67,
          "metadata": {},
          "output_type": "execute_result"
        }
      ],
      "source": [
        "X=Data.drop(columns=[\"Target\"]).copy()\n",
        "X.head()"
      ]
    },
    {
      "cell_type": "code",
      "execution_count": 68,
      "metadata": {
        "colab": {
          "base_uri": "https://localhost:8080/"
        },
        "id": "pIO3GvwOisDi",
        "outputId": "f301ffc3-8327-4dc7-8645-21a5ffb0e382"
      },
      "outputs": [
        {
          "data": {
            "text/plain": [
              "0               \n",
              "1    E-E B-B D-E\n",
              "2        D-E A-A\n",
              "3            E-E\n",
              "4            D-E\n",
              "Name: Target, dtype: object"
            ]
          },
          "execution_count": 68,
          "metadata": {},
          "output_type": "execute_result"
        }
      ],
      "source": [
        "Y=Data[\"Target\"]\n",
        "Y.head()"
      ]
    },
    {
      "cell_type": "code",
      "execution_count": 69,
      "metadata": {
        "id": "-BQGcazcPtw9"
      },
      "outputs": [
        {
          "data": {
            "text/plain": [
              "0         0\n",
              "1         1\n",
              "2         2\n",
              "3         3\n",
              "4         4\n",
              "         ..\n",
              "65025    16\n",
              "65026    17\n",
              "65027    25\n",
              "65028     0\n",
              "65029     5\n",
              "Name: Target, Length: 65030, dtype: object"
            ]
          },
          "execution_count": 69,
          "metadata": {},
          "output_type": "execute_result"
        }
      ],
      "source": [
        "Y.replace(inv_map,inplace=True)\n",
        "Y"
      ]
    },
    {
      "cell_type": "code",
      "execution_count": 70,
      "metadata": {
        "id": "JQNFpl3IisDi"
      },
      "outputs": [],
      "source": [
        "# Generación de conjuntos de train y test\n",
        "Xtrain, Xtest, Ytrain, Ytest = train_test_split(\n",
        "    X, Y, test_size=0.33, \n",
        "    shuffle=True,\n",
        "    \n",
        ") "
      ]
    },
    {
      "cell_type": "code",
      "execution_count": 71,
      "metadata": {
        "id": "cEjw5QFYisDj"
      },
      "outputs": [],
      "source": [
        "# Sobremuestreo: Aumentar numero de datos de la clase minoritaria\n",
        "# ROS(Duplica clases):\n",
        "ros=RandomOverSampler(random_state=0) # Random_state=0"
      ]
    },
    {
      "cell_type": "code",
      "execution_count": 72,
      "metadata": {
        "id": "lhE1_yewisDj"
      },
      "outputs": [],
      "source": [
        "# ROS:\n",
        "Xtrain, Ytrain=ros.fit_resample(Xtrain,Ytrain)"
      ]
    },
    {
      "cell_type": "code",
      "execution_count": 73,
      "metadata": {
        "colab": {
          "base_uri": "https://localhost:8080/"
        },
        "id": "HaYY93nnisDk",
        "outputId": "b50d56f1-20c4-4a86-d093-984c80636809"
      },
      "outputs": [
        {
          "data": {
            "text/plain": [
              "(284270, 39)"
            ]
          },
          "execution_count": 73,
          "metadata": {},
          "output_type": "execute_result"
        }
      ],
      "source": [
        "Xtrain.shape"
      ]
    },
    {
      "cell_type": "code",
      "execution_count": 74,
      "metadata": {
        "id": "j5Vihe-TisDl"
      },
      "outputs": [],
      "source": [
        "numerical1=list(filter(lambda x:x  in numerical,select_variables_1))\n",
        "categorical1=list(filter(lambda x:x  in categorical,select_variables_1))"
      ]
    },
    {
      "cell_type": "code",
      "execution_count": 75,
      "metadata": {
        "id": "LVYPQTNVisDm"
      },
      "outputs": [],
      "source": [
        "# Preprocesamiento de datos\n",
        "preprocessing_transformer1 = ColumnTransformer(\n",
        "    transformers=[('OneHotEncoder', OneHotEncoder(handle_unknown=\"ignore\"),categorical1 ),\n",
        "        ('MinMax', MinMaxScaler(),numerical1),\n",
        "    ])"
      ]
    },
    {
      "cell_type": "code",
      "execution_count": 76,
      "metadata": {
        "id": "Qvv26iualIKS"
      },
      "outputs": [],
      "source": [
        "pipe1 = Pipeline(\n",
        "    [(\"preprocesamiento\", preprocessing_transformer1)]\n",
        ")"
      ]
    },
    {
      "cell_type": "code",
      "execution_count": 77,
      "metadata": {
        "id": "DLaJfNxAisDu"
      },
      "outputs": [],
      "source": [
        "# Preprocesamiento\n",
        "pipe1.fit(Xtrain)\n",
        "Xtrain1=pipe1.transform(Xtrain)\n",
        "Xtest1=pipe1.transform(Xtest)\n"
      ]
    },
    {
      "cell_type": "code",
      "execution_count": 78,
      "metadata": {
        "id": "XD0d5qVhlrrS"
      },
      "outputs": [],
      "source": [
        "model= xgb.XGBClassifier(seed=1,  eval_metric='mlogloss',\n",
        "                               learning_rate= 0.05,n_estimators= 500,\n",
        "                               #tree_method='gpu_hist', gpu_id=0\n",
        "                               )"
      ]
    },
    {
      "cell_type": "code",
      "execution_count": 68,
      "metadata": {
        "id": "KQCWPFVmtYe_"
      },
      "outputs": [],
      "source": [
        "# Load\n",
        "model_xgb1 = xgb.XGBClassifier()\n",
        "model_xgb1.load_model(\"model_xgb1.bin\")"
      ]
    },
    {
      "cell_type": "code",
      "execution_count": 80,
      "metadata": {
        "colab": {
          "base_uri": "https://localhost:8080/"
        },
        "id": "-s7wWSGJisDu",
        "outputId": "c2ce512e-a506-4941-f790-347d046ebc44"
      },
      "outputs": [
        {
          "name": "stderr",
          "output_type": "stream",
          "text": [
            "c:\\Users\\Jose Luis\\anaconda3\\envs\\Programacion_Cientifica\\lib\\site-packages\\xgboost\\sklearn.py:1224: UserWarning: The use of label encoder in XGBClassifier is deprecated and will be removed in a future release. To remove this warning, do the following: 1) Pass option use_label_encoder=False when constructing XGBClassifier object; and 2) Encode your labels (y) as integers starting with 0, i.e. 0, 1, 2, ..., [num_class - 1].\n",
            "  warnings.warn(label_encoder_deprecation_msg, UserWarning)\n"
          ]
        },
        {
          "data": {
            "text/plain": [
              "XGBClassifier(base_score=0.5, booster='gbtree', colsample_bylevel=1,\n",
              "              colsample_bynode=1, colsample_bytree=1, enable_categorical=False,\n",
              "              eval_metric='mlogloss', gamma=0, gpu_id=-1, importance_type=None,\n",
              "              interaction_constraints='', learning_rate=0.05, max_delta_step=0,\n",
              "              max_depth=6, min_child_weight=1, missing=nan,\n",
              "              monotone_constraints='()', n_estimators=500, n_jobs=8,\n",
              "              num_parallel_tree=1, objective='multi:softprob', predictor='auto',\n",
              "              random_state=1, reg_alpha=0, reg_lambda=1, scale_pos_weight=None,\n",
              "              seed=1, subsample=1, tree_method='exact', validate_parameters=1, ...)"
            ]
          },
          "execution_count": 80,
          "metadata": {},
          "output_type": "execute_result"
        }
      ],
      "source": [
        "# Fit\n",
        "model.fit(Xtrain1, Ytrain)"
      ]
    },
    {
      "cell_type": "code",
      "execution_count": 101,
      "metadata": {
        "id": "clNesunvisDu"
      },
      "outputs": [],
      "source": [
        "# Generación de predicciones\n",
        "Ypred =pd.DataFrame(model.predict(Xtest1))"
      ]
    },
    {
      "cell_type": "code",
      "execution_count": 89,
      "metadata": {
        "colab": {
          "base_uri": "https://localhost:8080/"
        },
        "id": "jaXgYHLWisDu",
        "outputId": "991f4db6-edbf-4f52-a4aa-ba454b683759"
      },
      "outputs": [
        {
          "data": {
            "text/plain": [
              "0.3662628145386766"
            ]
          },
          "execution_count": 89,
          "metadata": {},
          "output_type": "execute_result"
        }
      ],
      "source": [
        "accuracy_score(Ypred, Ytest)\n"
      ]
    },
    {
      "cell_type": "code",
      "execution_count": 103,
      "metadata": {},
      "outputs": [],
      "source": [
        "Ypred.replace(dic_target,inplace=True)\n",
        "Ytest.replace(dic_target,inplace=True)"
      ]
    },
    {
      "cell_type": "code",
      "execution_count": 118,
      "metadata": {
        "colab": {
          "base_uri": "https://localhost:8080/"
        },
        "id": "Ra9zK6eLisDv",
        "outputId": "87ee37b2-373a-4ae2-b909-26d3a7c326b5"
      },
      "outputs": [
        {
          "data": {
            "text/plain": [
              "0.7190923682302993"
            ]
          },
          "execution_count": 118,
          "metadata": {},
          "output_type": "execute_result"
        }
      ],
      "source": [
        "Ypred_map=Ypred[0].apply( lambda x: x.split(\" \"))\n",
        "Ytest_map=Ytest.apply( lambda x: x.split(\" \"))\n",
        "ml_metrics.mapk(Ytest_map, Ypred_map, 5)"
      ]
    },
    {
      "cell_type": "code",
      "execution_count": 119,
      "metadata": {
        "id": "dcYfsl0NZC89"
      },
      "outputs": [],
      "source": [
        "# save to bin\n",
        "model.save_model(\"./model_xgb1.bin\")\n"
      ]
    },
    {
      "cell_type": "code",
      "execution_count": 120,
      "metadata": {
        "id": "iR1PZVQ0f67N"
      },
      "outputs": [],
      "source": [
        "# Guardar pipeline:\n",
        "pickle.dump(pipe1, open('./pipe_xgb1.pkl', \"wb\"))"
      ]
    }
  ],
  "metadata": {
    "accelerator": "GPU",
    "colab": {
      "collapsed_sections": [],
      "name": "Entrenamiento_Modelo_No_RN_XGB.ipynb",
      "provenance": []
    },
    "interpreter": {
      "hash": "65e97ffa20fbdd895c76c3a1d2c2ade704754874d6e45df701862667e65d73d7"
    },
    "kernelspec": {
      "display_name": "Python 3 (ipykernel)",
      "language": "python",
      "name": "python3"
    },
    "language_info": {
      "codemirror_mode": {
        "name": "ipython",
        "version": 3
      },
      "file_extension": ".py",
      "mimetype": "text/x-python",
      "name": "python",
      "nbconvert_exporter": "python",
      "pygments_lexer": "ipython3",
      "version": "3.9.6"
    }
  },
  "nbformat": 4,
  "nbformat_minor": 0
}
